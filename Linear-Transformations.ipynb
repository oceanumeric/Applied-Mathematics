{
 "cells": [
  {
   "cell_type": "markdown",
   "metadata": {},
   "source": [
    "# Linear Transformations \n",
    "\n",
    "A linear transformation is a mapping between vector spaces that \n",
    "preserves addition and scalar multiplication. A map $L: V \\to W$\n",
    "is a linear transformation from $V$ to $W$ if \n",
    "\n",
    "$$L(a x_1  + b x_2) = a L(x_1) + bL(x_2)$$\n",
    "\n",
    "For all $x_1, x_2 \\in V$ and scalars $a, b \\in \\mathbb{F}$."
   ]
  },
  {
   "cell_type": "code",
   "execution_count": 1,
   "metadata": {},
   "outputs": [],
   "source": [
    "import numpy as np\n",
    "import pandas as pd\n",
    "import matplotlib.pyplot as plt "
   ]
  },
  {
   "cell_type": "code",
   "execution_count": 2,
   "metadata": {},
   "outputs": [],
   "source": [
    "# load the dataset\n",
    "data = np.load('data/horse.npy')"
   ]
  },
  {
   "cell_type": "code",
   "execution_count": 3,
   "metadata": {},
   "outputs": [
    {
     "data": {
      "text/plain": [
       "(2, 59520)"
      ]
     },
     "execution_count": 3,
     "metadata": {},
     "output_type": "execute_result"
    }
   ],
   "source": [
    "data.shape"
   ]
  },
  {
   "cell_type": "code",
   "execution_count": 16,
   "metadata": {},
   "outputs": [
    {
     "data": {
      "image/png": "[encoded data removed]",
      "text/plain": [
       "<Figure size 640x480 with 1 Axes>"
      ]
     },
     "metadata": {},
     "output_type": "display_data"
    }
   ],
   "source": [
    "# use markers , = pixel\n",
    "# reference https://matplotlib.org/stable/api/markers_api.html\n",
    "plt.plot(data[0], data[1], 'k,')\n",
    "# make plot square \n",
    "plt.axis([-1, 1, -1, 1])\n",
    "plt.gca().set_aspect(\"equal\")"
   ]
  },
  {
   "cell_type": "markdown",
   "metadata": {},
   "source": [
    "## Types of Linear Transformations\n",
    "\n",
    "- Stretch \n",
    "\n",
    "$$\n",
    "\\begin{bmatrix}\n",
    "a & 0 \n",
    "0 & b \n",
    "\\end{bmatrix}\n",
    "$$\n",
    "\n",
    "if $a = b$, then it is called _dilation_. "
   ]
  },
  {
   "cell_type": "code",
   "execution_count": null,
   "metadata": {},
   "outputs": [],
   "source": [
    "def linear_transformation(mat_a: np.ndarray, transform=None):\n",
    "    \"\"\"\n",
    "    Operating linear transformation on mat_a\n",
    "    ------------\n",
    "    Parameters of transformation was fixed to demonstrate \n",
    "    \"\"\"\n",
    "    # initialize transform matrix \n",
    "    transform_mat = np.zeros((2, 2))\n",
    "    if transform == 'stretch':\n",
    "        transform_mat = np.array(\n",
    "            [\n",
    "                [1/2, 0],\n",
    "                [0, 6/5]\n",
    "            ]\n",
    "        )"
   ]
  },
  {
   "cell_type": "code",
   "execution_count": 17,
   "metadata": {},
   "outputs": [
    {
     "data": {
      "text/plain": [
       "array([[0., 0.],\n",
       "       [0., 0.]])"
      ]
     },
     "execution_count": 17,
     "metadata": {},
     "output_type": "execute_result"
    }
   ],
   "source": [
    "np.zeros((2, 2))"
   ]
  },
  {
   "cell_type": "code",
   "execution_count": null,
   "metadata": {},
   "outputs": [],
   "source": []
  }
 ],
 "metadata": {
  "kernelspec": {
   "display_name": "Python 3.9.5 ('myvenv': venv)",
   "language": "python",
   "name": "python3"
  },
  "language_info": {
   "codemirror_mode": {
    "name": "ipython",
    "version": 3
   },
   "file_extension": ".py",
   "mimetype": "text/x-python",
   "name": "python",
   "nbconvert_exporter": "python",
   "pygments_lexer": "ipython3",
   "version": "3.9.5"
  },
  "orig_nbformat": 4,
  "vscode": {
   "interpreter": {
    "hash": "2fe189d182e892b13e31889708ff6fa1238858c117c3508e6a10c00d2dc805a3"
   }
  }
 },
 "nbformat": 4,
 "nbformat_minor": 2
}
