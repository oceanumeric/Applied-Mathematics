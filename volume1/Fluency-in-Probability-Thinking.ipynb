{
 "cells": [
  {
   "attachments": {},
   "cell_type": "markdown",
   "metadata": {},
   "source": [
    "# Develop Some Fluency in Probability Thinking\n",
    "\n",
    "[Roadmap](placeholder)"
   ]
  },
  {
   "attachments": {},
   "cell_type": "markdown",
   "metadata": {},
   "source": [
    "## Probability Review\n",
    "\n",
    "To treat probability rigorously, we define a _sample space_ S whose elements \n",
    "are the possible outcomes of some process or experiment. For example, \n",
    "the sample space might be the outcomes of the roll\n",
    "of a die, or flips of a coin. To each element x of the sample space,\n",
    " we assign a probability, which\n",
    "will be a non-negative number between 0 and 1, which we will denote by $p(x)$.\n",
    "We require that\n",
    "\n",
    "$$\\sum_{x \\in S} p(x) = 1$$\n"
   ]
  },
  {
   "attachments": {},
   "cell_type": "markdown",
   "metadata": {},
   "source": [
    "Let A be an event with non-zero probability. We define the probability of an event B conditioned\n",
    "on event A, denoted by $\\mathbb{P}(B | A)$, to be\n",
    "\n",
    "\n",
    "$$\\mathbb{P}(B | A) = \\frac{\\mathbb{P}(A \\cap B)}{\\mathbb{P}(A)}$$"
   ]
  },
  {
   "attachments": {},
   "cell_type": "markdown",
   "metadata": {},
   "source": [
    "If we have two events A and B, we say that they are independent if the probability that both\n",
    "happen is the product of the probability that the first happens and the probability that the second\n",
    "happens, that is, if\n",
    "\n",
    "$$\\mathbb{P}(A \\cap B) = \\mathbb{P}(A) \\cdot \\mathbb{P}(B)$$ "
   ]
  },
  {
   "attachments": {},
   "cell_type": "markdown",
   "metadata": {},
   "source": [
    "__Bayes's rule.__ For any two events $A$ and $B$, one has\n",
    "\n",
    "$$\\mathbb{P}(B | A) = \\frac{\\mathbb{P}(A \\cap B)}{\\mathbb{P}(A)} = \\mathbb{P}(A| B)  \\frac{\\mathbb{P}(B)}{\\mathbb{P}(A)} $$"
   ]
  },
  {
   "attachments": {},
   "cell_type": "markdown",
   "metadata": {},
   "source": [
    "Suppose we have a false positive rate:\n",
    "\n",
    "$$P(\\text{positive test} | \\text{no disease}) = \\frac{1}{30}$$ \n",
    "\n",
    "and some false negative rate is \n",
    "\n",
    "$$P(\\text{negative test} | \\text{ disease}) = \\frac{1}{10}$$ \n",
    "\n",
    "The incidence of the desease is $1/1000$\n",
    "\n",
    "$$P(B) = 0.001$$"
   ]
  },
  {
   "attachments": {},
   "cell_type": "markdown",
   "metadata": {},
   "source": [
    "Let's define:\n",
    "\n",
    "- A: testing positive\n",
    "- B: having the disease \n",
    "\n",
    "Then we can have\n",
    "\n",
    "$$P(B | A) = \\frac{P( A \\cap B)}{P(A)} = \\frac{P(A | B) P(B) }{P(A)} = \\frac{P(A | B) P(B) }{P(A|B)P(B) + P(A | \\neg B )P(\\neg B)}  \\approx 0.0265 $$"
   ]
  },
  {
   "attachments": {},
   "cell_type": "markdown",
   "metadata": {},
   "source": [
    "__Inclusion–exclusion principle.__ In combinatorics, a branch of mathematics, \n",
    "the inclusion–exclusion principle is a counting technique which generalizes the \n",
    "familiar method of obtaining the number of elements in the union of two finite \n",
    "sets; symbolically expressed as\n",
    "\n",
    "$$|A \\cup B| = |A| + |B| - |A \\cap B |$$"
   ]
  },
  {
   "cell_type": "code",
   "execution_count": null,
   "metadata": {},
   "outputs": [],
   "source": []
  }
 ],
 "metadata": {
  "kernelspec": {
   "display_name": "myvenv",
   "language": "python",
   "name": "python3"
  },
  "language_info": {
   "name": "python",
   "version": "3.9.5 (default, Nov 23 2021, 15:27:38) \n[GCC 9.3.0]"
  },
  "orig_nbformat": 4,
  "vscode": {
   "interpreter": {
    "hash": "2fe189d182e892b13e31889708ff6fa1238858c117c3508e6a10c00d2dc805a3"
   }
  }
 },
 "nbformat": 4,
 "nbformat_minor": 2
}
