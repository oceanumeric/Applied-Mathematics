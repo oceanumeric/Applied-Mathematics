{
 "cells": [
  {
   "attachments": {},
   "cell_type": "markdown",
   "metadata": {},
   "source": [
    "# Numerical Linear Algebra with JAX \n",
    "\n",
    "This long post follows the \n",
    "\n",
    "Solving linear systems $Ax = b$ is a fundamental computational task with\n",
    "myriads of applications. In addition to addressing inherently linear \n",
    "mathematical problems, more complex situations involving nonlinearity or \n",
    "optimization often rely on iterative procedures producing sequences of \n",
    "linear systems to be solved.\n",
    "\n",
    "For the linear system\n",
    "\n",
    "$$Ax = b$$\n",
    "\n",
    "- it is uniquely solvable when $A$ is a _square_ matrix ($m=n$) and invertible\n",
    "- it is overdetermined when $m > n$, and we solve it by minimizing the residuals\n",
    "\n",
    "In this post, we will learn how to solve the linear system with different kinds\n",
    "of _matrix decomposition_:\n",
    "\n",
    "- LU decomposition (for a square matrix)\n",
    "- QR decomposition (for the overdetermined system)\n",
    "\n",
    "We will also learn how to compute eigenvalues and eigenvectors of a matrix by\n",
    "solving \n",
    "\n",
    "$$Ax = \\lambda x $$\n",
    "\n",
    "This post is more like an introductory survey"
   ]
  },
  {
   "cell_type": "markdown",
   "metadata": {},
   "source": []
  },
  {
   "cell_type": "code",
   "execution_count": null,
   "metadata": {
    "vscode": {
     "languageId": "python"
    }
   },
   "outputs": [],
   "source": []
  }
 ],
 "metadata": {
  "kernelspec": {
   "display_name": "Python 3 (ipykernel)",
   "language": "python",
   "name": "python3"
  },
  "orig_nbformat": 4,
  "vscode": {
   "interpreter": {
    "hash": "2fe189d182e892b13e31889708ff6fa1238858c117c3508e6a10c00d2dc805a3"
   }
  }
 },
 "nbformat": 4,
 "nbformat_minor": 2
}
