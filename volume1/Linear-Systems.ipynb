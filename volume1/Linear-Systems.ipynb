{
 "cells": [
  {
   "cell_type": "markdown",
   "metadata": {},
   "source": [
    "# Linear Systems \n",
    "\n",
    "In this post, we will learn how to solve linear systems such as\n",
    "\n",
    "$$Ax = b $$"
   ]
  },
  {
   "cell_type": "code",
   "execution_count": 138,
   "metadata": {},
   "outputs": [],
   "source": [
    "import time\n",
    "import numpy as np \n",
    "import scipy as sp\n",
    "import matplotlib.pyplot as plt \n",
    "%config InlineBackend.figure_formats = ['svg']"
   ]
  },
  {
   "cell_type": "code",
   "execution_count": 42,
   "metadata": {},
   "outputs": [],
   "source": [
    "A = np.array(\n",
    "    [\n",
    "        [1, 1, 1, 1],\n",
    "        [1, 4, 2, 3],\n",
    "        [4, 7, 8, 9]\n",
    "    ],\n",
    "    dtype=np.float64\n",
    ")"
   ]
  },
  {
   "cell_type": "code",
   "execution_count": 9,
   "metadata": {},
   "outputs": [
    {
     "data": {
      "text/plain": [
       "array([[1., 1., 1., 1.],\n",
       "       [0., 3., 1., 2.],\n",
       "       [0., 0., 3., 3.]], dtype=float32)"
      ]
     },
     "execution_count": 9,
     "metadata": {},
     "output_type": "execute_result"
    }
   ],
   "source": [
    "A[1, 0:] -= (A[1, 0]/A[0, 0])*A[0]  # Gaussian elimination\n",
    "A[2, 0:] -= (A[2, 0]/A[0, 0])*A[0]\n",
    "A[2, 1:] -= (A[2, 1]/A[1, 1])*A[1, 1:]\n",
    "A"
   ]
  },
  {
   "cell_type": "markdown",
   "metadata": {},
   "source": [
    "## Round-off Error\n",
    "\n",
    "Gaussian elimination is not always numerically stable. In other words, \n",
    "it is susceptible to rounding error that may result in an incorrect final matrix. \n",
    "Suppose that, due to round-off error, the matrix A has a very small entry \n",
    "on the diagonal.\n",
    "\n",
    "$$A = \\begin{bmatrix} 10^{-15} & 1 \\\\ -1 & 0 \\end{bmatrix}$$\n",
    "\n",
    "Though $10^{-15}$ is essentially zero, instead of swapping the first and \n",
    "second rows to put $A$ in REF, a computer might multiply the first row by\n",
    "$10^{-15}$, then we will have \n",
    "\n",
    "$$\n",
    "A = \\begin{bmatrix} 10^{-15} & 1 \\\\ -1 & 0 \\end{bmatrix} \\to\n",
    "\\begin{bmatrix} 10^{-15} & 1 \\\\ 0 & 10^{15}\\end{bmatrix}\n",
    "$$\n",
    "\n",
    "Round-off error can propagate through many steps in a calculation. \n",
    "The NumPy routines that employ row reduction use several tricks to \n",
    "minimize the impact of round-off error, but these tricks cannot fix every matrix."
   ]
  },
  {
   "cell_type": "markdown",
   "metadata": {},
   "source": [
    "we will perform a series of steps called row operations which preserve the solution of the system while gradually making the solution more accessible. There are three such operations we may perform.\n",
    "\n",
    "1. Exchange the position of two equations.\n",
    "\n",
    "2. Multiply an equation by any nonzero number.\n",
    "\n",
    "3. Replace any equation with the sum of itself and a multiple of another equation.\n",
    "\n"
   ]
  },
  {
   "cell_type": "code",
   "execution_count": 29,
   "metadata": {},
   "outputs": [],
   "source": [
    "def row_operation(A:np.ndarray) -> np.ndarray:\n",
    "    \"\"\"\n",
    "    Rwo operation on n matrix A that is invertible and no zeros \n",
    "    in the diagonal (this means that A[0, 0] is not 0 for sure, A[1, 1])\n",
    "    \"\"\"\n",
    "    n = A.shape[0]  # A is a square matrix \n",
    "    for i in range(n):\n",
    "        # scale the ith row into the unit one\n",
    "        A[i, i:] = A[i, i:]/A[i, i]\n",
    "        # loop over all row elements of column i \n",
    "        # start from i+1 to n \n",
    "        for j in range(i+1, n):\n",
    "            # initialize the elementary matrix\n",
    "            mat = np.eye(n)  \n",
    "            scalar = -A[j, i]\n",
    "            mat[j, i] = scalar\n",
    "            # implement elementary matrix elimination \n",
    "            A = mat @ A \n",
    "            \n",
    "    return A"
   ]
  },
  {
   "cell_type": "code",
   "execution_count": 48,
   "metadata": {},
   "outputs": [
    {
     "data": {
      "text/plain": [
       "array([[1.        , 1.        , 1.        ],\n",
       "       [0.        , 1.        , 0.33333333],\n",
       "       [0.        , 0.        , 1.        ]])"
      ]
     },
     "execution_count": 48,
     "metadata": {},
     "output_type": "execute_result"
    }
   ],
   "source": [
    "a1 = np.array(\n",
    "    [\n",
    "        [1, 1, 1],\n",
    "        [1, 4, 2],\n",
    "        [4, 7, 8]\n",
    "    ],\n",
    "    dtype=np.float64\n",
    ")\n",
    "row_operation(a1)"
   ]
  },
  {
   "cell_type": "code",
   "execution_count": 31,
   "metadata": {},
   "outputs": [
    {
     "data": {
      "text/plain": [
       "array([[1.        , 0.        , 0.        , 0.        ],\n",
       "       [0.        , 1.        , 0.5       , 1.25      ],\n",
       "       [0.        , 0.        , 1.        , 1.21428571],\n",
       "       [0.        , 0.        , 0.        , 1.        ]])"
      ]
     },
     "execution_count": 31,
     "metadata": {},
     "output_type": "execute_result"
    }
   ],
   "source": [
    "fooa = np.random.randint(10, size=(4, 4))\n",
    "row_operation(fooa)"
   ]
  },
  {
   "cell_type": "markdown",
   "metadata": {},
   "source": [
    "## The LU Decomposition\n",
    "\n",
    "The _LU decomposition_ of a square matrix $A$ is a factorization\n",
    "\n",
    "$$A = LU$$ \n",
    "\n",
    "where $U$ is the upper upper triangular REF of  $A$ and $L$ is the lower \n",
    "triangular product of the type III elementary matrices whose inverses reduce\n",
    "$A$ to $U$. \n",
    "\n",
    "The $LU$ decomposition of $A$ exists when $A$ can be reduced to REF using only \n",
    "type III elementary matrices (without any row swaps).  However, the rows \n",
    "of $A$ can always be permuted in a way such that the decomposition exists.\n",
    "\n",
    "If $P$ is a permutation matrix encoding the appropriate row swaps, \n",
    "then the decomposition \n",
    "\n",
    "$$PA = LU$$ \n",
    "\n",
    "always exists.\n",
    "\n",
    "Now, suppose the decomposition exists without permutation, then we could have\n",
    "\n",
    "$$\n",
    "E_k\\cdots E_2E_1 A = U  \\ \\ \\to \\ \\ A = (E_k\\cdots E_2E_1 )^{-1}U = LU \n",
    "$$"
   ]
  },
  {
   "cell_type": "markdown",
   "metadata": {},
   "source": [
    "Pseudo code for a simple  $LU$  factorization for a square matrix $A$ \n",
    "\n",
    "1. Initialize a $n \\times n$ matrix $L=I$ and $U=A$\n",
    "2. for $i = 1, \\cdots, n$ do step 3\n",
    "3.  for $j = i+1, \\cdots, n$ do step 4-5\n",
    "4.    set $L[j, i] = U[j, i]/U[i, i]$\n",
    "5.    set $U[j] = (U[j]-L[j, i]U[i])$\n"
   ]
  },
  {
   "cell_type": "code",
   "execution_count": 55,
   "metadata": {},
   "outputs": [],
   "source": [
    "def lu_decompose(A: np.ndarray) -> np.ndarray:\n",
    "    \"\"\"\n",
    "    LU decomposition for a square matrix which is assumed to be decomposed \n",
    "    It is similar with row_operation() function but \n",
    "    we will do operation on element-wise \n",
    "    \"\"\"\n",
    "    n = A.shape[0]\n",
    "    U = A.copy()\n",
    "    L = np.eye(n)\n",
    "    \n",
    "    for i in range(n):\n",
    "        # get the factor vector \n",
    "        factor = U[i+1:, i]/U[i, i]\n",
    "        L[i+1:, i] = factor \n",
    "        U[i+1:] -= factor[:, np.newaxis]*U[i]\n",
    "            \n",
    "    return L, U "
   ]
  },
  {
   "cell_type": "code",
   "execution_count": 56,
   "metadata": {},
   "outputs": [],
   "source": [
    "al, au = lu_decompose(a1)"
   ]
  },
  {
   "cell_type": "code",
   "execution_count": 57,
   "metadata": {},
   "outputs": [
    {
     "data": {
      "text/plain": [
       "array([[1., 0., 0.],\n",
       "       [1., 1., 0.],\n",
       "       [4., 1., 1.]])"
      ]
     },
     "execution_count": 57,
     "metadata": {},
     "output_type": "execute_result"
    }
   ],
   "source": [
    "al"
   ]
  },
  {
   "cell_type": "code",
   "execution_count": 58,
   "metadata": {},
   "outputs": [
    {
     "data": {
      "text/plain": [
       "array([[1., 1., 1.],\n",
       "       [0., 3., 1.],\n",
       "       [0., 0., 3.]])"
      ]
     },
     "execution_count": 58,
     "metadata": {},
     "output_type": "execute_result"
    }
   ],
   "source": [
    "au"
   ]
  },
  {
   "cell_type": "code",
   "execution_count": 62,
   "metadata": {},
   "outputs": [
    {
     "data": {
      "text/plain": [
       "array([[ True,  True,  True],\n",
       "       [ True,  True,  True],\n",
       "       [ True,  True,  True]])"
      ]
     },
     "execution_count": 62,
     "metadata": {},
     "output_type": "execute_result"
    }
   ],
   "source": [
    "al @ au == a1"
   ]
  },
  {
   "cell_type": "markdown",
   "metadata": {},
   "source": [
    "## PLU  factorization \n",
    "\n",
    "Pseudo code for a simple  $PLU$  factorization for a square matrix $A$ \n",
    "\n",
    "1. Initialize a $n \\times n$ matrix $L=P=I$ and $U=A$\n",
    "2. for $i = 1, \\cdots, n$ do step 3-4, 8\n",
    "3.  let $k=i$\n",
    "4.  while $u_{ii} = 0$, do step 5-7\n",
    "5.    swap row $U_i$ with row $U_{k+1}$\n",
    "6.    swap row $P_i$ with row $P_{k+1}$\n",
    "7.    increase $k$ by 1\n",
    "8.  for $j = i+1, \\cdots, n$ do step 9-10\n",
    "9.    set $L[j, i] = U[j, i]/U[i, i]$\n",
    "10.   set $U[j] = (U[j]-L[j, i]U[i])$\n"
   ]
  },
  {
   "cell_type": "code",
   "execution_count": 101,
   "metadata": {},
   "outputs": [],
   "source": [
    "def plu(A: np.ndarray) -> np.ndarray:\n",
    "    \"\"\"\n",
    "    LU decomposition with permutation \n",
    "    @ John T. Foster, Jr\n",
    "    \"\"\"\n",
    "    n = A.shape[0]\n",
    "    U = A.copy().astype(np.float64)\n",
    "    L = np.eye(n, dtype=np.float64)\n",
    "    P = np.eye(n, dtype=np.float64)\n",
    "    for i in range(n):\n",
    "        for k in range(i, n):\n",
    "            # 1e-10 == 0.0  (false)\n",
    "            # np.isclose(1e-10, 0.0) (True)\n",
    "            if ~np.isclose(U[i, i], 0.0):\n",
    "                # if not close, no need to swap\n",
    "                break\n",
    "            U[[k, k+1]] = U[[k+1, k]]  # swap rows with list [k, k+1]\n",
    "            P[[k, k+1]] = P[[k+1, k]]\n",
    "            \n",
    "        # get the factor vector \n",
    "        factor = U[i+1:, i]/U[i, i]\n",
    "        L[i+1:, i] = factor \n",
    "        U[i+1:] -= factor[:, np.newaxis]*U[i]\n",
    "    \n",
    "    return P, L, U"
   ]
  },
  {
   "cell_type": "code",
   "execution_count": 93,
   "metadata": {},
   "outputs": [
    {
     "data": {
      "text/plain": [
       "array([[2, 5, 8, 7],\n",
       "       [5, 2, 2, 8],\n",
       "       [7, 5, 6, 6],\n",
       "       [5, 4, 4, 8]])"
      ]
     },
     "execution_count": 93,
     "metadata": {},
     "output_type": "execute_result"
    }
   ],
   "source": [
    "a2 = np.array([[2, 5, 8, 7], [5, 2, 2, 8], [7, 5, 6, 6], [5, 4, 4, 8]])\n",
    "a2"
   ]
  },
  {
   "cell_type": "code",
   "execution_count": 94,
   "metadata": {},
   "outputs": [],
   "source": [
    "p, l, u = sp.linalg.lu(a2)"
   ]
  },
  {
   "cell_type": "code",
   "execution_count": 95,
   "metadata": {},
   "outputs": [
    {
     "data": {
      "text/plain": [
       "array([[0., 1., 0., 0.],\n",
       "       [0., 0., 0., 1.],\n",
       "       [1., 0., 0., 0.],\n",
       "       [0., 0., 1., 0.]])"
      ]
     },
     "execution_count": 95,
     "metadata": {},
     "output_type": "execute_result"
    }
   ],
   "source": [
    "p"
   ]
  },
  {
   "cell_type": "code",
   "execution_count": 96,
   "metadata": {},
   "outputs": [
    {
     "data": {
      "text/plain": [
       "array([[ 1.        ,  0.        ,  0.        ,  0.        ],\n",
       "       [ 0.28571429,  1.        ,  0.        ,  0.        ],\n",
       "       [ 0.71428571,  0.12      ,  1.        ,  0.        ],\n",
       "       [ 0.71428571, -0.44      , -0.46153846,  1.        ]])"
      ]
     },
     "execution_count": 96,
     "metadata": {},
     "output_type": "execute_result"
    }
   ],
   "source": [
    "l"
   ]
  },
  {
   "cell_type": "code",
   "execution_count": 97,
   "metadata": {},
   "outputs": [
    {
     "data": {
      "text/plain": [
       "array([[ 7.        ,  5.        ,  6.        ,  6.        ],\n",
       "       [ 0.        ,  3.57142857,  6.28571429,  5.28571429],\n",
       "       [ 0.        ,  0.        , -1.04      ,  3.08      ],\n",
       "       [ 0.        ,  0.        ,  0.        ,  7.46153846]])"
      ]
     },
     "execution_count": 97,
     "metadata": {},
     "output_type": "execute_result"
    }
   ],
   "source": [
    "u"
   ]
  },
  {
   "cell_type": "code",
   "execution_count": 102,
   "metadata": {},
   "outputs": [],
   "source": [
    "p, l, u = plu(a2)"
   ]
  },
  {
   "cell_type": "code",
   "execution_count": 105,
   "metadata": {},
   "outputs": [
    {
     "data": {
      "text/plain": [
       "array([[2., 5., 8., 7.],\n",
       "       [5., 2., 2., 8.],\n",
       "       [7., 5., 6., 6.],\n",
       "       [5., 4., 4., 8.]])"
      ]
     },
     "execution_count": 105,
     "metadata": {},
     "output_type": "execute_result"
    }
   ],
   "source": [
    "p @ l @ u  # scipy uses the different algorithms "
   ]
  },
  {
   "cell_type": "markdown",
   "metadata": {},
   "source": [
    "## Forward and Backward Substitution\n",
    "\n",
    "If we have $PA = LU$ and $Ax =b$, then \n",
    "\n",
    "$$PAx = Pb  \\ \\ \\to LUx = Pb  \\ \\ \\to Ly = Pb \\ \\ (y = Ux) $$\n",
    "\n",
    "Since the diagonal entries of $L$ are all 1 , the triangular system \n",
    "$L \\mathbf{y}=\\mathbf{b}$ has the form\n",
    "\n",
    "$$\n",
    "\\left[\\begin{array}{ccccc}\n",
    "1 & 0 & 0 & \\cdots & 0 \\\\\n",
    "l_{21} & 1 & 0 & \\cdots & 0 \\\\\n",
    "l_{31} & l_{32} & 1 & \\cdots & 0 \\\\\n",
    "\\vdots & \\vdots & \\vdots & \\ddots & \\vdots \\\\\n",
    "l_{n 1} & l_{n 2} & l_{n 3} & \\cdots & 1\n",
    "\\end{array}\\right]\\left[\\begin{array}{c}\n",
    "y_1 \\\\\n",
    "y_2 \\\\\n",
    "y_3 \\\\\n",
    "\\vdots \\\\\n",
    "y_n\n",
    "\\end{array}\\right]=\\left[\\begin{array}{c}\n",
    "b_1 \\\\\n",
    "b_2 \\\\\n",
    "b_3 \\\\\n",
    "\\vdots \\\\\n",
    "b_n\n",
    "\\end{array}\\right] .\n",
    "$$\n",
    "\n",
    "\n",
    "This gives the forward substitution as th matrix multiplication yields the equations\n",
    "$$\n",
    "\\begin{array}{rlrl}\n",
    "y_1 & =b_1, & y_1 & =b_1, \\\\\n",
    "l_{21} y_1+y_2 & =b_2, & y_2 & =b_2-l_{21} y_1, \\\\\n",
    "\\vdots & \\vdots & \\vdots \\\\\n",
    "\\sum_{j=1}^{k-1} l_{k j} y_j+y_k & =b_k, & y_k & =b_k-\\sum_{j=1}^{k-1} l_{k j} y_j\n",
    "\\end{array}\n",
    "$$\n",
    "\n",
    "The triangular system $U \\mathbf{x}=\\mathbf{y}$ yields similar equations, but in reverse order:\n",
    "$$\n",
    "\\left[\\begin{array}{ccccc}\n",
    "u_{11} & u_{12} & u_{13} & \\cdots & u_{1 n} \\\\\n",
    "0 & u_{22} & u_{23} & \\cdots & u_{2 n} \\\\\n",
    "0 & 0 & u_{33} & \\cdots & u_{3 n} \\\\\n",
    "\\vdots & \\vdots & \\vdots & \\ddots & \\vdots \\\\\n",
    "0 & 0 & 0 & \\cdots & u_{n n}\n",
    "\\end{array}\\right]\\left[\\begin{array}{c}\n",
    "x_1 \\\\\n",
    "x_2 \\\\\n",
    "x_3 \\\\\n",
    "\\vdots \\\\\n",
    "x_n\n",
    "\\end{array}\\right]=\\left[\\begin{array}{c}\n",
    "y_1 \\\\\n",
    "y_2 \\\\\n",
    "y_3 \\\\\n",
    "\\vdots \\\\\n",
    "y_n\n",
    "\\end{array}\\right] \n",
    "$$ \n",
    "\n",
    "$$\n",
    "\\begin{aligned}\n",
    "u_{n,n}x_n = y_n \\quad  & x_n = \\frac{1}{u_{n, n}} y_n   \\\\ \n",
    "u_{n-1, n-1} x_{n-1}+u_{n-1, n} x_n=y_{n-1}, \\quad & x_{n-1}=\\frac{1}{u_{n-1, n-1}}\\left(y_{n-1}-u_{n-1, n} x_n\\right),  \\\\\n",
    "\\vdots \\quad & \\vdots \\\\\n",
    "\\sum_{j=k}^n u_{k j} x_j=y_k, \\quad &  x_k=\\frac{1}{u_{k k}}\\left(y_k-\\sum_{j=k+1}^n u_{k j} x_j\\right) \n",
    "\\end{aligned}\n",
    "$$"
   ]
  },
  {
   "cell_type": "code",
   "execution_count": 113,
   "metadata": {},
   "outputs": [],
   "source": [
    "def forward_substitution(L: np.ndarray, b:np.ndarray) -> np.ndarray:\n",
    "    \"\"\"\n",
    "    Doing forward substitution \n",
    "    \"\"\"\n",
    "    m, n = L.shape\n",
    "    # initialize y \n",
    "    y = np.zeros_like(b)\n",
    "    \n",
    "    y[0] = b[0] / L[0, 0]\n",
    "    \n",
    "    for i in range(1, m):\n",
    "        y[i] = (b[i]-np.dot(L[i, :i], y[:i])) / L[i, i]\n",
    "        \n",
    "    return y "
   ]
  },
  {
   "cell_type": "code",
   "execution_count": 114,
   "metadata": {},
   "outputs": [],
   "source": [
    "def backward_substitution(U, y):\n",
    "    \"\"\"\n",
    "    Doing backward substitution \n",
    "    \"\"\"\n",
    "    m, n = U.shape\n",
    "    x = np.zeros_like(y)\n",
    "    \n",
    "    x[-1] = y[-1]/U[-1, -1]\n",
    "    \n",
    "    for i in range(m-2, -1, -1):\n",
    "        x[i] = (y[i]-np.dot(U[i, i:], x[i:])) / U[i, i]\n",
    "        \n",
    "    return x "
   ]
  },
  {
   "cell_type": "code",
   "execution_count": 111,
   "metadata": {},
   "outputs": [],
   "source": [
    "def lu_solve(A, b):\n",
    "    \"\"\"\n",
    "    LU solver: assumes A does not need permutation\n",
    "    \"\"\"\n",
    "    L, U = lu_decompose(A)\n",
    "    y = forward_substitution(L, b)\n",
    "    x = backward_substitution(U, y)\n",
    "    \n",
    "    return x"
   ]
  },
  {
   "cell_type": "code",
   "execution_count": 115,
   "metadata": {},
   "outputs": [
    {
     "data": {
      "text/plain": [
       "array([ 0.05614973,  0.25935829, -0.01871658])"
      ]
     },
     "execution_count": 115,
     "metadata": {},
     "output_type": "execute_result"
    }
   ],
   "source": [
    "A = np.array([[1, 4, 5], [6, 8, 22], [32, 5., 5]])\n",
    "b = np.array([1, 2, 3.])\n",
    "lu_solve(A, b)"
   ]
  },
  {
   "cell_type": "code",
   "execution_count": 116,
   "metadata": {},
   "outputs": [
    {
     "data": {
      "text/plain": [
       "array([ 0.05614973,  0.25935829, -0.01871658])"
      ]
     },
     "execution_count": 116,
     "metadata": {},
     "output_type": "execute_result"
    }
   ],
   "source": [
    "np.linalg.solve(A, b)"
   ]
  },
  {
   "cell_type": "code",
   "execution_count": 117,
   "metadata": {},
   "outputs": [],
   "source": [
    "def plu_solve(A, b):\n",
    "    \"\"\"\n",
    "    PLU solver\n",
    "    \"\"\"\n",
    "    P, L, U = plu(A)\n",
    "    y = forward_substitution(L, P@b)\n",
    "    x = backward_substitution(U, y)\n",
    "    \n",
    "    return x"
   ]
  },
  {
   "cell_type": "code",
   "execution_count": 118,
   "metadata": {},
   "outputs": [
    {
     "data": {
      "text/plain": [
       "array([ 0.05363985,  0.2835249 , -0.02681992])"
      ]
     },
     "execution_count": 118,
     "metadata": {},
     "output_type": "execute_result"
    }
   ],
   "source": [
    "A = np.array([[0, 4, 5], [6, 8, 22], [32, 5., 5]])\n",
    "b = np.array([1, 2, 3.])\n",
    "\n",
    "plu_solve(A, b)"
   ]
  },
  {
   "cell_type": "code",
   "execution_count": 119,
   "metadata": {},
   "outputs": [
    {
     "data": {
      "text/plain": [
       "array([ 0.05363985,  0.2835249 , -0.02681992])"
      ]
     },
     "execution_count": 119,
     "metadata": {},
     "output_type": "execute_result"
    }
   ],
   "source": [
    "np.linalg.solve(A, b)"
   ]
  },
  {
   "cell_type": "code",
   "execution_count": 122,
   "metadata": {},
   "outputs": [],
   "source": [
    "def doolittle(A):\n",
    "    \"\"\"\n",
    "    doo little for the square matrix\n",
    "    \"\"\"\n",
    "    n = A.shape[0]\n",
    "    U = np.zeros((n, n))\n",
    "    L = np.eye(n)\n",
    "    \n",
    "    for i in range(n):\n",
    "        U[i, i:] = A[i, i:] - L[i, :i] @ U[:i, i:]\n",
    "        L[(i+1):, i] = (A[(i+1):, i] - L[(i+1):, :] @ U[:, i]) / U[i, i]\n",
    "        \n",
    "    return L, U"
   ]
  },
  {
   "cell_type": "code",
   "execution_count": 123,
   "metadata": {},
   "outputs": [
    {
     "data": {
      "text/plain": [
       "array([[ 1.    ,  0.    ,  0.    ],\n",
       "       [ 6.    ,  1.    ,  0.    ],\n",
       "       [32.    ,  7.6875,  1.    ]])"
      ]
     },
     "execution_count": 123,
     "metadata": {},
     "output_type": "execute_result"
    }
   ],
   "source": [
    "A = np.array([[1, 4, 5], [6, 8, 22], [32, 5., 5]])\n",
    "L, U = doolittle(A)\n",
    "L"
   ]
  },
  {
   "cell_type": "code",
   "execution_count": 124,
   "metadata": {},
   "outputs": [
    {
     "data": {
      "text/plain": [
       "array([[  1. ,   4. ,   5. ],\n",
       "       [  0. , -16. ,  -8. ],\n",
       "       [  0. ,   0. , -93.5]])"
      ]
     },
     "execution_count": 124,
     "metadata": {},
     "output_type": "execute_result"
    }
   ],
   "source": [
    "U"
   ]
  },
  {
   "cell_type": "code",
   "execution_count": 125,
   "metadata": {},
   "outputs": [
    {
     "data": {
      "text/plain": [
       "array([[ 1.,  4.,  5.],\n",
       "       [ 6.,  8., 22.],\n",
       "       [32.,  5.,  5.]])"
      ]
     },
     "execution_count": 125,
     "metadata": {},
     "output_type": "execute_result"
    }
   ],
   "source": [
    "L @ U "
   ]
  },
  {
   "cell_type": "code",
   "execution_count": 129,
   "metadata": {},
   "outputs": [],
   "source": [
    "# create a linear system \n",
    "mat_a = np.random.randint(100, size=(97, 97))\n",
    "mat_x = np.random.rand(97,1)\n",
    "b = mat_a @ mat_x"
   ]
  },
  {
   "cell_type": "code",
   "execution_count": 160,
   "metadata": {},
   "outputs": [],
   "source": [
    "mat_size = 2**np.arange(12)\n",
    "\n",
    "inv_times = []\n",
    "solve_times = []\n",
    "lu_times = []\n",
    "lu_solve_times = []\n",
    "\n",
    "for n in mat_size:\n",
    "    # create a linear system\n",
    "    temp_a = np.random.randint(100, size=(n, n))\n",
    "    temp_x = np.random.rand(n, 1)\n",
    "    b = temp_a @ temp_x\n",
    "    # solve it with different methods\n",
    "    \n",
    "    start = time.time()\n",
    "    sp.linalg.inv(temp_a) @ b\n",
    "    inv_times.append(time.time()-start)\n",
    "    \n",
    "    start = time.time()\n",
    "    sp.linalg.solve(temp_a, b)\n",
    "    solve_times.append(time.time()-start)\n",
    "    \n",
    "    start = time.time()\n",
    "    lu, p = sp.linalg.lu_factor(temp_a)\n",
    "    sp.linalg.lu_solve((lu, p), b)\n",
    "    lu_times.append(time.time()-start)\n",
    "    \n",
    "    lu, p = sp.linalg.lu_factor(temp_a)\n",
    "    start = time.time()\n",
    "    sp.linalg.lu_solve((lu, p), b)\n",
    "    lu_solve_times.append(time.time()-start)"
   ]
  },
  {
   "cell_type": "code",
   "execution_count": 162,
   "metadata": {},
   "outputs": [
    {
     "data": {
      "image/svg+xml": "<?xml version=\"1.0\" encoding=\"utf-8\" standalone=\"no\"?>\n<!DOCTYPE svg PUBLIC \"-//W3C//DTD SVG 1.1//EN\"\n  \"http://www.w3.org/Graphics/SVG/1.1/DTD/svg11.dtd\">\n<svg xmlns:xlink=\"http://www.w3.org/1999/xlink\" width=\"545.865625pt\" height=\"252.838125pt\" viewBox=\"0 0 545.865625 252.838125\" xmlns=\"http://www.w3.org/2000/svg\" version=\"1.1\">\n <metadata>\n  <rdf:RDF xmlns:dc=\"http://purl.org/dc/elements/1.1/\" xmlns:cc=\"http://creativecommons.org/ns#\" xmlns:rdf=\"http://www.w3.org/1999/02/22-rdf-syntax-ns#\">\n   <cc:Work>\n    <dc:type rdf:resource=\"http://purl.org/dc/dcmitype/StillImage\"/>\n    <dc:date>2022-12-04T21:14:49.719466</dc:date>\n    <dc:format>image/svg+xml</dc:format>\n    <dc:creator>\n     <cc:Agent>\n      <dc:title>Matplotlib v3.6.2, https://matplotlib.org/</dc:title>\n     </cc:Agent>\n    </dc:creator>\n   </cc:Work>\n  </rdf:RDF>\n </metadata>\n <defs>\n  <style type=\"text/css\">*{stroke-linejoin: round; stroke-linecap: butt}</style>\n </defs>\n <g id=\"figure_1\">\n  <g id=\"patch_1\">\n   <path d=\"M 0 252.838125 \nL 545.865625 252.838125 \nL 545.865625 0 \nL 0 0 \nz\n\" style=\"fill: #ffffff\"/>\n  </g>\n  <g id=\"axes_1\">\n   <g id=\"patch_2\">\n    <path d=\"M 36.465625 228.96 \nL 264.738352 228.96 \nL 264.738352 7.2 \nL 36.465625 7.2 \nz\n\" style=\"fill: #ffffff\"/>\n   </g>\n   <g id=\"matplotlib.axis_1\">\n    <g id=\"xtick_1\">\n     <g id=\"line2d_1\">\n      <defs>\n       <path id=\"md4725e9f03\" d=\"M 0 0 \nL 0 3.5 \n\" style=\"stroke: #000000; stroke-width: 0.8\"/>\n      </defs>\n      <g>\n       <use xlink:href=\"#md4725e9f03\" x=\"46.74028\" y=\"228.96\" style=\"stroke: #000000; stroke-width: 0.8\"/>\n      </g>\n     </g>\n     <g id=\"text_1\">\n      <!-- 0 -->\n      <g transform=\"translate(43.55903 243.558438) scale(0.1 -0.1)\">\n       <defs>\n        <path id=\"DejaVuSans-30\" d=\"M 2034 4250 \nQ 1547 4250 1301 3770 \nQ 1056 3291 1056 2328 \nQ 1056 1369 1301 889 \nQ 1547 409 2034 409 \nQ 2525 409 2770 889 \nQ 3016 1369 3016 2328 \nQ 3016 3291 2770 3770 \nQ 2525 4250 2034 4250 \nz\nM 2034 4750 \nQ 2819 4750 3233 4129 \nQ 3647 3509 3647 2328 \nQ 3647 1150 3233 529 \nQ 2819 -91 2034 -91 \nQ 1250 -91 836 529 \nQ 422 1150 422 2328 \nQ 422 3509 836 4129 \nQ 1250 4750 2034 4750 \nz\n\" transform=\"scale(0.015625)\"/>\n       </defs>\n       <use xlink:href=\"#DejaVuSans-30\"/>\n      </g>\n     </g>\n    </g>\n    <g id=\"xtick_2\">\n     <g id=\"line2d_2\">\n      <g>\n       <use xlink:href=\"#md4725e9f03\" x=\"97.429255\" y=\"228.96\" style=\"stroke: #000000; stroke-width: 0.8\"/>\n      </g>\n     </g>\n     <g id=\"text_2\">\n      <!-- 500 -->\n      <g transform=\"translate(87.885505 243.558438) scale(0.1 -0.1)\">\n       <defs>\n        <path id=\"DejaVuSans-35\" d=\"M 691 4666 \nL 3169 4666 \nL 3169 4134 \nL 1269 4134 \nL 1269 2991 \nQ 1406 3038 1543 3061 \nQ 1681 3084 1819 3084 \nQ 2600 3084 3056 2656 \nQ 3513 2228 3513 1497 \nQ 3513 744 3044 326 \nQ 2575 -91 1722 -91 \nQ 1428 -91 1123 -41 \nQ 819 9 494 109 \nL 494 744 \nQ 775 591 1075 516 \nQ 1375 441 1709 441 \nQ 2250 441 2565 725 \nQ 2881 1009 2881 1497 \nQ 2881 1984 2565 2268 \nQ 2250 2553 1709 2553 \nQ 1456 2553 1204 2497 \nQ 953 2441 691 2322 \nL 691 4666 \nz\n\" transform=\"scale(0.015625)\"/>\n       </defs>\n       <use xlink:href=\"#DejaVuSans-35\"/>\n       <use xlink:href=\"#DejaVuSans-30\" x=\"63.623047\"/>\n       <use xlink:href=\"#DejaVuSans-30\" x=\"127.246094\"/>\n      </g>\n     </g>\n    </g>\n    <g id=\"xtick_3\">\n     <g id=\"line2d_3\">\n      <g>\n       <use xlink:href=\"#md4725e9f03\" x=\"148.118229\" y=\"228.96\" style=\"stroke: #000000; stroke-width: 0.8\"/>\n      </g>\n     </g>\n     <g id=\"text_3\">\n      <!-- 1000 -->\n      <g transform=\"translate(135.393229 243.558438) scale(0.1 -0.1)\">\n       <defs>\n        <path id=\"DejaVuSans-31\" d=\"M 794 531 \nL 1825 531 \nL 1825 4091 \nL 703 3866 \nL 703 4441 \nL 1819 4666 \nL 2450 4666 \nL 2450 531 \nL 3481 531 \nL 3481 0 \nL 794 0 \nL 794 531 \nz\n\" transform=\"scale(0.015625)\"/>\n       </defs>\n       <use xlink:href=\"#DejaVuSans-31\"/>\n       <use xlink:href=\"#DejaVuSans-30\" x=\"63.623047\"/>\n       <use xlink:href=\"#DejaVuSans-30\" x=\"127.246094\"/>\n       <use xlink:href=\"#DejaVuSans-30\" x=\"190.869141\"/>\n      </g>\n     </g>\n    </g>\n    <g id=\"xtick_4\">\n     <g id=\"line2d_4\">\n      <g>\n       <use xlink:href=\"#md4725e9f03\" x=\"198.807203\" y=\"228.96\" style=\"stroke: #000000; stroke-width: 0.8\"/>\n      </g>\n     </g>\n     <g id=\"text_4\">\n      <!-- 1500 -->\n      <g transform=\"translate(186.082203 243.558438) scale(0.1 -0.1)\">\n       <use xlink:href=\"#DejaVuSans-31\"/>\n       <use xlink:href=\"#DejaVuSans-35\" x=\"63.623047\"/>\n       <use xlink:href=\"#DejaVuSans-30\" x=\"127.246094\"/>\n       <use xlink:href=\"#DejaVuSans-30\" x=\"190.869141\"/>\n      </g>\n     </g>\n    </g>\n    <g id=\"xtick_5\">\n     <g id=\"line2d_5\">\n      <g>\n       <use xlink:href=\"#md4725e9f03\" x=\"249.496178\" y=\"228.96\" style=\"stroke: #000000; stroke-width: 0.8\"/>\n      </g>\n     </g>\n     <g id=\"text_5\">\n      <!-- 2000 -->\n      <g transform=\"translate(236.771178 243.558438) scale(0.1 -0.1)\">\n       <defs>\n        <path id=\"DejaVuSans-32\" d=\"M 1228 531 \nL 3431 531 \nL 3431 0 \nL 469 0 \nL 469 531 \nQ 828 903 1448 1529 \nQ 2069 2156 2228 2338 \nQ 2531 2678 2651 2914 \nQ 2772 3150 2772 3378 \nQ 2772 3750 2511 3984 \nQ 2250 4219 1831 4219 \nQ 1534 4219 1204 4116 \nQ 875 4013 500 3803 \nL 500 4441 \nQ 881 4594 1212 4672 \nQ 1544 4750 1819 4750 \nQ 2544 4750 2975 4387 \nQ 3406 4025 3406 3419 \nQ 3406 3131 3298 2873 \nQ 3191 2616 2906 2266 \nQ 2828 2175 2409 1742 \nQ 1991 1309 1228 531 \nz\n\" transform=\"scale(0.015625)\"/>\n       </defs>\n       <use xlink:href=\"#DejaVuSans-32\"/>\n       <use xlink:href=\"#DejaVuSans-30\" x=\"63.623047\"/>\n       <use xlink:href=\"#DejaVuSans-30\" x=\"127.246094\"/>\n       <use xlink:href=\"#DejaVuSans-30\" x=\"190.869141\"/>\n      </g>\n     </g>\n    </g>\n   </g>\n   <g id=\"matplotlib.axis_2\">\n    <g id=\"ytick_1\">\n     <g id=\"line2d_6\">\n      <defs>\n       <path id=\"mb3a2002738\" d=\"M 0 0 \nL -3.5 0 \n\" style=\"stroke: #000000; stroke-width: 0.8\"/>\n      </defs>\n      <g>\n       <use xlink:href=\"#mb3a2002738\" x=\"36.465625\" y=\"218.887848\" style=\"stroke: #000000; stroke-width: 0.8\"/>\n      </g>\n     </g>\n     <g id=\"text_6\">\n      <!-- 0.00 -->\n      <g transform=\"translate(7.2 222.687067) scale(0.1 -0.1)\">\n       <defs>\n        <path id=\"DejaVuSans-2e\" d=\"M 684 794 \nL 1344 794 \nL 1344 0 \nL 684 0 \nL 684 794 \nz\n\" transform=\"scale(0.015625)\"/>\n       </defs>\n       <use xlink:href=\"#DejaVuSans-30\"/>\n       <use xlink:href=\"#DejaVuSans-2e\" x=\"63.623047\"/>\n       <use xlink:href=\"#DejaVuSans-30\" x=\"95.410156\"/>\n       <use xlink:href=\"#DejaVuSans-30\" x=\"159.033203\"/>\n      </g>\n     </g>\n    </g>\n    <g id=\"ytick_2\">\n     <g id=\"line2d_7\">\n      <g>\n       <use xlink:href=\"#mb3a2002738\" x=\"36.465625\" y=\"173.168123\" style=\"stroke: #000000; stroke-width: 0.8\"/>\n      </g>\n     </g>\n     <g id=\"text_7\">\n      <!-- 0.05 -->\n      <g transform=\"translate(7.2 176.967342) scale(0.1 -0.1)\">\n       <use xlink:href=\"#DejaVuSans-30\"/>\n       <use xlink:href=\"#DejaVuSans-2e\" x=\"63.623047\"/>\n       <use xlink:href=\"#DejaVuSans-30\" x=\"95.410156\"/>\n       <use xlink:href=\"#DejaVuSans-35\" x=\"159.033203\"/>\n      </g>\n     </g>\n    </g>\n    <g id=\"ytick_3\">\n     <g id=\"line2d_8\">\n      <g>\n       <use xlink:href=\"#mb3a2002738\" x=\"36.465625\" y=\"127.448398\" style=\"stroke: #000000; stroke-width: 0.8\"/>\n      </g>\n     </g>\n     <g id=\"text_8\">\n      <!-- 0.10 -->\n      <g transform=\"translate(7.2 131.247617) scale(0.1 -0.1)\">\n       <use xlink:href=\"#DejaVuSans-30\"/>\n       <use xlink:href=\"#DejaVuSans-2e\" x=\"63.623047\"/>\n       <use xlink:href=\"#DejaVuSans-31\" x=\"95.410156\"/>\n       <use xlink:href=\"#DejaVuSans-30\" x=\"159.033203\"/>\n      </g>\n     </g>\n    </g>\n    <g id=\"ytick_4\">\n     <g id=\"line2d_9\">\n      <g>\n       <use xlink:href=\"#mb3a2002738\" x=\"36.465625\" y=\"81.728673\" style=\"stroke: #000000; stroke-width: 0.8\"/>\n      </g>\n     </g>\n     <g id=\"text_9\">\n      <!-- 0.15 -->\n      <g transform=\"translate(7.2 85.527892) scale(0.1 -0.1)\">\n       <use xlink:href=\"#DejaVuSans-30\"/>\n       <use xlink:href=\"#DejaVuSans-2e\" x=\"63.623047\"/>\n       <use xlink:href=\"#DejaVuSans-31\" x=\"95.410156\"/>\n       <use xlink:href=\"#DejaVuSans-35\" x=\"159.033203\"/>\n      </g>\n     </g>\n    </g>\n    <g id=\"ytick_5\">\n     <g id=\"line2d_10\">\n      <g>\n       <use xlink:href=\"#mb3a2002738\" x=\"36.465625\" y=\"36.008948\" style=\"stroke: #000000; stroke-width: 0.8\"/>\n      </g>\n     </g>\n     <g id=\"text_10\">\n      <!-- 0.20 -->\n      <g transform=\"translate(7.2 39.808166) scale(0.1 -0.1)\">\n       <use xlink:href=\"#DejaVuSans-30\"/>\n       <use xlink:href=\"#DejaVuSans-2e\" x=\"63.623047\"/>\n       <use xlink:href=\"#DejaVuSans-32\" x=\"95.410156\"/>\n       <use xlink:href=\"#DejaVuSans-30\" x=\"159.033203\"/>\n      </g>\n     </g>\n    </g>\n   </g>\n   <g id=\"line2d_11\">\n    <path d=\"M 46.841658 218.806531 \nL 46.943036 218.801517 \nL 47.145792 218.861033 \nL 47.551304 218.862995 \nL 48.362327 218.857763 \nL 49.984374 218.839014 \nL 53.228469 218.770124 \nL 59.716658 142.002742 \nL 72.693035 203.817783 \nL 98.64579 194.717231 \nL 150.5513 122.182705 \nL 254.362319 17.28 \n\" clip-path=\"url(#p966f9ee52e)\" style=\"fill: none; stroke: #1f77b4; stroke-width: 1.5; stroke-linecap: square\"/>\n   </g>\n   <g id=\"line2d_12\">\n    <path d=\"M 46.841658 218.514182 \nL 46.943036 218.650001 \nL 47.145792 218.847299 \nL 47.551304 218.849915 \nL 48.362327 218.840104 \nL 49.984374 218.828332 \nL 53.228469 218.777318 \nL 59.716658 146.380791 \nL 72.693035 216.480161 \nL 98.64579 135.888908 \nL 150.5513 134.730628 \nL 254.362319 65.817661 \n\" clip-path=\"url(#p966f9ee52e)\" style=\"fill: none; stroke: #ff7f0e; stroke-width: 1.5; stroke-linecap: square\"/>\n   </g>\n   <g id=\"line2d_13\">\n    <path d=\"M 46.841658 218.854275 \nL 46.943036 218.865393 \nL 47.145792 218.871934 \nL 47.551304 218.871716 \nL 48.362327 218.867792 \nL 49.984374 218.859943 \nL 53.228469 218.830294 \nL 59.716658 218.583072 \nL 72.693035 216.872794 \nL 98.64579 215.681813 \nL 150.5513 204.193848 \nL 254.362319 140.825931 \n\" clip-path=\"url(#p966f9ee52e)\" style=\"fill: none; stroke: #2ca02c; stroke-width: 1.5; stroke-linecap: square\"/>\n   </g>\n   <g id=\"line2d_14\">\n    <path d=\"M 46.841658 218.871716 \nL 46.943036 218.87891 \nL 47.145792 218.88 \nL 47.551304 218.879564 \nL 48.362327 218.873024 \nL 49.984374 218.878474 \nL 53.228469 218.87564 \nL 59.716658 218.864303 \nL 72.693035 218.838796 \nL 98.64579 218.745707 \nL 150.5513 218.502409 \nL 254.362319 217.539029 \n\" clip-path=\"url(#p966f9ee52e)\" style=\"fill: none; stroke: #d62728; stroke-width: 1.5; stroke-linecap: square\"/>\n   </g>\n   <g id=\"patch_3\">\n    <path d=\"M 36.465625 228.96 \nL 36.465625 7.2 \n\" style=\"fill: none; stroke: #000000; stroke-width: 0.8; stroke-linejoin: miter; stroke-linecap: square\"/>\n   </g>\n   <g id=\"patch_4\">\n    <path d=\"M 264.738352 228.96 \nL 264.738352 7.2 \n\" style=\"fill: none; stroke: #000000; stroke-width: 0.8; stroke-linejoin: miter; stroke-linecap: square\"/>\n   </g>\n   <g id=\"patch_5\">\n    <path d=\"M 36.465625 228.96 \nL 264.738352 228.96 \n\" style=\"fill: none; stroke: #000000; stroke-width: 0.8; stroke-linejoin: miter; stroke-linecap: square\"/>\n   </g>\n   <g id=\"patch_6\">\n    <path d=\"M 36.465625 7.2 \nL 264.738352 7.2 \n\" style=\"fill: none; stroke: #000000; stroke-width: 0.8; stroke-linejoin: miter; stroke-linecap: square\"/>\n   </g>\n   <g id=\"legend_1\">\n    <g id=\"patch_7\">\n     <path d=\"M 43.465625 73.9125 \nL 142.74375 73.9125 \nQ 144.74375 73.9125 144.74375 71.9125 \nL 144.74375 14.2 \nQ 144.74375 12.2 142.74375 12.2 \nL 43.465625 12.2 \nQ 41.465625 12.2 41.465625 14.2 \nL 41.465625 71.9125 \nQ 41.465625 73.9125 43.465625 73.9125 \nz\n\" style=\"fill: #ffffff; opacity: 0.8; stroke: #cccccc; stroke-linejoin: miter\"/>\n    </g>\n    <g id=\"line2d_15\">\n     <path d=\"M 45.465625 20.298438 \nL 55.465625 20.298438 \nL 65.465625 20.298438 \n\" style=\"fill: none; stroke: #1f77b4; stroke-width: 1.5; stroke-linecap: square\"/>\n    </g>\n    <g id=\"text_11\">\n     <!-- Inverse -->\n     <g transform=\"translate(73.465625 23.798438) scale(0.1 -0.1)\">\n      <defs>\n       <path id=\"DejaVuSans-49\" d=\"M 628 4666 \nL 1259 4666 \nL 1259 0 \nL 628 0 \nL 628 4666 \nz\n\" transform=\"scale(0.015625)\"/>\n       <path id=\"DejaVuSans-6e\" d=\"M 3513 2113 \nL 3513 0 \nL 2938 0 \nL 2938 2094 \nQ 2938 2591 2744 2837 \nQ 2550 3084 2163 3084 \nQ 1697 3084 1428 2787 \nQ 1159 2491 1159 1978 \nL 1159 0 \nL 581 0 \nL 581 3500 \nL 1159 3500 \nL 1159 2956 \nQ 1366 3272 1645 3428 \nQ 1925 3584 2291 3584 \nQ 2894 3584 3203 3211 \nQ 3513 2838 3513 2113 \nz\n\" transform=\"scale(0.015625)\"/>\n       <path id=\"DejaVuSans-76\" d=\"M 191 3500 \nL 800 3500 \nL 1894 563 \nL 2988 3500 \nL 3597 3500 \nL 2284 0 \nL 1503 0 \nL 191 3500 \nz\n\" transform=\"scale(0.015625)\"/>\n       <path id=\"DejaVuSans-65\" d=\"M 3597 1894 \nL 3597 1613 \nL 953 1613 \nQ 991 1019 1311 708 \nQ 1631 397 2203 397 \nQ 2534 397 2845 478 \nQ 3156 559 3463 722 \nL 3463 178 \nQ 3153 47 2828 -22 \nQ 2503 -91 2169 -91 \nQ 1331 -91 842 396 \nQ 353 884 353 1716 \nQ 353 2575 817 3079 \nQ 1281 3584 2069 3584 \nQ 2775 3584 3186 3129 \nQ 3597 2675 3597 1894 \nz\nM 3022 2063 \nQ 3016 2534 2758 2815 \nQ 2500 3097 2075 3097 \nQ 1594 3097 1305 2825 \nQ 1016 2553 972 2059 \nL 3022 2063 \nz\n\" transform=\"scale(0.015625)\"/>\n       <path id=\"DejaVuSans-72\" d=\"M 2631 2963 \nQ 2534 3019 2420 3045 \nQ 2306 3072 2169 3072 \nQ 1681 3072 1420 2755 \nQ 1159 2438 1159 1844 \nL 1159 0 \nL 581 0 \nL 581 3500 \nL 1159 3500 \nL 1159 2956 \nQ 1341 3275 1631 3429 \nQ 1922 3584 2338 3584 \nQ 2397 3584 2469 3576 \nQ 2541 3569 2628 3553 \nL 2631 2963 \nz\n\" transform=\"scale(0.015625)\"/>\n       <path id=\"DejaVuSans-73\" d=\"M 2834 3397 \nL 2834 2853 \nQ 2591 2978 2328 3040 \nQ 2066 3103 1784 3103 \nQ 1356 3103 1142 2972 \nQ 928 2841 928 2578 \nQ 928 2378 1081 2264 \nQ 1234 2150 1697 2047 \nL 1894 2003 \nQ 2506 1872 2764 1633 \nQ 3022 1394 3022 966 \nQ 3022 478 2636 193 \nQ 2250 -91 1575 -91 \nQ 1294 -91 989 -36 \nQ 684 19 347 128 \nL 347 722 \nQ 666 556 975 473 \nQ 1284 391 1588 391 \nQ 1994 391 2212 530 \nQ 2431 669 2431 922 \nQ 2431 1156 2273 1281 \nQ 2116 1406 1581 1522 \nL 1381 1569 \nQ 847 1681 609 1914 \nQ 372 2147 372 2553 \nQ 372 3047 722 3315 \nQ 1072 3584 1716 3584 \nQ 2034 3584 2315 3537 \nQ 2597 3491 2834 3397 \nz\n\" transform=\"scale(0.015625)\"/>\n      </defs>\n      <use xlink:href=\"#DejaVuSans-49\"/>\n      <use xlink:href=\"#DejaVuSans-6e\" x=\"29.492188\"/>\n      <use xlink:href=\"#DejaVuSans-76\" x=\"92.871094\"/>\n      <use xlink:href=\"#DejaVuSans-65\" x=\"152.050781\"/>\n      <use xlink:href=\"#DejaVuSans-72\" x=\"213.574219\"/>\n      <use xlink:href=\"#DejaVuSans-73\" x=\"254.6875\"/>\n      <use xlink:href=\"#DejaVuSans-65\" x=\"306.787109\"/>\n     </g>\n    </g>\n    <g id=\"line2d_16\">\n     <path d=\"M 45.465625 34.976563 \nL 55.465625 34.976563 \nL 65.465625 34.976563 \n\" style=\"fill: none; stroke: #ff7f0e; stroke-width: 1.5; stroke-linecap: square\"/>\n    </g>\n    <g id=\"text_12\">\n     <!-- Solve -->\n     <g transform=\"translate(73.465625 38.476563) scale(0.1 -0.1)\">\n      <defs>\n       <path id=\"DejaVuSans-53\" d=\"M 3425 4513 \nL 3425 3897 \nQ 3066 4069 2747 4153 \nQ 2428 4238 2131 4238 \nQ 1616 4238 1336 4038 \nQ 1056 3838 1056 3469 \nQ 1056 3159 1242 3001 \nQ 1428 2844 1947 2747 \nL 2328 2669 \nQ 3034 2534 3370 2195 \nQ 3706 1856 3706 1288 \nQ 3706 609 3251 259 \nQ 2797 -91 1919 -91 \nQ 1588 -91 1214 -16 \nQ 841 59 441 206 \nL 441 856 \nQ 825 641 1194 531 \nQ 1563 422 1919 422 \nQ 2459 422 2753 634 \nQ 3047 847 3047 1241 \nQ 3047 1584 2836 1778 \nQ 2625 1972 2144 2069 \nL 1759 2144 \nQ 1053 2284 737 2584 \nQ 422 2884 422 3419 \nQ 422 4038 858 4394 \nQ 1294 4750 2059 4750 \nQ 2388 4750 2728 4690 \nQ 3069 4631 3425 4513 \nz\n\" transform=\"scale(0.015625)\"/>\n       <path id=\"DejaVuSans-6f\" d=\"M 1959 3097 \nQ 1497 3097 1228 2736 \nQ 959 2375 959 1747 \nQ 959 1119 1226 758 \nQ 1494 397 1959 397 \nQ 2419 397 2687 759 \nQ 2956 1122 2956 1747 \nQ 2956 2369 2687 2733 \nQ 2419 3097 1959 3097 \nz\nM 1959 3584 \nQ 2709 3584 3137 3096 \nQ 3566 2609 3566 1747 \nQ 3566 888 3137 398 \nQ 2709 -91 1959 -91 \nQ 1206 -91 779 398 \nQ 353 888 353 1747 \nQ 353 2609 779 3096 \nQ 1206 3584 1959 3584 \nz\n\" transform=\"scale(0.015625)\"/>\n       <path id=\"DejaVuSans-6c\" d=\"M 603 4863 \nL 1178 4863 \nL 1178 0 \nL 603 0 \nL 603 4863 \nz\n\" transform=\"scale(0.015625)\"/>\n      </defs>\n      <use xlink:href=\"#DejaVuSans-53\"/>\n      <use xlink:href=\"#DejaVuSans-6f\" x=\"63.476562\"/>\n      <use xlink:href=\"#DejaVuSans-6c\" x=\"124.658203\"/>\n      <use xlink:href=\"#DejaVuSans-76\" x=\"152.441406\"/>\n      <use xlink:href=\"#DejaVuSans-65\" x=\"211.621094\"/>\n     </g>\n    </g>\n    <g id=\"line2d_17\">\n     <path d=\"M 45.465625 49.654688 \nL 55.465625 49.654688 \nL 65.465625 49.654688 \n\" style=\"fill: none; stroke: #2ca02c; stroke-width: 1.5; stroke-linecap: square\"/>\n    </g>\n    <g id=\"text_13\">\n     <!-- LU and Solve -->\n     <g transform=\"translate(73.465625 53.154688) scale(0.1 -0.1)\">\n      <defs>\n       <path id=\"DejaVuSans-4c\" d=\"M 628 4666 \nL 1259 4666 \nL 1259 531 \nL 3531 531 \nL 3531 0 \nL 628 0 \nL 628 4666 \nz\n\" transform=\"scale(0.015625)\"/>\n       <path id=\"DejaVuSans-55\" d=\"M 556 4666 \nL 1191 4666 \nL 1191 1831 \nQ 1191 1081 1462 751 \nQ 1734 422 2344 422 \nQ 2950 422 3222 751 \nQ 3494 1081 3494 1831 \nL 3494 4666 \nL 4128 4666 \nL 4128 1753 \nQ 4128 841 3676 375 \nQ 3225 -91 2344 -91 \nQ 1459 -91 1007 375 \nQ 556 841 556 1753 \nL 556 4666 \nz\n\" transform=\"scale(0.015625)\"/>\n       <path id=\"DejaVuSans-20\" transform=\"scale(0.015625)\"/>\n       <path id=\"DejaVuSans-61\" d=\"M 2194 1759 \nQ 1497 1759 1228 1600 \nQ 959 1441 959 1056 \nQ 959 750 1161 570 \nQ 1363 391 1709 391 \nQ 2188 391 2477 730 \nQ 2766 1069 2766 1631 \nL 2766 1759 \nL 2194 1759 \nz\nM 3341 1997 \nL 3341 0 \nL 2766 0 \nL 2766 531 \nQ 2569 213 2275 61 \nQ 1981 -91 1556 -91 \nQ 1019 -91 701 211 \nQ 384 513 384 1019 \nQ 384 1609 779 1909 \nQ 1175 2209 1959 2209 \nL 2766 2209 \nL 2766 2266 \nQ 2766 2663 2505 2880 \nQ 2244 3097 1772 3097 \nQ 1472 3097 1187 3025 \nQ 903 2953 641 2809 \nL 641 3341 \nQ 956 3463 1253 3523 \nQ 1550 3584 1831 3584 \nQ 2591 3584 2966 3190 \nQ 3341 2797 3341 1997 \nz\n\" transform=\"scale(0.015625)\"/>\n       <path id=\"DejaVuSans-64\" d=\"M 2906 2969 \nL 2906 4863 \nL 3481 4863 \nL 3481 0 \nL 2906 0 \nL 2906 525 \nQ 2725 213 2448 61 \nQ 2172 -91 1784 -91 \nQ 1150 -91 751 415 \nQ 353 922 353 1747 \nQ 353 2572 751 3078 \nQ 1150 3584 1784 3584 \nQ 2172 3584 2448 3432 \nQ 2725 3281 2906 2969 \nz\nM 947 1747 \nQ 947 1113 1208 752 \nQ 1469 391 1925 391 \nQ 2381 391 2643 752 \nQ 2906 1113 2906 1747 \nQ 2906 2381 2643 2742 \nQ 2381 3103 1925 3103 \nQ 1469 3103 1208 2742 \nQ 947 2381 947 1747 \nz\n\" transform=\"scale(0.015625)\"/>\n      </defs>\n      <use xlink:href=\"#DejaVuSans-4c\"/>\n      <use xlink:href=\"#DejaVuSans-55\" x=\"50.712891\"/>\n      <use xlink:href=\"#DejaVuSans-20\" x=\"123.90625\"/>\n      <use xlink:href=\"#DejaVuSans-61\" x=\"155.693359\"/>\n      <use xlink:href=\"#DejaVuSans-6e\" x=\"216.972656\"/>\n      <use xlink:href=\"#DejaVuSans-64\" x=\"280.351562\"/>\n      <use xlink:href=\"#DejaVuSans-20\" x=\"343.828125\"/>\n      <use xlink:href=\"#DejaVuSans-53\" x=\"375.615234\"/>\n      <use xlink:href=\"#DejaVuSans-6f\" x=\"439.091797\"/>\n      <use xlink:href=\"#DejaVuSans-6c\" x=\"500.273438\"/>\n      <use xlink:href=\"#DejaVuSans-76\" x=\"528.056641\"/>\n      <use xlink:href=\"#DejaVuSans-65\" x=\"587.236328\"/>\n     </g>\n    </g>\n    <g id=\"line2d_18\">\n     <path d=\"M 45.465625 64.332813 \nL 55.465625 64.332813 \nL 65.465625 64.332813 \n\" style=\"fill: none; stroke: #d62728; stroke-width: 1.5; stroke-linecap: square\"/>\n    </g>\n    <g id=\"text_14\">\n     <!-- Solve with LU -->\n     <g transform=\"translate(73.465625 67.832813) scale(0.1 -0.1)\">\n      <defs>\n       <path id=\"DejaVuSans-77\" d=\"M 269 3500 \nL 844 3500 \nL 1563 769 \nL 2278 3500 \nL 2956 3500 \nL 3675 769 \nL 4391 3500 \nL 4966 3500 \nL 4050 0 \nL 3372 0 \nL 2619 2869 \nL 1863 0 \nL 1184 0 \nL 269 3500 \nz\n\" transform=\"scale(0.015625)\"/>\n       <path id=\"DejaVuSans-69\" d=\"M 603 3500 \nL 1178 3500 \nL 1178 0 \nL 603 0 \nL 603 3500 \nz\nM 603 4863 \nL 1178 4863 \nL 1178 4134 \nL 603 4134 \nL 603 4863 \nz\n\" transform=\"scale(0.015625)\"/>\n       <path id=\"DejaVuSans-74\" d=\"M 1172 4494 \nL 1172 3500 \nL 2356 3500 \nL 2356 3053 \nL 1172 3053 \nL 1172 1153 \nQ 1172 725 1289 603 \nQ 1406 481 1766 481 \nL 2356 481 \nL 2356 0 \nL 1766 0 \nQ 1100 0 847 248 \nQ 594 497 594 1153 \nL 594 3053 \nL 172 3053 \nL 172 3500 \nL 594 3500 \nL 594 4494 \nL 1172 4494 \nz\n\" transform=\"scale(0.015625)\"/>\n       <path id=\"DejaVuSans-68\" d=\"M 3513 2113 \nL 3513 0 \nL 2938 0 \nL 2938 2094 \nQ 2938 2591 2744 2837 \nQ 2550 3084 2163 3084 \nQ 1697 3084 1428 2787 \nQ 1159 2491 1159 1978 \nL 1159 0 \nL 581 0 \nL 581 4863 \nL 1159 4863 \nL 1159 2956 \nQ 1366 3272 1645 3428 \nQ 1925 3584 2291 3584 \nQ 2894 3584 3203 3211 \nQ 3513 2838 3513 2113 \nz\n\" transform=\"scale(0.015625)\"/>\n      </defs>\n      <use xlink:href=\"#DejaVuSans-53\"/>\n      <use xlink:href=\"#DejaVuSans-6f\" x=\"63.476562\"/>\n      <use xlink:href=\"#DejaVuSans-6c\" x=\"124.658203\"/>\n      <use xlink:href=\"#DejaVuSans-76\" x=\"152.441406\"/>\n      <use xlink:href=\"#DejaVuSans-65\" x=\"211.621094\"/>\n      <use xlink:href=\"#DejaVuSans-20\" x=\"273.144531\"/>\n      <use xlink:href=\"#DejaVuSans-77\" x=\"304.931641\"/>\n      <use xlink:href=\"#DejaVuSans-69\" x=\"386.71875\"/>\n      <use xlink:href=\"#DejaVuSans-74\" x=\"414.501953\"/>\n      <use xlink:href=\"#DejaVuSans-68\" x=\"453.710938\"/>\n      <use xlink:href=\"#DejaVuSans-20\" x=\"517.089844\"/>\n      <use xlink:href=\"#DejaVuSans-4c\" x=\"548.876953\"/>\n      <use xlink:href=\"#DejaVuSans-55\" x=\"599.589844\"/>\n     </g>\n    </g>\n   </g>\n  </g>\n  <g id=\"axes_2\">\n   <g id=\"patch_8\">\n    <path d=\"M 310.392898 228.96 \nL 538.665625 228.96 \nL 538.665625 7.2 \nL 310.392898 7.2 \nz\n\" style=\"fill: #ffffff\"/>\n   </g>\n   <g id=\"matplotlib.axis_3\">\n    <g id=\"xtick_6\">\n     <g id=\"line2d_19\">\n      <g>\n       <use xlink:href=\"#md4725e9f03\" x=\"320.768931\" y=\"228.96\" style=\"stroke: #000000; stroke-width: 0.8\"/>\n      </g>\n     </g>\n     <g id=\"text_15\">\n      <!-- $\\mathdefault{10^{0}}$ -->\n      <g transform=\"translate(311.968931 243.558438) scale(0.1 -0.1)\">\n       <use xlink:href=\"#DejaVuSans-31\" transform=\"translate(0 0.765625)\"/>\n       <use xlink:href=\"#DejaVuSans-30\" transform=\"translate(63.623047 0.765625)\"/>\n       <use xlink:href=\"#DejaVuSans-30\" transform=\"translate(128.203125 39.046875) scale(0.7)\"/>\n      </g>\n     </g>\n    </g>\n    <g id=\"xtick_7\">\n     <g id=\"line2d_20\">\n      <g>\n       <use xlink:href=\"#md4725e9f03\" x=\"383.438814\" y=\"228.96\" style=\"stroke: #000000; stroke-width: 0.8\"/>\n      </g>\n     </g>\n     <g id=\"text_16\">\n      <!-- $\\mathdefault{10^{1}}$ -->\n      <g transform=\"translate(374.638814 243.558438) scale(0.1 -0.1)\">\n       <use xlink:href=\"#DejaVuSans-31\" transform=\"translate(0 0.684375)\"/>\n       <use xlink:href=\"#DejaVuSans-30\" transform=\"translate(63.623047 0.684375)\"/>\n       <use xlink:href=\"#DejaVuSans-31\" transform=\"translate(128.203125 38.965625) scale(0.7)\"/>\n      </g>\n     </g>\n    </g>\n    <g id=\"xtick_8\">\n     <g id=\"line2d_21\">\n      <g>\n       <use xlink:href=\"#md4725e9f03\" x=\"446.108697\" y=\"228.96\" style=\"stroke: #000000; stroke-width: 0.8\"/>\n      </g>\n     </g>\n     <g id=\"text_17\">\n      <!-- $\\mathdefault{10^{2}}$ -->\n      <g transform=\"translate(437.308697 243.558438) scale(0.1 -0.1)\">\n       <use xlink:href=\"#DejaVuSans-31\" transform=\"translate(0 0.765625)\"/>\n       <use xlink:href=\"#DejaVuSans-30\" transform=\"translate(63.623047 0.765625)\"/>\n       <use xlink:href=\"#DejaVuSans-32\" transform=\"translate(128.203125 39.046875) scale(0.7)\"/>\n      </g>\n     </g>\n    </g>\n    <g id=\"xtick_9\">\n     <g id=\"line2d_22\">\n      <g>\n       <use xlink:href=\"#md4725e9f03\" x=\"508.77858\" y=\"228.96\" style=\"stroke: #000000; stroke-width: 0.8\"/>\n      </g>\n     </g>\n     <g id=\"text_18\">\n      <!-- $\\mathdefault{10^{3}}$ -->\n      <g transform=\"translate(499.97858 243.558438) scale(0.1 -0.1)\">\n       <defs>\n        <path id=\"DejaVuSans-33\" d=\"M 2597 2516 \nQ 3050 2419 3304 2112 \nQ 3559 1806 3559 1356 \nQ 3559 666 3084 287 \nQ 2609 -91 1734 -91 \nQ 1441 -91 1130 -33 \nQ 819 25 488 141 \nL 488 750 \nQ 750 597 1062 519 \nQ 1375 441 1716 441 \nQ 2309 441 2620 675 \nQ 2931 909 2931 1356 \nQ 2931 1769 2642 2001 \nQ 2353 2234 1838 2234 \nL 1294 2234 \nL 1294 2753 \nL 1863 2753 \nQ 2328 2753 2575 2939 \nQ 2822 3125 2822 3475 \nQ 2822 3834 2567 4026 \nQ 2313 4219 1838 4219 \nQ 1578 4219 1281 4162 \nQ 984 4106 628 3988 \nL 628 4550 \nQ 988 4650 1302 4700 \nQ 1616 4750 1894 4750 \nQ 2613 4750 3031 4423 \nQ 3450 4097 3450 3541 \nQ 3450 3153 3228 2886 \nQ 3006 2619 2597 2516 \nz\n\" transform=\"scale(0.015625)\"/>\n       </defs>\n       <use xlink:href=\"#DejaVuSans-31\" transform=\"translate(0 0.765625)\"/>\n       <use xlink:href=\"#DejaVuSans-30\" transform=\"translate(63.623047 0.765625)\"/>\n       <use xlink:href=\"#DejaVuSans-33\" transform=\"translate(128.203125 39.046875) scale(0.7)\"/>\n      </g>\n     </g>\n    </g>\n    <g id=\"xtick_10\">\n     <g id=\"line2d_23\">\n      <defs>\n       <path id=\"mcf8e6b4d55\" d=\"M 0 0 \nL 0 2 \n\" style=\"stroke: #000000; stroke-width: 0.6\"/>\n      </defs>\n      <g>\n       <use xlink:href=\"#mcf8e6b4d55\" x=\"311.061243\" y=\"228.96\" style=\"stroke: #000000; stroke-width: 0.6\"/>\n      </g>\n     </g>\n    </g>\n    <g id=\"xtick_11\">\n     <g id=\"line2d_24\">\n      <g>\n       <use xlink:href=\"#mcf8e6b4d55\" x=\"314.695592\" y=\"228.96\" style=\"stroke: #000000; stroke-width: 0.6\"/>\n      </g>\n     </g>\n    </g>\n    <g id=\"xtick_12\">\n     <g id=\"line2d_25\">\n      <g>\n       <use xlink:href=\"#mcf8e6b4d55\" x=\"317.901314\" y=\"228.96\" style=\"stroke: #000000; stroke-width: 0.6\"/>\n      </g>\n     </g>\n    </g>\n    <g id=\"xtick_13\">\n     <g id=\"line2d_26\">\n      <g>\n       <use xlink:href=\"#mcf8e6b4d55\" x=\"339.634445\" y=\"228.96\" style=\"stroke: #000000; stroke-width: 0.6\"/>\n      </g>\n     </g>\n    </g>\n    <g id=\"xtick_14\">\n     <g id=\"line2d_27\">\n      <g>\n       <use xlink:href=\"#mcf8e6b4d55\" x=\"350.670064\" y=\"228.96\" style=\"stroke: #000000; stroke-width: 0.6\"/>\n      </g>\n     </g>\n    </g>\n    <g id=\"xtick_15\">\n     <g id=\"line2d_28\">\n      <g>\n       <use xlink:href=\"#mcf8e6b4d55\" x=\"358.49996\" y=\"228.96\" style=\"stroke: #000000; stroke-width: 0.6\"/>\n      </g>\n     </g>\n    </g>\n    <g id=\"xtick_16\">\n     <g id=\"line2d_29\">\n      <g>\n       <use xlink:href=\"#mcf8e6b4d55\" x=\"364.573299\" y=\"228.96\" style=\"stroke: #000000; stroke-width: 0.6\"/>\n      </g>\n     </g>\n    </g>\n    <g id=\"xtick_17\">\n     <g id=\"line2d_30\">\n      <g>\n       <use xlink:href=\"#mcf8e6b4d55\" x=\"369.535579\" y=\"228.96\" style=\"stroke: #000000; stroke-width: 0.6\"/>\n      </g>\n     </g>\n    </g>\n    <g id=\"xtick_18\">\n     <g id=\"line2d_31\">\n      <g>\n       <use xlink:href=\"#mcf8e6b4d55\" x=\"373.731126\" y=\"228.96\" style=\"stroke: #000000; stroke-width: 0.6\"/>\n      </g>\n     </g>\n    </g>\n    <g id=\"xtick_19\">\n     <g id=\"line2d_32\">\n      <g>\n       <use xlink:href=\"#mcf8e6b4d55\" x=\"377.365475\" y=\"228.96\" style=\"stroke: #000000; stroke-width: 0.6\"/>\n      </g>\n     </g>\n    </g>\n    <g id=\"xtick_20\">\n     <g id=\"line2d_33\">\n      <g>\n       <use xlink:href=\"#mcf8e6b4d55\" x=\"380.571197\" y=\"228.96\" style=\"stroke: #000000; stroke-width: 0.6\"/>\n      </g>\n     </g>\n    </g>\n    <g id=\"xtick_21\">\n     <g id=\"line2d_34\">\n      <g>\n       <use xlink:href=\"#mcf8e6b4d55\" x=\"402.304329\" y=\"228.96\" style=\"stroke: #000000; stroke-width: 0.6\"/>\n      </g>\n     </g>\n    </g>\n    <g id=\"xtick_22\">\n     <g id=\"line2d_35\">\n      <g>\n       <use xlink:href=\"#mcf8e6b4d55\" x=\"413.339947\" y=\"228.96\" style=\"stroke: #000000; stroke-width: 0.6\"/>\n      </g>\n     </g>\n    </g>\n    <g id=\"xtick_23\">\n     <g id=\"line2d_36\">\n      <g>\n       <use xlink:href=\"#mcf8e6b4d55\" x=\"421.169843\" y=\"228.96\" style=\"stroke: #000000; stroke-width: 0.6\"/>\n      </g>\n     </g>\n    </g>\n    <g id=\"xtick_24\">\n     <g id=\"line2d_37\">\n      <g>\n       <use xlink:href=\"#mcf8e6b4d55\" x=\"427.243182\" y=\"228.96\" style=\"stroke: #000000; stroke-width: 0.6\"/>\n      </g>\n     </g>\n    </g>\n    <g id=\"xtick_25\">\n     <g id=\"line2d_38\">\n      <g>\n       <use xlink:href=\"#mcf8e6b4d55\" x=\"432.205462\" y=\"228.96\" style=\"stroke: #000000; stroke-width: 0.6\"/>\n      </g>\n     </g>\n    </g>\n    <g id=\"xtick_26\">\n     <g id=\"line2d_39\">\n      <g>\n       <use xlink:href=\"#mcf8e6b4d55\" x=\"436.401009\" y=\"228.96\" style=\"stroke: #000000; stroke-width: 0.6\"/>\n      </g>\n     </g>\n    </g>\n    <g id=\"xtick_27\">\n     <g id=\"line2d_40\">\n      <g>\n       <use xlink:href=\"#mcf8e6b4d55\" x=\"440.035358\" y=\"228.96\" style=\"stroke: #000000; stroke-width: 0.6\"/>\n      </g>\n     </g>\n    </g>\n    <g id=\"xtick_28\">\n     <g id=\"line2d_41\">\n      <g>\n       <use xlink:href=\"#mcf8e6b4d55\" x=\"443.24108\" y=\"228.96\" style=\"stroke: #000000; stroke-width: 0.6\"/>\n      </g>\n     </g>\n    </g>\n    <g id=\"xtick_29\">\n     <g id=\"line2d_42\">\n      <g>\n       <use xlink:href=\"#mcf8e6b4d55\" x=\"464.974212\" y=\"228.96\" style=\"stroke: #000000; stroke-width: 0.6\"/>\n      </g>\n     </g>\n    </g>\n    <g id=\"xtick_30\">\n     <g id=\"line2d_43\">\n      <g>\n       <use xlink:href=\"#mcf8e6b4d55\" x=\"476.00983\" y=\"228.96\" style=\"stroke: #000000; stroke-width: 0.6\"/>\n      </g>\n     </g>\n    </g>\n    <g id=\"xtick_31\">\n     <g id=\"line2d_44\">\n      <g>\n       <use xlink:href=\"#mcf8e6b4d55\" x=\"483.839726\" y=\"228.96\" style=\"stroke: #000000; stroke-width: 0.6\"/>\n      </g>\n     </g>\n    </g>\n    <g id=\"xtick_32\">\n     <g id=\"line2d_45\">\n      <g>\n       <use xlink:href=\"#mcf8e6b4d55\" x=\"489.913066\" y=\"228.96\" style=\"stroke: #000000; stroke-width: 0.6\"/>\n      </g>\n     </g>\n    </g>\n    <g id=\"xtick_33\">\n     <g id=\"line2d_46\">\n      <g>\n       <use xlink:href=\"#mcf8e6b4d55\" x=\"494.875345\" y=\"228.96\" style=\"stroke: #000000; stroke-width: 0.6\"/>\n      </g>\n     </g>\n    </g>\n    <g id=\"xtick_34\">\n     <g id=\"line2d_47\">\n      <g>\n       <use xlink:href=\"#mcf8e6b4d55\" x=\"499.070892\" y=\"228.96\" style=\"stroke: #000000; stroke-width: 0.6\"/>\n      </g>\n     </g>\n    </g>\n    <g id=\"xtick_35\">\n     <g id=\"line2d_48\">\n      <g>\n       <use xlink:href=\"#mcf8e6b4d55\" x=\"502.705241\" y=\"228.96\" style=\"stroke: #000000; stroke-width: 0.6\"/>\n      </g>\n     </g>\n    </g>\n    <g id=\"xtick_36\">\n     <g id=\"line2d_49\">\n      <g>\n       <use xlink:href=\"#mcf8e6b4d55\" x=\"505.910964\" y=\"228.96\" style=\"stroke: #000000; stroke-width: 0.6\"/>\n      </g>\n     </g>\n    </g>\n    <g id=\"xtick_37\">\n     <g id=\"line2d_50\">\n      <g>\n       <use xlink:href=\"#mcf8e6b4d55\" x=\"527.644095\" y=\"228.96\" style=\"stroke: #000000; stroke-width: 0.6\"/>\n      </g>\n     </g>\n    </g>\n   </g>\n   <g id=\"matplotlib.axis_4\">\n    <g id=\"ytick_6\">\n     <g id=\"line2d_51\">\n      <g>\n       <use xlink:href=\"#mb3a2002738\" x=\"310.392898\" y=\"215.846334\" style=\"stroke: #000000; stroke-width: 0.8\"/>\n      </g>\n     </g>\n     <g id=\"text_19\">\n      <!-- $\\mathdefault{10^{-5}}$ -->\n      <g transform=\"translate(279.892898 219.645553) scale(0.1 -0.1)\">\n       <defs>\n        <path id=\"DejaVuSans-2212\" d=\"M 678 2272 \nL 4684 2272 \nL 4684 1741 \nL 678 1741 \nL 678 2272 \nz\n\" transform=\"scale(0.015625)\"/>\n       </defs>\n       <use xlink:href=\"#DejaVuSans-31\" transform=\"translate(0 0.684375)\"/>\n       <use xlink:href=\"#DejaVuSans-30\" transform=\"translate(63.623047 0.684375)\"/>\n       <use xlink:href=\"#DejaVuSans-2212\" transform=\"translate(128.203125 38.965625) scale(0.7)\"/>\n       <use xlink:href=\"#DejaVuSans-35\" transform=\"translate(186.855469 38.965625) scale(0.7)\"/>\n      </g>\n     </g>\n    </g>\n    <g id=\"ytick_7\">\n     <g id=\"line2d_52\">\n      <g>\n       <use xlink:href=\"#mb3a2002738\" x=\"310.392898\" y=\"170.129262\" style=\"stroke: #000000; stroke-width: 0.8\"/>\n      </g>\n     </g>\n     <g id=\"text_20\">\n      <!-- $\\mathdefault{10^{-4}}$ -->\n      <g transform=\"translate(279.892898 173.928481) scale(0.1 -0.1)\">\n       <defs>\n        <path id=\"DejaVuSans-34\" d=\"M 2419 4116 \nL 825 1625 \nL 2419 1625 \nL 2419 4116 \nz\nM 2253 4666 \nL 3047 4666 \nL 3047 1625 \nL 3713 1625 \nL 3713 1100 \nL 3047 1100 \nL 3047 0 \nL 2419 0 \nL 2419 1100 \nL 313 1100 \nL 313 1709 \nL 2253 4666 \nz\n\" transform=\"scale(0.015625)\"/>\n       </defs>\n       <use xlink:href=\"#DejaVuSans-31\" transform=\"translate(0 0.684375)\"/>\n       <use xlink:href=\"#DejaVuSans-30\" transform=\"translate(63.623047 0.684375)\"/>\n       <use xlink:href=\"#DejaVuSans-2212\" transform=\"translate(128.203125 38.965625) scale(0.7)\"/>\n       <use xlink:href=\"#DejaVuSans-34\" transform=\"translate(186.855469 38.965625) scale(0.7)\"/>\n      </g>\n     </g>\n    </g>\n    <g id=\"ytick_8\">\n     <g id=\"line2d_53\">\n      <g>\n       <use xlink:href=\"#mb3a2002738\" x=\"310.392898\" y=\"124.41219\" style=\"stroke: #000000; stroke-width: 0.8\"/>\n      </g>\n     </g>\n     <g id=\"text_21\">\n      <!-- $\\mathdefault{10^{-3}}$ -->\n      <g transform=\"translate(279.892898 128.211409) scale(0.1 -0.1)\">\n       <use xlink:href=\"#DejaVuSans-31\" transform=\"translate(0 0.765625)\"/>\n       <use xlink:href=\"#DejaVuSans-30\" transform=\"translate(63.623047 0.765625)\"/>\n       <use xlink:href=\"#DejaVuSans-2212\" transform=\"translate(128.203125 39.046875) scale(0.7)\"/>\n       <use xlink:href=\"#DejaVuSans-33\" transform=\"translate(186.855469 39.046875) scale(0.7)\"/>\n      </g>\n     </g>\n    </g>\n    <g id=\"ytick_9\">\n     <g id=\"line2d_54\">\n      <g>\n       <use xlink:href=\"#mb3a2002738\" x=\"310.392898\" y=\"78.695118\" style=\"stroke: #000000; stroke-width: 0.8\"/>\n      </g>\n     </g>\n     <g id=\"text_22\">\n      <!-- $\\mathdefault{10^{-2}}$ -->\n      <g transform=\"translate(279.892898 82.494337) scale(0.1 -0.1)\">\n       <use xlink:href=\"#DejaVuSans-31\" transform=\"translate(0 0.765625)\"/>\n       <use xlink:href=\"#DejaVuSans-30\" transform=\"translate(63.623047 0.765625)\"/>\n       <use xlink:href=\"#DejaVuSans-2212\" transform=\"translate(128.203125 39.046875) scale(0.7)\"/>\n       <use xlink:href=\"#DejaVuSans-32\" transform=\"translate(186.855469 39.046875) scale(0.7)\"/>\n      </g>\n     </g>\n    </g>\n    <g id=\"ytick_10\">\n     <g id=\"line2d_55\">\n      <g>\n       <use xlink:href=\"#mb3a2002738\" x=\"310.392898\" y=\"32.978046\" style=\"stroke: #000000; stroke-width: 0.8\"/>\n      </g>\n     </g>\n     <g id=\"text_23\">\n      <!-- $\\mathdefault{10^{-1}}$ -->\n      <g transform=\"translate(279.892898 36.777265) scale(0.1 -0.1)\">\n       <use xlink:href=\"#DejaVuSans-31\" transform=\"translate(0 0.684375)\"/>\n       <use xlink:href=\"#DejaVuSans-30\" transform=\"translate(63.623047 0.684375)\"/>\n       <use xlink:href=\"#DejaVuSans-2212\" transform=\"translate(128.203125 38.965625) scale(0.7)\"/>\n       <use xlink:href=\"#DejaVuSans-31\" transform=\"translate(186.855469 38.965625) scale(0.7)\"/>\n      </g>\n     </g>\n    </g>\n    <g id=\"ytick_11\">\n     <g id=\"line2d_56\">\n      <defs>\n       <path id=\"maf1b6cac22\" d=\"M 0 0 \nL -2 0 \n\" style=\"stroke: #000000; stroke-width: 0.6\"/>\n      </defs>\n      <g>\n       <use xlink:href=\"#maf1b6cac22\" x=\"310.392898\" y=\"225.988609\" style=\"stroke: #000000; stroke-width: 0.6\"/>\n      </g>\n     </g>\n    </g>\n    <g id=\"ytick_12\">\n     <g id=\"line2d_57\">\n      <g>\n       <use xlink:href=\"#maf1b6cac22\" x=\"310.392898\" y=\"222.927998\" style=\"stroke: #000000; stroke-width: 0.6\"/>\n      </g>\n     </g>\n    </g>\n    <g id=\"ytick_13\">\n     <g id=\"line2d_58\">\n      <g>\n       <use xlink:href=\"#maf1b6cac22\" x=\"310.392898\" y=\"220.276776\" style=\"stroke: #000000; stroke-width: 0.6\"/>\n      </g>\n     </g>\n    </g>\n    <g id=\"ytick_14\">\n     <g id=\"line2d_59\">\n      <g>\n       <use xlink:href=\"#maf1b6cac22\" x=\"310.392898\" y=\"217.938232\" style=\"stroke: #000000; stroke-width: 0.6\"/>\n      </g>\n     </g>\n    </g>\n    <g id=\"ytick_15\">\n     <g id=\"line2d_60\">\n      <g>\n       <use xlink:href=\"#maf1b6cac22\" x=\"310.392898\" y=\"202.084124\" style=\"stroke: #000000; stroke-width: 0.6\"/>\n      </g>\n     </g>\n    </g>\n    <g id=\"ytick_16\">\n     <g id=\"line2d_61\">\n      <g>\n       <use xlink:href=\"#maf1b6cac22\" x=\"310.392898\" y=\"194.033747\" style=\"stroke: #000000; stroke-width: 0.6\"/>\n      </g>\n     </g>\n    </g>\n    <g id=\"ytick_17\">\n     <g id=\"line2d_62\">\n      <g>\n       <use xlink:href=\"#maf1b6cac22\" x=\"310.392898\" y=\"188.321914\" style=\"stroke: #000000; stroke-width: 0.6\"/>\n      </g>\n     </g>\n    </g>\n    <g id=\"ytick_18\">\n     <g id=\"line2d_63\">\n      <g>\n       <use xlink:href=\"#maf1b6cac22\" x=\"310.392898\" y=\"183.891472\" style=\"stroke: #000000; stroke-width: 0.6\"/>\n      </g>\n     </g>\n    </g>\n    <g id=\"ytick_19\">\n     <g id=\"line2d_64\">\n      <g>\n       <use xlink:href=\"#maf1b6cac22\" x=\"310.392898\" y=\"180.271537\" style=\"stroke: #000000; stroke-width: 0.6\"/>\n      </g>\n     </g>\n    </g>\n    <g id=\"ytick_20\">\n     <g id=\"line2d_65\">\n      <g>\n       <use xlink:href=\"#maf1b6cac22\" x=\"310.392898\" y=\"177.210926\" style=\"stroke: #000000; stroke-width: 0.6\"/>\n      </g>\n     </g>\n    </g>\n    <g id=\"ytick_21\">\n     <g id=\"line2d_66\">\n      <g>\n       <use xlink:href=\"#maf1b6cac22\" x=\"310.392898\" y=\"174.559704\" style=\"stroke: #000000; stroke-width: 0.6\"/>\n      </g>\n     </g>\n    </g>\n    <g id=\"ytick_22\">\n     <g id=\"line2d_67\">\n      <g>\n       <use xlink:href=\"#maf1b6cac22\" x=\"310.392898\" y=\"172.22116\" style=\"stroke: #000000; stroke-width: 0.6\"/>\n      </g>\n     </g>\n    </g>\n    <g id=\"ytick_23\">\n     <g id=\"line2d_68\">\n      <g>\n       <use xlink:href=\"#maf1b6cac22\" x=\"310.392898\" y=\"156.367052\" style=\"stroke: #000000; stroke-width: 0.6\"/>\n      </g>\n     </g>\n    </g>\n    <g id=\"ytick_24\">\n     <g id=\"line2d_69\">\n      <g>\n       <use xlink:href=\"#maf1b6cac22\" x=\"310.392898\" y=\"148.316675\" style=\"stroke: #000000; stroke-width: 0.6\"/>\n      </g>\n     </g>\n    </g>\n    <g id=\"ytick_25\">\n     <g id=\"line2d_70\">\n      <g>\n       <use xlink:href=\"#maf1b6cac22\" x=\"310.392898\" y=\"142.604842\" style=\"stroke: #000000; stroke-width: 0.6\"/>\n      </g>\n     </g>\n    </g>\n    <g id=\"ytick_26\">\n     <g id=\"line2d_71\">\n      <g>\n       <use xlink:href=\"#maf1b6cac22\" x=\"310.392898\" y=\"138.1744\" style=\"stroke: #000000; stroke-width: 0.6\"/>\n      </g>\n     </g>\n    </g>\n    <g id=\"ytick_27\">\n     <g id=\"line2d_72\">\n      <g>\n       <use xlink:href=\"#maf1b6cac22\" x=\"310.392898\" y=\"134.554465\" style=\"stroke: #000000; stroke-width: 0.6\"/>\n      </g>\n     </g>\n    </g>\n    <g id=\"ytick_28\">\n     <g id=\"line2d_73\">\n      <g>\n       <use xlink:href=\"#maf1b6cac22\" x=\"310.392898\" y=\"131.493854\" style=\"stroke: #000000; stroke-width: 0.6\"/>\n      </g>\n     </g>\n    </g>\n    <g id=\"ytick_29\">\n     <g id=\"line2d_74\">\n      <g>\n       <use xlink:href=\"#maf1b6cac22\" x=\"310.392898\" y=\"128.842632\" style=\"stroke: #000000; stroke-width: 0.6\"/>\n      </g>\n     </g>\n    </g>\n    <g id=\"ytick_30\">\n     <g id=\"line2d_75\">\n      <g>\n       <use xlink:href=\"#maf1b6cac22\" x=\"310.392898\" y=\"126.504088\" style=\"stroke: #000000; stroke-width: 0.6\"/>\n      </g>\n     </g>\n    </g>\n    <g id=\"ytick_31\">\n     <g id=\"line2d_76\">\n      <g>\n       <use xlink:href=\"#maf1b6cac22\" x=\"310.392898\" y=\"110.64998\" style=\"stroke: #000000; stroke-width: 0.6\"/>\n      </g>\n     </g>\n    </g>\n    <g id=\"ytick_32\">\n     <g id=\"line2d_77\">\n      <g>\n       <use xlink:href=\"#maf1b6cac22\" x=\"310.392898\" y=\"102.599603\" style=\"stroke: #000000; stroke-width: 0.6\"/>\n      </g>\n     </g>\n    </g>\n    <g id=\"ytick_33\">\n     <g id=\"line2d_78\">\n      <g>\n       <use xlink:href=\"#maf1b6cac22\" x=\"310.392898\" y=\"96.88777\" style=\"stroke: #000000; stroke-width: 0.6\"/>\n      </g>\n     </g>\n    </g>\n    <g id=\"ytick_34\">\n     <g id=\"line2d_79\">\n      <g>\n       <use xlink:href=\"#maf1b6cac22\" x=\"310.392898\" y=\"92.457328\" style=\"stroke: #000000; stroke-width: 0.6\"/>\n      </g>\n     </g>\n    </g>\n    <g id=\"ytick_35\">\n     <g id=\"line2d_80\">\n      <g>\n       <use xlink:href=\"#maf1b6cac22\" x=\"310.392898\" y=\"88.837393\" style=\"stroke: #000000; stroke-width: 0.6\"/>\n      </g>\n     </g>\n    </g>\n    <g id=\"ytick_36\">\n     <g id=\"line2d_81\">\n      <g>\n       <use xlink:href=\"#maf1b6cac22\" x=\"310.392898\" y=\"85.776782\" style=\"stroke: #000000; stroke-width: 0.6\"/>\n      </g>\n     </g>\n    </g>\n    <g id=\"ytick_37\">\n     <g id=\"line2d_82\">\n      <g>\n       <use xlink:href=\"#maf1b6cac22\" x=\"310.392898\" y=\"83.12556\" style=\"stroke: #000000; stroke-width: 0.6\"/>\n      </g>\n     </g>\n    </g>\n    <g id=\"ytick_38\">\n     <g id=\"line2d_83\">\n      <g>\n       <use xlink:href=\"#maf1b6cac22\" x=\"310.392898\" y=\"80.787016\" style=\"stroke: #000000; stroke-width: 0.6\"/>\n      </g>\n     </g>\n    </g>\n    <g id=\"ytick_39\">\n     <g id=\"line2d_84\">\n      <g>\n       <use xlink:href=\"#maf1b6cac22\" x=\"310.392898\" y=\"64.932908\" style=\"stroke: #000000; stroke-width: 0.6\"/>\n      </g>\n     </g>\n    </g>\n    <g id=\"ytick_40\">\n     <g id=\"line2d_85\">\n      <g>\n       <use xlink:href=\"#maf1b6cac22\" x=\"310.392898\" y=\"56.882531\" style=\"stroke: #000000; stroke-width: 0.6\"/>\n      </g>\n     </g>\n    </g>\n    <g id=\"ytick_41\">\n     <g id=\"line2d_86\">\n      <g>\n       <use xlink:href=\"#maf1b6cac22\" x=\"310.392898\" y=\"51.170698\" style=\"stroke: #000000; stroke-width: 0.6\"/>\n      </g>\n     </g>\n    </g>\n    <g id=\"ytick_42\">\n     <g id=\"line2d_87\">\n      <g>\n       <use xlink:href=\"#maf1b6cac22\" x=\"310.392898\" y=\"46.740256\" style=\"stroke: #000000; stroke-width: 0.6\"/>\n      </g>\n     </g>\n    </g>\n    <g id=\"ytick_43\">\n     <g id=\"line2d_88\">\n      <g>\n       <use xlink:href=\"#maf1b6cac22\" x=\"310.392898\" y=\"43.120321\" style=\"stroke: #000000; stroke-width: 0.6\"/>\n      </g>\n     </g>\n    </g>\n    <g id=\"ytick_44\">\n     <g id=\"line2d_89\">\n      <g>\n       <use xlink:href=\"#maf1b6cac22\" x=\"310.392898\" y=\"40.05971\" style=\"stroke: #000000; stroke-width: 0.6\"/>\n      </g>\n     </g>\n    </g>\n    <g id=\"ytick_45\">\n     <g id=\"line2d_90\">\n      <g>\n       <use xlink:href=\"#maf1b6cac22\" x=\"310.392898\" y=\"37.408488\" style=\"stroke: #000000; stroke-width: 0.6\"/>\n      </g>\n     </g>\n    </g>\n    <g id=\"ytick_46\">\n     <g id=\"line2d_91\">\n      <g>\n       <use xlink:href=\"#maf1b6cac22\" x=\"310.392898\" y=\"35.069944\" style=\"stroke: #000000; stroke-width: 0.6\"/>\n      </g>\n     </g>\n    </g>\n    <g id=\"ytick_47\">\n     <g id=\"line2d_92\">\n      <g>\n       <use xlink:href=\"#maf1b6cac22\" x=\"310.392898\" y=\"19.215836\" style=\"stroke: #000000; stroke-width: 0.6\"/>\n      </g>\n     </g>\n    </g>\n    <g id=\"ytick_48\">\n     <g id=\"line2d_93\">\n      <g>\n       <use xlink:href=\"#maf1b6cac22\" x=\"310.392898\" y=\"11.165459\" style=\"stroke: #000000; stroke-width: 0.6\"/>\n      </g>\n     </g>\n    </g>\n   </g>\n   <g id=\"line2d_94\">\n    <path d=\"M 320.768931 172.458596 \nL 339.634445 171.270576 \nL 358.49996 194.485251 \nL 377.365475 195.993926 \nL 396.230989 192.200587 \nL 415.096504 182.583136 \nL 433.962019 165.112551 \nL 452.827533 36.420148 \nL 471.693048 68.775358 \nL 490.558563 59.395467 \nL 509.424077 31.866391 \nL 528.289592 17.28 \n\" clip-path=\"url(#p4cee00d33c)\" style=\"fill: none; stroke: #1f77b4; stroke-width: 1.5; stroke-linecap: square\"/>\n   </g>\n   <g id=\"line2d_95\">\n    <path d=\"M 320.768931 142.180088 \nL 339.634445 151.149141 \nL 358.49996 186.274107 \nL 377.365475 187.598242 \nL 396.230989 183.031341 \nL 415.096504 178.65537 \nL 433.962019 166.36455 \nL 452.827533 37.584193 \nL 471.693048 105.189693 \nL 490.558563 34.900954 \nL 509.424077 34.625791 \nL 528.289592 22.748531 \n\" clip-path=\"url(#p4cee00d33c)\" style=\"fill: none; stroke: #ff7f0e; stroke-width: 1.5; stroke-linecap: square\"/>\n   </g>\n   <g id=\"line2d_96\">\n    <path d=\"M 320.768931 190.022551 \nL 339.634445 198.008569 \nL 358.49996 204.843928 \nL 377.365475 204.573792 \nL 396.230989 200.250964 \nL 415.096504 193.694124 \nL 433.962019 179.320952 \nL 452.827533 146.226216 \nL 471.693048 108.724237 \nL 490.558563 99.503945 \nL 509.424077 69.277107 \nL 528.289592 36.118553 \n\" clip-path=\"url(#p4cee00d33c)\" style=\"fill: none; stroke: #2ca02c; stroke-width: 1.5; stroke-linecap: square\"/>\n   </g>\n   <g id=\"line2d_97\">\n    <path d=\"M 320.768931 204.573792 \nL 339.634445 216.297838 \nL 358.49996 218.88 \nL 377.365475 217.806513 \nL 396.230989 206.252652 \nL 415.096504 215.352198 \nL 433.962019 210.107556 \nL 452.827533 197.067413 \nL 471.693048 182.494696 \nL 490.558563 161.370434 \nL 509.424077 141.564213 \nL 528.289592 116.694224 \n\" clip-path=\"url(#p4cee00d33c)\" style=\"fill: none; stroke: #d62728; stroke-width: 1.5; stroke-linecap: square\"/>\n   </g>\n   <g id=\"patch_9\">\n    <path d=\"M 310.392898 228.96 \nL 310.392898 7.2 \n\" style=\"fill: none; stroke: #000000; stroke-width: 0.8; stroke-linejoin: miter; stroke-linecap: square\"/>\n   </g>\n   <g id=\"patch_10\">\n    <path d=\"M 538.665625 228.96 \nL 538.665625 7.2 \n\" style=\"fill: none; stroke: #000000; stroke-width: 0.8; stroke-linejoin: miter; stroke-linecap: square\"/>\n   </g>\n   <g id=\"patch_11\">\n    <path d=\"M 310.392898 228.96 \nL 538.665625 228.96 \n\" style=\"fill: none; stroke: #000000; stroke-width: 0.8; stroke-linejoin: miter; stroke-linecap: square\"/>\n   </g>\n   <g id=\"patch_12\">\n    <path d=\"M 310.392898 7.2 \nL 538.665625 7.2 \n\" style=\"fill: none; stroke: #000000; stroke-width: 0.8; stroke-linejoin: miter; stroke-linecap: square\"/>\n   </g>\n  </g>\n </g>\n <defs>\n  <clipPath id=\"p966f9ee52e\">\n   <rect x=\"36.465625\" y=\"7.2\" width=\"228.272727\" height=\"221.76\"/>\n  </clipPath>\n  <clipPath id=\"p4cee00d33c\">\n   <rect x=\"310.392898\" y=\"7.2\" width=\"228.272727\" height=\"221.76\"/>\n  </clipPath>\n </defs>\n</svg>\n",
      "text/plain": [
       "<Figure size 900x400 with 2 Axes>"
      ]
     },
     "metadata": {},
     "output_type": "display_data"
    }
   ],
   "source": [
    "fig, axes = plt.subplots(1, 2, figsize=(9, 4))\n",
    "vis_data = {\n",
    "    \"Inverse\": inv_times,\n",
    "    \"Solve\": solve_times,\n",
    "    \"LU and Solve\": lu_times,\n",
    "    \"Solve with LU\": lu_solve_times\n",
    "}\n",
    "axes = axes.flatten()\n",
    "\n",
    "for item in vis_data.items():\n",
    "    axes[0].plot(mat_size, item[1], label=item[0])\n",
    "    axes[1].loglog(mat_size, item[1])\n",
    "\n",
    "axes[0].legend(loc='upper left');"
   ]
  },
  {
   "cell_type": "markdown",
   "metadata": {},
   "source": [
    "The above figure demonstrates that computing a matrix inverse is computationally expensive. In fact, numerically inverting matrices is so costly that there is hardly ever a good reason to do it. Use a specific solver like la.lu_solve() whenever possible instead of using la.inv()."
   ]
  },
  {
   "cell_type": "code",
   "execution_count": null,
   "metadata": {},
   "outputs": [],
   "source": []
  }
 ],
 "metadata": {
  "kernelspec": {
   "display_name": "Python 3.9.5 ('myvenv': venv)",
   "language": "python",
   "name": "python3"
  },
  "language_info": {
   "codemirror_mode": {
    "name": "ipython",
    "version": 3
   },
   "file_extension": ".py",
   "mimetype": "text/x-python",
   "name": "python",
   "nbconvert_exporter": "python",
   "pygments_lexer": "ipython3",
   "version": "3.9.5"
  },
  "orig_nbformat": 4,
  "vscode": {
   "interpreter": {
    "hash": "2fe189d182e892b13e31889708ff6fa1238858c117c3508e6a10c00d2dc805a3"
   }
  }
 },
 "nbformat": 4,
 "nbformat_minor": 2
}
