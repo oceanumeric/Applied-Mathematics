{
 "cells": [
  {
   "cell_type": "markdown",
   "metadata": {},
   "source": [
    "# Linear Systems \n",
    "\n",
    "In this post, we will learn how to solve linear systems such as\n",
    "\n",
    "$$Ax = b $$"
   ]
  },
  {
   "cell_type": "code",
   "execution_count": 92,
   "metadata": {},
   "outputs": [],
   "source": [
    "import numpy as np \n",
    "import scipy as sp"
   ]
  },
  {
   "cell_type": "code",
   "execution_count": 42,
   "metadata": {},
   "outputs": [],
   "source": [
    "A = np.array(\n",
    "    [\n",
    "        [1, 1, 1, 1],\n",
    "        [1, 4, 2, 3],\n",
    "        [4, 7, 8, 9]\n",
    "    ],\n",
    "    dtype=np.float64\n",
    ")"
   ]
  },
  {
   "cell_type": "code",
   "execution_count": 9,
   "metadata": {},
   "outputs": [
    {
     "data": {
      "text/plain": [
       "array([[1., 1., 1., 1.],\n",
       "       [0., 3., 1., 2.],\n",
       "       [0., 0., 3., 3.]], dtype=float32)"
      ]
     },
     "execution_count": 9,
     "metadata": {},
     "output_type": "execute_result"
    }
   ],
   "source": [
    "A[1, 0:] -= (A[1, 0]/A[0, 0])*A[0]  # Gaussian elimination\n",
    "A[2, 0:] -= (A[2, 0]/A[0, 0])*A[0]\n",
    "A[2, 1:] -= (A[2, 1]/A[1, 1])*A[1, 1:]\n",
    "A"
   ]
  },
  {
   "cell_type": "markdown",
   "metadata": {},
   "source": [
    "## Round-off Error\n",
    "\n",
    "Gaussian elimination is not always numerically stable. In other words, \n",
    "it is susceptible to rounding error that may result in an incorrect final matrix. \n",
    "Suppose that, due to round-off error, the matrix A has a very small entry \n",
    "on the diagonal.\n",
    "\n",
    "$$A = \\begin{bmatrix} 10^{-15} & 1 \\\\ -1 & 0 \\end{bmatrix}$$\n",
    "\n",
    "Though $10^{-15}$ is essentially zero, instead of swapping the first and \n",
    "second rows to put $A$ in REF, a computer might multiply the first row by\n",
    "$10^{-15}$, then we will have \n",
    "\n",
    "$$\n",
    "A = \\begin{bmatrix} 10^{-15} & 1 \\\\ -1 & 0 \\end{bmatrix} \\to\n",
    "\\begin{bmatrix} 10^{-15} & 1 \\\\ 0 & 10^{15}\\end{bmatrix}\n",
    "$$\n",
    "\n",
    "Round-off error can propagate through many steps in a calculation. \n",
    "The NumPy routines that employ row reduction use several tricks to \n",
    "minimize the impact of round-off error, but these tricks cannot fix every matrix."
   ]
  },
  {
   "cell_type": "markdown",
   "metadata": {},
   "source": [
    "we will perform a series of steps called row operations which preserve the solution of the system while gradually making the solution more accessible. There are three such operations we may perform.\n",
    "\n",
    "1. Exchange the position of two equations.\n",
    "\n",
    "2. Multiply an equation by any nonzero number.\n",
    "\n",
    "3. Replace any equation with the sum of itself and a multiple of another equation.\n",
    "\n"
   ]
  },
  {
   "cell_type": "code",
   "execution_count": 29,
   "metadata": {},
   "outputs": [],
   "source": [
    "def row_operation(A:np.ndarray) -> np.ndarray:\n",
    "    \"\"\"\n",
    "    Rwo operation on n matrix A that is invertible and no zeros \n",
    "    in the diagonal (this means that A[0, 0] is not 0 for sure, A[1, 1])\n",
    "    \"\"\"\n",
    "    n = A.shape[0]  # A is a square matrix \n",
    "    for i in range(n):\n",
    "        # scale the ith row into the unit one\n",
    "        A[i, i:] = A[i, i:]/A[i, i]\n",
    "        # loop over all row elements of column i \n",
    "        # start from i+1 to n \n",
    "        for j in range(i+1, n):\n",
    "            # initialize the elementary matrix\n",
    "            mat = np.eye(n)  \n",
    "            scalar = -A[j, i]\n",
    "            mat[j, i] = scalar\n",
    "            # implement elementary matrix elimination \n",
    "            A = mat @ A \n",
    "            \n",
    "    return A"
   ]
  },
  {
   "cell_type": "code",
   "execution_count": 48,
   "metadata": {},
   "outputs": [
    {
     "data": {
      "text/plain": [
       "array([[1.        , 1.        , 1.        ],\n",
       "       [0.        , 1.        , 0.33333333],\n",
       "       [0.        , 0.        , 1.        ]])"
      ]
     },
     "execution_count": 48,
     "metadata": {},
     "output_type": "execute_result"
    }
   ],
   "source": [
    "a1 = np.array(\n",
    "    [\n",
    "        [1, 1, 1],\n",
    "        [1, 4, 2],\n",
    "        [4, 7, 8]\n",
    "    ],\n",
    "    dtype=np.float64\n",
    ")\n",
    "row_operation(a1)"
   ]
  },
  {
   "cell_type": "code",
   "execution_count": 31,
   "metadata": {},
   "outputs": [
    {
     "data": {
      "text/plain": [
       "array([[1.        , 0.        , 0.        , 0.        ],\n",
       "       [0.        , 1.        , 0.5       , 1.25      ],\n",
       "       [0.        , 0.        , 1.        , 1.21428571],\n",
       "       [0.        , 0.        , 0.        , 1.        ]])"
      ]
     },
     "execution_count": 31,
     "metadata": {},
     "output_type": "execute_result"
    }
   ],
   "source": [
    "fooa = np.random.randint(10, size=(4, 4))\n",
    "row_operation(fooa)"
   ]
  },
  {
   "cell_type": "markdown",
   "metadata": {},
   "source": [
    "## The LU Decomposition\n",
    "\n",
    "The _LU decomposition_ of a square matrix $A$ is a factorization\n",
    "\n",
    "$$A = LU$$ \n",
    "\n",
    "where $U$ is the upper upper triangular REF of  $A$ and $L$ is the lower \n",
    "triangular product of the type III elementary matrices whose inverses reduce\n",
    "$A$ to $U$. \n",
    "\n",
    "The $LU$ decomposition of $A$ exists when $A$ can be reduced to REF using only \n",
    "type III elementary matrices (without any row swaps).  However, the rows \n",
    "of $A$ can always be permuted in a way such that the decomposition exists.\n",
    "\n",
    "If $P$ is a permutation matrix encoding the appropriate row swaps, \n",
    "then the decomposition \n",
    "\n",
    "$$PA = LU$$ \n",
    "\n",
    "always exists.\n",
    "\n",
    "Now, suppose the decomposition exists without permutation, then we could have\n",
    "\n",
    "$$\n",
    "E_k\\cdots E_2E_1 A = U  \\ \\ \\to \\ \\ A = (E_k\\cdots E_2E_1 )^{-1}U = LU \n",
    "$$"
   ]
  },
  {
   "cell_type": "markdown",
   "metadata": {},
   "source": [
    "Pseudo code for a simple  $LU$  factorization for a square matrix $A$ \n",
    "\n",
    "1. Initialize a $n \\times n$ matrix $L=I$ and $U=A$\n",
    "2. for $i = 1, \\cdots, n$ do step 3\n",
    "3.  for $j = i+1, \\cdots, n$ do step 4-5\n",
    "4.    set $L[j, i] = U[j, i]/U[i, i]$\n",
    "5.    set $U[j] = (U[j]-L[j, i]U[i])$\n"
   ]
  },
  {
   "cell_type": "code",
   "execution_count": 55,
   "metadata": {},
   "outputs": [],
   "source": [
    "def lu_decompose(A: np.ndarray) -> np.ndarray:\n",
    "    \"\"\"\n",
    "    LU decomposition for a square matrix which is assumed to be decomposed \n",
    "    It is similar with row_operation() function but \n",
    "    we will do operation on element-wise \n",
    "    \"\"\"\n",
    "    n = A.shape[0]\n",
    "    U = A.copy()\n",
    "    L = np.eye(n)\n",
    "    \n",
    "    for i in range(n):\n",
    "        # get the factor vector \n",
    "        factor = U[i+1:, i]/U[i, i]\n",
    "        L[i+1:, i] = factor \n",
    "        U[i+1:] -= factor[:, np.newaxis]*U[i]\n",
    "            \n",
    "    return L, U "
   ]
  },
  {
   "cell_type": "code",
   "execution_count": 56,
   "metadata": {},
   "outputs": [],
   "source": [
    "al, au = lu_decompose(a1)"
   ]
  },
  {
   "cell_type": "code",
   "execution_count": 57,
   "metadata": {},
   "outputs": [
    {
     "data": {
      "text/plain": [
       "array([[1., 0., 0.],\n",
       "       [1., 1., 0.],\n",
       "       [4., 1., 1.]])"
      ]
     },
     "execution_count": 57,
     "metadata": {},
     "output_type": "execute_result"
    }
   ],
   "source": [
    "al"
   ]
  },
  {
   "cell_type": "code",
   "execution_count": 58,
   "metadata": {},
   "outputs": [
    {
     "data": {
      "text/plain": [
       "array([[1., 1., 1.],\n",
       "       [0., 3., 1.],\n",
       "       [0., 0., 3.]])"
      ]
     },
     "execution_count": 58,
     "metadata": {},
     "output_type": "execute_result"
    }
   ],
   "source": [
    "au"
   ]
  },
  {
   "cell_type": "code",
   "execution_count": 62,
   "metadata": {},
   "outputs": [
    {
     "data": {
      "text/plain": [
       "array([[ True,  True,  True],\n",
       "       [ True,  True,  True],\n",
       "       [ True,  True,  True]])"
      ]
     },
     "execution_count": 62,
     "metadata": {},
     "output_type": "execute_result"
    }
   ],
   "source": [
    "al @ au == a1"
   ]
  },
  {
   "cell_type": "markdown",
   "metadata": {},
   "source": [
    "## PLU  factorization \n",
    "\n",
    "Pseudo code for a simple  $PLU$  factorization for a square matrix $A$ \n",
    "\n",
    "1. Initialize a $n \\times n$ matrix $L=P=I$ and $U=A$\n",
    "2. for $i = 1, \\cdots, n$ do step 3-4, 8\n",
    "3.  let $k=i$\n",
    "4.  while $u_{ii} = 0$, do step 5-7\n",
    "5.    swap row $U_i$ with row $U_{k+1}$\n",
    "6.    swap row $P_i$ with row $P_{k+1}$\n",
    "7.    increase $k$ by 1\n",
    "8.  for $j = i+1, \\cdots, n$ do step 9-10\n",
    "9.    set $L[j, i] = U[j, i]/U[i, i]$\n",
    "10.   set $U[j] = (U[j]-L[j, i]U[i])$\n"
   ]
  },
  {
   "cell_type": "code",
   "execution_count": 101,
   "metadata": {},
   "outputs": [],
   "source": [
    "def plu(A: np.ndarray) -> np.ndarray:\n",
    "    \"\"\"\n",
    "    LU decomposition with permutation \n",
    "    @ John T. Foster, Jr\n",
    "    \"\"\"\n",
    "    n = A.shape[0]\n",
    "    U = A.copy().astype(np.float64)\n",
    "    L = np.eye(n, dtype=np.float64)\n",
    "    P = np.eye(n, dtype=np.float64)\n",
    "    for i in range(n):\n",
    "        for k in range(i, n):\n",
    "            # 1e-10 == 0.0  (false)\n",
    "            # np.isclose(1e-10, 0.0) (True)\n",
    "            if ~np.isclose(U[i, i], 0.0):\n",
    "                # if not close, no need to swap\n",
    "                break\n",
    "            U[[k, k+1]] = U[[k+1, k]]  # swap rows with list [k, k+1]\n",
    "            P[[k, k+1]] = P[[k+1, k]]\n",
    "            \n",
    "        # get the factor vector \n",
    "        factor = U[i+1:, i]/U[i, i]\n",
    "        L[i+1:, i] = factor \n",
    "        U[i+1:] -= factor[:, np.newaxis]*U[i]\n",
    "    \n",
    "    return P, L, U"
   ]
  },
  {
   "cell_type": "code",
   "execution_count": 93,
   "metadata": {},
   "outputs": [
    {
     "data": {
      "text/plain": [
       "array([[2, 5, 8, 7],\n",
       "       [5, 2, 2, 8],\n",
       "       [7, 5, 6, 6],\n",
       "       [5, 4, 4, 8]])"
      ]
     },
     "execution_count": 93,
     "metadata": {},
     "output_type": "execute_result"
    }
   ],
   "source": [
    "a2 = np.array([[2, 5, 8, 7], [5, 2, 2, 8], [7, 5, 6, 6], [5, 4, 4, 8]])\n",
    "a2"
   ]
  },
  {
   "cell_type": "code",
   "execution_count": 94,
   "metadata": {},
   "outputs": [],
   "source": [
    "p, l, u = sp.linalg.lu(a2)"
   ]
  },
  {
   "cell_type": "code",
   "execution_count": 95,
   "metadata": {},
   "outputs": [
    {
     "data": {
      "text/plain": [
       "array([[0., 1., 0., 0.],\n",
       "       [0., 0., 0., 1.],\n",
       "       [1., 0., 0., 0.],\n",
       "       [0., 0., 1., 0.]])"
      ]
     },
     "execution_count": 95,
     "metadata": {},
     "output_type": "execute_result"
    }
   ],
   "source": [
    "p"
   ]
  },
  {
   "cell_type": "code",
   "execution_count": 96,
   "metadata": {},
   "outputs": [
    {
     "data": {
      "text/plain": [
       "array([[ 1.        ,  0.        ,  0.        ,  0.        ],\n",
       "       [ 0.28571429,  1.        ,  0.        ,  0.        ],\n",
       "       [ 0.71428571,  0.12      ,  1.        ,  0.        ],\n",
       "       [ 0.71428571, -0.44      , -0.46153846,  1.        ]])"
      ]
     },
     "execution_count": 96,
     "metadata": {},
     "output_type": "execute_result"
    }
   ],
   "source": [
    "l"
   ]
  },
  {
   "cell_type": "code",
   "execution_count": 97,
   "metadata": {},
   "outputs": [
    {
     "data": {
      "text/plain": [
       "array([[ 7.        ,  5.        ,  6.        ,  6.        ],\n",
       "       [ 0.        ,  3.57142857,  6.28571429,  5.28571429],\n",
       "       [ 0.        ,  0.        , -1.04      ,  3.08      ],\n",
       "       [ 0.        ,  0.        ,  0.        ,  7.46153846]])"
      ]
     },
     "execution_count": 97,
     "metadata": {},
     "output_type": "execute_result"
    }
   ],
   "source": [
    "u"
   ]
  },
  {
   "cell_type": "code",
   "execution_count": 102,
   "metadata": {},
   "outputs": [],
   "source": [
    "p, l, u = plu(a2)"
   ]
  },
  {
   "cell_type": "code",
   "execution_count": 105,
   "metadata": {},
   "outputs": [
    {
     "data": {
      "text/plain": [
       "array([[2., 5., 8., 7.],\n",
       "       [5., 2., 2., 8.],\n",
       "       [7., 5., 6., 6.],\n",
       "       [5., 4., 4., 8.]])"
      ]
     },
     "execution_count": 105,
     "metadata": {},
     "output_type": "execute_result"
    }
   ],
   "source": [
    "p @ l @ u  # scipy uses the different algorithms "
   ]
  },
  {
   "cell_type": "markdown",
   "metadata": {},
   "source": [
    "## Forward and Backward Substitution\n",
    "\n",
    "If we have $PA = LU$ and $Ax =b$, then \n",
    "\n",
    "$$PAx = Pb  \\ \\ \\to LUx = Pb  \\ \\ \\to Ly = Pb \\ \\ (y = Ux) $$\n",
    "\n",
    "Since the diagonal entries of $L$ are all 1 , the triangular system \n",
    "$L \\mathbf{y}=\\mathbf{b}$ has the form\n",
    "\n",
    "$$\n",
    "\\left[\\begin{array}{ccccc}\n",
    "1 & 0 & 0 & \\cdots & 0 \\\\\n",
    "l_{21} & 1 & 0 & \\cdots & 0 \\\\\n",
    "l_{31} & l_{32} & 1 & \\cdots & 0 \\\\\n",
    "\\vdots & \\vdots & \\vdots & \\ddots & \\vdots \\\\\n",
    "l_{n 1} & l_{n 2} & l_{n 3} & \\cdots & 1\n",
    "\\end{array}\\right]\\left[\\begin{array}{c}\n",
    "y_1 \\\\\n",
    "y_2 \\\\\n",
    "y_3 \\\\\n",
    "\\vdots \\\\\n",
    "y_n\n",
    "\\end{array}\\right]=\\left[\\begin{array}{c}\n",
    "b_1 \\\\\n",
    "b_2 \\\\\n",
    "b_3 \\\\\n",
    "\\vdots \\\\\n",
    "b_n\n",
    "\\end{array}\\right] .\n",
    "$$\n",
    "\n",
    "\n",
    "This gives the forward substitution as th matrix multiplication yields the equations\n",
    "$$\n",
    "\\begin{array}{rlrl}\n",
    "y_1 & =b_1, & y_1 & =b_1, \\\\\n",
    "l_{21} y_1+y_2 & =b_2, & y_2 & =b_2-l_{21} y_1, \\\\\n",
    "\\vdots & \\vdots & \\vdots \\\\\n",
    "\\sum_{j=1}^{k-1} l_{k j} y_j+y_k & =b_k, & y_k & =b_k-\\sum_{j=1}^{k-1} l_{k j} y_j\n",
    "\\end{array}\n",
    "$$\n",
    "\n",
    "The triangular system $U \\mathbf{x}=\\mathbf{y}$ yields similar equations, but in reverse order:\n",
    "$$\n",
    "\\left[\\begin{array}{ccccc}\n",
    "u_{11} & u_{12} & u_{13} & \\cdots & u_{1 n} \\\\\n",
    "0 & u_{22} & u_{23} & \\cdots & u_{2 n} \\\\\n",
    "0 & 0 & u_{33} & \\cdots & u_{3 n} \\\\\n",
    "\\vdots & \\vdots & \\vdots & \\ddots & \\vdots \\\\\n",
    "0 & 0 & 0 & \\cdots & u_{n n}\n",
    "\\end{array}\\right]\\left[\\begin{array}{c}\n",
    "x_1 \\\\\n",
    "x_2 \\\\\n",
    "x_3 \\\\\n",
    "\\vdots \\\\\n",
    "x_n\n",
    "\\end{array}\\right]=\\left[\\begin{array}{c}\n",
    "y_1 \\\\\n",
    "y_2 \\\\\n",
    "y_3 \\\\\n",
    "\\vdots \\\\\n",
    "y_n\n",
    "\\end{array}\\right] \n",
    "$$ \n",
    "\n",
    "$$\n",
    "\\begin{aligned}\n",
    "u_{n,n}x_n = y_n \\quad  & x_n = \\frac{1}{u_{n, n}} y_n   \\\\ \n",
    "u_{n-1, n-1} x_{n-1}+u_{n-1, n} x_n=y_{n-1}, \\quad & x_{n-1}=\\frac{1}{u_{n-1, n-1}}\\left(y_{n-1}-u_{n-1, n} x_n\\right),  \\\\\n",
    "\\vdots \\quad & \\vdots \\\\\n",
    "\\sum_{j=k}^n u_{k j} x_j=y_k, \\quad &  x_k=\\frac{1}{u_{k k}}\\left(y_k-\\sum_{j=k+1}^n u_{k j} x_j\\right) \n",
    "\\end{aligned}\n",
    "$$"
   ]
  },
  {
   "cell_type": "code",
   "execution_count": null,
   "metadata": {},
   "outputs": [],
   "source": []
  }
 ],
 "metadata": {
  "kernelspec": {
   "display_name": "Python 3.9.5 ('myvenv': venv)",
   "language": "python",
   "name": "python3"
  },
  "language_info": {
   "codemirror_mode": {
    "name": "ipython",
    "version": 3
   },
   "file_extension": ".py",
   "mimetype": "text/x-python",
   "name": "python",
   "nbconvert_exporter": "python",
   "pygments_lexer": "ipython3",
   "version": "3.9.5"
  },
  "orig_nbformat": 4,
  "vscode": {
   "interpreter": {
    "hash": "2fe189d182e892b13e31889708ff6fa1238858c117c3508e6a10c00d2dc805a3"
   }
  }
 },
 "nbformat": 4,
 "nbformat_minor": 2
}
