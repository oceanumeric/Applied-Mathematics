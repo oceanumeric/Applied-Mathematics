{
 "cells": [
  {
   "cell_type": "markdown",
   "metadata": {},
   "source": [
    "# Linear Systems \n",
    "\n",
    "In this post, we will learn how to solve linear systems such as\n",
    "\n",
    "$$Ax = b $$"
   ]
  },
  {
   "cell_type": "code",
   "execution_count": 1,
   "metadata": {},
   "outputs": [],
   "source": [
    "import numpy as np "
   ]
  },
  {
   "cell_type": "code",
   "execution_count": 7,
   "metadata": {},
   "outputs": [],
   "source": [
    "A = np.array(\n",
    "    [\n",
    "        [1, 1, 1, 1],\n",
    "        [1, 4, 2, 3],\n",
    "        [4, 7, 8, 9]\n",
    "    ],\n",
    "    dtype=np.float32\n",
    ")"
   ]
  },
  {
   "cell_type": "code",
   "execution_count": 9,
   "metadata": {},
   "outputs": [
    {
     "data": {
      "text/plain": [
       "array([[1., 1., 1., 1.],\n",
       "       [0., 3., 1., 2.],\n",
       "       [0., 0., 3., 3.]], dtype=float32)"
      ]
     },
     "execution_count": 9,
     "metadata": {},
     "output_type": "execute_result"
    }
   ],
   "source": [
    "A[1, 0:] -= (A[1, 0]/A[0, 0])*A[0]  # Gaussian elimination\n",
    "A[2, 0:] -= (A[2, 0]/A[0, 0])*A[0]\n",
    "A[2, 1:] -= (A[2, 1]/A[1, 1])*A[1, 1:]\n",
    "A"
   ]
  },
  {
   "cell_type": "markdown",
   "metadata": {},
   "source": [
    "## Round-off Error\n",
    "\n",
    "Gaussian elimination is not always numerically stable. In other words, \n",
    "it is susceptible to rounding error that may result in an incorrect final matrix. \n",
    "Suppose that, due to round-off error, the matrix A has a very small entry \n",
    "on the diagonal.\n",
    "\n",
    "$$A = \\begin{bmatrix} 10^{-15} & 1 \\\\ -1 & 0 \\end{bmatrix}$$\n",
    "\n",
    "Though $10^{-15}$ is essentially zero, instead of swapping the first and \n",
    "second rows to put $A$ in REF, a computer might multiply the first row by\n",
    "$10^{-15}$, then we will have \n",
    "\n",
    "$$\n",
    "A = \\begin{bmatrix} 10^{-15} & 1 \\\\ -1 & 0 \\end{bmatrix} \\to\n",
    "\\begin{bmatrix} 10^{-15} & 1 \\\\ 0 & 10^{15}\\end{bmatrix}\n",
    "$$\n",
    "\n",
    "Round-off error can propagate through many steps in a calculation. \n",
    "The NumPy routines that employ row reduction use several tricks to \n",
    "minimize the impact of round-off error, but these tricks cannot fix every matrix."
   ]
  },
  {
   "cell_type": "markdown",
   "metadata": {},
   "source": [
    "we will perform a series of steps called row operations which preserve the solution of the system while gradually making the solution more accessible. There are three such operations we may perform.\n",
    "\n",
    "1. Exchange the position of two equations.\n",
    "\n",
    "2. Multiply an equation by any nonzero number.\n",
    "\n",
    "3. Replace any equation with the sum of itself and a multiple of another equation.\n",
    "\n"
   ]
  },
  {
   "cell_type": "code",
   "execution_count": 29,
   "metadata": {},
   "outputs": [],
   "source": [
    "def row_operation(A:np.ndarray) -> np.ndarray:\n",
    "    \"\"\"\n",
    "    Rwo operation on n matrix A that is invertible and no zeros \n",
    "    in the diagonal (this means that A[0, 0] is not 0 for sure, A[1, 1])\n",
    "    \"\"\"\n",
    "    n = A.shape[0]  # A is a square matrix \n",
    "    for i in range(n):\n",
    "        # scale the ith row into the unit one\n",
    "        A[i, i:] = A[i, i:]/A[i, i]\n",
    "        # loop over all row elements of column i \n",
    "        # start from i+1 to n \n",
    "        for j in range(i+1, n):\n",
    "            # initialize the elementary matrix\n",
    "            mat = np.eye(n)  \n",
    "            scalar = -A[j, i]\n",
    "            mat[j, i] = scalar\n",
    "            # implement elementary matrix elimination \n",
    "            A = mat @ A \n",
    "            \n",
    "    return A"
   ]
  },
  {
   "cell_type": "code",
   "execution_count": 30,
   "metadata": {},
   "outputs": [
    {
     "data": {
      "text/plain": [
       "array([[1.        , 1.        , 1.        ],\n",
       "       [0.        , 1.        , 0.33333333],\n",
       "       [0.        , 0.        , 1.        ]])"
      ]
     },
     "execution_count": 30,
     "metadata": {},
     "output_type": "execute_result"
    }
   ],
   "source": [
    "a1 = np.array(\n",
    "    [\n",
    "        [1, 1, 1],\n",
    "        [1, 4, 2],\n",
    "        [4, 7, 8]\n",
    "    ],\n",
    "    dtype=np.float32\n",
    ")\n",
    "row_operation(a1)"
   ]
  },
  {
   "cell_type": "code",
   "execution_count": 31,
   "metadata": {},
   "outputs": [
    {
     "data": {
      "text/plain": [
       "array([[1.        , 0.        , 0.        , 0.        ],\n",
       "       [0.        , 1.        , 0.5       , 1.25      ],\n",
       "       [0.        , 0.        , 1.        , 1.21428571],\n",
       "       [0.        , 0.        , 0.        , 1.        ]])"
      ]
     },
     "execution_count": 31,
     "metadata": {},
     "output_type": "execute_result"
    }
   ],
   "source": [
    "fooa = np.random.randint(10, size=(4, 4))\n",
    "row_operation(fooa)"
   ]
  },
  {
   "cell_type": "code",
   "execution_count": null,
   "metadata": {},
   "outputs": [],
   "source": []
  }
 ],
 "metadata": {
  "kernelspec": {
   "display_name": "Python 3.9.5 ('myvenv': venv)",
   "language": "python",
   "name": "python3"
  },
  "language_info": {
   "codemirror_mode": {
    "name": "ipython",
    "version": 3
   },
   "file_extension": ".py",
   "mimetype": "text/x-python",
   "name": "python",
   "nbconvert_exporter": "python",
   "pygments_lexer": "ipython3",
   "version": "3.9.5"
  },
  "orig_nbformat": 4,
  "vscode": {
   "interpreter": {
    "hash": "2fe189d182e892b13e31889708ff6fa1238858c117c3508e6a10c00d2dc805a3"
   }
  }
 },
 "nbformat": 4,
 "nbformat_minor": 2
}
