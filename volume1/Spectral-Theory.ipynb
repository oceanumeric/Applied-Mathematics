{
 "cells": [
  {
   "attachments": {},
   "cell_type": "markdown",
   "metadata": {},
   "source": [
    "# Spectral Theory \n",
    "\n",
    "Spectral theory describes how to decouple the domain of a linear operator into \n",
    "a direct sum of minimal components upon which the operator is invariant. \n",
    "Choosing a basis that respects this direct sum results in a corresponding \n",
    "block-diagonal matrix representation. This has powerful consequences in \n",
    "applications, as it allows many problems to be reduced to a series of \n",
    "small individual parts that can be solved independently and more easily. \n",
    "The key tools for constructing this decomposition are eigenvalues and \n",
    "eigenvectors, which are widely used in many areas of science and engineering \n",
    "and have many important physical interpretations and applications.\n",
    "\n",
    "Most finite-dimensional linear operators have eigenvectors that span the \n",
    "space (hereafter called an eigenbasis) where the corresponding matrix \n",
    "representation is diagonal. In other words, a change of basis to the \n",
    "eigenbasis shows that such a matrix operator is similar to a diagonal matrix. \n",
    "That said, not all matrices can be diagonalized, and some can only be made \n",
    "block diagonal. In the first sections of this chapter, we develop this \n",
    "theory and expound on when a matrix can be diagonalized and when we \n",
    "must settle for block diagonalization."
   ]
  },
  {
   "attachments": {},
   "cell_type": "markdown",
   "metadata": {},
   "source": [
    "## Eigenvalues and Eigenvectors \n",
    "\n",
    "\n",
    "Let $L: V \\to V$ be a linear operator on a finite-dimensional vector space\n",
    "$V$ over $\\mathbb{C}$. A scalar $\\lambda \\in \\mathbb{C}$ is an eigenvalue of \n",
    "$L$ if there exists a nonzero $x \\in V$ such that \n",
    "\n",
    "$$L(x)  = \\lambda x $$\n",
    "\n",
    "Any nonzero $x$ satisfying the above equation is called an eigenvector of \n",
    "$L$ corresponding to the eigenvalue $\\lambda$. For each scalar $\\lambda$, \n",
    "we define the $\\lambda$-eigenspace of $L$ as \n",
    "\n",
    "$$\\sum_{\\lambda} (L) = \\{ x \\in V | L(x) = \\lambda x \\} $$\n",
    "\n",
    "The set of all eigenvalues of $L$, denoted $\\sigma(L)$, is called the spectrum \n",
    "of $L$. \n",
    "\n",
    "Let $A \\in M_n(\\mathbb{F})$ and $\\lambda \\mathbb{C}$. The following are \n",
    "equivalent:\n",
    "\n",
    "- $\\lambda$ is an eigenvalue of $A$ \n",
    "- There is a nonzero $x$ such that $(\\lambda I - A)x = 0$ \n",
    "- $\\lambda I - A$ is singular \n",
    "- det($\\lambda I - A$) = 0"
   ]
  },
  {
   "attachments": {},
   "cell_type": "markdown",
   "metadata": {},
   "source": [
    "Let $A \\in M_n(\\mathbb{F})$. The polynomial \n",
    "\n",
    "$$p_A(z) = \\text{det} (zI - A)$$\n",
    "\n",
    "is called the characteristic polynomial of $A$. "
   ]
  },
  {
   "attachments": {},
   "cell_type": "markdown",
   "metadata": {},
   "source": [
    "A square matrix $A$ is said to be similar to another square matrix $B$ if and \n",
    "only if there exists an invertible matrix $P$ such that \n",
    "\n",
    "$$B = P^{-1} A P$$\n",
    "\n",
    "The matrix $P$ is called change-of-basis matrix. \n",
    "\n",
    "If $A, B \\in M_n(\\mathbb{F})$ are similar matrices, that is, $B = P^{-1}AP$\n",
    "for some nonsingular matrix $P$, then the following hold:\n",
    "\n",
    "- $A$ and $B$ have the same characteristic polynomials\n",
    "- $A$ and $B$ have the same eigenvalues "
   ]
  },
  {
   "attachments": {},
   "cell_type": "markdown",
   "metadata": {},
   "source": [
    "An operator $L$ on a finite-dimensional vector space is called\n",
    "\n",
    "- simple if all of its eigenvalues are distinct\n",
    "- semisimple if there exists an eigenbasis of $L$\n",
    "\n",
    "The matrix $A$ is diagonalizable if it is similar to a diagonal matrix;\n",
    "that is, there exists a nonsingular matrix $P$ and a diagonal matrix $D$ \n",
    "such that \n",
    "\n",
    "$$D = P^{-1}AP$$\n",
    "\n",
    "A matrix is diagonalizable if and only if it is semisimple. "
   ]
  },
  {
   "attachments": {},
   "cell_type": "markdown",
   "metadata": {},
   "source": [
    "## Schur's Lemma \n",
    "\n",
    "\n",
    "Schur's lemma states that any square matrix can be transformed via similarity \n",
    "to an upper-triangular matrix and that the similarity transform can be \n",
    "performed with an orthonormal matrix. At first glance, this may seem unimportant, \n",
    "but Schur's lemma is quite powerful, both theoretically and computationally.\n",
    "\n",
    "Every matrix $A \\in M_n(\\mathbb{C})$ is orthonormally similar to an upper-triangular \n",
    "matrix. "
   ]
  },
  {
   "attachments": {},
   "cell_type": "markdown",
   "metadata": {},
   "source": [
    "## Least Squares and Computing Eigenvalues\n",
    "\n",
    "A linear system $Ax = b$ is overdetermined if it has more equations than\n",
    "unknown. In this situation, there is no true solution, and $x$ can only\n",
    "be approximated. \n",
    "\n",
    "The least squares solution $Ax = b$, denoted $\\hat{x}$, is the \"closest\" \n",
    "vector to a solution, meaning it minimizes the quantity $$||A \\hat{x} - b||_2$$"
   ]
  },
  {
   "attachments": {},
   "cell_type": "markdown",
   "metadata": {},
   "source": [
    "If $A$ is full rank (which it usually is in application) its QR decomposition provides an \n",
    "efficient way to solve the normal equations. Let $A = QR$ be the reduced QR decomposition of\n",
    "$A$, so $Q$ is $m \\times n$ with orthonormal columns and $R$ is an $n \\times n$ \n",
    "invertible, and upper triangular. Therefore, we could have\n",
    "\n",
    "\\begin{aligned}\n",
    "A^T A \\hat{x}  & = A^T b \\\\ \n",
    "(QR)^T(QR)\\hat{x} &  = (QR)^T b \\\\\n",
    "R^TR \\hat{x} & = R^T Q^T b \\\\ \n",
    "R \\hat{x} & = Q^T b\n",
    "\\end{aligned}\n",
    "\n",
    "Thus $\\hat{x}$ is the least squares solution to $Ax = b$ if and only if\n",
    "$R\\hat{x}= Q^Tb$. "
   ]
  },
  {
   "cell_type": "code",
   "execution_count": 32,
   "metadata": {
    "vscode": {
     "languageId": "python"
    }
   },
   "outputs": [
    {
     "name": "stdout",
     "output_type": "stream",
     "text": [
      "env: XLA_PYTHON_CLIENT_MEM_FRACTION=0.3\n"
     ]
    }
   ],
   "source": [
    "import time\n",
    "import cmath\n",
    "import numpy as np\n",
    "import scipy as sp\n",
    "import jax.numpy as jnp\n",
    "import jax.scipy as jsp\n",
    "import pandas as pd\n",
    "import matplotlib.pyplot as plt \n",
    "import matplotlib as mpl\n",
    "from jax import random\n",
    "mpl.rcParams['text.usetex'] = True\n",
    "mpl.rcParams['text.latex.preamble'] = r'\\usepackage{{amsmath}}'\n",
    "%config InlineBackend.figure_formats = ['svg']\n",
    "%env XLA_PYTHON_CLIENT_MEM_FRACTION=0.3"
   ]
  },
  {
   "cell_type": "code",
   "execution_count": 4,
   "metadata": {
    "vscode": {
     "languageId": "python"
    }
   },
   "outputs": [
    {
     "data": {
      "text/html": [
       "<div>\n",
       "<style scoped>\n",
       "    .dataframe tbody tr th:only-of-type {\n",
       "        vertical-align: middle;\n",
       "    }\n",
       "\n",
       "    .dataframe tbody tr th {\n",
       "        vertical-align: top;\n",
       "    }\n",
       "\n",
       "    .dataframe thead th {\n",
       "        text-align: right;\n",
       "    }\n",
       "</style>\n",
       "<table border=\"1\" class=\"dataframe\">\n",
       "  <thead>\n",
       "    <tr style=\"text-align: right;\">\n",
       "      <th></th>\n",
       "      <th>lcavol</th>\n",
       "      <th>lweight</th>\n",
       "      <th>age</th>\n",
       "      <th>lbph</th>\n",
       "      <th>svi</th>\n",
       "      <th>lcp</th>\n",
       "      <th>gleason</th>\n",
       "      <th>pgg45</th>\n",
       "      <th>lpsa</th>\n",
       "      <th>train</th>\n",
       "    </tr>\n",
       "  </thead>\n",
       "  <tbody>\n",
       "    <tr>\n",
       "      <th>0</th>\n",
       "      <td>-0.579818</td>\n",
       "      <td>2.769459</td>\n",
       "      <td>50</td>\n",
       "      <td>-1.386294</td>\n",
       "      <td>0</td>\n",
       "      <td>-1.386294</td>\n",
       "      <td>6</td>\n",
       "      <td>0</td>\n",
       "      <td>-0.430783</td>\n",
       "      <td>T</td>\n",
       "    </tr>\n",
       "    <tr>\n",
       "      <th>1</th>\n",
       "      <td>-0.994252</td>\n",
       "      <td>3.319626</td>\n",
       "      <td>58</td>\n",
       "      <td>-1.386294</td>\n",
       "      <td>0</td>\n",
       "      <td>-1.386294</td>\n",
       "      <td>6</td>\n",
       "      <td>0</td>\n",
       "      <td>-0.162519</td>\n",
       "      <td>T</td>\n",
       "    </tr>\n",
       "    <tr>\n",
       "      <th>2</th>\n",
       "      <td>-0.510826</td>\n",
       "      <td>2.691243</td>\n",
       "      <td>74</td>\n",
       "      <td>-1.386294</td>\n",
       "      <td>0</td>\n",
       "      <td>-1.386294</td>\n",
       "      <td>7</td>\n",
       "      <td>20</td>\n",
       "      <td>-0.162519</td>\n",
       "      <td>T</td>\n",
       "    </tr>\n",
       "    <tr>\n",
       "      <th>3</th>\n",
       "      <td>-1.203973</td>\n",
       "      <td>3.282789</td>\n",
       "      <td>58</td>\n",
       "      <td>-1.386294</td>\n",
       "      <td>0</td>\n",
       "      <td>-1.386294</td>\n",
       "      <td>6</td>\n",
       "      <td>0</td>\n",
       "      <td>-0.162519</td>\n",
       "      <td>T</td>\n",
       "    </tr>\n",
       "    <tr>\n",
       "      <th>4</th>\n",
       "      <td>0.751416</td>\n",
       "      <td>3.432373</td>\n",
       "      <td>62</td>\n",
       "      <td>-1.386294</td>\n",
       "      <td>0</td>\n",
       "      <td>-1.386294</td>\n",
       "      <td>6</td>\n",
       "      <td>0</td>\n",
       "      <td>0.371564</td>\n",
       "      <td>T</td>\n",
       "    </tr>\n",
       "  </tbody>\n",
       "</table>\n",
       "</div>"
      ],
      "text/plain": [
       "     lcavol   lweight  age      lbph  svi       lcp  gleason  pgg45      lpsa  \\\n",
       "0 -0.579818  2.769459   50 -1.386294    0 -1.386294        6      0 -0.430783   \n",
       "1 -0.994252  3.319626   58 -1.386294    0 -1.386294        6      0 -0.162519   \n",
       "2 -0.510826  2.691243   74 -1.386294    0 -1.386294        7     20 -0.162519   \n",
       "3 -1.203973  3.282789   58 -1.386294    0 -1.386294        6      0 -0.162519   \n",
       "4  0.751416  3.432373   62 -1.386294    0 -1.386294        6      0  0.371564   \n",
       "\n",
       "  train  \n",
       "0     T  \n",
       "1     T  \n",
       "2     T  \n",
       "3     T  \n",
       "4     T  "
      ]
     },
     "execution_count": 4,
     "metadata": {},
     "output_type": "execute_result"
    }
   ],
   "source": [
    "# load the dataset \n",
    "url = \"https://hastie.su.domains/ElemStatLearn/datasets/prostate.data\"\n",
    "data = pd.read_csv(url, delimiter=\"\\t\").iloc[:, 1:]\n",
    "data.head()"
   ]
  },
  {
   "cell_type": "code",
   "execution_count": 5,
   "metadata": {
    "vscode": {
     "languageId": "python"
    }
   },
   "outputs": [
    {
     "data": {
      "text/html": [
       "<div>\n",
       "<style scoped>\n",
       "    .dataframe tbody tr th:only-of-type {\n",
       "        vertical-align: middle;\n",
       "    }\n",
       "\n",
       "    .dataframe tbody tr th {\n",
       "        vertical-align: top;\n",
       "    }\n",
       "\n",
       "    .dataframe thead th {\n",
       "        text-align: right;\n",
       "    }\n",
       "</style>\n",
       "<table border=\"1\" class=\"dataframe\">\n",
       "  <thead>\n",
       "    <tr style=\"text-align: right;\">\n",
       "      <th></th>\n",
       "      <th>lcavol</th>\n",
       "      <th>lweight</th>\n",
       "      <th>age</th>\n",
       "      <th>lbph</th>\n",
       "      <th>svi</th>\n",
       "      <th>lcp</th>\n",
       "      <th>gleason</th>\n",
       "      <th>pgg45</th>\n",
       "    </tr>\n",
       "  </thead>\n",
       "  <tbody>\n",
       "    <tr>\n",
       "      <th>0</th>\n",
       "      <td>-0.579818</td>\n",
       "      <td>2.769459</td>\n",
       "      <td>50</td>\n",
       "      <td>-1.386294</td>\n",
       "      <td>0</td>\n",
       "      <td>-1.386294</td>\n",
       "      <td>6</td>\n",
       "      <td>0</td>\n",
       "    </tr>\n",
       "    <tr>\n",
       "      <th>1</th>\n",
       "      <td>-0.994252</td>\n",
       "      <td>3.319626</td>\n",
       "      <td>58</td>\n",
       "      <td>-1.386294</td>\n",
       "      <td>0</td>\n",
       "      <td>-1.386294</td>\n",
       "      <td>6</td>\n",
       "      <td>0</td>\n",
       "    </tr>\n",
       "    <tr>\n",
       "      <th>2</th>\n",
       "      <td>-0.510826</td>\n",
       "      <td>2.691243</td>\n",
       "      <td>74</td>\n",
       "      <td>-1.386294</td>\n",
       "      <td>0</td>\n",
       "      <td>-1.386294</td>\n",
       "      <td>7</td>\n",
       "      <td>20</td>\n",
       "    </tr>\n",
       "    <tr>\n",
       "      <th>3</th>\n",
       "      <td>-1.203973</td>\n",
       "      <td>3.282789</td>\n",
       "      <td>58</td>\n",
       "      <td>-1.386294</td>\n",
       "      <td>0</td>\n",
       "      <td>-1.386294</td>\n",
       "      <td>6</td>\n",
       "      <td>0</td>\n",
       "    </tr>\n",
       "    <tr>\n",
       "      <th>4</th>\n",
       "      <td>0.751416</td>\n",
       "      <td>3.432373</td>\n",
       "      <td>62</td>\n",
       "      <td>-1.386294</td>\n",
       "      <td>0</td>\n",
       "      <td>-1.386294</td>\n",
       "      <td>6</td>\n",
       "      <td>0</td>\n",
       "    </tr>\n",
       "  </tbody>\n",
       "</table>\n",
       "</div>"
      ],
      "text/plain": [
       "     lcavol   lweight  age      lbph  svi       lcp  gleason  pgg45\n",
       "0 -0.579818  2.769459   50 -1.386294    0 -1.386294        6      0\n",
       "1 -0.994252  3.319626   58 -1.386294    0 -1.386294        6      0\n",
       "2 -0.510826  2.691243   74 -1.386294    0 -1.386294        7     20\n",
       "3 -1.203973  3.282789   58 -1.386294    0 -1.386294        6      0\n",
       "4  0.751416  3.432373   62 -1.386294    0 -1.386294        6      0"
      ]
     },
     "execution_count": 5,
     "metadata": {},
     "output_type": "execute_result"
    }
   ],
   "source": [
    "X = data[data.columns[:-2]]  # \n",
    "X.head()"
   ]
  },
  {
   "cell_type": "code",
   "execution_count": 6,
   "metadata": {
    "vscode": {
     "languageId": "python"
    }
   },
   "outputs": [
    {
     "data": {
      "text/plain": [
       "0   -0.430783\n",
       "1   -0.162519\n",
       "2   -0.162519\n",
       "3   -0.162519\n",
       "4    0.371564\n",
       "Name: lpsa, dtype: float64"
      ]
     },
     "execution_count": 6,
     "metadata": {},
     "output_type": "execute_result"
    }
   ],
   "source": [
    "y = data['lpsa']\n",
    "y.head()"
   ]
  },
  {
   "cell_type": "code",
   "execution_count": 10,
   "metadata": {
    "vscode": {
     "languageId": "python"
    }
   },
   "outputs": [],
   "source": [
    "Q, R = jnp.linalg.qr(X.values)"
   ]
  },
  {
   "cell_type": "code",
   "execution_count": 19,
   "metadata": {
    "vscode": {
     "languageId": "python"
    }
   },
   "outputs": [],
   "source": [
    "# solve triangular \n",
    "coef = jsp.linalg.solve_triangular(R, Q.T@y)"
   ]
  },
  {
   "cell_type": "code",
   "execution_count": 22,
   "metadata": {
    "vscode": {
     "languageId": "python"
    }
   },
   "outputs": [
    {
     "data": {
      "text/plain": [
       "DeviceArray([ 0.5616064 ,  0.6363374 , -0.02075108,  0.09389459,\n",
       "              0.76359177, -0.10662314,  0.06518073,  0.00417305],            dtype=float32)"
      ]
     },
     "execution_count": 22,
     "metadata": {},
     "output_type": "execute_result"
    }
   ],
   "source": [
    "coef"
   ]
  },
  {
   "cell_type": "code",
   "execution_count": 36,
   "metadata": {
    "vscode": {
     "languageId": "python"
    }
   },
   "outputs": [],
   "source": [
    "def fit_least_squares(A, b):\n",
    "    Q, R = jnp.linalg.qr(A)\n",
    "    coef = jsp.linalg.solve_triangular(R, Q.T @ b)\n",
    "    \n",
    "    return coef"
   ]
  },
  {
   "cell_type": "code",
   "execution_count": 23,
   "metadata": {
    "vscode": {
     "languageId": "python"
    }
   },
   "outputs": [],
   "source": [
    "data = np.load(\"../data/housing.npy\")"
   ]
  },
  {
   "cell_type": "code",
   "execution_count": 24,
   "metadata": {
    "vscode": {
     "languageId": "python"
    }
   },
   "outputs": [
    {
     "data": {
      "image/svg+xml": "<?xml version=\"1.0\" encoding=\"utf-8\" standalone=\"no\"?>\n<!DOCTYPE svg PUBLIC \"-//W3C//DTD SVG 1.1//EN\"\n  \"http://www.w3.org/Graphics/SVG/1.1/DTD/svg11.dtd\">\n<svg xmlns:xlink=\"http://www.w3.org/1999/xlink\" width=\"393.464006pt\" height=\"296.367677pt\" viewBox=\"0 0 393.464006 296.367677\" xmlns=\"http://www.w3.org/2000/svg\" version=\"1.1\">\n <metadata>\n  <rdf:RDF xmlns:dc=\"http://purl.org/dc/elements/1.1/\" xmlns:cc=\"http://creativecommons.org/ns#\" xmlns:rdf=\"http://www.w3.org/1999/02/22-rdf-syntax-ns#\">\n   <cc:Work>\n    <dc:type rdf:resource=\"http://purl.org/dc/dcmitype/StillImage\"/>\n    <dc:date>2022-12-27T13:36:02.549544</dc:date>\n    <dc:format>image/svg+xml</dc:format>\n    <dc:creator>\n     <cc:Agent>\n      <dc:title>Matplotlib v3.6.2, https://matplotlib.org/</dc:title>\n     </cc:Agent>\n    </dc:creator>\n   </cc:Work>\n  </rdf:RDF>\n </metadata>\n <defs>\n  <style type=\"text/css\">*{stroke-linejoin: round; stroke-linecap: butt}</style>\n </defs>\n <g id=\"figure_1\">\n  <g id=\"patch_1\">\n   <path d=\"M 0 296.367677 \nL 393.464006 296.367677 \nL 393.464006 0 \nL 0 0 \nz\n\" style=\"fill: #ffffff\"/>\n  </g>\n  <g id=\"axes_1\">\n   <g id=\"patch_2\">\n    <path d=\"M 29.144006 273.312 \nL 386.264006 273.312 \nL 386.264006 7.2 \nL 29.144006 7.2 \nz\n\" style=\"fill: #ffffff\"/>\n   </g>\n   <g id=\"matplotlib.axis_1\">\n    <g id=\"xtick_1\">\n     <g id=\"line2d_1\">\n      <defs>\n       <path id=\"ma373412b8f\" d=\"M 0 0 \nL 0 3.5 \n\" style=\"stroke: #000000; stroke-width: 0.8\"/>\n      </defs>\n      <g>\n       <use xlink:href=\"#ma373412b8f\" x=\"45.376733\" y=\"273.312\" style=\"stroke: #000000; stroke-width: 0.8\"/>\n      </g>\n     </g>\n     <g id=\"text_1\">\n      <!-- $\\mathdefault{0}$ -->\n      <g transform=\"translate(42.886065 287.230498) scale(0.1 -0.1)\">\n       <defs>\n        <path id=\"CMR17-30\" d=\"M 2688 2025 \nC 2688 2416 2682 3080 2413 3591 \nC 2176 4039 1798 4198 1466 4198 \nC 1158 4198 768 4058 525 3597 \nC 269 3118 243 2524 243 2025 \nC 243 1661 250 1106 448 619 \nC 723 -39 1216 -128 1466 -128 \nC 1760 -128 2208 -7 2470 600 \nC 2662 1042 2688 1559 2688 2025 \nz\nM 1466 -26 \nC 1056 -26 813 325 723 812 \nC 653 1188 653 1738 653 2096 \nC 653 2588 653 2997 736 3387 \nC 858 3929 1216 4096 1466 4096 \nC 1728 4096 2067 3923 2189 3400 \nC 2272 3036 2278 2607 2278 2096 \nC 2278 1680 2278 1169 2202 792 \nC 2067 95 1690 -26 1466 -26 \nz\n\" transform=\"scale(0.015625)\"/>\n       </defs>\n       <use xlink:href=\"#CMR17-30\" transform=\"scale(0.996264)\"/>\n      </g>\n     </g>\n    </g>\n    <g id=\"xtick_2\">\n     <g id=\"line2d_2\">\n      <g>\n       <use xlink:href=\"#ma373412b8f\" x=\"85.958551\" y=\"273.312\" style=\"stroke: #000000; stroke-width: 0.8\"/>\n      </g>\n     </g>\n     <g id=\"text_2\">\n      <!-- $\\mathdefault{2}$ -->\n      <g transform=\"translate(83.467884 287.230498) scale(0.1 -0.1)\">\n       <defs>\n        <path id=\"CMR17-32\" d=\"M 2669 989 \nL 2554 989 \nC 2490 536 2438 459 2413 420 \nC 2381 369 1920 369 1830 369 \nL 602 369 \nC 832 619 1280 1072 1824 1597 \nC 2214 1967 2669 2402 2669 3035 \nC 2669 3790 2067 4224 1395 4224 \nC 691 4224 262 3604 262 3030 \nC 262 2780 448 2748 525 2748 \nC 589 2748 781 2787 781 3010 \nC 781 3207 614 3264 525 3264 \nC 486 3264 448 3258 422 3245 \nC 544 3790 915 4058 1306 4058 \nC 1862 4058 2227 3617 2227 3035 \nC 2227 2479 1901 2000 1536 1584 \nL 262 146 \nL 262 0 \nL 2515 0 \nL 2669 989 \nz\n\" transform=\"scale(0.015625)\"/>\n       </defs>\n       <use xlink:href=\"#CMR17-32\" transform=\"scale(0.996264)\"/>\n      </g>\n     </g>\n    </g>\n    <g id=\"xtick_3\">\n     <g id=\"line2d_3\">\n      <g>\n       <use xlink:href=\"#ma373412b8f\" x=\"126.540369\" y=\"273.312\" style=\"stroke: #000000; stroke-width: 0.8\"/>\n      </g>\n     </g>\n     <g id=\"text_3\">\n      <!-- $\\mathdefault{4}$ -->\n      <g transform=\"translate(124.049702 287.230498) scale(0.1 -0.1)\">\n       <defs>\n        <path id=\"CMR17-34\" d=\"M 2150 4122 \nC 2150 4256 2144 4256 2029 4256 \nL 128 1254 \nL 128 1088 \nL 1779 1088 \nL 1779 457 \nC 1779 224 1766 160 1318 160 \nL 1197 160 \nL 1197 0 \nC 1402 0 1747 0 1965 0 \nC 2182 0 2528 0 2733 0 \nL 2733 160 \nL 2611 160 \nC 2163 160 2150 224 2150 457 \nL 2150 1088 \nL 2803 1088 \nL 2803 1254 \nL 2150 1254 \nL 2150 4122 \nz\nM 1798 3703 \nL 1798 1254 \nL 256 1254 \nL 1798 3703 \nz\n\" transform=\"scale(0.015625)\"/>\n       </defs>\n       <use xlink:href=\"#CMR17-34\" transform=\"scale(0.996264)\"/>\n      </g>\n     </g>\n    </g>\n    <g id=\"xtick_4\">\n     <g id=\"line2d_4\">\n      <g>\n       <use xlink:href=\"#ma373412b8f\" x=\"167.122188\" y=\"273.312\" style=\"stroke: #000000; stroke-width: 0.8\"/>\n      </g>\n     </g>\n     <g id=\"text_4\">\n      <!-- $\\mathdefault{6}$ -->\n      <g transform=\"translate(164.63152 287.230498) scale(0.1 -0.1)\">\n       <defs>\n        <path id=\"CMR17-36\" d=\"M 678 2176 \nC 678 3690 1395 4032 1811 4032 \nC 1946 4032 2272 4009 2400 3776 \nC 2298 3776 2106 3776 2106 3553 \nC 2106 3381 2246 3323 2336 3323 \nC 2394 3323 2566 3348 2566 3560 \nC 2566 3954 2246 4179 1805 4179 \nC 1043 4179 243 3390 243 1984 \nC 243 253 966 -128 1478 -128 \nC 2099 -128 2688 427 2688 1283 \nC 2688 2081 2170 2662 1517 2662 \nC 1126 2662 838 2407 678 1960 \nL 678 2176 \nz\nM 1478 25 \nC 691 25 691 1200 691 1436 \nC 691 1896 909 2560 1504 2560 \nC 1613 2560 1926 2560 2138 2120 \nC 2253 1870 2253 1609 2253 1289 \nC 2253 944 2253 690 2118 434 \nC 1978 171 1773 25 1478 25 \nz\n\" transform=\"scale(0.015625)\"/>\n       </defs>\n       <use xlink:href=\"#CMR17-36\" transform=\"scale(0.996264)\"/>\n      </g>\n     </g>\n    </g>\n    <g id=\"xtick_5\">\n     <g id=\"line2d_5\">\n      <g>\n       <use xlink:href=\"#ma373412b8f\" x=\"207.704006\" y=\"273.312\" style=\"stroke: #000000; stroke-width: 0.8\"/>\n      </g>\n     </g>\n     <g id=\"text_5\">\n      <!-- $\\mathdefault{8}$ -->\n      <g transform=\"translate(205.213338 287.230498) scale(0.1 -0.1)\">\n       <defs>\n        <path id=\"CMR17-38\" d=\"M 1741 2264 \nC 2144 2467 2554 2773 2554 3263 \nC 2554 3841 1990 4179 1472 4179 \nC 890 4179 378 3759 378 3180 \nC 378 3021 416 2747 666 2505 \nC 730 2442 998 2251 1171 2130 \nC 883 1983 211 1634 211 934 \nC 211 279 838 -128 1459 -128 \nC 2144 -128 2720 362 2720 1010 \nC 2720 1590 2330 1857 2074 2029 \nL 1741 2264 \nz\nM 902 2822 \nC 851 2854 595 3051 595 3351 \nC 595 3739 998 4032 1459 4032 \nC 1965 4032 2336 3676 2336 3262 \nC 2336 2669 1670 2331 1638 2331 \nC 1632 2331 1626 2331 1574 2370 \nL 902 2822 \nz\nM 2080 1519 \nC 2176 1449 2483 1240 2483 851 \nC 2483 381 2010 25 1472 25 \nC 890 25 448 438 448 940 \nC 448 1443 838 1862 1280 2060 \nL 2080 1519 \nz\n\" transform=\"scale(0.015625)\"/>\n       </defs>\n       <use xlink:href=\"#CMR17-38\" transform=\"scale(0.996264)\"/>\n      </g>\n     </g>\n    </g>\n    <g id=\"xtick_6\">\n     <g id=\"line2d_6\">\n      <g>\n       <use xlink:href=\"#ma373412b8f\" x=\"248.285824\" y=\"273.312\" style=\"stroke: #000000; stroke-width: 0.8\"/>\n      </g>\n     </g>\n     <g id=\"text_6\">\n      <!-- $\\mathdefault{10}$ -->\n      <g transform=\"translate(243.304489 287.230498) scale(0.1 -0.1)\">\n       <defs>\n        <path id=\"CMR17-31\" d=\"M 1702 4058 \nC 1702 4192 1696 4192 1606 4192 \nC 1357 3916 979 3827 621 3827 \nC 602 3827 570 3827 563 3808 \nC 557 3795 557 3782 557 3648 \nC 755 3648 1088 3686 1344 3839 \nL 1344 461 \nC 1344 236 1331 160 781 160 \nL 589 160 \nL 589 0 \nC 896 0 1216 0 1523 0 \nC 1830 0 2150 0 2458 0 \nL 2458 160 \nL 2266 160 \nC 1715 160 1702 230 1702 458 \nL 1702 4058 \nz\n\" transform=\"scale(0.015625)\"/>\n       </defs>\n       <use xlink:href=\"#CMR17-31\" transform=\"scale(0.996264)\"/>\n       <use xlink:href=\"#CMR17-30\" transform=\"translate(45.690477 0) scale(0.996264)\"/>\n      </g>\n     </g>\n    </g>\n    <g id=\"xtick_7\">\n     <g id=\"line2d_7\">\n      <g>\n       <use xlink:href=\"#ma373412b8f\" x=\"288.867642\" y=\"273.312\" style=\"stroke: #000000; stroke-width: 0.8\"/>\n      </g>\n     </g>\n     <g id=\"text_7\">\n      <!-- $\\mathdefault{12}$ -->\n      <g transform=\"translate(283.886307 287.230498) scale(0.1 -0.1)\">\n       <use xlink:href=\"#CMR17-31\" transform=\"scale(0.996264)\"/>\n       <use xlink:href=\"#CMR17-32\" transform=\"translate(45.690477 0) scale(0.996264)\"/>\n      </g>\n     </g>\n    </g>\n    <g id=\"xtick_8\">\n     <g id=\"line2d_8\">\n      <g>\n       <use xlink:href=\"#ma373412b8f\" x=\"329.44946\" y=\"273.312\" style=\"stroke: #000000; stroke-width: 0.8\"/>\n      </g>\n     </g>\n     <g id=\"text_8\">\n      <!-- $\\mathdefault{14}$ -->\n      <g transform=\"translate(324.468125 287.230498) scale(0.1 -0.1)\">\n       <use xlink:href=\"#CMR17-31\" transform=\"scale(0.996264)\"/>\n       <use xlink:href=\"#CMR17-34\" transform=\"translate(45.690477 0) scale(0.996264)\"/>\n      </g>\n     </g>\n    </g>\n    <g id=\"xtick_9\">\n     <g id=\"line2d_9\">\n      <g>\n       <use xlink:href=\"#ma373412b8f\" x=\"370.031278\" y=\"273.312\" style=\"stroke: #000000; stroke-width: 0.8\"/>\n      </g>\n     </g>\n     <g id=\"text_9\">\n      <!-- $\\mathdefault{16}$ -->\n      <g transform=\"translate(365.049943 287.230498) scale(0.1 -0.1)\">\n       <use xlink:href=\"#CMR17-31\" transform=\"scale(0.996264)\"/>\n       <use xlink:href=\"#CMR17-36\" transform=\"translate(45.690477 0) scale(0.996264)\"/>\n      </g>\n     </g>\n    </g>\n   </g>\n   <g id=\"matplotlib.axis_2\">\n    <g id=\"ytick_1\">\n     <g id=\"line2d_10\">\n      <defs>\n       <path id=\"mb2fff545ca\" d=\"M 0 0 \nL -3.5 0 \n\" style=\"stroke: #000000; stroke-width: 0.8\"/>\n      </defs>\n      <g>\n       <use xlink:href=\"#mb2fff545ca\" x=\"29.144006\" y=\"252.742728\" style=\"stroke: #000000; stroke-width: 0.8\"/>\n      </g>\n     </g>\n     <g id=\"text_10\">\n      <!-- $\\mathdefault{140}$ -->\n      <g transform=\"translate(7.2 256.201978) scale(0.1 -0.1)\">\n       <use xlink:href=\"#CMR17-31\" transform=\"scale(0.996264)\"/>\n       <use xlink:href=\"#CMR17-34\" transform=\"translate(45.690477 0) scale(0.996264)\"/>\n       <use xlink:href=\"#CMR17-30\" transform=\"translate(91.380954 0) scale(0.996264)\"/>\n      </g>\n     </g>\n    </g>\n    <g id=\"ytick_2\">\n     <g id=\"line2d_11\">\n      <g>\n       <use xlink:href=\"#mb2fff545ca\" x=\"29.144006\" y=\"198.772846\" style=\"stroke: #000000; stroke-width: 0.8\"/>\n      </g>\n     </g>\n     <g id=\"text_11\">\n      <!-- $\\mathdefault{160}$ -->\n      <g transform=\"translate(7.2 202.232095) scale(0.1 -0.1)\">\n       <use xlink:href=\"#CMR17-31\" transform=\"scale(0.996264)\"/>\n       <use xlink:href=\"#CMR17-36\" transform=\"translate(45.690477 0) scale(0.996264)\"/>\n       <use xlink:href=\"#CMR17-30\" transform=\"translate(91.380954 0) scale(0.996264)\"/>\n      </g>\n     </g>\n    </g>\n    <g id=\"ytick_3\">\n     <g id=\"line2d_12\">\n      <g>\n       <use xlink:href=\"#mb2fff545ca\" x=\"29.144006\" y=\"144.802963\" style=\"stroke: #000000; stroke-width: 0.8\"/>\n      </g>\n     </g>\n     <g id=\"text_12\">\n      <!-- $\\mathdefault{180}$ -->\n      <g transform=\"translate(7.2 148.262212) scale(0.1 -0.1)\">\n       <use xlink:href=\"#CMR17-31\" transform=\"scale(0.996264)\"/>\n       <use xlink:href=\"#CMR17-38\" transform=\"translate(45.690477 0) scale(0.996264)\"/>\n       <use xlink:href=\"#CMR17-30\" transform=\"translate(91.380954 0) scale(0.996264)\"/>\n      </g>\n     </g>\n    </g>\n    <g id=\"ytick_4\">\n     <g id=\"line2d_13\">\n      <g>\n       <use xlink:href=\"#mb2fff545ca\" x=\"29.144006\" y=\"90.83308\" style=\"stroke: #000000; stroke-width: 0.8\"/>\n      </g>\n     </g>\n     <g id=\"text_13\">\n      <!-- $\\mathdefault{200}$ -->\n      <g transform=\"translate(7.2 94.292329) scale(0.1 -0.1)\">\n       <use xlink:href=\"#CMR17-32\" transform=\"scale(0.996264)\"/>\n       <use xlink:href=\"#CMR17-30\" transform=\"translate(45.690477 0) scale(0.996264)\"/>\n       <use xlink:href=\"#CMR17-30\" transform=\"translate(91.380954 0) scale(0.996264)\"/>\n      </g>\n     </g>\n    </g>\n    <g id=\"ytick_5\">\n     <g id=\"line2d_14\">\n      <g>\n       <use xlink:href=\"#mb2fff545ca\" x=\"29.144006\" y=\"36.863197\" style=\"stroke: #000000; stroke-width: 0.8\"/>\n      </g>\n     </g>\n     <g id=\"text_14\">\n      <!-- $\\mathdefault{220}$ -->\n      <g transform=\"translate(7.2 40.322446) scale(0.1 -0.1)\">\n       <use xlink:href=\"#CMR17-32\" transform=\"scale(0.996264)\"/>\n       <use xlink:href=\"#CMR17-32\" transform=\"translate(45.690477 0) scale(0.996264)\"/>\n       <use xlink:href=\"#CMR17-30\" transform=\"translate(91.380954 0) scale(0.996264)\"/>\n      </g>\n     </g>\n    </g>\n   </g>\n   <g id=\"line2d_15\">\n    <path d=\"M 45.376733 261.216 \nL 55.522188 245.456794 \nL 65.667642 235.121562 \nL 75.813097 218.606777 \nL 85.958551 209.350943 \nL 96.104006 188.761432 \nL 106.24946 176.861073 \nL 116.394915 155.16518 \nL 126.540369 139.082155 \nL 136.685824 107.698668 \nL 146.831278 88.026646 \nL 156.976733 52.163659 \nL 167.122188 38.482293 \nL 177.267642 25.016808 \nL 187.413097 26.473994 \nL 197.558551 26.635904 \nL 207.704006 59.611503 \nL 217.84946 80.120058 \nL 227.994915 107.698668 \nL 238.140369 108.346307 \nL 248.285824 123.646769 \nL 258.431278 124.321392 \nL 268.576733 150.68568 \nL 278.722188 141.321905 \nL 288.867642 148.418945 \nL 299.013097 122.621341 \nL 309.158551 115.470331 \nL 319.304006 82.440763 \nL 329.44946 81.226441 \nL 339.594915 56.562204 \nL 349.740369 52.352553 \nL 359.885824 23.640576 \nL 370.031278 19.296 \n\" clip-path=\"url(#p035d876dc0)\" style=\"fill: none; stroke: #1f77b4; stroke-width: 1.5; stroke-linecap: square\"/>\n   </g>\n   <g id=\"patch_3\">\n    <path d=\"M 29.144006 273.312 \nL 29.144006 7.2 \n\" style=\"fill: none; stroke: #000000; stroke-width: 0.8; stroke-linejoin: miter; stroke-linecap: square\"/>\n   </g>\n   <g id=\"patch_4\">\n    <path d=\"M 386.264006 273.312 \nL 386.264006 7.2 \n\" style=\"fill: none; stroke: #000000; stroke-width: 0.8; stroke-linejoin: miter; stroke-linecap: square\"/>\n   </g>\n   <g id=\"patch_5\">\n    <path d=\"M 29.144006 273.312 \nL 386.264006 273.312 \n\" style=\"fill: none; stroke: #000000; stroke-width: 0.8; stroke-linejoin: miter; stroke-linecap: square\"/>\n   </g>\n   <g id=\"patch_6\">\n    <path d=\"M 29.144006 7.2 \nL 386.264006 7.2 \n\" style=\"fill: none; stroke: #000000; stroke-width: 0.8; stroke-linejoin: miter; stroke-linecap: square\"/>\n   </g>\n  </g>\n </g>\n <defs>\n  <clipPath id=\"p035d876dc0\">\n   <rect x=\"29.144006\" y=\"7.2\" width=\"357.12\" height=\"266.112\"/>\n  </clipPath>\n </defs>\n</svg>\n",
      "text/plain": [
       "<Figure size 640x480 with 1 Axes>"
      ]
     },
     "metadata": {},
     "output_type": "display_data"
    }
   ],
   "source": [
    "plt.plot(data[:, 0], data[:,1]);"
   ]
  },
  {
   "cell_type": "code",
   "execution_count": 35,
   "metadata": {
    "vscode": {
     "languageId": "python"
    }
   },
   "outputs": [],
   "source": [
    "# construct matrix X and y\n",
    "x1 = data[:, 0].reshape(-1, 1)\n",
    "y = data[:, 1].reshape(-1, 1)\n",
    "const = jnp.ones_like(x1)"
   ]
  },
  {
   "cell_type": "code",
   "execution_count": 37,
   "metadata": {
    "vscode": {
     "languageId": "python"
    }
   },
   "outputs": [],
   "source": [
    "X = jnp.hstack([const, x1])"
   ]
  },
  {
   "cell_type": "code",
   "execution_count": 39,
   "metadata": {
    "vscode": {
     "languageId": "python"
    }
   },
   "outputs": [],
   "source": [
    "coef = fit_least_squares(X, y)"
   ]
  },
  {
   "cell_type": "code",
   "execution_count": 43,
   "metadata": {
    "vscode": {
     "languageId": "python"
    }
   },
   "outputs": [
    {
     "data": {
      "text/plain": [
       "DeviceArray([[164.08096  ],\n",
       "             [  3.3747654]], dtype=float32)"
      ]
     },
     "execution_count": 43,
     "metadata": {},
     "output_type": "execute_result"
    }
   ],
   "source": [
    "coef"
   ]
  },
  {
   "cell_type": "code",
   "execution_count": 45,
   "metadata": {
    "vscode": {
     "languageId": "python"
    }
   },
   "outputs": [
    {
     "data": {
      "image/svg+xml": "<?xml version=\"1.0\" encoding=\"utf-8\" standalone=\"no\"?>\n<!DOCTYPE svg PUBLIC \"-//W3C//DTD SVG 1.1//EN\"\n  \"http://www.w3.org/Graphics/SVG/1.1/DTD/svg11.dtd\">\n<svg xmlns:xlink=\"http://www.w3.org/1999/xlink\" width=\"393.464006pt\" height=\"296.367677pt\" viewBox=\"0 0 393.464006 296.367677\" xmlns=\"http://www.w3.org/2000/svg\" version=\"1.1\">\n <metadata>\n  <rdf:RDF xmlns:dc=\"http://purl.org/dc/elements/1.1/\" xmlns:cc=\"http://creativecommons.org/ns#\" xmlns:rdf=\"http://www.w3.org/1999/02/22-rdf-syntax-ns#\">\n   <cc:Work>\n    <dc:type rdf:resource=\"http://purl.org/dc/dcmitype/StillImage\"/>\n    <dc:date>2022-12-27T13:42:33.580052</dc:date>\n    <dc:format>image/svg+xml</dc:format>\n    <dc:creator>\n     <cc:Agent>\n      <dc:title>Matplotlib v3.6.2, https://matplotlib.org/</dc:title>\n     </cc:Agent>\n    </dc:creator>\n   </cc:Work>\n  </rdf:RDF>\n </metadata>\n <defs>\n  <style type=\"text/css\">*{stroke-linejoin: round; stroke-linecap: butt}</style>\n </defs>\n <g id=\"figure_1\">\n  <g id=\"patch_1\">\n   <path d=\"M 0 296.367677 \nL 393.464006 296.367677 \nL 393.464006 0 \nL 0 0 \nz\n\" style=\"fill: #ffffff\"/>\n  </g>\n  <g id=\"axes_1\">\n   <g id=\"patch_2\">\n    <path d=\"M 29.144006 273.312 \nL 386.264006 273.312 \nL 386.264006 7.2 \nL 29.144006 7.2 \nz\n\" style=\"fill: #ffffff\"/>\n   </g>\n   <g id=\"matplotlib.axis_1\">\n    <g id=\"xtick_1\">\n     <g id=\"line2d_1\">\n      <defs>\n       <path id=\"mdf2571cecf\" d=\"M 0 0 \nL 0 3.5 \n\" style=\"stroke: #000000; stroke-width: 0.8\"/>\n      </defs>\n      <g>\n       <use xlink:href=\"#mdf2571cecf\" x=\"45.376733\" y=\"273.312\" style=\"stroke: #000000; stroke-width: 0.8\"/>\n      </g>\n     </g>\n     <g id=\"text_1\">\n      <!-- $\\mathdefault{0}$ -->\n      <g transform=\"translate(42.886065 287.230498) scale(0.1 -0.1)\">\n       <defs>\n        <path id=\"CMR17-30\" d=\"M 2688 2025 \nC 2688 2416 2682 3080 2413 3591 \nC 2176 4039 1798 4198 1466 4198 \nC 1158 4198 768 4058 525 3597 \nC 269 3118 243 2524 243 2025 \nC 243 1661 250 1106 448 619 \nC 723 -39 1216 -128 1466 -128 \nC 1760 -128 2208 -7 2470 600 \nC 2662 1042 2688 1559 2688 2025 \nz\nM 1466 -26 \nC 1056 -26 813 325 723 812 \nC 653 1188 653 1738 653 2096 \nC 653 2588 653 2997 736 3387 \nC 858 3929 1216 4096 1466 4096 \nC 1728 4096 2067 3923 2189 3400 \nC 2272 3036 2278 2607 2278 2096 \nC 2278 1680 2278 1169 2202 792 \nC 2067 95 1690 -26 1466 -26 \nz\n\" transform=\"scale(0.015625)\"/>\n       </defs>\n       <use xlink:href=\"#CMR17-30\" transform=\"scale(0.996264)\"/>\n      </g>\n     </g>\n    </g>\n    <g id=\"xtick_2\">\n     <g id=\"line2d_2\">\n      <g>\n       <use xlink:href=\"#mdf2571cecf\" x=\"85.958551\" y=\"273.312\" style=\"stroke: #000000; stroke-width: 0.8\"/>\n      </g>\n     </g>\n     <g id=\"text_2\">\n      <!-- $\\mathdefault{2}$ -->\n      <g transform=\"translate(83.467884 287.230498) scale(0.1 -0.1)\">\n       <defs>\n        <path id=\"CMR17-32\" d=\"M 2669 989 \nL 2554 989 \nC 2490 536 2438 459 2413 420 \nC 2381 369 1920 369 1830 369 \nL 602 369 \nC 832 619 1280 1072 1824 1597 \nC 2214 1967 2669 2402 2669 3035 \nC 2669 3790 2067 4224 1395 4224 \nC 691 4224 262 3604 262 3030 \nC 262 2780 448 2748 525 2748 \nC 589 2748 781 2787 781 3010 \nC 781 3207 614 3264 525 3264 \nC 486 3264 448 3258 422 3245 \nC 544 3790 915 4058 1306 4058 \nC 1862 4058 2227 3617 2227 3035 \nC 2227 2479 1901 2000 1536 1584 \nL 262 146 \nL 262 0 \nL 2515 0 \nL 2669 989 \nz\n\" transform=\"scale(0.015625)\"/>\n       </defs>\n       <use xlink:href=\"#CMR17-32\" transform=\"scale(0.996264)\"/>\n      </g>\n     </g>\n    </g>\n    <g id=\"xtick_3\">\n     <g id=\"line2d_3\">\n      <g>\n       <use xlink:href=\"#mdf2571cecf\" x=\"126.540369\" y=\"273.312\" style=\"stroke: #000000; stroke-width: 0.8\"/>\n      </g>\n     </g>\n     <g id=\"text_3\">\n      <!-- $\\mathdefault{4}$ -->\n      <g transform=\"translate(124.049702 287.230498) scale(0.1 -0.1)\">\n       <defs>\n        <path id=\"CMR17-34\" d=\"M 2150 4122 \nC 2150 4256 2144 4256 2029 4256 \nL 128 1254 \nL 128 1088 \nL 1779 1088 \nL 1779 457 \nC 1779 224 1766 160 1318 160 \nL 1197 160 \nL 1197 0 \nC 1402 0 1747 0 1965 0 \nC 2182 0 2528 0 2733 0 \nL 2733 160 \nL 2611 160 \nC 2163 160 2150 224 2150 457 \nL 2150 1088 \nL 2803 1088 \nL 2803 1254 \nL 2150 1254 \nL 2150 4122 \nz\nM 1798 3703 \nL 1798 1254 \nL 256 1254 \nL 1798 3703 \nz\n\" transform=\"scale(0.015625)\"/>\n       </defs>\n       <use xlink:href=\"#CMR17-34\" transform=\"scale(0.996264)\"/>\n      </g>\n     </g>\n    </g>\n    <g id=\"xtick_4\">\n     <g id=\"line2d_4\">\n      <g>\n       <use xlink:href=\"#mdf2571cecf\" x=\"167.122188\" y=\"273.312\" style=\"stroke: #000000; stroke-width: 0.8\"/>\n      </g>\n     </g>\n     <g id=\"text_4\">\n      <!-- $\\mathdefault{6}$ -->\n      <g transform=\"translate(164.63152 287.230498) scale(0.1 -0.1)\">\n       <defs>\n        <path id=\"CMR17-36\" d=\"M 678 2176 \nC 678 3690 1395 4032 1811 4032 \nC 1946 4032 2272 4009 2400 3776 \nC 2298 3776 2106 3776 2106 3553 \nC 2106 3381 2246 3323 2336 3323 \nC 2394 3323 2566 3348 2566 3560 \nC 2566 3954 2246 4179 1805 4179 \nC 1043 4179 243 3390 243 1984 \nC 243 253 966 -128 1478 -128 \nC 2099 -128 2688 427 2688 1283 \nC 2688 2081 2170 2662 1517 2662 \nC 1126 2662 838 2407 678 1960 \nL 678 2176 \nz\nM 1478 25 \nC 691 25 691 1200 691 1436 \nC 691 1896 909 2560 1504 2560 \nC 1613 2560 1926 2560 2138 2120 \nC 2253 1870 2253 1609 2253 1289 \nC 2253 944 2253 690 2118 434 \nC 1978 171 1773 25 1478 25 \nz\n\" transform=\"scale(0.015625)\"/>\n       </defs>\n       <use xlink:href=\"#CMR17-36\" transform=\"scale(0.996264)\"/>\n      </g>\n     </g>\n    </g>\n    <g id=\"xtick_5\">\n     <g id=\"line2d_5\">\n      <g>\n       <use xlink:href=\"#mdf2571cecf\" x=\"207.704006\" y=\"273.312\" style=\"stroke: #000000; stroke-width: 0.8\"/>\n      </g>\n     </g>\n     <g id=\"text_5\">\n      <!-- $\\mathdefault{8}$ -->\n      <g transform=\"translate(205.213338 287.230498) scale(0.1 -0.1)\">\n       <defs>\n        <path id=\"CMR17-38\" d=\"M 1741 2264 \nC 2144 2467 2554 2773 2554 3263 \nC 2554 3841 1990 4179 1472 4179 \nC 890 4179 378 3759 378 3180 \nC 378 3021 416 2747 666 2505 \nC 730 2442 998 2251 1171 2130 \nC 883 1983 211 1634 211 934 \nC 211 279 838 -128 1459 -128 \nC 2144 -128 2720 362 2720 1010 \nC 2720 1590 2330 1857 2074 2029 \nL 1741 2264 \nz\nM 902 2822 \nC 851 2854 595 3051 595 3351 \nC 595 3739 998 4032 1459 4032 \nC 1965 4032 2336 3676 2336 3262 \nC 2336 2669 1670 2331 1638 2331 \nC 1632 2331 1626 2331 1574 2370 \nL 902 2822 \nz\nM 2080 1519 \nC 2176 1449 2483 1240 2483 851 \nC 2483 381 2010 25 1472 25 \nC 890 25 448 438 448 940 \nC 448 1443 838 1862 1280 2060 \nL 2080 1519 \nz\n\" transform=\"scale(0.015625)\"/>\n       </defs>\n       <use xlink:href=\"#CMR17-38\" transform=\"scale(0.996264)\"/>\n      </g>\n     </g>\n    </g>\n    <g id=\"xtick_6\">\n     <g id=\"line2d_6\">\n      <g>\n       <use xlink:href=\"#mdf2571cecf\" x=\"248.285824\" y=\"273.312\" style=\"stroke: #000000; stroke-width: 0.8\"/>\n      </g>\n     </g>\n     <g id=\"text_6\">\n      <!-- $\\mathdefault{10}$ -->\n      <g transform=\"translate(243.304489 287.230498) scale(0.1 -0.1)\">\n       <defs>\n        <path id=\"CMR17-31\" d=\"M 1702 4058 \nC 1702 4192 1696 4192 1606 4192 \nC 1357 3916 979 3827 621 3827 \nC 602 3827 570 3827 563 3808 \nC 557 3795 557 3782 557 3648 \nC 755 3648 1088 3686 1344 3839 \nL 1344 461 \nC 1344 236 1331 160 781 160 \nL 589 160 \nL 589 0 \nC 896 0 1216 0 1523 0 \nC 1830 0 2150 0 2458 0 \nL 2458 160 \nL 2266 160 \nC 1715 160 1702 230 1702 458 \nL 1702 4058 \nz\n\" transform=\"scale(0.015625)\"/>\n       </defs>\n       <use xlink:href=\"#CMR17-31\" transform=\"scale(0.996264)\"/>\n       <use xlink:href=\"#CMR17-30\" transform=\"translate(45.690477 0) scale(0.996264)\"/>\n      </g>\n     </g>\n    </g>\n    <g id=\"xtick_7\">\n     <g id=\"line2d_7\">\n      <g>\n       <use xlink:href=\"#mdf2571cecf\" x=\"288.867642\" y=\"273.312\" style=\"stroke: #000000; stroke-width: 0.8\"/>\n      </g>\n     </g>\n     <g id=\"text_7\">\n      <!-- $\\mathdefault{12}$ -->\n      <g transform=\"translate(283.886307 287.230498) scale(0.1 -0.1)\">\n       <use xlink:href=\"#CMR17-31\" transform=\"scale(0.996264)\"/>\n       <use xlink:href=\"#CMR17-32\" transform=\"translate(45.690477 0) scale(0.996264)\"/>\n      </g>\n     </g>\n    </g>\n    <g id=\"xtick_8\">\n     <g id=\"line2d_8\">\n      <g>\n       <use xlink:href=\"#mdf2571cecf\" x=\"329.44946\" y=\"273.312\" style=\"stroke: #000000; stroke-width: 0.8\"/>\n      </g>\n     </g>\n     <g id=\"text_8\">\n      <!-- $\\mathdefault{14}$ -->\n      <g transform=\"translate(324.468125 287.230498) scale(0.1 -0.1)\">\n       <use xlink:href=\"#CMR17-31\" transform=\"scale(0.996264)\"/>\n       <use xlink:href=\"#CMR17-34\" transform=\"translate(45.690477 0) scale(0.996264)\"/>\n      </g>\n     </g>\n    </g>\n    <g id=\"xtick_9\">\n     <g id=\"line2d_9\">\n      <g>\n       <use xlink:href=\"#mdf2571cecf\" x=\"370.031278\" y=\"273.312\" style=\"stroke: #000000; stroke-width: 0.8\"/>\n      </g>\n     </g>\n     <g id=\"text_9\">\n      <!-- $\\mathdefault{16}$ -->\n      <g transform=\"translate(365.049943 287.230498) scale(0.1 -0.1)\">\n       <use xlink:href=\"#CMR17-31\" transform=\"scale(0.996264)\"/>\n       <use xlink:href=\"#CMR17-36\" transform=\"translate(45.690477 0) scale(0.996264)\"/>\n      </g>\n     </g>\n    </g>\n   </g>\n   <g id=\"matplotlib.axis_2\">\n    <g id=\"ytick_1\">\n     <g id=\"line2d_10\">\n      <defs>\n       <path id=\"md20fef2d2e\" d=\"M 0 0 \nL -3.5 0 \n\" style=\"stroke: #000000; stroke-width: 0.8\"/>\n      </defs>\n      <g>\n       <use xlink:href=\"#md20fef2d2e\" x=\"29.144006\" y=\"252.742728\" style=\"stroke: #000000; stroke-width: 0.8\"/>\n      </g>\n     </g>\n     <g id=\"text_10\">\n      <!-- $\\mathdefault{140}$ -->\n      <g transform=\"translate(7.2 256.201978) scale(0.1 -0.1)\">\n       <use xlink:href=\"#CMR17-31\" transform=\"scale(0.996264)\"/>\n       <use xlink:href=\"#CMR17-34\" transform=\"translate(45.690477 0) scale(0.996264)\"/>\n       <use xlink:href=\"#CMR17-30\" transform=\"translate(91.380954 0) scale(0.996264)\"/>\n      </g>\n     </g>\n    </g>\n    <g id=\"ytick_2\">\n     <g id=\"line2d_11\">\n      <g>\n       <use xlink:href=\"#md20fef2d2e\" x=\"29.144006\" y=\"198.772846\" style=\"stroke: #000000; stroke-width: 0.8\"/>\n      </g>\n     </g>\n     <g id=\"text_11\">\n      <!-- $\\mathdefault{160}$ -->\n      <g transform=\"translate(7.2 202.232095) scale(0.1 -0.1)\">\n       <use xlink:href=\"#CMR17-31\" transform=\"scale(0.996264)\"/>\n       <use xlink:href=\"#CMR17-36\" transform=\"translate(45.690477 0) scale(0.996264)\"/>\n       <use xlink:href=\"#CMR17-30\" transform=\"translate(91.380954 0) scale(0.996264)\"/>\n      </g>\n     </g>\n    </g>\n    <g id=\"ytick_3\">\n     <g id=\"line2d_12\">\n      <g>\n       <use xlink:href=\"#md20fef2d2e\" x=\"29.144006\" y=\"144.802963\" style=\"stroke: #000000; stroke-width: 0.8\"/>\n      </g>\n     </g>\n     <g id=\"text_12\">\n      <!-- $\\mathdefault{180}$ -->\n      <g transform=\"translate(7.2 148.262212) scale(0.1 -0.1)\">\n       <use xlink:href=\"#CMR17-31\" transform=\"scale(0.996264)\"/>\n       <use xlink:href=\"#CMR17-38\" transform=\"translate(45.690477 0) scale(0.996264)\"/>\n       <use xlink:href=\"#CMR17-30\" transform=\"translate(91.380954 0) scale(0.996264)\"/>\n      </g>\n     </g>\n    </g>\n    <g id=\"ytick_4\">\n     <g id=\"line2d_13\">\n      <g>\n       <use xlink:href=\"#md20fef2d2e\" x=\"29.144006\" y=\"90.83308\" style=\"stroke: #000000; stroke-width: 0.8\"/>\n      </g>\n     </g>\n     <g id=\"text_13\">\n      <!-- $\\mathdefault{200}$ -->\n      <g transform=\"translate(7.2 94.292329) scale(0.1 -0.1)\">\n       <use xlink:href=\"#CMR17-32\" transform=\"scale(0.996264)\"/>\n       <use xlink:href=\"#CMR17-30\" transform=\"translate(45.690477 0) scale(0.996264)\"/>\n       <use xlink:href=\"#CMR17-30\" transform=\"translate(91.380954 0) scale(0.996264)\"/>\n      </g>\n     </g>\n    </g>\n    <g id=\"ytick_5\">\n     <g id=\"line2d_14\">\n      <g>\n       <use xlink:href=\"#md20fef2d2e\" x=\"29.144006\" y=\"36.863197\" style=\"stroke: #000000; stroke-width: 0.8\"/>\n      </g>\n     </g>\n     <g id=\"text_14\">\n      <!-- $\\mathdefault{220}$ -->\n      <g transform=\"translate(7.2 40.322446) scale(0.1 -0.1)\">\n       <use xlink:href=\"#CMR17-32\" transform=\"scale(0.996264)\"/>\n       <use xlink:href=\"#CMR17-32\" transform=\"translate(45.690477 0) scale(0.996264)\"/>\n       <use xlink:href=\"#CMR17-30\" transform=\"translate(91.380954 0) scale(0.996264)\"/>\n      </g>\n     </g>\n    </g>\n   </g>\n   <g id=\"line2d_15\">\n    <path d=\"M 45.376733 261.216 \nL 55.522188 245.456794 \nL 65.667642 235.121562 \nL 75.813097 218.606777 \nL 85.958551 209.350943 \nL 96.104006 188.761432 \nL 106.24946 176.861073 \nL 116.394915 155.16518 \nL 126.540369 139.082155 \nL 136.685824 107.698668 \nL 146.831278 88.026646 \nL 156.976733 52.163659 \nL 167.122188 38.482293 \nL 177.267642 25.016808 \nL 187.413097 26.473994 \nL 197.558551 26.635904 \nL 207.704006 59.611503 \nL 217.84946 80.120058 \nL 227.994915 107.698668 \nL 238.140369 108.346307 \nL 248.285824 123.646769 \nL 258.431278 124.321392 \nL 268.576733 150.68568 \nL 278.722188 141.321905 \nL 288.867642 148.418945 \nL 299.013097 122.621341 \nL 309.158551 115.470331 \nL 319.304006 82.440763 \nL 329.44946 81.226441 \nL 339.594915 56.562204 \nL 349.740369 52.352553 \nL 359.885824 23.640576 \nL 370.031278 19.296 \n\" clip-path=\"url(#p0432c7955b)\" style=\"fill: none; stroke: #1f77b4; stroke-width: 1.5; stroke-linecap: square\"/>\n   </g>\n   <g id=\"line2d_16\">\n    <path d=\"M 45.376733 187.76039 \nL 55.522188 183.207011 \nL 65.667642 178.65359 \nL 75.813097 174.100211 \nL 85.958551 169.546831 \nL 96.104006 164.993411 \nL 106.24946 160.440031 \nL 116.394915 155.886652 \nL 126.540369 151.333272 \nL 136.685824 146.779852 \nL 146.831278 142.226472 \nL 156.976733 137.673052 \nL 167.122188 133.119672 \nL 177.267642 128.566293 \nL 187.413097 124.012913 \nL 197.558551 119.459493 \nL 207.704006 114.906113 \nL 217.84946 110.352734 \nL 227.994915 105.799313 \nL 238.140369 101.245934 \nL 248.285824 96.692554 \nL 258.431278 92.139175 \nL 268.576733 87.585754 \nL 278.722188 83.032375 \nL 288.867642 78.478954 \nL 299.013097 73.925574 \nL 309.158551 69.372195 \nL 319.304006 64.818816 \nL 329.44946 60.265395 \nL 339.594915 55.712015 \nL 349.740369 51.158595 \nL 359.885824 46.605215 \nL 370.031278 42.051836 \n\" clip-path=\"url(#p0432c7955b)\" style=\"fill: none; stroke: #ff7f0e; stroke-width: 1.5; stroke-linecap: square\"/>\n   </g>\n   <g id=\"patch_3\">\n    <path d=\"M 29.144006 273.312 \nL 29.144006 7.2 \n\" style=\"fill: none; stroke: #000000; stroke-width: 0.8; stroke-linejoin: miter; stroke-linecap: square\"/>\n   </g>\n   <g id=\"patch_4\">\n    <path d=\"M 386.264006 273.312 \nL 386.264006 7.2 \n\" style=\"fill: none; stroke: #000000; stroke-width: 0.8; stroke-linejoin: miter; stroke-linecap: square\"/>\n   </g>\n   <g id=\"patch_5\">\n    <path d=\"M 29.144006 273.312 \nL 386.264006 273.312 \n\" style=\"fill: none; stroke: #000000; stroke-width: 0.8; stroke-linejoin: miter; stroke-linecap: square\"/>\n   </g>\n   <g id=\"patch_6\">\n    <path d=\"M 29.144006 7.2 \nL 386.264006 7.2 \n\" style=\"fill: none; stroke: #000000; stroke-width: 0.8; stroke-linejoin: miter; stroke-linecap: square\"/>\n   </g>\n  </g>\n </g>\n <defs>\n  <clipPath id=\"p0432c7955b\">\n   <rect x=\"29.144006\" y=\"7.2\" width=\"357.12\" height=\"266.112\"/>\n  </clipPath>\n </defs>\n</svg>\n",
      "text/plain": [
       "<Figure size 640x480 with 1 Axes>"
      ]
     },
     "metadata": {},
     "output_type": "display_data"
    }
   ],
   "source": [
    "plt.plot(data[:, 0], data[:,1])\n",
    "plt.plot(x1, X @ coef);"
   ]
  },
  {
   "attachments": {},
   "cell_type": "markdown",
   "metadata": {},
   "source": [
    "## Fitting a Polynomial\n"
   ]
  },
  {
   "cell_type": "code",
   "execution_count": 47,
   "metadata": {
    "vscode": {
     "languageId": "python"
    }
   },
   "outputs": [
    {
     "data": {
      "text/plain": [
       "DeviceArray([[2, 1],\n",
       "             [3, 1],\n",
       "             [5, 1]], dtype=int32)"
      ]
     },
     "execution_count": 47,
     "metadata": {},
     "output_type": "execute_result"
    }
   ],
   "source": [
    "jnp.vander(jnp.array([2, 3, 5]), 2)"
   ]
  },
  {
   "cell_type": "code",
   "execution_count": 48,
   "metadata": {
    "vscode": {
     "languageId": "python"
    }
   },
   "outputs": [
    {
     "data": {
      "text/plain": [
       "DeviceArray([[ 4,  2,  1],\n",
       "             [ 9,  3,  1],\n",
       "             [25,  5,  1]], dtype=int32)"
      ]
     },
     "execution_count": 48,
     "metadata": {},
     "output_type": "execute_result"
    }
   ],
   "source": [
    "jnp.vander(jnp.array([2, 3, 5]), 3)"
   ]
  },
  {
   "cell_type": "code",
   "execution_count": 49,
   "metadata": {
    "vscode": {
     "languageId": "python"
    }
   },
   "outputs": [
    {
     "data": {
      "text/plain": [
       "poly1d([ 1, -3,  2])"
      ]
     },
     "execution_count": 49,
     "metadata": {},
     "output_type": "execute_result"
    }
   ],
   "source": [
    "np.poly1d([1, -3, 2])"
   ]
  },
  {
   "cell_type": "code",
   "execution_count": 60,
   "metadata": {
    "vscode": {
     "languageId": "python"
    }
   },
   "outputs": [],
   "source": [
    "def poly_fit(A, b, degree=2):\n",
    "    \"\"\"\n",
    "    Polynomial fit with different degrees for housing dataset \n",
    "    \"\"\"\n",
    "    a = jnp.vander(A.flatten(), degree)\n",
    "    coef = jnp.linalg.lstsq(a, b)[0]\n",
    "    \n",
    "    return coef"
   ]
  },
  {
   "cell_type": "code",
   "execution_count": 79,
   "metadata": {
    "vscode": {
     "languageId": "python"
    }
   },
   "outputs": [],
   "source": [
    "coef3 = poly_fit(x1, y, 3)\n",
    "coef6 = poly_fit(x1, y, 6)\n",
    "coef9 = poly_fit(x1, y, 9)\n",
    "coef12 = poly_fit(x1, y, 12)"
   ]
  },
  {
   "cell_type": "code",
   "execution_count": 80,
   "metadata": {
    "vscode": {
     "languageId": "python"
    }
   },
   "outputs": [
    {
     "data": {
      "image/svg+xml": "<?xml version=\"1.0\" encoding=\"utf-8\" standalone=\"no\"?>\n<!DOCTYPE svg PUBLIC \"-//W3C//DTD SVG 1.1//EN\"\n  \"http://www.w3.org/Graphics/SVG/1.1/DTD/svg11.dtd\">\n<svg xmlns:xlink=\"http://www.w3.org/1999/xlink\" width=\"426.944006pt\" height=\"418.335677pt\" viewBox=\"0 0 426.944006 418.335677\" xmlns=\"http://www.w3.org/2000/svg\" version=\"1.1\">\n <metadata>\n  <rdf:RDF xmlns:dc=\"http://purl.org/dc/elements/1.1/\" xmlns:cc=\"http://creativecommons.org/ns#\" xmlns:rdf=\"http://www.w3.org/1999/02/22-rdf-syntax-ns#\">\n   <cc:Work>\n    <dc:type rdf:resource=\"http://purl.org/dc/dcmitype/StillImage\"/>\n    <dc:date>2022-12-27T14:13:48.651121</dc:date>\n    <dc:format>image/svg+xml</dc:format>\n    <dc:creator>\n     <cc:Agent>\n      <dc:title>Matplotlib v3.6.2, https://matplotlib.org/</dc:title>\n     </cc:Agent>\n    </dc:creator>\n   </cc:Work>\n  </rdf:RDF>\n </metadata>\n <defs>\n  <style type=\"text/css\">*{stroke-linejoin: round; stroke-linecap: butt}</style>\n </defs>\n <g id=\"figure_1\">\n  <g id=\"patch_1\">\n   <path d=\"M 0 418.335677 \nL 426.944006 418.335677 \nL 426.944006 0 \nL 0 0 \nz\n\" style=\"fill: #ffffff\"/>\n  </g>\n  <g id=\"axes_1\">\n   <g id=\"patch_2\">\n    <path d=\"M 29.144006 183.6 \nL 206.68946 183.6 \nL 206.68946 7.2 \nL 29.144006 7.2 \nz\n\" style=\"fill: #ffffff\"/>\n   </g>\n   <g id=\"matplotlib.axis_1\">\n    <g id=\"xtick_1\">\n     <g id=\"line2d_1\">\n      <defs>\n       <path id=\"m4a995f5351\" d=\"M 0 0 \nL 0 3.5 \n\" style=\"stroke: #000000; stroke-width: 0.8\"/>\n      </defs>\n      <g>\n       <use xlink:href=\"#m4a995f5351\" x=\"37.214254\" y=\"183.6\" style=\"stroke: #000000; stroke-width: 0.8\"/>\n      </g>\n     </g>\n     <g id=\"text_1\">\n      <!-- $\\mathdefault{0}$ -->\n      <g transform=\"translate(34.723586 197.518498) scale(0.1 -0.1)\">\n       <defs>\n        <path id=\"CMR17-30\" d=\"M 2688 2025 \nC 2688 2416 2682 3080 2413 3591 \nC 2176 4039 1798 4198 1466 4198 \nC 1158 4198 768 4058 525 3597 \nC 269 3118 243 2524 243 2025 \nC 243 1661 250 1106 448 619 \nC 723 -39 1216 -128 1466 -128 \nC 1760 -128 2208 -7 2470 600 \nC 2662 1042 2688 1559 2688 2025 \nz\nM 1466 -26 \nC 1056 -26 813 325 723 812 \nC 653 1188 653 1738 653 2096 \nC 653 2588 653 2997 736 3387 \nC 858 3929 1216 4096 1466 4096 \nC 1728 4096 2067 3923 2189 3400 \nC 2272 3036 2278 2607 2278 2096 \nC 2278 1680 2278 1169 2202 792 \nC 2067 95 1690 -26 1466 -26 \nz\n\" transform=\"scale(0.015625)\"/>\n       </defs>\n       <use xlink:href=\"#CMR17-30\" transform=\"scale(0.996264)\"/>\n      </g>\n     </g>\n    </g>\n    <g id=\"xtick_2\">\n     <g id=\"line2d_2\">\n      <g>\n       <use xlink:href=\"#m4a995f5351\" x=\"87.653303\" y=\"183.6\" style=\"stroke: #000000; stroke-width: 0.8\"/>\n      </g>\n     </g>\n     <g id=\"text_2\">\n      <!-- $\\mathdefault{5}$ -->\n      <g transform=\"translate(85.162636 197.518498) scale(0.1 -0.1)\">\n       <defs>\n        <path id=\"CMR17-35\" d=\"M 730 3692 \nC 794 3666 1056 3584 1325 3584 \nC 1920 3584 2246 3911 2432 4100 \nC 2432 4157 2432 4192 2394 4192 \nC 2387 4192 2374 4192 2323 4163 \nC 2099 4058 1837 3973 1517 3973 \nC 1325 3973 1037 3999 723 4139 \nC 653 4171 640 4171 634 4171 \nC 602 4171 595 4164 595 4037 \nL 595 2203 \nC 595 2089 595 2057 659 2057 \nC 691 2057 704 2070 736 2114 \nC 941 2401 1222 2522 1542 2522 \nC 1766 2522 2246 2382 2246 1289 \nC 2246 1085 2246 715 2054 421 \nC 1894 159 1645 25 1370 25 \nC 947 25 518 320 403 814 \nC 429 807 480 795 506 795 \nC 589 795 749 840 749 1038 \nC 749 1210 627 1280 506 1280 \nC 358 1280 262 1190 262 1011 \nC 262 454 704 -128 1382 -128 \nC 2042 -128 2669 440 2669 1264 \nC 2669 2030 2170 2624 1549 2624 \nC 1222 2624 947 2503 730 2274 \nL 730 3692 \nz\n\" transform=\"scale(0.015625)\"/>\n       </defs>\n       <use xlink:href=\"#CMR17-35\" transform=\"scale(0.996264)\"/>\n      </g>\n     </g>\n    </g>\n    <g id=\"xtick_3\">\n     <g id=\"line2d_3\">\n      <g>\n       <use xlink:href=\"#m4a995f5351\" x=\"138.092353\" y=\"183.6\" style=\"stroke: #000000; stroke-width: 0.8\"/>\n      </g>\n     </g>\n     <g id=\"text_3\">\n      <!-- $\\mathdefault{10}$ -->\n      <g transform=\"translate(133.111018 197.518498) scale(0.1 -0.1)\">\n       <defs>\n        <path id=\"CMR17-31\" d=\"M 1702 4058 \nC 1702 4192 1696 4192 1606 4192 \nC 1357 3916 979 3827 621 3827 \nC 602 3827 570 3827 563 3808 \nC 557 3795 557 3782 557 3648 \nC 755 3648 1088 3686 1344 3839 \nL 1344 461 \nC 1344 236 1331 160 781 160 \nL 589 160 \nL 589 0 \nC 896 0 1216 0 1523 0 \nC 1830 0 2150 0 2458 0 \nL 2458 160 \nL 2266 160 \nC 1715 160 1702 230 1702 458 \nL 1702 4058 \nz\n\" transform=\"scale(0.015625)\"/>\n       </defs>\n       <use xlink:href=\"#CMR17-31\" transform=\"scale(0.996264)\"/>\n       <use xlink:href=\"#CMR17-30\" transform=\"translate(45.690477 0) scale(0.996264)\"/>\n      </g>\n     </g>\n    </g>\n    <g id=\"xtick_4\">\n     <g id=\"line2d_4\">\n      <g>\n       <use xlink:href=\"#m4a995f5351\" x=\"188.531402\" y=\"183.6\" style=\"stroke: #000000; stroke-width: 0.8\"/>\n      </g>\n     </g>\n     <g id=\"text_4\">\n      <!-- $\\mathdefault{15}$ -->\n      <g transform=\"translate(183.550067 197.518498) scale(0.1 -0.1)\">\n       <use xlink:href=\"#CMR17-31\" transform=\"scale(0.996264)\"/>\n       <use xlink:href=\"#CMR17-35\" transform=\"translate(45.690477 0) scale(0.996264)\"/>\n      </g>\n     </g>\n    </g>\n   </g>\n   <g id=\"matplotlib.axis_2\">\n    <g id=\"ytick_1\">\n     <g id=\"line2d_5\">\n      <defs>\n       <path id=\"m96acab2c8c\" d=\"M 0 0 \nL -3.5 0 \n\" style=\"stroke: #000000; stroke-width: 0.8\"/>\n      </defs>\n      <g>\n       <use xlink:href=\"#m96acab2c8c\" x=\"29.144006\" y=\"169.965066\" style=\"stroke: #000000; stroke-width: 0.8\"/>\n      </g>\n     </g>\n     <g id=\"text_5\">\n      <!-- $\\mathdefault{140}$ -->\n      <g transform=\"translate(7.2 173.424315) scale(0.1 -0.1)\">\n       <defs>\n        <path id=\"CMR17-34\" d=\"M 2150 4122 \nC 2150 4256 2144 4256 2029 4256 \nL 128 1254 \nL 128 1088 \nL 1779 1088 \nL 1779 457 \nC 1779 224 1766 160 1318 160 \nL 1197 160 \nL 1197 0 \nC 1402 0 1747 0 1965 0 \nC 2182 0 2528 0 2733 0 \nL 2733 160 \nL 2611 160 \nC 2163 160 2150 224 2150 457 \nL 2150 1088 \nL 2803 1088 \nL 2803 1254 \nL 2150 1254 \nL 2150 4122 \nz\nM 1798 3703 \nL 1798 1254 \nL 256 1254 \nL 1798 3703 \nz\n\" transform=\"scale(0.015625)\"/>\n       </defs>\n       <use xlink:href=\"#CMR17-31\" transform=\"scale(0.996264)\"/>\n       <use xlink:href=\"#CMR17-34\" transform=\"translate(45.690477 0) scale(0.996264)\"/>\n       <use xlink:href=\"#CMR17-30\" transform=\"translate(91.380954 0) scale(0.996264)\"/>\n      </g>\n     </g>\n    </g>\n    <g id=\"ytick_2\">\n     <g id=\"line2d_6\">\n      <g>\n       <use xlink:href=\"#m96acab2c8c\" x=\"29.144006\" y=\"134.189576\" style=\"stroke: #000000; stroke-width: 0.8\"/>\n      </g>\n     </g>\n     <g id=\"text_6\">\n      <!-- $\\mathdefault{160}$ -->\n      <g transform=\"translate(7.2 137.648825) scale(0.1 -0.1)\">\n       <defs>\n        <path id=\"CMR17-36\" d=\"M 678 2176 \nC 678 3690 1395 4032 1811 4032 \nC 1946 4032 2272 4009 2400 3776 \nC 2298 3776 2106 3776 2106 3553 \nC 2106 3381 2246 3323 2336 3323 \nC 2394 3323 2566 3348 2566 3560 \nC 2566 3954 2246 4179 1805 4179 \nC 1043 4179 243 3390 243 1984 \nC 243 253 966 -128 1478 -128 \nC 2099 -128 2688 427 2688 1283 \nC 2688 2081 2170 2662 1517 2662 \nC 1126 2662 838 2407 678 1960 \nL 678 2176 \nz\nM 1478 25 \nC 691 25 691 1200 691 1436 \nC 691 1896 909 2560 1504 2560 \nC 1613 2560 1926 2560 2138 2120 \nC 2253 1870 2253 1609 2253 1289 \nC 2253 944 2253 690 2118 434 \nC 1978 171 1773 25 1478 25 \nz\n\" transform=\"scale(0.015625)\"/>\n       </defs>\n       <use xlink:href=\"#CMR17-31\" transform=\"scale(0.996264)\"/>\n       <use xlink:href=\"#CMR17-36\" transform=\"translate(45.690477 0) scale(0.996264)\"/>\n       <use xlink:href=\"#CMR17-30\" transform=\"translate(91.380954 0) scale(0.996264)\"/>\n      </g>\n     </g>\n    </g>\n    <g id=\"ytick_3\">\n     <g id=\"line2d_7\">\n      <g>\n       <use xlink:href=\"#m96acab2c8c\" x=\"29.144006\" y=\"98.414085\" style=\"stroke: #000000; stroke-width: 0.8\"/>\n      </g>\n     </g>\n     <g id=\"text_7\">\n      <!-- $\\mathdefault{180}$ -->\n      <g transform=\"translate(7.2 101.873334) scale(0.1 -0.1)\">\n       <defs>\n        <path id=\"CMR17-38\" d=\"M 1741 2264 \nC 2144 2467 2554 2773 2554 3263 \nC 2554 3841 1990 4179 1472 4179 \nC 890 4179 378 3759 378 3180 \nC 378 3021 416 2747 666 2505 \nC 730 2442 998 2251 1171 2130 \nC 883 1983 211 1634 211 934 \nC 211 279 838 -128 1459 -128 \nC 2144 -128 2720 362 2720 1010 \nC 2720 1590 2330 1857 2074 2029 \nL 1741 2264 \nz\nM 902 2822 \nC 851 2854 595 3051 595 3351 \nC 595 3739 998 4032 1459 4032 \nC 1965 4032 2336 3676 2336 3262 \nC 2336 2669 1670 2331 1638 2331 \nC 1632 2331 1626 2331 1574 2370 \nL 902 2822 \nz\nM 2080 1519 \nC 2176 1449 2483 1240 2483 851 \nC 2483 381 2010 25 1472 25 \nC 890 25 448 438 448 940 \nC 448 1443 838 1862 1280 2060 \nL 2080 1519 \nz\n\" transform=\"scale(0.015625)\"/>\n       </defs>\n       <use xlink:href=\"#CMR17-31\" transform=\"scale(0.996264)\"/>\n       <use xlink:href=\"#CMR17-38\" transform=\"translate(45.690477 0) scale(0.996264)\"/>\n       <use xlink:href=\"#CMR17-30\" transform=\"translate(91.380954 0) scale(0.996264)\"/>\n      </g>\n     </g>\n    </g>\n    <g id=\"ytick_4\">\n     <g id=\"line2d_8\">\n      <g>\n       <use xlink:href=\"#m96acab2c8c\" x=\"29.144006\" y=\"62.638595\" style=\"stroke: #000000; stroke-width: 0.8\"/>\n      </g>\n     </g>\n     <g id=\"text_8\">\n      <!-- $\\mathdefault{200}$ -->\n      <g transform=\"translate(7.2 66.097844) scale(0.1 -0.1)\">\n       <defs>\n        <path id=\"CMR17-32\" d=\"M 2669 989 \nL 2554 989 \nC 2490 536 2438 459 2413 420 \nC 2381 369 1920 369 1830 369 \nL 602 369 \nC 832 619 1280 1072 1824 1597 \nC 2214 1967 2669 2402 2669 3035 \nC 2669 3790 2067 4224 1395 4224 \nC 691 4224 262 3604 262 3030 \nC 262 2780 448 2748 525 2748 \nC 589 2748 781 2787 781 3010 \nC 781 3207 614 3264 525 3264 \nC 486 3264 448 3258 422 3245 \nC 544 3790 915 4058 1306 4058 \nC 1862 4058 2227 3617 2227 3035 \nC 2227 2479 1901 2000 1536 1584 \nL 262 146 \nL 262 0 \nL 2515 0 \nL 2669 989 \nz\n\" transform=\"scale(0.015625)\"/>\n       </defs>\n       <use xlink:href=\"#CMR17-32\" transform=\"scale(0.996264)\"/>\n       <use xlink:href=\"#CMR17-30\" transform=\"translate(45.690477 0) scale(0.996264)\"/>\n       <use xlink:href=\"#CMR17-30\" transform=\"translate(91.380954 0) scale(0.996264)\"/>\n      </g>\n     </g>\n    </g>\n    <g id=\"ytick_5\">\n     <g id=\"line2d_9\">\n      <g>\n       <use xlink:href=\"#m96acab2c8c\" x=\"29.144006\" y=\"26.863104\" style=\"stroke: #000000; stroke-width: 0.8\"/>\n      </g>\n     </g>\n     <g id=\"text_9\">\n      <!-- $\\mathdefault{220}$ -->\n      <g transform=\"translate(7.2 30.322353) scale(0.1 -0.1)\">\n       <use xlink:href=\"#CMR17-32\" transform=\"scale(0.996264)\"/>\n       <use xlink:href=\"#CMR17-32\" transform=\"translate(45.690477 0) scale(0.996264)\"/>\n       <use xlink:href=\"#CMR17-30\" transform=\"translate(91.380954 0) scale(0.996264)\"/>\n      </g>\n     </g>\n    </g>\n   </g>\n   <g id=\"line2d_10\">\n    <path d=\"M 37.214254 175.581818 \nL 42.258159 165.135375 \nL 47.302064 158.284369 \nL 52.345969 147.337068 \nL 57.389874 141.201572 \nL 62.433778 127.553222 \nL 67.477683 119.664726 \nL 72.521588 105.282979 \nL 77.565493 94.621883 \nL 82.609398 73.818435 \nL 87.653303 60.778269 \nL 92.697208 37.005456 \nL 97.741113 27.936369 \nL 102.785018 19.010384 \nL 107.828923 19.976322 \nL 112.872828 20.083649 \nL 117.916733 41.942473 \nL 122.960638 55.53716 \nL 128.004543 73.818435 \nL 133.048448 74.247741 \nL 138.092353 84.390093 \nL 143.136258 84.837286 \nL 148.180163 102.313614 \nL 153.224068 96.106566 \nL 158.267973 100.811043 \nL 163.311878 83.710358 \nL 168.355783 78.970106 \nL 173.399688 57.075506 \nL 178.443593 56.270557 \nL 183.487497 39.921158 \nL 188.531402 37.13067 \nL 193.575307 18.098109 \nL 198.619212 15.218182 \n\" clip-path=\"url(#p98a5ff4828)\" style=\"fill: none; stroke: #1f77b4; stroke-width: 1.5; stroke-linecap: square\"/>\n   </g>\n   <g id=\"line2d_11\">\n    <path d=\"M 37.214254 160.233965 \nL 42.258159 150.963567 \nL 47.302064 142.096529 \nL 52.345969 133.632849 \nL 57.389874 125.572528 \nL 62.433778 117.915538 \nL 67.477683 110.661934 \nL 72.521588 103.811688 \nL 77.565493 97.364774 \nL 82.609398 91.321246 \nL 87.653303 85.681076 \nL 92.697208 80.444238 \nL 97.741113 75.610758 \nL 102.785018 71.180664 \nL 107.828923 67.153875 \nL 112.872828 63.530498 \nL 117.916733 60.31048 \nL 122.960638 57.493793 \nL 128.004543 55.080465 \nL 133.048448 53.070496 \nL 138.092353 51.463885 \nL 143.136258 50.260633 \nL 148.180163 49.460739 \nL 153.224068 49.064177 \nL 158.267973 49.071028 \nL 163.311878 49.48121 \nL 168.355783 50.294724 \nL 173.399688 51.511623 \nL 178.443593 53.131854 \nL 183.487497 55.155471 \nL 188.531402 57.582419 \nL 193.575307 60.412725 \nL 198.619212 63.646418 \n\" clip-path=\"url(#p98a5ff4828)\" style=\"fill: none; stroke: #ff7f0e; stroke-width: 1.5; stroke-linecap: square\"/>\n   </g>\n   <g id=\"patch_3\">\n    <path d=\"M 29.144006 183.6 \nL 29.144006 7.2 \n\" style=\"fill: none; stroke: #000000; stroke-width: 0.8; stroke-linejoin: miter; stroke-linecap: square\"/>\n   </g>\n   <g id=\"patch_4\">\n    <path d=\"M 206.68946 183.6 \nL 206.68946 7.2 \n\" style=\"fill: none; stroke: #000000; stroke-width: 0.8; stroke-linejoin: miter; stroke-linecap: square\"/>\n   </g>\n   <g id=\"patch_5\">\n    <path d=\"M 29.144006 183.6 \nL 206.68946 183.6 \n\" style=\"fill: none; stroke: #000000; stroke-width: 0.8; stroke-linejoin: miter; stroke-linecap: square\"/>\n   </g>\n   <g id=\"patch_6\">\n    <path d=\"M 29.144006 7.2 \nL 206.68946 7.2 \n\" style=\"fill: none; stroke: #000000; stroke-width: 0.8; stroke-linejoin: miter; stroke-linecap: square\"/>\n   </g>\n  </g>\n  <g id=\"axes_2\">\n   <g id=\"patch_7\">\n    <path d=\"M 242.198551 183.6 \nL 419.744006 183.6 \nL 419.744006 7.2 \nL 242.198551 7.2 \nz\n\" style=\"fill: #ffffff\"/>\n   </g>\n   <g id=\"matplotlib.axis_3\">\n    <g id=\"xtick_5\">\n     <g id=\"line2d_12\">\n      <g>\n       <use xlink:href=\"#m4a995f5351\" x=\"250.268799\" y=\"183.6\" style=\"stroke: #000000; stroke-width: 0.8\"/>\n      </g>\n     </g>\n     <g id=\"text_10\">\n      <!-- $\\mathdefault{0}$ -->\n      <g transform=\"translate(247.778132 197.518498) scale(0.1 -0.1)\">\n       <use xlink:href=\"#CMR17-30\" transform=\"scale(0.996264)\"/>\n      </g>\n     </g>\n    </g>\n    <g id=\"xtick_6\">\n     <g id=\"line2d_13\">\n      <g>\n       <use xlink:href=\"#m4a995f5351\" x=\"300.707849\" y=\"183.6\" style=\"stroke: #000000; stroke-width: 0.8\"/>\n      </g>\n     </g>\n     <g id=\"text_11\">\n      <!-- $\\mathdefault{5}$ -->\n      <g transform=\"translate(298.217181 197.518498) scale(0.1 -0.1)\">\n       <use xlink:href=\"#CMR17-35\" transform=\"scale(0.996264)\"/>\n      </g>\n     </g>\n    </g>\n    <g id=\"xtick_7\">\n     <g id=\"line2d_14\">\n      <g>\n       <use xlink:href=\"#m4a995f5351\" x=\"351.146898\" y=\"183.6\" style=\"stroke: #000000; stroke-width: 0.8\"/>\n      </g>\n     </g>\n     <g id=\"text_12\">\n      <!-- $\\mathdefault{10}$ -->\n      <g transform=\"translate(346.165563 197.518498) scale(0.1 -0.1)\">\n       <use xlink:href=\"#CMR17-31\" transform=\"scale(0.996264)\"/>\n       <use xlink:href=\"#CMR17-30\" transform=\"translate(45.690477 0) scale(0.996264)\"/>\n      </g>\n     </g>\n    </g>\n    <g id=\"xtick_8\">\n     <g id=\"line2d_15\">\n      <g>\n       <use xlink:href=\"#m4a995f5351\" x=\"401.585948\" y=\"183.6\" style=\"stroke: #000000; stroke-width: 0.8\"/>\n      </g>\n     </g>\n     <g id=\"text_13\">\n      <!-- $\\mathdefault{15}$ -->\n      <g transform=\"translate(396.604613 197.518498) scale(0.1 -0.1)\">\n       <use xlink:href=\"#CMR17-31\" transform=\"scale(0.996264)\"/>\n       <use xlink:href=\"#CMR17-35\" transform=\"translate(45.690477 0) scale(0.996264)\"/>\n      </g>\n     </g>\n    </g>\n   </g>\n   <g id=\"matplotlib.axis_4\">\n    <g id=\"ytick_6\">\n     <g id=\"line2d_16\">\n      <g>\n       <use xlink:href=\"#m96acab2c8c\" x=\"242.198551\" y=\"179.227003\" style=\"stroke: #000000; stroke-width: 0.8\"/>\n      </g>\n     </g>\n     <g id=\"text_14\">\n      <!-- $\\mathdefault{0}$ -->\n      <g transform=\"translate(230.217216 182.686253) scale(0.1 -0.1)\">\n       <use xlink:href=\"#CMR17-30\" transform=\"scale(0.996264)\"/>\n      </g>\n     </g>\n    </g>\n    <g id=\"ytick_7\">\n     <g id=\"line2d_17\">\n      <g>\n       <use xlink:href=\"#m96acab2c8c\" x=\"242.198551\" y=\"144.766691\" style=\"stroke: #000000; stroke-width: 0.8\"/>\n      </g>\n     </g>\n     <g id=\"text_15\">\n      <!-- $\\mathdefault{50}$ -->\n      <g transform=\"translate(225.235881 148.225941) scale(0.1 -0.1)\">\n       <use xlink:href=\"#CMR17-35\" transform=\"scale(0.996264)\"/>\n       <use xlink:href=\"#CMR17-30\" transform=\"translate(45.690477 0) scale(0.996264)\"/>\n      </g>\n     </g>\n    </g>\n    <g id=\"ytick_8\">\n     <g id=\"line2d_18\">\n      <g>\n       <use xlink:href=\"#m96acab2c8c\" x=\"242.198551\" y=\"110.306379\" style=\"stroke: #000000; stroke-width: 0.8\"/>\n      </g>\n     </g>\n     <g id=\"text_16\">\n      <!-- $\\mathdefault{100}$ -->\n      <g transform=\"translate(220.254545 113.765629) scale(0.1 -0.1)\">\n       <use xlink:href=\"#CMR17-31\" transform=\"scale(0.996264)\"/>\n       <use xlink:href=\"#CMR17-30\" transform=\"translate(45.690477 0) scale(0.996264)\"/>\n       <use xlink:href=\"#CMR17-30\" transform=\"translate(91.380954 0) scale(0.996264)\"/>\n      </g>\n     </g>\n    </g>\n    <g id=\"ytick_9\">\n     <g id=\"line2d_19\">\n      <g>\n       <use xlink:href=\"#m96acab2c8c\" x=\"242.198551\" y=\"75.846068\" style=\"stroke: #000000; stroke-width: 0.8\"/>\n      </g>\n     </g>\n     <g id=\"text_17\">\n      <!-- $\\mathdefault{150}$ -->\n      <g transform=\"translate(220.254545 79.305317) scale(0.1 -0.1)\">\n       <use xlink:href=\"#CMR17-31\" transform=\"scale(0.996264)\"/>\n       <use xlink:href=\"#CMR17-35\" transform=\"translate(45.690477 0) scale(0.996264)\"/>\n       <use xlink:href=\"#CMR17-30\" transform=\"translate(91.380954 0) scale(0.996264)\"/>\n      </g>\n     </g>\n    </g>\n    <g id=\"ytick_10\">\n     <g id=\"line2d_20\">\n      <g>\n       <use xlink:href=\"#m96acab2c8c\" x=\"242.198551\" y=\"41.385756\" style=\"stroke: #000000; stroke-width: 0.8\"/>\n      </g>\n     </g>\n     <g id=\"text_18\">\n      <!-- $\\mathdefault{200}$ -->\n      <g transform=\"translate(220.254545 44.845005) scale(0.1 -0.1)\">\n       <use xlink:href=\"#CMR17-32\" transform=\"scale(0.996264)\"/>\n       <use xlink:href=\"#CMR17-30\" transform=\"translate(45.690477 0) scale(0.996264)\"/>\n       <use xlink:href=\"#CMR17-30\" transform=\"translate(91.380954 0) scale(0.996264)\"/>\n      </g>\n     </g>\n    </g>\n   </g>\n   <g id=\"line2d_21\">\n    <path d=\"M 250.268799 84.902238 \nL 255.312704 80.877273 \nL 260.356609 78.237613 \nL 265.400514 74.019671 \nL 270.444419 71.655694 \nL 275.488324 66.39705 \nL 280.532229 63.35765 \nL 285.576134 57.816432 \nL 290.620039 53.708763 \nL 295.663944 45.693295 \nL 300.707849 40.668981 \nL 305.751754 31.50943 \nL 310.795659 28.015155 \nL 315.839564 24.576015 \nL 320.883469 24.948187 \nL 325.927374 24.989539 \nL 330.971278 33.411639 \nL 336.015183 38.649607 \nL 341.059088 45.693295 \nL 346.102993 45.858704 \nL 351.146898 49.766503 \nL 356.190803 49.938805 \nL 361.234708 56.67235 \nL 366.278613 54.280804 \nL 371.322518 56.093417 \nL 376.366423 49.504605 \nL 381.410328 47.678209 \nL 386.454233 39.242324 \nL 391.498138 38.932181 \nL 396.542043 32.632836 \nL 401.585948 31.557675 \nL 406.629853 24.22452 \nL 411.673758 23.114898 \n\" clip-path=\"url(#p009a3234dc)\" style=\"fill: none; stroke: #1f77b4; stroke-width: 1.5; stroke-linecap: square\"/>\n   </g>\n   <g id=\"line2d_22\">\n    <path d=\"M 250.268799 175.581818 \nL 255.312704 166.722095 \nL 260.356609 151.588446 \nL 265.400514 132.656286 \nL 270.444419 111.979379 \nL 275.488324 91.220385 \nL 280.532229 71.681258 \nL 285.576134 54.333885 \nL 290.620039 39.850332 \nL 295.663944 28.633715 \nL 300.707849 20.848386 \nL 305.751754 16.450279 \nL 310.795659 15.218182 \nL 315.839564 16.78303 \nL 320.883469 20.659689 \nL 325.927374 26.276274 \nL 330.971278 33.005584 \nL 336.015183 40.194925 \nL 341.059088 47.196737 \nL 346.102993 53.400224 \nL 351.146898 58.258615 \nL 356.190803 61.325181 \nL 361.234708 62.277677 \nL 366.278613 60.952047 \nL 371.322518 57.373561 \nL 376.366423 51.784498 \nL 381.410328 44.678688 \nL 386.454233 36.828156 \nL 391.498138 29.315508 \nL 396.542043 23.563891 \nL 401.585948 21.368351 \nL 406.629853 24.920682 \nL 411.673758 36.853869 \n\" clip-path=\"url(#p009a3234dc)\" style=\"fill: none; stroke: #ff7f0e; stroke-width: 1.5; stroke-linecap: square\"/>\n   </g>\n   <g id=\"patch_8\">\n    <path d=\"M 242.198551 183.6 \nL 242.198551 7.2 \n\" style=\"fill: none; stroke: #000000; stroke-width: 0.8; stroke-linejoin: miter; stroke-linecap: square\"/>\n   </g>\n   <g id=\"patch_9\">\n    <path d=\"M 419.744006 183.6 \nL 419.744006 7.2 \n\" style=\"fill: none; stroke: #000000; stroke-width: 0.8; stroke-linejoin: miter; stroke-linecap: square\"/>\n   </g>\n   <g id=\"patch_10\">\n    <path d=\"M 242.198551 183.6 \nL 419.744006 183.6 \n\" style=\"fill: none; stroke: #000000; stroke-width: 0.8; stroke-linejoin: miter; stroke-linecap: square\"/>\n   </g>\n   <g id=\"patch_11\">\n    <path d=\"M 242.198551 7.2 \nL 419.744006 7.2 \n\" style=\"fill: none; stroke: #000000; stroke-width: 0.8; stroke-linejoin: miter; stroke-linecap: square\"/>\n   </g>\n  </g>\n  <g id=\"axes_3\">\n   <g id=\"patch_12\">\n    <path d=\"M 29.144006 395.28 \nL 206.68946 395.28 \nL 206.68946 218.88 \nL 29.144006 218.88 \nz\n\" style=\"fill: #ffffff\"/>\n   </g>\n   <g id=\"matplotlib.axis_5\">\n    <g id=\"xtick_9\">\n     <g id=\"line2d_23\">\n      <g>\n       <use xlink:href=\"#m4a995f5351\" x=\"37.214254\" y=\"395.28\" style=\"stroke: #000000; stroke-width: 0.8\"/>\n      </g>\n     </g>\n     <g id=\"text_19\">\n      <!-- $\\mathdefault{0}$ -->\n      <g transform=\"translate(34.723586 409.198498) scale(0.1 -0.1)\">\n       <use xlink:href=\"#CMR17-30\" transform=\"scale(0.996264)\"/>\n      </g>\n     </g>\n    </g>\n    <g id=\"xtick_10\">\n     <g id=\"line2d_24\">\n      <g>\n       <use xlink:href=\"#m4a995f5351\" x=\"87.653303\" y=\"395.28\" style=\"stroke: #000000; stroke-width: 0.8\"/>\n      </g>\n     </g>\n     <g id=\"text_20\">\n      <!-- $\\mathdefault{5}$ -->\n      <g transform=\"translate(85.162636 409.198498) scale(0.1 -0.1)\">\n       <use xlink:href=\"#CMR17-35\" transform=\"scale(0.996264)\"/>\n      </g>\n     </g>\n    </g>\n    <g id=\"xtick_11\">\n     <g id=\"line2d_25\">\n      <g>\n       <use xlink:href=\"#m4a995f5351\" x=\"138.092353\" y=\"395.28\" style=\"stroke: #000000; stroke-width: 0.8\"/>\n      </g>\n     </g>\n     <g id=\"text_21\">\n      <!-- $\\mathdefault{10}$ -->\n      <g transform=\"translate(133.111018 409.198498) scale(0.1 -0.1)\">\n       <use xlink:href=\"#CMR17-31\" transform=\"scale(0.996264)\"/>\n       <use xlink:href=\"#CMR17-30\" transform=\"translate(45.690477 0) scale(0.996264)\"/>\n      </g>\n     </g>\n    </g>\n    <g id=\"xtick_12\">\n     <g id=\"line2d_26\">\n      <g>\n       <use xlink:href=\"#m4a995f5351\" x=\"188.531402\" y=\"395.28\" style=\"stroke: #000000; stroke-width: 0.8\"/>\n      </g>\n     </g>\n     <g id=\"text_22\">\n      <!-- $\\mathdefault{15}$ -->\n      <g transform=\"translate(183.550067 409.198498) scale(0.1 -0.1)\">\n       <use xlink:href=\"#CMR17-31\" transform=\"scale(0.996264)\"/>\n       <use xlink:href=\"#CMR17-35\" transform=\"translate(45.690477 0) scale(0.996264)\"/>\n      </g>\n     </g>\n    </g>\n   </g>\n   <g id=\"matplotlib.axis_6\">\n    <g id=\"ytick_11\">\n     <g id=\"line2d_27\">\n      <g>\n       <use xlink:href=\"#m96acab2c8c\" x=\"29.144006\" y=\"387.261818\" style=\"stroke: #000000; stroke-width: 0.8\"/>\n      </g>\n     </g>\n     <g id=\"text_23\">\n      <!-- $\\mathdefault{0}$ -->\n      <g transform=\"translate(17.162671 390.721067) scale(0.1 -0.1)\">\n       <use xlink:href=\"#CMR17-30\" transform=\"scale(0.996264)\"/>\n      </g>\n     </g>\n    </g>\n    <g id=\"ytick_12\">\n     <g id=\"line2d_28\">\n      <g>\n       <use xlink:href=\"#m96acab2c8c\" x=\"29.144006\" y=\"360.345355\" style=\"stroke: #000000; stroke-width: 0.8\"/>\n      </g>\n     </g>\n     <g id=\"text_24\">\n      <!-- $\\mathdefault{50}$ -->\n      <g transform=\"translate(12.181335 363.804604) scale(0.1 -0.1)\">\n       <use xlink:href=\"#CMR17-35\" transform=\"scale(0.996264)\"/>\n       <use xlink:href=\"#CMR17-30\" transform=\"translate(45.690477 0) scale(0.996264)\"/>\n      </g>\n     </g>\n    </g>\n    <g id=\"ytick_13\">\n     <g id=\"line2d_29\">\n      <g>\n       <use xlink:href=\"#m96acab2c8c\" x=\"29.144006\" y=\"333.428891\" style=\"stroke: #000000; stroke-width: 0.8\"/>\n      </g>\n     </g>\n     <g id=\"text_25\">\n      <!-- $\\mathdefault{100}$ -->\n      <g transform=\"translate(7.2 336.888141) scale(0.1 -0.1)\">\n       <use xlink:href=\"#CMR17-31\" transform=\"scale(0.996264)\"/>\n       <use xlink:href=\"#CMR17-30\" transform=\"translate(45.690477 0) scale(0.996264)\"/>\n       <use xlink:href=\"#CMR17-30\" transform=\"translate(91.380954 0) scale(0.996264)\"/>\n      </g>\n     </g>\n    </g>\n    <g id=\"ytick_14\">\n     <g id=\"line2d_30\">\n      <g>\n       <use xlink:href=\"#m96acab2c8c\" x=\"29.144006\" y=\"306.512428\" style=\"stroke: #000000; stroke-width: 0.8\"/>\n      </g>\n     </g>\n     <g id=\"text_26\">\n      <!-- $\\mathdefault{150}$ -->\n      <g transform=\"translate(7.2 309.971677) scale(0.1 -0.1)\">\n       <use xlink:href=\"#CMR17-31\" transform=\"scale(0.996264)\"/>\n       <use xlink:href=\"#CMR17-35\" transform=\"translate(45.690477 0) scale(0.996264)\"/>\n       <use xlink:href=\"#CMR17-30\" transform=\"translate(91.380954 0) scale(0.996264)\"/>\n      </g>\n     </g>\n    </g>\n    <g id=\"ytick_15\">\n     <g id=\"line2d_31\">\n      <g>\n       <use xlink:href=\"#m96acab2c8c\" x=\"29.144006\" y=\"279.595965\" style=\"stroke: #000000; stroke-width: 0.8\"/>\n      </g>\n     </g>\n     <g id=\"text_27\">\n      <!-- $\\mathdefault{200}$ -->\n      <g transform=\"translate(7.2 283.055214) scale(0.1 -0.1)\">\n       <use xlink:href=\"#CMR17-32\" transform=\"scale(0.996264)\"/>\n       <use xlink:href=\"#CMR17-30\" transform=\"translate(45.690477 0) scale(0.996264)\"/>\n       <use xlink:href=\"#CMR17-30\" transform=\"translate(91.380954 0) scale(0.996264)\"/>\n      </g>\n     </g>\n    </g>\n    <g id=\"ytick_16\">\n     <g id=\"line2d_32\">\n      <g>\n       <use xlink:href=\"#m96acab2c8c\" x=\"29.144006\" y=\"252.679501\" style=\"stroke: #000000; stroke-width: 0.8\"/>\n      </g>\n     </g>\n     <g id=\"text_28\">\n      <!-- $\\mathdefault{250}$ -->\n      <g transform=\"translate(7.2 256.13875) scale(0.1 -0.1)\">\n       <use xlink:href=\"#CMR17-32\" transform=\"scale(0.996264)\"/>\n       <use xlink:href=\"#CMR17-35\" transform=\"translate(45.690477 0) scale(0.996264)\"/>\n       <use xlink:href=\"#CMR17-30\" transform=\"translate(91.380954 0) scale(0.996264)\"/>\n      </g>\n     </g>\n    </g>\n    <g id=\"ytick_17\">\n     <g id=\"line2d_33\">\n      <g>\n       <use xlink:href=\"#m96acab2c8c\" x=\"29.144006\" y=\"225.763038\" style=\"stroke: #000000; stroke-width: 0.8\"/>\n      </g>\n     </g>\n     <g id=\"text_29\">\n      <!-- $\\mathdefault{300}$ -->\n      <g transform=\"translate(7.2 229.222287) scale(0.1 -0.1)\">\n       <defs>\n        <path id=\"CMR17-33\" d=\"M 1414 2157 \nC 1984 2157 2234 1662 2234 1090 \nC 2234 320 1824 25 1453 25 \nC 1114 25 563 194 390 693 \nC 422 680 454 680 486 680 \nC 640 680 755 782 755 948 \nC 755 1133 614 1216 486 1216 \nC 378 1216 211 1165 211 926 \nC 211 335 787 -128 1466 -128 \nC 2176 -128 2720 430 2720 1085 \nC 2720 1707 2208 2157 1600 2227 \nC 2086 2328 2554 2756 2554 3329 \nC 2554 3820 2048 4179 1472 4179 \nC 890 4179 378 3829 378 3329 \nC 378 3110 544 3072 627 3072 \nC 762 3072 877 3155 877 3321 \nC 877 3486 762 3569 627 3569 \nC 602 3569 570 3569 544 3557 \nC 730 3959 1235 4032 1459 4032 \nC 1683 4032 2106 3925 2106 3320 \nC 2106 3143 2080 2828 1862 2550 \nC 1670 2304 1453 2304 1242 2284 \nC 1210 2284 1062 2269 1037 2269 \nC 992 2263 966 2257 966 2208 \nC 966 2163 973 2157 1101 2157 \nL 1414 2157 \nz\n\" transform=\"scale(0.015625)\"/>\n       </defs>\n       <use xlink:href=\"#CMR17-33\" transform=\"scale(0.996264)\"/>\n       <use xlink:href=\"#CMR17-30\" transform=\"translate(45.690477 0) scale(0.996264)\"/>\n       <use xlink:href=\"#CMR17-30\" transform=\"translate(91.380954 0) scale(0.996264)\"/>\n      </g>\n     </g>\n    </g>\n   </g>\n   <g id=\"line2d_34\">\n    <path d=\"M 37.214254 313.586075 \nL 42.258159 310.442232 \nL 47.302064 308.380431 \nL 52.345969 305.085855 \nL 57.389874 303.239386 \nL 62.433778 299.131934 \nL 67.477683 296.757902 \nL 72.521588 292.429734 \nL 77.565493 289.221292 \nL 82.609398 282.960523 \nL 87.653303 279.036102 \nL 92.697208 271.881706 \nL 97.741113 269.152377 \nL 102.785018 266.466114 \nL 107.828923 266.756812 \nL 112.872828 266.789111 \nL 117.916733 273.367495 \nL 122.960638 277.458797 \nL 128.004543 282.960523 \nL 133.048448 283.089722 \nL 138.092353 286.142048 \nL 143.136258 286.276631 \nL 148.180163 291.536108 \nL 153.224068 289.668105 \nL 158.267973 291.083911 \nL 163.311878 285.937483 \nL 168.355783 284.510911 \nL 173.399688 277.921761 \nL 178.443593 277.679512 \nL 183.487497 272.759183 \nL 188.531402 271.919389 \nL 193.575307 266.191566 \nL 198.619212 265.324856 \n\" clip-path=\"url(#p543b054268)\" style=\"fill: none; stroke: #1f77b4; stroke-width: 1.5; stroke-linecap: square\"/>\n   </g>\n   <g id=\"line2d_35\">\n    <path d=\"M 37.214254 387.261818 \nL 42.258159 387.261797 \nL 47.302064 387.260866 \nL 52.345969 387.252519 \nL 57.389874 387.215209 \nL 62.433778 387.101017 \nL 67.477683 386.82534 \nL 72.521588 386.259924 \nL 77.565493 385.231006 \nL 82.609398 383.523756 \nL 87.653303 380.893597 \nL 92.697208 377.084447 \nL 97.741113 371.853301 \nL 102.785018 365.000054 \nL 107.828923 356.400799 \nL 112.872828 346.042345 \nL 117.916733 334.054994 \nL 122.960638 320.740282 \nL 128.004543 306.589658 \nL 133.048448 292.289022 \nL 138.092353 278.704299 \nL 143.136258 266.843354 \nL 148.180163 257.784454 \nL 153.224068 252.570293 \nL 158.267973 252.051678 \nL 163.311878 256.682372 \nL 168.355783 266.248872 \nL 173.399688 279.528378 \nL 178.443593 293.868689 \nL 183.487497 304.670866 \nL 188.531402 304.770817 \nL 193.575307 283.714895 \nL 198.619212 226.898182 \n\" clip-path=\"url(#p543b054268)\" style=\"fill: none; stroke: #ff7f0e; stroke-width: 1.5; stroke-linecap: square\"/>\n   </g>\n   <g id=\"patch_13\">\n    <path d=\"M 29.144006 395.28 \nL 29.144006 218.88 \n\" style=\"fill: none; stroke: #000000; stroke-width: 0.8; stroke-linejoin: miter; stroke-linecap: square\"/>\n   </g>\n   <g id=\"patch_14\">\n    <path d=\"M 206.68946 395.28 \nL 206.68946 218.88 \n\" style=\"fill: none; stroke: #000000; stroke-width: 0.8; stroke-linejoin: miter; stroke-linecap: square\"/>\n   </g>\n   <g id=\"patch_15\">\n    <path d=\"M 29.144006 395.28 \nL 206.68946 395.28 \n\" style=\"fill: none; stroke: #000000; stroke-width: 0.8; stroke-linejoin: miter; stroke-linecap: square\"/>\n   </g>\n   <g id=\"patch_16\">\n    <path d=\"M 29.144006 218.88 \nL 206.68946 218.88 \n\" style=\"fill: none; stroke: #000000; stroke-width: 0.8; stroke-linejoin: miter; stroke-linecap: square\"/>\n   </g>\n  </g>\n  <g id=\"axes_4\">\n   <g id=\"patch_17\">\n    <path d=\"M 242.198551 395.28 \nL 419.744006 395.28 \nL 419.744006 218.88 \nL 242.198551 218.88 \nz\n\" style=\"fill: #ffffff\"/>\n   </g>\n   <g id=\"matplotlib.axis_7\">\n    <g id=\"xtick_13\">\n     <g id=\"line2d_36\">\n      <g>\n       <use xlink:href=\"#m4a995f5351\" x=\"250.268799\" y=\"395.28\" style=\"stroke: #000000; stroke-width: 0.8\"/>\n      </g>\n     </g>\n     <g id=\"text_30\">\n      <!-- $\\mathdefault{0}$ -->\n      <g transform=\"translate(247.778132 409.198498) scale(0.1 -0.1)\">\n       <use xlink:href=\"#CMR17-30\" transform=\"scale(0.996264)\"/>\n      </g>\n     </g>\n    </g>\n    <g id=\"xtick_14\">\n     <g id=\"line2d_37\">\n      <g>\n       <use xlink:href=\"#m4a995f5351\" x=\"300.707849\" y=\"395.28\" style=\"stroke: #000000; stroke-width: 0.8\"/>\n      </g>\n     </g>\n     <g id=\"text_31\">\n      <!-- $\\mathdefault{5}$ -->\n      <g transform=\"translate(298.217181 409.198498) scale(0.1 -0.1)\">\n       <use xlink:href=\"#CMR17-35\" transform=\"scale(0.996264)\"/>\n      </g>\n     </g>\n    </g>\n    <g id=\"xtick_15\">\n     <g id=\"line2d_38\">\n      <g>\n       <use xlink:href=\"#m4a995f5351\" x=\"351.146898\" y=\"395.28\" style=\"stroke: #000000; stroke-width: 0.8\"/>\n      </g>\n     </g>\n     <g id=\"text_32\">\n      <!-- $\\mathdefault{10}$ -->\n      <g transform=\"translate(346.165563 409.198498) scale(0.1 -0.1)\">\n       <use xlink:href=\"#CMR17-31\" transform=\"scale(0.996264)\"/>\n       <use xlink:href=\"#CMR17-30\" transform=\"translate(45.690477 0) scale(0.996264)\"/>\n      </g>\n     </g>\n    </g>\n    <g id=\"xtick_16\">\n     <g id=\"line2d_39\">\n      <g>\n       <use xlink:href=\"#m4a995f5351\" x=\"401.585948\" y=\"395.28\" style=\"stroke: #000000; stroke-width: 0.8\"/>\n      </g>\n     </g>\n     <g id=\"text_33\">\n      <!-- $\\mathdefault{15}$ -->\n      <g transform=\"translate(396.604613 409.198498) scale(0.1 -0.1)\">\n       <use xlink:href=\"#CMR17-31\" transform=\"scale(0.996264)\"/>\n       <use xlink:href=\"#CMR17-35\" transform=\"translate(45.690477 0) scale(0.996264)\"/>\n      </g>\n     </g>\n    </g>\n   </g>\n   <g id=\"matplotlib.axis_8\">\n    <g id=\"ytick_18\">\n     <g id=\"line2d_40\">\n      <g>\n       <use xlink:href=\"#m96acab2c8c\" x=\"242.198551\" y=\"387.261818\" style=\"stroke: #000000; stroke-width: 0.8\"/>\n      </g>\n     </g>\n     <g id=\"text_34\">\n      <!-- $\\mathdefault{0}$ -->\n      <g transform=\"translate(230.217216 390.721067) scale(0.1 -0.1)\">\n       <use xlink:href=\"#CMR17-30\" transform=\"scale(0.996264)\"/>\n      </g>\n     </g>\n    </g>\n    <g id=\"ytick_19\">\n     <g id=\"line2d_41\">\n      <g>\n       <use xlink:href=\"#m96acab2c8c\" x=\"242.198551\" y=\"358.637718\" style=\"stroke: #000000; stroke-width: 0.8\"/>\n      </g>\n     </g>\n     <g id=\"text_35\">\n      <!-- $\\mathdefault{50}$ -->\n      <g transform=\"translate(225.235881 362.096968) scale(0.1 -0.1)\">\n       <use xlink:href=\"#CMR17-35\" transform=\"scale(0.996264)\"/>\n       <use xlink:href=\"#CMR17-30\" transform=\"translate(45.690477 0) scale(0.996264)\"/>\n      </g>\n     </g>\n    </g>\n    <g id=\"ytick_20\">\n     <g id=\"line2d_42\">\n      <g>\n       <use xlink:href=\"#m96acab2c8c\" x=\"242.198551\" y=\"330.013619\" style=\"stroke: #000000; stroke-width: 0.8\"/>\n      </g>\n     </g>\n     <g id=\"text_36\">\n      <!-- $\\mathdefault{100}$ -->\n      <g transform=\"translate(220.254545 333.472868) scale(0.1 -0.1)\">\n       <use xlink:href=\"#CMR17-31\" transform=\"scale(0.996264)\"/>\n       <use xlink:href=\"#CMR17-30\" transform=\"translate(45.690477 0) scale(0.996264)\"/>\n       <use xlink:href=\"#CMR17-30\" transform=\"translate(91.380954 0) scale(0.996264)\"/>\n      </g>\n     </g>\n    </g>\n    <g id=\"ytick_21\">\n     <g id=\"line2d_43\">\n      <g>\n       <use xlink:href=\"#m96acab2c8c\" x=\"242.198551\" y=\"301.389519\" style=\"stroke: #000000; stroke-width: 0.8\"/>\n      </g>\n     </g>\n     <g id=\"text_37\">\n      <!-- $\\mathdefault{150}$ -->\n      <g transform=\"translate(220.254545 304.848768) scale(0.1 -0.1)\">\n       <use xlink:href=\"#CMR17-31\" transform=\"scale(0.996264)\"/>\n       <use xlink:href=\"#CMR17-35\" transform=\"translate(45.690477 0) scale(0.996264)\"/>\n       <use xlink:href=\"#CMR17-30\" transform=\"translate(91.380954 0) scale(0.996264)\"/>\n      </g>\n     </g>\n    </g>\n    <g id=\"ytick_22\">\n     <g id=\"line2d_44\">\n      <g>\n       <use xlink:href=\"#m96acab2c8c\" x=\"242.198551\" y=\"272.765419\" style=\"stroke: #000000; stroke-width: 0.8\"/>\n      </g>\n     </g>\n     <g id=\"text_38\">\n      <!-- $\\mathdefault{200}$ -->\n      <g transform=\"translate(220.254545 276.224668) scale(0.1 -0.1)\">\n       <use xlink:href=\"#CMR17-32\" transform=\"scale(0.996264)\"/>\n       <use xlink:href=\"#CMR17-30\" transform=\"translate(45.690477 0) scale(0.996264)\"/>\n       <use xlink:href=\"#CMR17-30\" transform=\"translate(91.380954 0) scale(0.996264)\"/>\n      </g>\n     </g>\n    </g>\n    <g id=\"ytick_23\">\n     <g id=\"line2d_45\">\n      <g>\n       <use xlink:href=\"#m96acab2c8c\" x=\"242.198551\" y=\"244.141319\" style=\"stroke: #000000; stroke-width: 0.8\"/>\n      </g>\n     </g>\n     <g id=\"text_39\">\n      <!-- $\\mathdefault{250}$ -->\n      <g transform=\"translate(220.254545 247.600568) scale(0.1 -0.1)\">\n       <use xlink:href=\"#CMR17-32\" transform=\"scale(0.996264)\"/>\n       <use xlink:href=\"#CMR17-35\" transform=\"translate(45.690477 0) scale(0.996264)\"/>\n       <use xlink:href=\"#CMR17-30\" transform=\"translate(91.380954 0) scale(0.996264)\"/>\n      </g>\n     </g>\n    </g>\n   </g>\n   <g id=\"line2d_46\">\n    <path d=\"M 250.268799 308.911932 \nL 255.312704 305.568637 \nL 260.356609 303.376031 \nL 265.400514 299.872442 \nL 270.444419 297.908828 \nL 275.488324 293.540791 \nL 280.532229 291.016145 \nL 285.576134 286.41339 \nL 290.620039 283.001397 \nL 295.663944 276.343432 \nL 300.707849 272.170038 \nL 305.751754 264.561752 \nL 310.795659 261.659268 \nL 315.839564 258.802583 \nL 320.883469 259.111723 \nL 325.927374 259.146072 \nL 330.971278 266.141802 \nL 336.015183 270.492666 \nL 341.059088 276.343432 \nL 346.102993 276.480827 \nL 351.146898 279.7268 \nL 356.190803 279.869921 \nL 361.234708 285.46307 \nL 366.278613 283.476557 \nL 371.322518 284.982185 \nL 376.366423 279.509257 \nL 381.410328 277.99218 \nL 386.454233 270.985 \nL 391.498138 270.727383 \nL 396.542043 265.494898 \nL 401.585948 264.601826 \nL 406.629853 258.510617 \nL 411.673758 257.588921 \n\" clip-path=\"url(#pe12e405342)\" style=\"fill: none; stroke: #1f77b4; stroke-width: 1.5; stroke-linecap: square\"/>\n   </g>\n   <g id=\"line2d_47\">\n    <path d=\"M 250.268799 387.261818 \nL 255.312704 387.261818 \nL 260.356609 387.261818 \nL 265.400514 387.261802 \nL 270.444419 387.261622 \nL 275.488324 387.260492 \nL 280.532229 387.255582 \nL 285.576134 387.239033 \nL 290.620039 387.192721 \nL 295.663944 387.080318 \nL 300.707849 386.836685 \nL 305.751754 386.355336 \nL 310.795659 385.475584 \nL 315.839564 383.971984 \nL 320.883469 381.549642 \nL 325.927374 377.849655 \nL 330.971278 372.469419 \nL 336.015183 365.002259 \nL 341.059088 355.099509 \nL 346.102993 342.556155 \nL 351.146898 327.417275 \nL 356.190803 310.095821 \nL 361.234708 291.485841 \nL 366.278613 273.042462 \nL 371.322518 256.787497 \nL 376.366423 245.179153 \nL 381.410328 240.766116 \nL 386.454233 245.511962 \nL 391.498138 259.653549 \nL 396.542043 279.900226 \nL 401.585948 296.770546 \nL 406.629853 290.743508 \nL 411.673758 226.898182 \n\" clip-path=\"url(#pe12e405342)\" style=\"fill: none; stroke: #ff7f0e; stroke-width: 1.5; stroke-linecap: square\"/>\n   </g>\n   <g id=\"patch_18\">\n    <path d=\"M 242.198551 395.28 \nL 242.198551 218.88 \n\" style=\"fill: none; stroke: #000000; stroke-width: 0.8; stroke-linejoin: miter; stroke-linecap: square\"/>\n   </g>\n   <g id=\"patch_19\">\n    <path d=\"M 419.744006 395.28 \nL 419.744006 218.88 \n\" style=\"fill: none; stroke: #000000; stroke-width: 0.8; stroke-linejoin: miter; stroke-linecap: square\"/>\n   </g>\n   <g id=\"patch_20\">\n    <path d=\"M 242.198551 395.28 \nL 419.744006 395.28 \n\" style=\"fill: none; stroke: #000000; stroke-width: 0.8; stroke-linejoin: miter; stroke-linecap: square\"/>\n   </g>\n   <g id=\"patch_21\">\n    <path d=\"M 242.198551 218.88 \nL 419.744006 218.88 \n\" style=\"fill: none; stroke: #000000; stroke-width: 0.8; stroke-linejoin: miter; stroke-linecap: square\"/>\n   </g>\n  </g>\n </g>\n <defs>\n  <clipPath id=\"p98a5ff4828\">\n   <rect x=\"29.144006\" y=\"7.2\" width=\"177.545455\" height=\"176.4\"/>\n  </clipPath>\n  <clipPath id=\"p009a3234dc\">\n   <rect x=\"242.198551\" y=\"7.2\" width=\"177.545455\" height=\"176.4\"/>\n  </clipPath>\n  <clipPath id=\"p543b054268\">\n   <rect x=\"29.144006\" y=\"218.88\" width=\"177.545455\" height=\"176.4\"/>\n  </clipPath>\n  <clipPath id=\"pe12e405342\">\n   <rect x=\"242.198551\" y=\"218.88\" width=\"177.545455\" height=\"176.4\"/>\n  </clipPath>\n </defs>\n</svg>\n",
      "text/plain": [
       "<Figure size 700x700 with 4 Axes>"
      ]
     },
     "metadata": {},
     "output_type": "display_data"
    }
   ],
   "source": [
    "fig, axes = plt.subplots(2, 2, figsize=(7, 7))\n",
    "axes[0, 0].plot(data[:, 0], data[:,1])\n",
    "axes[0, 0].plot(data[:, 0], jnp.vander(x1.flatten(), 3) @ coef3)\n",
    "axes[0, 1].plot(data[:, 0], data[:,1])\n",
    "axes[0, 1].plot(data[:, 0], jnp.vander(x1.flatten(), 6) @ coef6)\n",
    "axes[1, 0].plot(data[:, 0], data[:,1])\n",
    "axes[1, 0].plot(data[:, 0], jnp.vander(x1.flatten(), 9) @ coef9)\n",
    "axes[1, 1].plot(data[:, 0], data[:,1])\n",
    "axes[1, 1].plot(data[:, 0], jnp.vander(x1.flatten(), 12) @ coef12);"
   ]
  },
  {
   "cell_type": "code",
   "execution_count": 84,
   "metadata": {
    "vscode": {
     "languageId": "python"
    }
   },
   "outputs": [
    {
     "data": {
      "text/plain": [
       "DeviceArray([[ -0.45098796],\n",
       "             [ 10.590573  ],\n",
       "             [145.44012   ]], dtype=float32)"
      ]
     },
     "execution_count": 84,
     "metadata": {},
     "output_type": "execute_result"
    }
   ],
   "source": [
    "jnp.polyfit(x1.flatten(), y, 2)"
   ]
  },
  {
   "cell_type": "code",
   "execution_count": 83,
   "metadata": {
    "vscode": {
     "languageId": "python"
    }
   },
   "outputs": [
    {
     "data": {
      "text/plain": [
       "DeviceArray([[ -0.45098722],\n",
       "             [ 10.590576  ],\n",
       "             [145.4401    ]], dtype=float32)"
      ]
     },
     "execution_count": 83,
     "metadata": {},
     "output_type": "execute_result"
    }
   ],
   "source": [
    "coef3"
   ]
  },
  {
   "attachments": {},
   "cell_type": "markdown",
   "metadata": {},
   "source": [
    "Having more parameters in a least squares model is not always better. \n",
    "For a set of m points, the best fit polynomial of degree m − 1 interpolates \n",
    "the data set, meaning that $p(x_k) = y_k$ exactly for each k. In this case \n",
    "there are enough unknowns that the system is no longer overdetermined. \n",
    "However, such polynomials are highly subject to numerical errors and are \n",
    "unlikely to accurately represent true patterns in the data.\n",
    "\n",
    "Choosing to have too many unknowns in a fitting problem is (fittingly) \n",
    "called overfitting, and is an important issue to avoid in any statistical model."
   ]
  },
  {
   "attachments": {},
   "cell_type": "markdown",
   "metadata": {},
   "source": [
    "## Fitting a Circle\n",
    "\n",
    "The general equation of a circle with radius $r$ and center $(c_1, c_2)$ is\n",
    "\n",
    "$$(x-c_1)^2 + (y-c_2)^2 = r^2$$\n",
    "\n",
    "The circle is uniquely determined by $r, c_1$ and $c_2$, so these are the \n",
    "parameters that should be solved for in a least squares formulation of the \n",
    "problem. \n",
    "\n",
    "We can expand the above equation as\n",
    "\n",
    "$$x^2 + y^2 = 2c_1 x + 2c_2y + r^2 -c_1^2 -c_2^2$$\n",
    "\n",
    "Now, define a new variable $c_3 = r^2 -c_1^2 -c_2^2$, we could have a\n",
    "linear equation\n",
    "\n",
    "$$2c_1 x_k + 2c_2 y_k + c_3 = x_k^2 + y_k^2$$"
   ]
  },
  {
   "cell_type": "code",
   "execution_count": 85,
   "metadata": {
    "vscode": {
     "languageId": "python"
    }
   },
   "outputs": [],
   "source": [
    "xk, yk = jnp.load(\"../data/circle.npy\").T"
   ]
  },
  {
   "cell_type": "code",
   "execution_count": 89,
   "metadata": {
    "vscode": {
     "languageId": "python"
    }
   },
   "outputs": [],
   "source": [
    "# fit the model\n",
    "A = jnp.column_stack((2*xk, 2*yk, jnp.ones_like(xk)))\n",
    "b = xk**2 + yk**2"
   ]
  },
  {
   "cell_type": "code",
   "execution_count": 90,
   "metadata": {
    "vscode": {
     "languageId": "python"
    }
   },
   "outputs": [],
   "source": [
    "c1, c2, c3 = jnp.linalg.lstsq(A, b)[0]"
   ]
  },
  {
   "cell_type": "code",
   "execution_count": 92,
   "metadata": {
    "vscode": {
     "languageId": "python"
    }
   },
   "outputs": [
    {
     "data": {
      "image/svg+xml": "<?xml version=\"1.0\" encoding=\"utf-8\" standalone=\"no\"?>\n<!DOCTYPE svg PUBLIC \"-//W3C//DTD SVG 1.1//EN\"\n  \"http://www.w3.org/Graphics/SVG/1.1/DTD/svg11.dtd\">\n<svg xmlns:xlink=\"http://www.w3.org/1999/xlink\" width=\"391.250079pt\" height=\"296.367677pt\" viewBox=\"0 0 391.250079 296.367677\" xmlns=\"http://www.w3.org/2000/svg\" version=\"1.1\">\n <metadata>\n  <rdf:RDF xmlns:dc=\"http://purl.org/dc/elements/1.1/\" xmlns:cc=\"http://creativecommons.org/ns#\" xmlns:rdf=\"http://www.w3.org/1999/02/22-rdf-syntax-ns#\">\n   <cc:Work>\n    <dc:type rdf:resource=\"http://purl.org/dc/dcmitype/StillImage\"/>\n    <dc:date>2022-12-27T14:32:21.026007</dc:date>\n    <dc:format>image/svg+xml</dc:format>\n    <dc:creator>\n     <cc:Agent>\n      <dc:title>Matplotlib v3.6.2, https://matplotlib.org/</dc:title>\n     </cc:Agent>\n    </dc:creator>\n   </cc:Work>\n  </rdf:RDF>\n </metadata>\n <defs>\n  <style type=\"text/css\">*{stroke-linejoin: round; stroke-linecap: butt}</style>\n </defs>\n <g id=\"figure_1\">\n  <g id=\"patch_1\">\n   <path d=\"M 0 296.367677 \nL 391.250079 296.367677 \nL 391.250079 0 \nL 0 0 \nz\n\" style=\"fill: #ffffff\"/>\n  </g>\n  <g id=\"axes_1\">\n   <g id=\"patch_2\">\n    <path d=\"M 26.930079 273.312 \nL 384.050079 273.312 \nL 384.050079 7.2 \nL 26.930079 7.2 \nz\n\" style=\"fill: #ffffff\"/>\n   </g>\n   <g id=\"matplotlib.axis_1\">\n    <g id=\"xtick_1\">\n     <g id=\"line2d_1\">\n      <defs>\n       <path id=\"m70e49b9afd\" d=\"M 0 0 \nL 0 3.5 \n\" style=\"stroke: #000000; stroke-width: 0.8\"/>\n      </defs>\n      <g>\n       <use xlink:href=\"#m70e49b9afd\" x=\"31.497693\" y=\"273.312\" style=\"stroke: #000000; stroke-width: 0.8\"/>\n      </g>\n     </g>\n     <g id=\"text_1\">\n      <!-- $\\mathdefault{−4}$ -->\n      <g transform=\"translate(25.132653 287.230498) scale(0.1 -0.1)\">\n       <defs>\n        <path id=\"CMSY10-0\" d=\"M 4218 1472 \nC 4326 1472 4442 1472 4442 1600 \nC 4442 1728 4326 1728 4218 1728 \nL 755 1728 \nC 646 1728 531 1728 531 1600 \nC 531 1472 646 1472 755 1472 \nL 4218 1472 \nz\n\" transform=\"scale(0.015625)\"/>\n        <path id=\"CMR17-34\" d=\"M 2150 4122 \nC 2150 4256 2144 4256 2029 4256 \nL 128 1254 \nL 128 1088 \nL 1779 1088 \nL 1779 457 \nC 1779 224 1766 160 1318 160 \nL 1197 160 \nL 1197 0 \nC 1402 0 1747 0 1965 0 \nC 2182 0 2528 0 2733 0 \nL 2733 160 \nL 2611 160 \nC 2163 160 2150 224 2150 457 \nL 2150 1088 \nL 2803 1088 \nL 2803 1254 \nL 2150 1254 \nL 2150 4122 \nz\nM 1798 3703 \nL 1798 1254 \nL 256 1254 \nL 1798 3703 \nz\n\" transform=\"scale(0.015625)\"/>\n       </defs>\n       <use xlink:href=\"#CMSY10-0\" transform=\"scale(0.996264)\"/>\n       <use xlink:href=\"#CMR17-34\" transform=\"translate(77.487468 0) scale(0.996264)\"/>\n      </g>\n     </g>\n    </g>\n    <g id=\"xtick_2\">\n     <g id=\"line2d_2\">\n      <g>\n       <use xlink:href=\"#m70e49b9afd\" x=\"88.044173\" y=\"273.312\" style=\"stroke: #000000; stroke-width: 0.8\"/>\n      </g>\n     </g>\n     <g id=\"text_2\">\n      <!-- $\\mathdefault{−2}$ -->\n      <g transform=\"translate(81.679134 287.230498) scale(0.1 -0.1)\">\n       <defs>\n        <path id=\"CMR17-32\" d=\"M 2669 989 \nL 2554 989 \nC 2490 536 2438 459 2413 420 \nC 2381 369 1920 369 1830 369 \nL 602 369 \nC 832 619 1280 1072 1824 1597 \nC 2214 1967 2669 2402 2669 3035 \nC 2669 3790 2067 4224 1395 4224 \nC 691 4224 262 3604 262 3030 \nC 262 2780 448 2748 525 2748 \nC 589 2748 781 2787 781 3010 \nC 781 3207 614 3264 525 3264 \nC 486 3264 448 3258 422 3245 \nC 544 3790 915 4058 1306 4058 \nC 1862 4058 2227 3617 2227 3035 \nC 2227 2479 1901 2000 1536 1584 \nL 262 146 \nL 262 0 \nL 2515 0 \nL 2669 989 \nz\n\" transform=\"scale(0.015625)\"/>\n       </defs>\n       <use xlink:href=\"#CMSY10-0\" transform=\"scale(0.996264)\"/>\n       <use xlink:href=\"#CMR17-32\" transform=\"translate(77.487468 0) scale(0.996264)\"/>\n      </g>\n     </g>\n    </g>\n    <g id=\"xtick_3\">\n     <g id=\"line2d_3\">\n      <g>\n       <use xlink:href=\"#m70e49b9afd\" x=\"144.590654\" y=\"273.312\" style=\"stroke: #000000; stroke-width: 0.8\"/>\n      </g>\n     </g>\n     <g id=\"text_3\">\n      <!-- $\\mathdefault{0}$ -->\n      <g transform=\"translate(142.099986 287.230498) scale(0.1 -0.1)\">\n       <defs>\n        <path id=\"CMR17-30\" d=\"M 2688 2025 \nC 2688 2416 2682 3080 2413 3591 \nC 2176 4039 1798 4198 1466 4198 \nC 1158 4198 768 4058 525 3597 \nC 269 3118 243 2524 243 2025 \nC 243 1661 250 1106 448 619 \nC 723 -39 1216 -128 1466 -128 \nC 1760 -128 2208 -7 2470 600 \nC 2662 1042 2688 1559 2688 2025 \nz\nM 1466 -26 \nC 1056 -26 813 325 723 812 \nC 653 1188 653 1738 653 2096 \nC 653 2588 653 2997 736 3387 \nC 858 3929 1216 4096 1466 4096 \nC 1728 4096 2067 3923 2189 3400 \nC 2272 3036 2278 2607 2278 2096 \nC 2278 1680 2278 1169 2202 792 \nC 2067 95 1690 -26 1466 -26 \nz\n\" transform=\"scale(0.015625)\"/>\n       </defs>\n       <use xlink:href=\"#CMR17-30\" transform=\"scale(0.996264)\"/>\n      </g>\n     </g>\n    </g>\n    <g id=\"xtick_4\">\n     <g id=\"line2d_4\">\n      <g>\n       <use xlink:href=\"#m70e49b9afd\" x=\"201.137135\" y=\"273.312\" style=\"stroke: #000000; stroke-width: 0.8\"/>\n      </g>\n     </g>\n     <g id=\"text_4\">\n      <!-- $\\mathdefault{2}$ -->\n      <g transform=\"translate(198.646467 287.230498) scale(0.1 -0.1)\">\n       <use xlink:href=\"#CMR17-32\" transform=\"scale(0.996264)\"/>\n      </g>\n     </g>\n    </g>\n    <g id=\"xtick_5\">\n     <g id=\"line2d_5\">\n      <g>\n       <use xlink:href=\"#m70e49b9afd\" x=\"257.683615\" y=\"273.312\" style=\"stroke: #000000; stroke-width: 0.8\"/>\n      </g>\n     </g>\n     <g id=\"text_5\">\n      <!-- $\\mathdefault{4}$ -->\n      <g transform=\"translate(255.192948 287.230498) scale(0.1 -0.1)\">\n       <use xlink:href=\"#CMR17-34\" transform=\"scale(0.996264)\"/>\n      </g>\n     </g>\n    </g>\n    <g id=\"xtick_6\">\n     <g id=\"line2d_6\">\n      <g>\n       <use xlink:href=\"#m70e49b9afd\" x=\"314.230096\" y=\"273.312\" style=\"stroke: #000000; stroke-width: 0.8\"/>\n      </g>\n     </g>\n     <g id=\"text_6\">\n      <!-- $\\mathdefault{6}$ -->\n      <g transform=\"translate(311.739428 287.230498) scale(0.1 -0.1)\">\n       <defs>\n        <path id=\"CMR17-36\" d=\"M 678 2176 \nC 678 3690 1395 4032 1811 4032 \nC 1946 4032 2272 4009 2400 3776 \nC 2298 3776 2106 3776 2106 3553 \nC 2106 3381 2246 3323 2336 3323 \nC 2394 3323 2566 3348 2566 3560 \nC 2566 3954 2246 4179 1805 4179 \nC 1043 4179 243 3390 243 1984 \nC 243 253 966 -128 1478 -128 \nC 2099 -128 2688 427 2688 1283 \nC 2688 2081 2170 2662 1517 2662 \nC 1126 2662 838 2407 678 1960 \nL 678 2176 \nz\nM 1478 25 \nC 691 25 691 1200 691 1436 \nC 691 1896 909 2560 1504 2560 \nC 1613 2560 1926 2560 2138 2120 \nC 2253 1870 2253 1609 2253 1289 \nC 2253 944 2253 690 2118 434 \nC 1978 171 1773 25 1478 25 \nz\n\" transform=\"scale(0.015625)\"/>\n       </defs>\n       <use xlink:href=\"#CMR17-36\" transform=\"scale(0.996264)\"/>\n      </g>\n     </g>\n    </g>\n    <g id=\"xtick_7\">\n     <g id=\"line2d_7\">\n      <g>\n       <use xlink:href=\"#m70e49b9afd\" x=\"370.776577\" y=\"273.312\" style=\"stroke: #000000; stroke-width: 0.8\"/>\n      </g>\n     </g>\n     <g id=\"text_7\">\n      <!-- $\\mathdefault{8}$ -->\n      <g transform=\"translate(368.285909 287.230498) scale(0.1 -0.1)\">\n       <defs>\n        <path id=\"CMR17-38\" d=\"M 1741 2264 \nC 2144 2467 2554 2773 2554 3263 \nC 2554 3841 1990 4179 1472 4179 \nC 890 4179 378 3759 378 3180 \nC 378 3021 416 2747 666 2505 \nC 730 2442 998 2251 1171 2130 \nC 883 1983 211 1634 211 934 \nC 211 279 838 -128 1459 -128 \nC 2144 -128 2720 362 2720 1010 \nC 2720 1590 2330 1857 2074 2029 \nL 1741 2264 \nz\nM 902 2822 \nC 851 2854 595 3051 595 3351 \nC 595 3739 998 4032 1459 4032 \nC 1965 4032 2336 3676 2336 3262 \nC 2336 2669 1670 2331 1638 2331 \nC 1632 2331 1626 2331 1574 2370 \nL 902 2822 \nz\nM 2080 1519 \nC 2176 1449 2483 1240 2483 851 \nC 2483 381 2010 25 1472 25 \nC 890 25 448 438 448 940 \nC 448 1443 838 1862 1280 2060 \nL 2080 1519 \nz\n\" transform=\"scale(0.015625)\"/>\n       </defs>\n       <use xlink:href=\"#CMR17-38\" transform=\"scale(0.996264)\"/>\n      </g>\n     </g>\n    </g>\n   </g>\n   <g id=\"matplotlib.axis_2\">\n    <g id=\"ytick_1\">\n     <g id=\"line2d_8\">\n      <defs>\n       <path id=\"m3786934e2a\" d=\"M 0 0 \nL -3.5 0 \n\" style=\"stroke: #000000; stroke-width: 0.8\"/>\n      </defs>\n      <g>\n       <use xlink:href=\"#m3786934e2a\" x=\"26.930079\" y=\"255.878279\" style=\"stroke: #000000; stroke-width: 0.8\"/>\n      </g>\n     </g>\n     <g id=\"text_8\">\n      <!-- $\\mathdefault{−2}$ -->\n      <g transform=\"translate(7.2 259.337528) scale(0.1 -0.1)\">\n       <use xlink:href=\"#CMSY10-0\" transform=\"scale(0.996264)\"/>\n       <use xlink:href=\"#CMR17-32\" transform=\"translate(77.487468 0) scale(0.996264)\"/>\n      </g>\n     </g>\n    </g>\n    <g id=\"ytick_2\">\n     <g id=\"line2d_9\">\n      <g>\n       <use xlink:href=\"#m3786934e2a\" x=\"26.930079\" y=\"199.331798\" style=\"stroke: #000000; stroke-width: 0.8\"/>\n      </g>\n     </g>\n     <g id=\"text_9\">\n      <!-- $\\mathdefault{0}$ -->\n      <g transform=\"translate(14.948744 202.791048) scale(0.1 -0.1)\">\n       <use xlink:href=\"#CMR17-30\" transform=\"scale(0.996264)\"/>\n      </g>\n     </g>\n    </g>\n    <g id=\"ytick_3\">\n     <g id=\"line2d_10\">\n      <g>\n       <use xlink:href=\"#m3786934e2a\" x=\"26.930079\" y=\"142.785318\" style=\"stroke: #000000; stroke-width: 0.8\"/>\n      </g>\n     </g>\n     <g id=\"text_10\">\n      <!-- $\\mathdefault{2}$ -->\n      <g transform=\"translate(14.948744 146.244567) scale(0.1 -0.1)\">\n       <use xlink:href=\"#CMR17-32\" transform=\"scale(0.996264)\"/>\n      </g>\n     </g>\n    </g>\n    <g id=\"ytick_4\">\n     <g id=\"line2d_11\">\n      <g>\n       <use xlink:href=\"#m3786934e2a\" x=\"26.930079\" y=\"86.238837\" style=\"stroke: #000000; stroke-width: 0.8\"/>\n      </g>\n     </g>\n     <g id=\"text_11\">\n      <!-- $\\mathdefault{4}$ -->\n      <g transform=\"translate(14.948744 89.698086) scale(0.1 -0.1)\">\n       <use xlink:href=\"#CMR17-34\" transform=\"scale(0.996264)\"/>\n      </g>\n     </g>\n    </g>\n    <g id=\"ytick_5\">\n     <g id=\"line2d_12\">\n      <g>\n       <use xlink:href=\"#m3786934e2a\" x=\"26.930079\" y=\"29.692356\" style=\"stroke: #000000; stroke-width: 0.8\"/>\n      </g>\n     </g>\n     <g id=\"text_12\">\n      <!-- $\\mathdefault{6}$ -->\n      <g transform=\"translate(14.948744 33.151606) scale(0.1 -0.1)\">\n       <use xlink:href=\"#CMR17-36\" transform=\"scale(0.996264)\"/>\n      </g>\n     </g>\n    </g>\n   </g>\n   <g id=\"line2d_13\">\n    <path d=\"M 317.892732 140.937282 \nL 317.835637 137.321037 \nL 317.664419 133.708391 \nL 317.379226 130.102952 \nL 316.980369 126.508318 \nL 316.468225 122.928062 \nL 315.84332 119.365757 \nL 315.10626 115.824962 \nL 314.257801 112.309189 \nL 313.298764 108.821964 \nL 312.230135 105.366745 \nL 311.052937 101.946989 \nL 309.768398 98.566101 \nL 308.377757 95.227438 \nL 306.882417 91.934356 \nL 305.283862 88.690099 \nL 303.58368 85.497935 \nL 301.783573 82.361033 \nL 299.885331 79.282533 \nL 297.890871 76.265483 \nL 295.802146 73.31289 \nL 293.621274 70.427718 \nL 291.350384 67.612827 \nL 288.991769 64.871021 \nL 286.547787 62.205062 \nL 284.020852 59.617567 \nL 281.413485 57.111125 \nL 278.728302 54.688269 \nL 275.967971 52.351372 \nL 273.135244 50.102768 \nL 270.23295 47.944734 \nL 267.263963 45.879386 \nL 264.231261 43.908788 \nL 261.137864 42.034909 \nL 257.98686 40.259634 \nL 254.781369 38.584691 \nL 251.524608 37.011804 \nL 248.219817 35.542498 \nL 244.870294 34.178254 \nL 241.479369 32.920422 \nL 238.050412 31.770269 \nL 234.586874 30.72894 \nL 231.09218 29.79746 \nL 227.569829 28.976773 \nL 224.023324 28.267688 \nL 220.456206 27.670933 \nL 216.872007 27.18706 \nL 213.27434 26.816582 \nL 209.666763 26.559863 \nL 206.052884 26.417158 \nL 202.436302 26.388618 \nL 198.820606 26.474254 \nL 195.20943 26.673985 \nL 191.606359 26.987624 \nL 188.014981 27.414847 \nL 184.438884 27.955235 \nL 180.881628 28.608236 \nL 177.346745 29.373217 \nL 173.837791 30.249408 \nL 170.358244 31.235934 \nL 166.911568 32.33181 \nL 163.501212 33.535944 \nL 160.130554 34.84715 \nL 156.802983 36.264107 \nL 153.521799 37.785386 \nL 150.290275 39.409503 \nL 147.11163 41.134828 \nL 143.989038 42.959634 \nL 140.925611 44.882102 \nL 137.924396 46.900331 \nL 134.988365 49.012298 \nL 132.120504 51.215887 \nL 129.323624 53.508914 \nL 126.60053 55.889087 \nL 123.953931 58.354059 \nL 121.38647 60.901325 \nL 118.900702 63.528375 \nL 116.4991 66.232595 \nL 114.184071 69.011301 \nL 111.957907 71.861676 \nL 109.822825 74.780943 \nL 107.780977 77.766135 \nL 105.834383 80.814301 \nL 103.984986 83.922379 \nL 102.234633 87.08731 \nL 100.585062 90.305912 \nL 99.037919 93.574982 \nL 97.594746 96.891266 \nL 96.256974 100.251459 \nL 95.025958 103.652206 \nL 93.902909 107.090121 \nL 92.888948 110.561795 \nL 91.985079 114.063729 \nL 91.192225 117.592451 \nL 90.511162 121.144442 \nL 89.942563 124.716164 \nL 89.487002 128.304051 \nL 89.144943 131.904536 \nL 88.916711 135.514027 \nL 88.802534 139.128917 \nL 88.802534 142.745614 \nL 88.916697 146.360508 \nL 89.144943 149.970022 \nL 89.487002 153.570504 \nL 89.942563 157.158394 \nL 90.511162 160.730116 \nL 91.192225 164.282107 \nL 91.985079 167.810829 \nL 92.888941 171.31276 \nL 93.902902 174.784413 \nL 95.025951 178.222326 \nL 96.256968 181.623076 \nL 97.594733 184.983266 \nL 99.037912 188.299573 \nL 100.585055 191.568647 \nL 102.234626 194.787248 \nL 103.984986 197.952172 \nL 105.834376 201.060264 \nL 107.78097 204.108416 \nL 109.822819 207.093609 \nL 111.95788 210.012855 \nL 114.184044 212.863237 \nL 116.499073 215.64193 \nL 118.900695 218.34617 \nL 121.386464 220.973233 \nL 123.953925 223.520512 \nL 126.600523 225.985465 \nL 129.323617 228.365644 \nL 132.120497 230.658671 \nL 134.988365 232.862267 \nL 137.924369 234.974221 \nL 140.925584 236.992443 \nL 143.989011 238.914917 \nL 147.111599 240.739724 \nL 150.290241 242.465041 \nL 153.521765 244.089152 \nL 156.802949 245.610444 \nL 160.13052 247.027401 \nL 163.501162 248.338601 \nL 166.911572 249.542755 \nL 170.358247 250.638638 \nL 173.837794 251.625157 \nL 177.346752 252.501348 \nL 180.881622 253.266328 \nL 184.438878 253.919336 \nL 188.014974 254.459718 \nL 191.606352 254.88694 \nL 195.209423 255.200579 \nL 198.820599 255.400311 \nL 202.436281 255.485947 \nL 206.052864 255.457406 \nL 209.666743 255.314702 \nL 213.27432 255.057983 \nL 216.871987 254.687505 \nL 220.456173 254.203646 \nL 224.023291 253.60687 \nL 227.569795 252.897792 \nL 231.092147 252.077105 \nL 234.586834 251.145639 \nL 238.050379 250.10431 \nL 241.479369 248.954136 \nL 244.870294 247.696311 \nL 248.219824 246.332067 \nL 251.524614 244.862761 \nL 254.781376 243.289867 \nL 257.986846 241.614944 \nL 261.137864 239.839656 \nL 264.231261 237.965783 \nL 267.263949 235.995192 \nL 270.232937 233.929845 \nL 273.135244 231.771804 \nL 275.967958 229.523213 \nL 278.728288 227.186316 \nL 281.413472 224.763454 \nL 284.020825 222.257018 \nL 286.54776 219.66953 \nL 288.991755 217.003558 \nL 291.350357 214.261758 \nL 293.621233 211.446873 \nL 295.802133 208.561702 \nL 297.890844 205.609122 \nL 299.885318 202.592072 \nL 301.783573 199.513519 \nL 303.58368 196.37662 \nL 305.283862 193.184459 \nL 306.882417 189.940212 \nL 308.377757 186.647127 \nL 309.768398 183.308471 \nL 311.052937 179.927583 \nL 312.230135 176.507823 \nL 313.298764 173.052611 \nL 314.257787 169.565382 \nL 315.106247 166.04962 \nL 315.84332 162.508821 \nL 316.468212 158.946523 \nL 316.980356 155.366271 \nL 317.379226 151.771637 \nL 317.664405 148.166204 \nL 317.835637 144.553561 \nL 317.892732 140.937262 \nL 317.892732 140.937262 \n\" clip-path=\"url(#pbb928a7de1)\" style=\"fill: none; stroke: #1f77b4; stroke-width: 1.5; stroke-linecap: square\"/>\n   </g>\n   <g id=\"line2d_14\">\n    <defs>\n     <path id=\"mae7a4a8785\" d=\"M 0 -3 \nL -0.673542 -0.927051 \nL -2.85317 -0.927051 \nL -1.089814 0.354102 \nL -1.763356 2.427051 \nL -0 1.145898 \nL 1.763356 2.427051 \nL 1.089814 0.354102 \nL 2.85317 -0.927051 \nL 0.673542 -0.927051 \nz\n\" style=\"stroke: #000000; stroke-linejoin: bevel\"/>\n    </defs>\n    <g clip-path=\"url(#pbb928a7de1)\">\n     <use xlink:href=\"#mae7a4a8785\" x=\"321.721463\" y=\"137.168983\" style=\"stroke: #000000; stroke-linejoin: bevel\"/>\n     <use xlink:href=\"#mae7a4a8785\" x=\"323.601194\" y=\"113.503442\" style=\"stroke: #000000; stroke-linejoin: bevel\"/>\n     <use xlink:href=\"#mae7a4a8785\" x=\"311.275372\" y=\"92.790453\" style=\"stroke: #000000; stroke-linejoin: bevel\"/>\n     <use xlink:href=\"#mae7a4a8785\" x=\"293.170485\" y=\"70.981885\" style=\"stroke: #000000; stroke-linejoin: bevel\"/>\n     <use xlink:href=\"#mae7a4a8785\" x=\"276.777967\" y=\"57.775504\" style=\"stroke: #000000; stroke-linejoin: bevel\"/>\n     <use xlink:href=\"#mae7a4a8785\" x=\"254.83897\" y=\"49.585905\" style=\"stroke: #000000; stroke-linejoin: bevel\"/>\n     <use xlink:href=\"#mae7a4a8785\" x=\"229.864918\" y=\"41.470873\" style=\"stroke: #000000; stroke-linejoin: bevel\"/>\n     <use xlink:href=\"#mae7a4a8785\" x=\"212.905871\" y=\"19.296\" style=\"stroke: #000000; stroke-linejoin: bevel\"/>\n     <use xlink:href=\"#mae7a4a8785\" x=\"189.46575\" y=\"32.371729\" style=\"stroke: #000000; stroke-linejoin: bevel\"/>\n     <use xlink:href=\"#mae7a4a8785\" x=\"154.035095\" y=\"32.650451\" style=\"stroke: #000000; stroke-linejoin: bevel\"/>\n     <use xlink:href=\"#mae7a4a8785\" x=\"134.755735\" y=\"40.183503\" style=\"stroke: #000000; stroke-linejoin: bevel\"/>\n     <use xlink:href=\"#mae7a4a8785\" x=\"113.837311\" y=\"57.340166\" style=\"stroke: #000000; stroke-linejoin: bevel\"/>\n     <use xlink:href=\"#mae7a4a8785\" x=\"103.084484\" y=\"82.085062\" style=\"stroke: #000000; stroke-linejoin: bevel\"/>\n     <use xlink:href=\"#mae7a4a8785\" x=\"94.494454\" y=\"108.343033\" style=\"stroke: #000000; stroke-linejoin: bevel\"/>\n     <use xlink:href=\"#mae7a4a8785\" x=\"87.113927\" y=\"131.555163\" style=\"stroke: #000000; stroke-linejoin: bevel\"/>\n     <use xlink:href=\"#mae7a4a8785\" x=\"102.741569\" y=\"154.396112\" style=\"stroke: #000000; stroke-linejoin: bevel\"/>\n     <use xlink:href=\"#mae7a4a8785\" x=\"95.939429\" y=\"177.456915\" style=\"stroke: #000000; stroke-linejoin: bevel\"/>\n     <use xlink:href=\"#mae7a4a8785\" x=\"104.375363\" y=\"194.453985\" style=\"stroke: #000000; stroke-linejoin: bevel\"/>\n     <use xlink:href=\"#mae7a4a8785\" x=\"115.670617\" y=\"217.530173\" style=\"stroke: #000000; stroke-linejoin: bevel\"/>\n     <use xlink:href=\"#mae7a4a8785\" x=\"137.820194\" y=\"233.729102\" style=\"stroke: #000000; stroke-linejoin: bevel\"/>\n     <use xlink:href=\"#mae7a4a8785\" x=\"161.068402\" y=\"243.258054\" style=\"stroke: #000000; stroke-linejoin: bevel\"/>\n     <use xlink:href=\"#mae7a4a8785\" x=\"182.263577\" y=\"259.74424\" style=\"stroke: #000000; stroke-linejoin: bevel\"/>\n     <use xlink:href=\"#mae7a4a8785\" x=\"206.730536\" y=\"261.216\" style=\"stroke: #000000; stroke-linejoin: bevel\"/>\n     <use xlink:href=\"#mae7a4a8785\" x=\"229.767068\" y=\"255.115786\" style=\"stroke: #000000; stroke-linejoin: bevel\"/>\n     <use xlink:href=\"#mae7a4a8785\" x=\"250.430228\" y=\"234.670649\" style=\"stroke: #000000; stroke-linejoin: bevel\"/>\n     <use xlink:href=\"#mae7a4a8785\" x=\"281.406623\" y=\"239.453779\" style=\"stroke: #000000; stroke-linejoin: bevel\"/>\n     <use xlink:href=\"#mae7a4a8785\" x=\"283.788036\" y=\"202.866095\" style=\"stroke: #000000; stroke-linejoin: bevel\"/>\n     <use xlink:href=\"#mae7a4a8785\" x=\"299.150995\" y=\"187.188242\" style=\"stroke: #000000; stroke-linejoin: bevel\"/>\n     <use xlink:href=\"#mae7a4a8785\" x=\"323.866231\" y=\"171.155101\" style=\"stroke: #000000; stroke-linejoin: bevel\"/>\n     <use xlink:href=\"#mae7a4a8785\" x=\"310.608755\" y=\"141.479612\" style=\"stroke: #000000; stroke-linejoin: bevel\"/>\n    </g>\n   </g>\n   <g id=\"patch_3\">\n    <path d=\"M 26.930079 273.312 \nL 26.930079 7.2 \n\" style=\"fill: none; stroke: #000000; stroke-width: 0.8; stroke-linejoin: miter; stroke-linecap: square\"/>\n   </g>\n   <g id=\"patch_4\">\n    <path d=\"M 384.050079 273.312 \nL 384.050079 7.2 \n\" style=\"fill: none; stroke: #000000; stroke-width: 0.8; stroke-linejoin: miter; stroke-linecap: square\"/>\n   </g>\n   <g id=\"patch_5\">\n    <path d=\"M 26.930079 273.312 \nL 384.050079 273.312 \n\" style=\"fill: none; stroke: #000000; stroke-width: 0.8; stroke-linejoin: miter; stroke-linecap: square\"/>\n   </g>\n   <g id=\"patch_6\">\n    <path d=\"M 26.930079 7.2 \nL 384.050079 7.2 \n\" style=\"fill: none; stroke: #000000; stroke-width: 0.8; stroke-linejoin: miter; stroke-linecap: square\"/>\n   </g>\n  </g>\n </g>\n <defs>\n  <clipPath id=\"pbb928a7de1\">\n   <rect x=\"26.930079\" y=\"7.2\" width=\"357.12\" height=\"266.112\"/>\n  </clipPath>\n </defs>\n</svg>\n",
      "text/plain": [
       "<Figure size 640x480 with 1 Axes>"
      ]
     },
     "metadata": {},
     "output_type": "display_data"
    }
   ],
   "source": [
    "r = jnp.sqrt(c1**2 + c2**2 + c3)\n",
    "theta = jnp.linspace(0, 2*jnp.pi, 200)\n",
    "x = r*jnp.cos(theta) + c1\n",
    "y = r*jnp.sin(theta) + c2\n",
    "plt.plot(x, y)\n",
    "plt.plot(xk, yk, \"k*\")\n",
    "plt.axis('equal');"
   ]
  },
  {
   "attachments": {},
   "cell_type": "markdown",
   "metadata": {},
   "source": [
    "## Computing Eigenvalues\n",
    "\n",
    "The eigenvalues of $n \\times n$ matrix $A$ are the roots of its characteristic\n",
    "polynomial $\\text{det}(A - \\lambda I)$. Thus, finding the eigenvalues of\n",
    "$A$ amounts to computing the roots of a polynomial of degree $n$. However, \n",
    "for $n \\geq 5$, it is provably impossible to find an algebraic \n",
    "closed-form solution to this problem. In addition, numerically \n",
    "computing the roots of a polynomial is a famously ill-conditioned problem, \n",
    "meaning that small changes in the coefficients of the polynomial \n",
    "(brought about by small changes in the entries of A) may yield wildly \n",
    "different results. Instead, eigenvalues must be computed with iterative methods."
   ]
  },
  {
   "attachments": {},
   "cell_type": "markdown",
   "metadata": {},
   "source": [
    "### The power method \n",
    "\n",
    "We assume here there is a single eigenvalue of largest magnitude (the 'dominant'\n",
    "eigenvalue). Label them as follows:\n",
    "\n",
    "$$|\\lambda_1| > |\\lambda_2| \\geq \\cdots \\geq |\\lambda_n| > 0 $$\n",
    "\n",
    "The simplest approach to compute $\\lambda_1$ and $v_1$ is the power method.\n",
    "The idea is as follows. Let $x$ be any vector. Then, since $\\{v_j\\}$ is \n",
    "a basis,\n",
    "\n",
    "$$x = c_1 v_1 + \\cdots + c_n v_n$$\n",
    "\n",
    "Now suppose $c_1 \\neq 0$. Then \n",
    "\n",
    "$$Ax = c_1 \\lambda_1 v_1 + \\cdots + c_n \\lambda_n v_n$$\n",
    "\n",
    "and, applying $A$ repeatedly, \n",
    "\n",
    "$$A^k x = \\sum_{j=1}^n c_j \\lambda_j^k v_j$$\n",
    "\n",
    "Since the $\\lambda_1^k$ term is largest in magnitude, in the sequence\n",
    "\n",
    "$$x, Ax, A^2x, A^3x, \\cdots $$\n",
    "\n",
    "We expect the $\\lambda_1^k v_1$ term will dominate so \n",
    "\n",
    "$$A^kx \\approx c \\lambda_1^k v_1 + \\text{smaller terms}$$\n",
    "\n",
    "Each iteration grows the largest term relative to the others, so after \n",
    "enough iteration only the first term will be left. \n",
    "\n",
    "The recurrence relation is\n",
    "\n",
    "$$x_{k+1} = \\frac{Ax_k}{||A x_k||}$$"
   ]
  },
  {
   "cell_type": "code",
   "execution_count": 7,
   "metadata": {
    "vscode": {
     "languageId": "python"
    }
   },
   "outputs": [],
   "source": [
    "def power_method(A, num_iteration: int):\n",
    "    \"\"\"\n",
    "    A: square matrix \n",
    "    \"\"\"\n",
    "    m, n = A.shape\n",
    "    # initialize a random matrix\n",
    "    xk = np.random.rand(n)\n",
    "    xk = xk / np.linalg.norm(xk)\n",
    "    \n",
    "    for _ in range(num_iteration):\n",
    "        xk1 = A @ xk \n",
    "        xk = xk1/np.linalg.norm(xk1)\n",
    "        \n",
    "    return xk, np.dot(xk, A@xk)"
   ]
  },
  {
   "cell_type": "code",
   "execution_count": 8,
   "metadata": {
    "vscode": {
     "languageId": "python"
    }
   },
   "outputs": [
    {
     "data": {
      "text/plain": [
       "array([[0.5, 0.5],\n",
       "       [0.2, 0.8]])"
      ]
     },
     "execution_count": 8,
     "metadata": {},
     "output_type": "execute_result"
    }
   ],
   "source": [
    "a = np.array([[0.5, 0.5], [0.2, 0.8]])\n",
    "a"
   ]
  },
  {
   "cell_type": "code",
   "execution_count": 12,
   "metadata": {
    "vscode": {
     "languageId": "python"
    }
   },
   "outputs": [
    {
     "data": {
      "text/plain": [
       "(array([0.3, 1. ]),\n",
       " array([[-0.92847669, -0.70710678],\n",
       "        [ 0.37139068, -0.70710678]]))"
      ]
     },
     "execution_count": 12,
     "metadata": {},
     "output_type": "execute_result"
    }
   ],
   "source": [
    "np.linalg.eig(a)"
   ]
  },
  {
   "cell_type": "code",
   "execution_count": 13,
   "metadata": {
    "vscode": {
     "languageId": "python"
    }
   },
   "outputs": [],
   "source": [
    "eigenv, eigen = power_method(a, 10)"
   ]
  },
  {
   "cell_type": "code",
   "execution_count": 14,
   "metadata": {
    "vscode": {
     "languageId": "python"
    }
   },
   "outputs": [
    {
     "data": {
      "text/plain": [
       "0.9999997982096809"
      ]
     },
     "execution_count": 14,
     "metadata": {},
     "output_type": "execute_result"
    }
   ],
   "source": [
    "eigen"
   ]
  },
  {
   "cell_type": "code",
   "execution_count": 15,
   "metadata": {
    "vscode": {
     "languageId": "python"
    }
   },
   "outputs": [
    {
     "data": {
      "text/plain": [
       "array([0.70710726, 0.70710631])"
      ]
     },
     "execution_count": 15,
     "metadata": {},
     "output_type": "execute_result"
    }
   ],
   "source": [
    "eigenv"
   ]
  },
  {
   "attachments": {},
   "cell_type": "markdown",
   "metadata": {},
   "source": [
    "Since $Ax = \\lambda x$, left multiplying by $x^T$ on each side results in\n",
    "$x^T Ax = x^T \\lambda x$, hence we could have\n",
    "\n",
    "$$\\lambda = \\frac{x^T Ax }{x^T x }$$\n",
    "\n",
    "This ratio is called the _Rayleigh quotient_. However, since each eigenvector\n",
    "was normalized, we could have $\\lambda = x^T Ax$."
   ]
  },
  {
   "attachments": {},
   "cell_type": "markdown",
   "metadata": {},
   "source": [
    "## The QR Algorithm\n",
    "\n",
    "An obvious shortcoming of the power method is that it only computes one \n",
    "eigenvalue and eigenvector. The QR algorithm, on the other hand, attempts to \n",
    "find all eigenvalues of $A$. \n",
    "\n",
    "First, we compute the QR decomposition of $A_k = Q_k R_k$, where $Q_k$ is \n",
    "an orthogonal matrix and $R_k$ is an upper triangular matrix. Note that\n",
    "\n",
    "$$A_{k+1} = R_kQ_k = Q_k^{-1} Q_k R_k Q_k = Q_k^T A_k Q_k$$\n",
    "\n",
    "so all the $A_k$ are similar and hence they have the same eigenvalues. The\n",
    "series of matrices $(A_k)_{k=0}^\\infty$ converges to the block matrix. "
   ]
  },
  {
   "cell_type": "code",
   "execution_count": 38,
   "metadata": {
    "vscode": {
     "languageId": "python"
    }
   },
   "outputs": [],
   "source": [
    "def qr_algorithm(A, num_iteration):\n",
    "    \"\"\"\n",
    "    QR algorithm for computing eigenvalues \n",
    "    \"\"\"\n",
    "    m, n = A.shape\n",
    "    S = sp.linalg.hessenberg(A)\n",
    "    \n",
    "    for _ in range(num_iteration):\n",
    "        Q, R = sp.linalg.qr(S)\n",
    "        S = R @ Q\n",
    "    \n",
    "    # initialize an empty list for eigenvalues \n",
    "    eigenvalues = []\n",
    "    i = 0\n",
    "    while i < n:\n",
    "        if i == n-1:\n",
    "            eigenvalues.append(S[i, i])\n",
    "        elif jnp.abs(S[i+1, i]) < 1e-10:\n",
    "            eigenvalues.append(S[i, i])\n",
    "        else:\n",
    "            # 2 by 2 matrix\n",
    "            # calculate eigenvalues with quadratic formula\n",
    "            s = S[i:i+2, i:i+2]\n",
    "            b = -np.trace(s)\n",
    "            c = np.linalg.det(s)\n",
    "            root = cmath.sqrt(b**2 - 4*c)\n",
    "            eigen1 = (-b+root)/2\n",
    "            eigen2 = (-b-root)/2\n",
    "            eigenvalues.append(eigen1)\n",
    "            eigenvalues.append(eigen2)\n",
    "            i += 1\n",
    "        i += 1\n",
    "    \n",
    "    return eigenvalues"
   ]
  },
  {
   "attachments": {},
   "cell_type": "markdown",
   "metadata": {},
   "source": [
    "For a $2 \\times 2$ matrix\n",
    "\n",
    "$$A = \\begin{bmatrix} a & b \\\\ c & d \\end{bmatrix}$$\n",
    "\n",
    "To find the eigenvalues of $A$, we must solve $\\text{det}(A - \\lambda I) = 0$ for\n",
    "$\\lambda$. The characteristic polynomial is \n",
    "\n",
    "$$\n",
    "\\begin{aligned}\n",
    "\\text{det}(A - \\lambda I) & = (a-\\lambda)(d-\\lambda) - bc \\\\ \n",
    "& = \\lambda^2 - \\text{Tr}(A) \\lambda + \\text{det}(A)\n",
    "\\end{aligned}\n",
    "$$"
   ]
  },
  {
   "cell_type": "code",
   "execution_count": 45,
   "metadata": {
    "vscode": {
     "languageId": "python"
    }
   },
   "outputs": [
    {
     "data": {
      "text/plain": [
       "(array([ 2.57336218+0.j        , -0.44146503+0.17720228j,\n",
       "        -0.44146503-0.17720228j,  0.20654256+0.j        ,\n",
       "         0.49207671+0.j        ]),\n",
       " array([[ 0.27086018+0.j        ,  0.60019068+0.j        ,\n",
       "          0.60019068-0.j        , -0.66200427+0.j        ,\n",
       "          0.30258121+0.j        ],\n",
       "        [ 0.37687192+0.j        , -0.15406729-0.07883498j,\n",
       "         -0.15406729+0.07883498j,  0.11528007+0.j        ,\n",
       "         -0.78898398+0.j        ],\n",
       "        [ 0.59408345+0.j        , -0.01467454-0.19200696j,\n",
       "         -0.01467454+0.19200696j,  0.62731417+0.j        ,\n",
       "          0.50433325+0.j        ],\n",
       "        [ 0.32591094+0.j        ,  0.35002015+0.34765443j,\n",
       "          0.35002015-0.34765443j,  0.19047457+0.j        ,\n",
       "          0.17313052+0.j        ],\n",
       "        [ 0.57048158+0.j        , -0.57076056-0.05993435j,\n",
       "         -0.57076056+0.05993435j, -0.34446656+0.j        ,\n",
       "          0.04028257+0.j        ]]))"
      ]
     },
     "execution_count": 45,
     "metadata": {},
     "output_type": "execute_result"
    }
   ],
   "source": [
    "A = np.random.random((5, 5))\n",
    "sp.linalg.eig(A)"
   ]
  },
  {
   "cell_type": "code",
   "execution_count": 46,
   "metadata": {
    "vscode": {
     "languageId": "python"
    }
   },
   "outputs": [
    {
     "data": {
      "text/plain": [
       "[2.5733621849579165,\n",
       " (-0.4092960566556618+0.16984451154436964j),\n",
       " (-0.4092960566556618-0.16984451154436964j),\n",
       " (0.42773877303091334+0j),\n",
       " (0.20654255817650588+0j)]"
      ]
     },
     "execution_count": 46,
     "metadata": {},
     "output_type": "execute_result"
    }
   ],
   "source": [
    "qr_algorithm(A, 20)"
   ]
  },
  {
   "attachments": {},
   "cell_type": "markdown",
   "metadata": {},
   "source": [
    "## References\n",
    "\n",
    "1. [The power method](https://services.math.duke.edu/~jtwong/math361-2019/lectures/Lec10eigenvalues.pdf)\n",
    "2. [Power Iteration](https://en.wikipedia.org/wiki/Power_iteration)\n",
    "3. [Eigenvalues for 2 by 2 Matrix](http://math.colgate.edu/~wweckesser/math312Spring05/handouts/TwoByTwoEig.pdf)"
   ]
  },
  {
   "cell_type": "markdown",
   "metadata": {},
   "source": []
  }
 ],
 "metadata": {
  "kernelspec": {
   "display_name": "Python 3 (ipykernel)",
   "language": "python",
   "name": "python3"
  },
  "orig_nbformat": 4,
  "vscode": {
   "interpreter": {
    "hash": "2fe189d182e892b13e31889708ff6fa1238858c117c3508e6a10c00d2dc805a3"
   }
  }
 },
 "nbformat": 4,
 "nbformat_minor": 2
}
