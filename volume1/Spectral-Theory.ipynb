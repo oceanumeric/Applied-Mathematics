{
 "cells": [
  {
   "attachments": {},
   "cell_type": "markdown",
   "metadata": {},
   "source": [
    "# Spectral Theory \n",
    "\n",
    "Spectral theory describes how to decouple the domain of a linear operator into \n",
    "a direct sum of minimal components upon which the operator is invariant. \n",
    "Choosing a basis that respects this direct sum results in a corresponding \n",
    "block-diagonal matrix representation. This has powerful consequences in \n",
    "applications, as it allows many problems to be reduced to a series of \n",
    "small individual parts that can be solved independently and more easily. \n",
    "The key tools for constructing this decomposition are eigenvalues and \n",
    "eigenvectors, which are widely used in many areas of science and engineering \n",
    "and have many important physical interpretations and applications.\n",
    "\n",
    "Most finite-dimensional linear operators have eigenvectors that span the \n",
    "space (hereafter called an eigenbasis) where the corresponding matrix \n",
    "representation is diagonal. In other words, a change of basis to the \n",
    "eigenbasis shows that such a matrix operator is similar to a diagonal matrix. \n",
    "That said, not all matrices can be diagonalized, and some can only be made \n",
    "block diagonal. In the first sections of this chapter, we develop this \n",
    "theory and expound on when a matrix can be diagonalized and when we \n",
    "must settle for block diagonalization."
   ]
  },
  {
   "attachments": {},
   "cell_type": "markdown",
   "metadata": {},
   "source": [
    "## Eigenvalues and Eigenvectors \n",
    "\n",
    "\n",
    "Let $L: V \\to V$ be a linear operator on a finite-dimensional vector space\n",
    "$V$ over $\\mathbb{C}$. A scalar $\\lambda \\in \\mathbb{C}$ is an eigenvalue of \n",
    "$L$ if there exists a nonzero $x \\in V$ such that \n",
    "\n",
    "$$L(x)  = \\lambda x $$\n",
    "\n",
    "Any nonzero $x$ satisfying the above equation is called an eigenvector of \n",
    "$L$ corresponding to the eigenvalue $\\lambda$. For each scalar $\\lambda$, \n",
    "we define the $\\lambda$-eigenspace of $L$ as \n",
    "\n",
    "$$\\sum_{\\lambda} (L) = \\{ x \\in V | L(x) = \\lambda x \\} $$\n",
    "\n",
    "The set of all eigenvalues of $L$, denoted $\\sigma(L)$, is called the spectrum \n",
    "of $L$. \n",
    "\n",
    "Let $A \\in M_n(\\mathbb{F})$ and $\\lambda \\mathbb{C}$. The following are \n",
    "equivalent:\n",
    "\n",
    "- $\\lambda$ is an eigenvalue of $A$ \n",
    "- There is a nonzero $x$ such that $(\\lambda I - A)x = 0$ \n",
    "- $\\lambda I - A$ is singular \n",
    "- det($\\lambda I - A$) = 0"
   ]
  },
  {
   "attachments": {},
   "cell_type": "markdown",
   "metadata": {},
   "source": [
    "Let $A \\in M_n(\\mathbb{F})$. The polynomial \n",
    "\n",
    "$$p_A(z) = \\text{det} (zI - A)$$\n",
    "\n",
    "is called the characteristic polynomial of $A$. "
   ]
  },
  {
   "attachments": {},
   "cell_type": "markdown",
   "metadata": {},
   "source": [
    "A square matrix $A$ is said to be similar to another square matrix $B$ if and \n",
    "only if there exists an invertible matrix $P$ such that \n",
    "\n",
    "$$B = P^{-1} A P$$\n",
    "\n",
    "The matrix $P$ is called change-of-basis matrix. \n",
    "\n",
    "If $A, B \\in M_n(\\mathbb{F})$ are similar matrices, that is, $B = P^{-1}AP$\n",
    "for some nonsingular matrix $P$, then the following hold:\n",
    "\n",
    "- $A$ and $B$ have the same characteristic polynomials\n",
    "- $A$ and $B$ have the same eigenvalues "
   ]
  },
  {
   "attachments": {},
   "cell_type": "markdown",
   "metadata": {},
   "source": [
    "An operator $L$ on a finite-dimensional vector space is called\n",
    "\n",
    "- simple if all of its eigenvalues are distinct\n",
    "- semisimple if there exists an eigenbasis of $L$\n",
    "\n",
    "The matrix $A$ is diagonalizable if it is similar to a diagonal matrix;\n",
    "that is, there exists a nonsingular matrix $P$ and a diagonal matrix $D$ \n",
    "such that \n",
    "\n",
    "$$D = P^{-1}AP$$\n",
    "\n",
    "A matrix is diagonalizable if and only if it is semisimple. "
   ]
  },
  {
   "attachments": {},
   "cell_type": "markdown",
   "metadata": {},
   "source": [
    "## Schur's Lemma \n",
    "\n",
    "\n",
    "Schur's lemma states that any square matrix can be transformed via similarity \n",
    "to an upper-triangular matrix and that the similarity transform can be \n",
    "performed with an orthonormal matrix. At first glance, this may seem unimportant, \n",
    "but Schur's lemma is quite powerful, both theoretically and computationally."
   ]
  },
  {
   "cell_type": "code",
   "execution_count": null,
   "metadata": {},
   "outputs": [],
   "source": []
  }
 ],
 "metadata": {
  "kernelspec": {
   "display_name": "myvenv",
   "language": "python",
   "name": "python3"
  },
  "language_info": {
   "name": "python",
   "version": "3.9.5 (default, Nov 23 2021, 15:27:38) \n[GCC 9.3.0]"
  },
  "orig_nbformat": 4,
  "vscode": {
   "interpreter": {
    "hash": "2fe189d182e892b13e31889708ff6fa1238858c117c3508e6a10c00d2dc805a3"
   }
  }
 },
 "nbformat": 4,
 "nbformat_minor": 2
}
