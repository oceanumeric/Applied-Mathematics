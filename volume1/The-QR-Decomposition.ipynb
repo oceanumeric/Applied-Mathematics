{
 "cells": [
  {
   "cell_type": "markdown",
   "metadata": {},
   "source": [
    "# The QR Decomposition \n",
    "\n",
    "The $QR$ decomposition is a fundamentally important matrix factorization. It\n",
    "is straightforward to implement, is numerically stable, and provides the \n",
    "basis of several important algorithms. In this lab we explore several \n",
    "ways to produce the QR decomposition and implement a few immediate \n",
    "applications.\n",
    "\n",
    "The QR decomposition of a matrix $A$ is a factoration \n",
    "\n",
    "$$A =QR$$ \n",
    "\n",
    "where $Q$ has orthonormal columns and $R$ is upper triangular. Every $m \\times n$\n",
    "matrix $A$ of rank $n \\leq m$ has a QR decomposition, with two main forms. \n",
    "\n",
    "- Reduced QR: Q is $m \\times n$, R is $n \\times n$, and the columns $\\{q_j\\}_{j=1}^n$ \n",
    "of Q form an orthonormal basis of $A$ \n",
    "\n",
    "-Full QR: Q is $m \\times m$, R is $m \\times n$. In this case, the columns\n",
    "$\\{q_j\\}_{j=1}^m$ of Q form an orthonormal basis for all of $F^m$, and the last $m-n$ rows of R only contain zeros. \n",
    "\n",
    "We distinguish between these two forms by writing $\\hat{Q}$ and $\\hat{R}$\n",
    "for reduced decomposition and Q and R for the full decomposition. \n",
    "\n",
    "![QR](../images/QR-decomposition.png)"
   ]
  },
  {
   "cell_type": "code",
   "execution_count": 1,
   "metadata": {
    "vscode": {
     "languageId": "python"
    }
   },
   "outputs": [],
   "source": [
    "import numpy as np\n",
    "import scipy as sp\n",
    "import matplotlib.pyplot as plt"
   ]
  },
  {
   "attachments": {},
   "cell_type": "markdown",
   "metadata": {},
   "source": [
    "## QR via Gram-Schmidt \n",
    "\n",
    "Consider the Gram-Schmidt procedure, with  the vectors to be considered \n",
    "in the process as columns of the matrix $A$. That is \n",
    "\n",
    "$$\n",
    "A = \\begin{bmatrix}\n",
    "\\begin{array}{c|c|c|c}\n",
    "a_1 & a_2 & \\cdots & a_n\n",
    "\\end{array}\n",
    "\\end{bmatrix}\n",
    "$$\n",
    "\n",
    "Then, \n",
    "\n",
    "\\begin{aligned}\n",
    "u_1 = a_1, & \\quad e_1 = \\frac{u_1}{||u_1||} \\\\ \n",
    "u_2 = a_2 - <a_2, e_1> e_1, & \\quad e_2 =  \\frac{u_2}{||u_2||} \\\\\n",
    "\\vdots \n",
    "\\end{aligned}\n",
    "\n",
    "The  resulting QR factorization is \n",
    "\n",
    "$$\n",
    "A = \\begin{bmatrix}\n",
    "\\begin{array}{c|c|c|c}\n",
    "a_1 & a_2 & \\cdots & a_n\n",
    "\\end{array} \n",
    "\\end{bmatrix} = \\begin{bmatrix}\n",
    "\\begin{array}{c|c|c|c}\n",
    "e_1 & e_2 & \\cdots & e_n\n",
    "\\end{array} \n",
    "\\end{bmatrix}  \\begin{bmatrix}\n",
    "a_1 \\cdot e_1 & a_2 \\cdot e_1, & \\cdots & a_n \\cdot e_1 \\\\\n",
    "0 & a_2 \\cdot e_2 & \\cdots & a_n \\cdot e_2 \\\\\n",
    "\\vdots & \n",
    "\\end{bmatrix}\n",
    "$$\n",
    "\n",
    "With the above formula, one could do QR calculation easily by:\n",
    "\n",
    "- normalize each columns for Q \n",
    "- calculate each element for R with dot production "
   ]
  },
  {
   "cell_type": "markdown",
   "metadata": {},
   "source": [
    "The Gram-Schmidt orthonormalization is all about __projection and construct basis__."
   ]
  },
  {
   "cell_type": "markdown",
   "metadata": {},
   "source": [
    "## Modified Gram-Schmidt \n",
    "\n",
    "If the columns of $A$ are close to being linearly dependent, the classical Gram-Schmidt algorithm often produces a set of vectors $\\{q_j\\}_{j=1}^n$ that \n",
    "are not  even close to orthonormal due to __rounding errors__. The _modified Gram-Schmidt algorithm_ is a slight variant of the classical algorithm which\n",
    "more consistently produces a set of vectors that are “very close” to orthonormal."
   ]
  },
  {
   "cell_type": "code",
   "execution_count": 18,
   "metadata": {
    "vscode": {
     "languageId": "python"
    }
   },
   "outputs": [],
   "source": [
    "def modified_gram_schmidt(A: np.ndarray, reduced=False) -> np.ndarray:\n",
    "    \"\"\"\n",
    "    Modified gram schmidt \n",
    "    \"\"\"\n",
    "    m, n = A.shape\n",
    "    # it is important to use float64\n",
    "    # the algorithm will not work for intergers without it \n",
    "    Q = A.copy().astype(np.float64)\n",
    "    R = np.zeros_like(A, dtype=np.float64)\n",
    "    # iterate over columns \n",
    "    for i in range(n):\n",
    "        # calculate the norm of each column \n",
    "        # assign it to the diagonal element of R\n",
    "        R[i, i] = sp.linalg.norm(Q[:, i])\n",
    "        # normalize the ith column of Q \n",
    "        Q[:, i] = Q[:, i]/R[i, i]\n",
    "        for j in range(i+1, n):\n",
    "            # dot production for each element of R\n",
    "            # fix row i and iterate over columns (upper triangle)\n",
    "            R[i, j] = np.dot(Q[:, i], Q[:, j])  # projection coefficient \n",
    "            Q[:, j] = Q[:, j] - R[i, j] * Q[:, i]  # construct new axis\n",
    "    \n",
    "    if reduced:\n",
    "        R=R[:n, :n]\n",
    "\n",
    "    return Q, R"
   ]
  },
  {
   "cell_type": "code",
   "execution_count": 6,
   "metadata": {
    "vscode": {
     "languageId": "python"
    }
   },
   "outputs": [
    {
     "data": {
      "text/plain": [
       "array([[0.32333482, 0.23024711, 0.79377887, 0.62441968],\n",
       "       [0.97541047, 0.75888589, 0.01062005, 0.02472696],\n",
       "       [0.11104001, 0.53814938, 0.04545734, 0.55157035],\n",
       "       [0.72836505, 0.29837837, 0.73311522, 0.64052568],\n",
       "       [0.22060971, 0.12711688, 0.32747317, 0.41494326],\n",
       "       [0.13789786, 0.59117679, 0.37050016, 0.59592555]])"
      ]
     },
     "execution_count": 6,
     "metadata": {},
     "output_type": "execute_result"
    }
   ],
   "source": [
    "np.random.seed(789)\n",
    "A = np.random.random((6, 4))\n",
    "A"
   ]
  },
  {
   "cell_type": "code",
   "execution_count": 21,
   "metadata": {
    "vscode": {
     "languageId": "python"
    }
   },
   "outputs": [
    {
     "name": "stdout",
     "output_type": "stream",
     "text": [
      "(6, 4) (6, 4) (4, 4)\n"
     ]
    }
   ],
   "source": [
    " # use model='economic' for reduced QR\n",
    "Q, R = sp.linalg.qr(A, mode='economic') \n",
    "print(A.shape, Q.shape, R.shape)"
   ]
  },
  {
   "cell_type": "code",
   "execution_count": 17,
   "metadata": {
    "vscode": {
     "languageId": "python"
    }
   },
   "outputs": [
    {
     "data": {
      "text/plain": [
       "True"
      ]
     },
     "execution_count": 17,
     "metadata": {},
     "output_type": "execute_result"
    }
   ],
   "source": [
    "# verify R is upper triangular \n",
    "np.allclose(np.triu(R), R)"
   ]
  },
  {
   "cell_type": "code",
   "execution_count": 18,
   "metadata": {
    "vscode": {
     "languageId": "python"
    }
   },
   "outputs": [
    {
     "data": {
      "text/plain": [
       "True"
      ]
     },
     "execution_count": 18,
     "metadata": {},
     "output_type": "execute_result"
    }
   ],
   "source": [
    "# verify Q is orthonormal \n",
    "np.allclose(Q.T @ Q, np.identity(4))"
   ]
  },
  {
   "cell_type": "code",
   "execution_count": 19,
   "metadata": {
    "vscode": {
     "languageId": "python"
    }
   },
   "outputs": [
    {
     "data": {
      "text/plain": [
       "True"
      ]
     },
     "execution_count": 19,
     "metadata": {},
     "output_type": "execute_result"
    }
   ],
   "source": [
    "np.allclose(Q @ R, A)"
   ]
  },
  {
   "cell_type": "code",
   "execution_count": 27,
   "metadata": {
    "vscode": {
     "languageId": "python"
    }
   },
   "outputs": [
    {
     "name": "stdout",
     "output_type": "stream",
     "text": [
      "(6, 4) (6, 4) (4, 4)\n"
     ]
    }
   ],
   "source": [
    "# test the function\n",
    "Q, R = modified_gram_schmidt(A, reduced=True)\n",
    "print(A.shape, Q.shape, R.shape)"
   ]
  },
  {
   "cell_type": "code",
   "execution_count": 28,
   "metadata": {
    "vscode": {
     "languageId": "python"
    }
   },
   "outputs": [
    {
     "data": {
      "text/plain": [
       "array([[1.29093027, 0.93058617, 0.71992524, 0.71848638],\n",
       "       [0.        , 0.71218958, 0.03473689, 0.54327131],\n",
       "       [0.        , 0.        , 0.94590276, 0.85749941],\n",
       "       [0.        , 0.        , 0.        , 0.2926566 ]])"
      ]
     },
     "execution_count": 28,
     "metadata": {},
     "output_type": "execute_result"
    }
   ],
   "source": [
    "R"
   ]
  },
  {
   "cell_type": "code",
   "execution_count": 29,
   "metadata": {
    "vscode": {
     "languageId": "python"
    }
   },
   "outputs": [
    {
     "data": {
      "text/plain": [
       "True"
      ]
     },
     "execution_count": 29,
     "metadata": {},
     "output_type": "execute_result"
    }
   ],
   "source": [
    "np.allclose(Q @ R, A)"
   ]
  },
  {
   "cell_type": "markdown",
   "metadata": {},
   "source": [
    "The special structures of Q and R immediately provide some simple applications.\n",
    "For instance, we could calcualte the determinant \n",
    "\n",
    "$$det(A) = det(Q)det(R)$$"
   ]
  },
  {
   "cell_type": "code",
   "execution_count": 33,
   "metadata": {
    "vscode": {
     "languageId": "python"
    }
   },
   "outputs": [],
   "source": [
    "def absolute_det(A):\n",
    "    Q, R = modified_gram_schmidt(A, reduced=True)\n",
    "    return np.abs(np.diag(R).prod())"
   ]
  },
  {
   "cell_type": "code",
   "execution_count": 34,
   "metadata": {
    "vscode": {
     "languageId": "python"
    }
   },
   "outputs": [
    {
     "data": {
      "text/plain": [
       "0.254509041280185"
      ]
     },
     "execution_count": 34,
     "metadata": {},
     "output_type": "execute_result"
    }
   ],
   "source": [
    "absolute_det(A)"
   ]
  },
  {
   "cell_type": "markdown",
   "metadata": {},
   "source": [
    "The LU decomposition is usually the matrix factorization of choice to solve the linear system $Ax = b$ because the triangular structures of L and U facilitate forward and backward substitution. However, the QR decomposition avoids the potential numerical issues that come with Gaussian elimination.\n",
    "\n",
    "For $Ax = b$ we have\n",
    "\n",
    "$$QRx = b \\quad \\to Rx = Q^Tb$$"
   ]
  },
  {
   "cell_type": "code",
   "execution_count": 37,
   "metadata": {
    "vscode": {
     "languageId": "python"
    }
   },
   "outputs": [],
   "source": [
    "def backward_substitution(U, y):\n",
    "    \"\"\"\n",
    "    Doing backward substitution \n",
    "    \"\"\"\n",
    "    m, n = U.shape\n",
    "    x = np.zeros_like(y)\n",
    "    \n",
    "    x[-1] = y[-1]/U[-1, -1]\n",
    "    \n",
    "    for i in range(m-2, -1, -1):\n",
    "        x[i] = (y[i]-np.dot(U[i, i:], x[i:])) / U[i, i]\n",
    "        \n",
    "    return x "
   ]
  },
  {
   "cell_type": "code",
   "execution_count": 38,
   "metadata": {
    "vscode": {
     "languageId": "python"
    }
   },
   "outputs": [],
   "source": [
    "def solve_with_qr(A, b):\n",
    "    Q, R = modified_gram_schmidt(A, reduced=True)\n",
    "    y = Q.T @ b \n",
    "    x = backward_substitution(R, y)\n",
    "\n",
    "    return x "
   ]
  },
  {
   "cell_type": "code",
   "execution_count": 39,
   "metadata": {
    "vscode": {
     "languageId": "python"
    }
   },
   "outputs": [
    {
     "data": {
      "text/plain": [
       "array([ 0.05614973,  0.25935829, -0.01871658])"
      ]
     },
     "execution_count": 39,
     "metadata": {},
     "output_type": "execute_result"
    }
   ],
   "source": [
    "A = np.array([[1, 4, 5], [6, 8, 22], [32, 5., 5]])\n",
    "b = np.array([1, 2, 3.])\n",
    "solve_with_qr(A, b)"
   ]
  },
  {
   "cell_type": "markdown",
   "metadata": {},
   "source": [
    "## Motivation for Householder Transformations\n",
    "\n",
    "A fundamental problem to avoid in numerical codes is the situation where one starts with large values and one ends up with small values with large relative errors in them. This is known as catastrophic cancellation.\n",
    "\n",
    "The Gram-Schmidt algorithms can inherently fall victim to this: column $a_j$ is\n",
    "successively reduced in length as components in the directions of $e_1, e_2 , \\cdots$\n",
    "are subtracted as follows: \n",
    "\n",
    "\n",
    "$$\n",
    "A = \\begin{bmatrix}\n",
    "\\begin{array}{c|c|c|c}\n",
    "a_1 & a_2 & \\cdots & a_n\n",
    "\\end{array}\n",
    "\\end{bmatrix}\n",
    "$$\n",
    "\n",
    "Then, \n",
    "\n",
    "\\begin{aligned}\n",
    "u_1 = a_1, & \\quad e_1 = \\frac{u_1}{||u_1||} \\\\ \n",
    "u_2 = a_2 - <a_2, e_1> e_1, & \\quad e_2 =  \\frac{u_2}{||u_2||} \\\\\n",
    "\\vdots \n",
    "\\end{aligned}\n",
    "\n",
    "The  resulting QR factorization is \n",
    "\n",
    "$$\n",
    "A = \\begin{bmatrix}\n",
    "\\begin{array}{c|c|c|c}\n",
    "a_1 & a_2 & \\cdots & a_n\n",
    "\\end{array} \n",
    "\\end{bmatrix} = \\begin{bmatrix}\n",
    "\\begin{array}{c|c|c|c}\n",
    "e_1 & e_2 & \\cdots & e_n\n",
    "\\end{array} \n",
    "\\end{bmatrix}  \\begin{bmatrix}\n",
    "a_1 \\cdot e_1 & a_2 \\cdot e_1, & \\cdots & a_n \\cdot e_1 \\\\\n",
    "0 & a_2 \\cdot e_2 & \\cdots & a_n \\cdot e_2 \\\\\n",
    "\\vdots & \n",
    "\\end{bmatrix}\n",
    "$$\n",
    "\n",
    "This leaves a small vector if $a_j$ was almost in the span of the first\n",
    "$j$ columns of $A$. When you subtract a very small vector, you will have\n",
    "catastrophic cancellation. \n",
    "\n",
    "In the coming sections, we will:\n",
    "\n",
    "- show and explain what is catastrophic caccellation, and how to avoid them\n",
    "- show how a unitary transformation to a matrix or vector inherently \n",
    "perserves lenght. \n",
    "\n",
    "Thus, it would be beneficial if the QR factorization can be implementated as the successive application of unitary transformations. The Householder QR factorization accomplishes this."
   ]
  },
  {
   "cell_type": "markdown",
   "metadata": {},
   "source": [
    "## Catastrophic cancellation\n",
    "\n",
    "In numerical analysis, _catastrophic cancellation_ is the phenomenon that \n",
    "subtracting good approximations to two nearby numbers may yield a very \n",
    "bad approximation to the difference of the original numbers."
   ]
  },
  {
   "cell_type": "code",
   "execution_count": 2,
   "metadata": {
    "vscode": {
     "languageId": "python"
    }
   },
   "outputs": [
    {
     "name": "stdout",
     "output_type": "stream",
     "text": [
      "-1.0000000000065512e-05\n"
     ]
    }
   ],
   "source": [
    "x = 1.48234\n",
    "y = 1.48235\n",
    "x_dbl = np.float64(x)\n",
    "y_dbl = np.float64(y)\n",
    "diff_dbl = x_dbl-y_dbl\n",
    "print(repr(diff_dbl))"
   ]
  },
  {
   "cell_type": "code",
   "execution_count": 3,
   "metadata": {
    "vscode": {
     "languageId": "python"
    }
   },
   "outputs": [
    {
     "name": "stdout",
     "output_type": "stream",
     "text": [
      "-1.001358e-05\n"
     ]
    }
   ],
   "source": [
    "x_sng = np.float32(x)\n",
    "y_sng = np.float32(y)\n",
    "diff_sng = x_sng-y_sng\n",
    "\n",
    "print(diff_sng)"
   ]
  },
  {
   "cell_type": "markdown",
   "metadata": {},
   "source": [
    "Now we will calculate \n",
    "\n",
    "$$f(x) = \\frac{1-\\sqrt{1-t^2}}{t}, \\quad t = \\exp(-\\pi x)$$"
   ]
  },
  {
   "cell_type": "code",
   "execution_count": 23,
   "metadata": {
    "vscode": {
     "languageId": "python"
    }
   },
   "outputs": [
    {
     "data": {
      "text/plain": [
       "3.132781127613669e-08"
      ]
     },
     "execution_count": 23,
     "metadata": {},
     "output_type": "execute_result"
    }
   ],
   "source": [
    "t = np.exp(-np.pi*5.5)\n",
    "t"
   ]
  },
  {
   "cell_type": "code",
   "execution_count": 24,
   "metadata": {
    "vscode": {
     "languageId": "python"
    }
   },
   "outputs": [
    {
     "data": {
      "text/plain": [
       "0.99999997"
      ]
     },
     "execution_count": 24,
     "metadata": {},
     "output_type": "execute_result"
    }
   ],
   "source": [
    "1-3e-8"
   ]
  },
  {
   "cell_type": "code",
   "execution_count": 25,
   "metadata": {
    "vscode": {
     "languageId": "python"
    }
   },
   "outputs": [
    {
     "data": {
      "text/plain": [
       "0.999999999999999"
      ]
     },
     "execution_count": 25,
     "metadata": {},
     "output_type": "execute_result"
    }
   ],
   "source": [
    "1-t**2"
   ]
  },
  {
   "cell_type": "code",
   "execution_count": 26,
   "metadata": {
    "vscode": {
     "languageId": "python"
    }
   },
   "outputs": [
    {
     "data": {
      "text/plain": [
       "0.9999999999999994"
      ]
     },
     "execution_count": 26,
     "metadata": {},
     "output_type": "execute_result"
    }
   ],
   "source": [
    "np.sqrt(1-t**2)"
   ]
  },
  {
   "cell_type": "code",
   "execution_count": 27,
   "metadata": {
    "vscode": {
     "languageId": "python"
    }
   },
   "outputs": [
    {
     "data": {
      "text/plain": [
       "5.551115123125783e-16"
      ]
     },
     "execution_count": 27,
     "metadata": {},
     "output_type": "execute_result"
    }
   ],
   "source": [
    "1-np.sqrt(1-t**2)"
   ]
  },
  {
   "cell_type": "code",
   "execution_count": 21,
   "metadata": {
    "vscode": {
     "languageId": "python"
    }
   },
   "outputs": [
    {
     "data": {
      "image/png": "[encoded data removed]",
      "image/svg+xml": "<?xml version=\"1.0\" encoding=\"utf-8\" standalone=\"no\"?>\n<!DOCTYPE svg PUBLIC \"-//W3C//DTD SVG 1.1//EN\"\n  \"http://www.w3.org/Graphics/SVG/1.1/DTD/svg11.dtd\">\n<svg xmlns:xlink=\"http://www.w3.org/1999/xlink\" width=\"554.245312pt\" height=\"271.7025pt\" viewBox=\"0 0 554.245312 271.7025\" xmlns=\"http://www.w3.org/2000/svg\" version=\"1.1\">\n <metadata>\n  <rdf:RDF xmlns:dc=\"http://purl.org/dc/elements/1.1/\" xmlns:cc=\"http://creativecommons.org/ns#\" xmlns:rdf=\"http://www.w3.org/1999/02/22-rdf-syntax-ns#\">\n   <cc:Work>\n    <dc:type rdf:resource=\"http://purl.org/dc/dcmitype/StillImage\"/>\n    <dc:date>2022-12-06T07:52:05.564426</dc:date>\n    <dc:format>image/svg+xml</dc:format>\n    <dc:creator>\n     <cc:Agent>\n      <dc:title>Matplotlib v3.6.2, https://matplotlib.org/</dc:title>\n     </cc:Agent>\n    </dc:creator>\n   </cc:Work>\n  </rdf:RDF>\n </metadata>\n <defs>\n  <style type=\"text/css\">*{stroke-linejoin: round; stroke-linecap: butt}</style>\n </defs>\n <g id=\"figure_1\">\n  <g id=\"patch_1\">\n   <path d=\"M 0 271.7025 \nL 554.245312 271.7025 \nL 554.245312 0 \nL 0 0 \nz\n\" style=\"fill: #ffffff\"/>\n  </g>\n  <g id=\"axes_1\">\n   <g id=\"patch_2\">\n    <path d=\"M 44.845313 247.824375 \nL 273.11804 247.824375 \nL 273.11804 26.064375 \nL 44.845313 26.064375 \nz\n\" style=\"fill: #ffffff\"/>\n   </g>\n   <g id=\"matplotlib.axis_1\">\n    <g id=\"xtick_1\">\n     <g id=\"line2d_1\">\n      <defs>\n       <path id=\"m536303866e\" d=\"M 0 0 \nL 0 3.5 \n\" style=\"stroke: #000000; stroke-width: 0.8\"/>\n      </defs>\n      <g>\n       <use xlink:href=\"#m536303866e\" x=\"55.221346\" y=\"247.824375\" style=\"stroke: #000000; stroke-width: 0.8\"/>\n      </g>\n     </g>\n     <g id=\"text_1\">\n      <!-- 5 -->\n      <g transform=\"translate(52.040096 262.422812) scale(0.1 -0.1)\">\n       <defs>\n        <path id=\"DejaVuSans-35\" d=\"M 691 4666 \nL 3169 4666 \nL 3169 4134 \nL 1269 4134 \nL 1269 2991 \nQ 1406 3038 1543 3061 \nQ 1681 3084 1819 3084 \nQ 2600 3084 3056 2656 \nQ 3513 2228 3513 1497 \nQ 3513 744 3044 326 \nQ 2575 -91 1722 -91 \nQ 1428 -91 1123 -41 \nQ 819 9 494 109 \nL 494 744 \nQ 775 591 1075 516 \nQ 1375 441 1709 441 \nQ 2250 441 2565 725 \nQ 2881 1009 2881 1497 \nQ 2881 1984 2565 2268 \nQ 2250 2553 1709 2553 \nQ 1456 2553 1204 2497 \nQ 953 2441 691 2322 \nL 691 4666 \nz\n\" transform=\"scale(0.015625)\"/>\n       </defs>\n       <use xlink:href=\"#DejaVuSans-35\"/>\n      </g>\n     </g>\n    </g>\n    <g id=\"xtick_2\">\n     <g id=\"line2d_2\">\n      <g>\n       <use xlink:href=\"#m536303866e\" x=\"96.725478\" y=\"247.824375\" style=\"stroke: #000000; stroke-width: 0.8\"/>\n      </g>\n     </g>\n     <g id=\"text_2\">\n      <!-- 6 -->\n      <g transform=\"translate(93.544228 262.422812) scale(0.1 -0.1)\">\n       <defs>\n        <path id=\"DejaVuSans-36\" d=\"M 2113 2584 \nQ 1688 2584 1439 2293 \nQ 1191 2003 1191 1497 \nQ 1191 994 1439 701 \nQ 1688 409 2113 409 \nQ 2538 409 2786 701 \nQ 3034 994 3034 1497 \nQ 3034 2003 2786 2293 \nQ 2538 2584 2113 2584 \nz\nM 3366 4563 \nL 3366 3988 \nQ 3128 4100 2886 4159 \nQ 2644 4219 2406 4219 \nQ 1781 4219 1451 3797 \nQ 1122 3375 1075 2522 \nQ 1259 2794 1537 2939 \nQ 1816 3084 2150 3084 \nQ 2853 3084 3261 2657 \nQ 3669 2231 3669 1497 \nQ 3669 778 3244 343 \nQ 2819 -91 2113 -91 \nQ 1303 -91 875 529 \nQ 447 1150 447 2328 \nQ 447 3434 972 4092 \nQ 1497 4750 2381 4750 \nQ 2619 4750 2861 4703 \nQ 3103 4656 3366 4563 \nz\n\" transform=\"scale(0.015625)\"/>\n       </defs>\n       <use xlink:href=\"#DejaVuSans-36\"/>\n      </g>\n     </g>\n    </g>\n    <g id=\"xtick_3\">\n     <g id=\"line2d_3\">\n      <g>\n       <use xlink:href=\"#m536303866e\" x=\"138.22961\" y=\"247.824375\" style=\"stroke: #000000; stroke-width: 0.8\"/>\n      </g>\n     </g>\n     <g id=\"text_3\">\n      <!-- 7 -->\n      <g transform=\"translate(135.04836 262.422812) scale(0.1 -0.1)\">\n       <defs>\n        <path id=\"DejaVuSans-37\" d=\"M 525 4666 \nL 3525 4666 \nL 3525 4397 \nL 1831 0 \nL 1172 0 \nL 2766 4134 \nL 525 4134 \nL 525 4666 \nz\n\" transform=\"scale(0.015625)\"/>\n       </defs>\n       <use xlink:href=\"#DejaVuSans-37\"/>\n      </g>\n     </g>\n    </g>\n    <g id=\"xtick_4\">\n     <g id=\"line2d_4\">\n      <g>\n       <use xlink:href=\"#m536303866e\" x=\"179.733742\" y=\"247.824375\" style=\"stroke: #000000; stroke-width: 0.8\"/>\n      </g>\n     </g>\n     <g id=\"text_4\">\n      <!-- 8 -->\n      <g transform=\"translate(176.552492 262.422812) scale(0.1 -0.1)\">\n       <defs>\n        <path id=\"DejaVuSans-38\" d=\"M 2034 2216 \nQ 1584 2216 1326 1975 \nQ 1069 1734 1069 1313 \nQ 1069 891 1326 650 \nQ 1584 409 2034 409 \nQ 2484 409 2743 651 \nQ 3003 894 3003 1313 \nQ 3003 1734 2745 1975 \nQ 2488 2216 2034 2216 \nz\nM 1403 2484 \nQ 997 2584 770 2862 \nQ 544 3141 544 3541 \nQ 544 4100 942 4425 \nQ 1341 4750 2034 4750 \nQ 2731 4750 3128 4425 \nQ 3525 4100 3525 3541 \nQ 3525 3141 3298 2862 \nQ 3072 2584 2669 2484 \nQ 3125 2378 3379 2068 \nQ 3634 1759 3634 1313 \nQ 3634 634 3220 271 \nQ 2806 -91 2034 -91 \nQ 1263 -91 848 271 \nQ 434 634 434 1313 \nQ 434 1759 690 2068 \nQ 947 2378 1403 2484 \nz\nM 1172 3481 \nQ 1172 3119 1398 2916 \nQ 1625 2713 2034 2713 \nQ 2441 2713 2670 2916 \nQ 2900 3119 2900 3481 \nQ 2900 3844 2670 4047 \nQ 2441 4250 2034 4250 \nQ 1625 4250 1398 4047 \nQ 1172 3844 1172 3481 \nz\n\" transform=\"scale(0.015625)\"/>\n       </defs>\n       <use xlink:href=\"#DejaVuSans-38\"/>\n      </g>\n     </g>\n    </g>\n    <g id=\"xtick_5\">\n     <g id=\"line2d_5\">\n      <g>\n       <use xlink:href=\"#m536303866e\" x=\"221.237874\" y=\"247.824375\" style=\"stroke: #000000; stroke-width: 0.8\"/>\n      </g>\n     </g>\n     <g id=\"text_5\">\n      <!-- 9 -->\n      <g transform=\"translate(218.056624 262.422812) scale(0.1 -0.1)\">\n       <defs>\n        <path id=\"DejaVuSans-39\" d=\"M 703 97 \nL 703 672 \nQ 941 559 1184 500 \nQ 1428 441 1663 441 \nQ 2288 441 2617 861 \nQ 2947 1281 2994 2138 \nQ 2813 1869 2534 1725 \nQ 2256 1581 1919 1581 \nQ 1219 1581 811 2004 \nQ 403 2428 403 3163 \nQ 403 3881 828 4315 \nQ 1253 4750 1959 4750 \nQ 2769 4750 3195 4129 \nQ 3622 3509 3622 2328 \nQ 3622 1225 3098 567 \nQ 2575 -91 1691 -91 \nQ 1453 -91 1209 -44 \nQ 966 3 703 97 \nz\nM 1959 2075 \nQ 2384 2075 2632 2365 \nQ 2881 2656 2881 3163 \nQ 2881 3666 2632 3958 \nQ 2384 4250 1959 4250 \nQ 1534 4250 1286 3958 \nQ 1038 3666 1038 3163 \nQ 1038 2656 1286 2365 \nQ 1534 2075 1959 2075 \nz\n\" transform=\"scale(0.015625)\"/>\n       </defs>\n       <use xlink:href=\"#DejaVuSans-39\"/>\n      </g>\n     </g>\n    </g>\n    <g id=\"xtick_6\">\n     <g id=\"line2d_6\">\n      <g>\n       <use xlink:href=\"#m536303866e\" x=\"262.742007\" y=\"247.824375\" style=\"stroke: #000000; stroke-width: 0.8\"/>\n      </g>\n     </g>\n     <g id=\"text_6\">\n      <!-- 10 -->\n      <g transform=\"translate(256.379507 262.422812) scale(0.1 -0.1)\">\n       <defs>\n        <path id=\"DejaVuSans-31\" d=\"M 794 531 \nL 1825 531 \nL 1825 4091 \nL 703 3866 \nL 703 4441 \nL 1819 4666 \nL 2450 4666 \nL 2450 531 \nL 3481 531 \nL 3481 0 \nL 794 0 \nL 794 531 \nz\n\" transform=\"scale(0.015625)\"/>\n        <path id=\"DejaVuSans-30\" d=\"M 2034 4250 \nQ 1547 4250 1301 3770 \nQ 1056 3291 1056 2328 \nQ 1056 1369 1301 889 \nQ 1547 409 2034 409 \nQ 2525 409 2770 889 \nQ 3016 1369 3016 2328 \nQ 3016 3291 2770 3770 \nQ 2525 4250 2034 4250 \nz\nM 2034 4750 \nQ 2819 4750 3233 4129 \nQ 3647 3509 3647 2328 \nQ 3647 1150 3233 529 \nQ 2819 -91 2034 -91 \nQ 1250 -91 836 529 \nQ 422 1150 422 2328 \nQ 422 3509 836 4129 \nQ 1250 4750 2034 4750 \nz\n\" transform=\"scale(0.015625)\"/>\n       </defs>\n       <use xlink:href=\"#DejaVuSans-31\"/>\n       <use xlink:href=\"#DejaVuSans-30\" x=\"63.623047\"/>\n      </g>\n     </g>\n    </g>\n   </g>\n   <g id=\"matplotlib.axis_2\">\n    <g id=\"ytick_1\">\n     <g id=\"line2d_7\">\n      <defs>\n       <path id=\"m03f2b705e5\" d=\"M 0 0 \nL -3.5 0 \n\" style=\"stroke: #000000; stroke-width: 0.8\"/>\n      </defs>\n      <g>\n       <use xlink:href=\"#m03f2b705e5\" x=\"44.845313\" y=\"247.765625\" style=\"stroke: #000000; stroke-width: 0.8\"/>\n      </g>\n     </g>\n     <g id=\"text_7\">\n      <!-- −1.00 -->\n      <g transform=\"translate(7.2 251.564219) scale(0.1 -0.1)\">\n       <defs>\n        <path id=\"DejaVuSans-2212\" d=\"M 678 2272 \nL 4684 2272 \nL 4684 1741 \nL 678 1741 \nL 678 2272 \nz\n\" transform=\"scale(0.015625)\"/>\n        <path id=\"DejaVuSans-2e\" d=\"M 684 794 \nL 1344 794 \nL 1344 0 \nL 684 0 \nL 684 794 \nz\n\" transform=\"scale(0.015625)\"/>\n       </defs>\n       <use xlink:href=\"#DejaVuSans-2212\"/>\n       <use xlink:href=\"#DejaVuSans-31\" x=\"83.789062\"/>\n       <use xlink:href=\"#DejaVuSans-2e\" x=\"147.412109\"/>\n       <use xlink:href=\"#DejaVuSans-30\" x=\"179.199219\"/>\n       <use xlink:href=\"#DejaVuSans-30\" x=\"242.822266\"/>\n      </g>\n     </g>\n    </g>\n    <g id=\"ytick_2\">\n     <g id=\"line2d_8\">\n      <g>\n       <use xlink:href=\"#m03f2b705e5\" x=\"44.845313\" y=\"220.21875\" style=\"stroke: #000000; stroke-width: 0.8\"/>\n      </g>\n     </g>\n     <g id=\"text_8\">\n      <!-- −0.75 -->\n      <g transform=\"translate(7.2 224.017344) scale(0.1 -0.1)\">\n       <use xlink:href=\"#DejaVuSans-2212\"/>\n       <use xlink:href=\"#DejaVuSans-30\" x=\"83.789062\"/>\n       <use xlink:href=\"#DejaVuSans-2e\" x=\"147.412109\"/>\n       <use xlink:href=\"#DejaVuSans-37\" x=\"179.199219\"/>\n       <use xlink:href=\"#DejaVuSans-35\" x=\"242.822266\"/>\n      </g>\n     </g>\n    </g>\n    <g id=\"ytick_3\">\n     <g id=\"line2d_9\">\n      <g>\n       <use xlink:href=\"#m03f2b705e5\" x=\"44.845313\" y=\"192.671875\" style=\"stroke: #000000; stroke-width: 0.8\"/>\n      </g>\n     </g>\n     <g id=\"text_9\">\n      <!-- −0.50 -->\n      <g transform=\"translate(7.2 196.470469) scale(0.1 -0.1)\">\n       <use xlink:href=\"#DejaVuSans-2212\"/>\n       <use xlink:href=\"#DejaVuSans-30\" x=\"83.789062\"/>\n       <use xlink:href=\"#DejaVuSans-2e\" x=\"147.412109\"/>\n       <use xlink:href=\"#DejaVuSans-35\" x=\"179.199219\"/>\n       <use xlink:href=\"#DejaVuSans-30\" x=\"242.822266\"/>\n      </g>\n     </g>\n    </g>\n    <g id=\"ytick_4\">\n     <g id=\"line2d_10\">\n      <g>\n       <use xlink:href=\"#m03f2b705e5\" x=\"44.845313\" y=\"165.125\" style=\"stroke: #000000; stroke-width: 0.8\"/>\n      </g>\n     </g>\n     <g id=\"text_10\">\n      <!-- −0.25 -->\n      <g transform=\"translate(7.2 168.923594) scale(0.1 -0.1)\">\n       <defs>\n        <path id=\"DejaVuSans-32\" d=\"M 1228 531 \nL 3431 531 \nL 3431 0 \nL 469 0 \nL 469 531 \nQ 828 903 1448 1529 \nQ 2069 2156 2228 2338 \nQ 2531 2678 2651 2914 \nQ 2772 3150 2772 3378 \nQ 2772 3750 2511 3984 \nQ 2250 4219 1831 4219 \nQ 1534 4219 1204 4116 \nQ 875 4013 500 3803 \nL 500 4441 \nQ 881 4594 1212 4672 \nQ 1544 4750 1819 4750 \nQ 2544 4750 2975 4387 \nQ 3406 4025 3406 3419 \nQ 3406 3131 3298 2873 \nQ 3191 2616 2906 2266 \nQ 2828 2175 2409 1742 \nQ 1991 1309 1228 531 \nz\n\" transform=\"scale(0.015625)\"/>\n       </defs>\n       <use xlink:href=\"#DejaVuSans-2212\"/>\n       <use xlink:href=\"#DejaVuSans-30\" x=\"83.789062\"/>\n       <use xlink:href=\"#DejaVuSans-2e\" x=\"147.412109\"/>\n       <use xlink:href=\"#DejaVuSans-32\" x=\"179.199219\"/>\n       <use xlink:href=\"#DejaVuSans-35\" x=\"242.822266\"/>\n      </g>\n     </g>\n    </g>\n    <g id=\"ytick_5\">\n     <g id=\"line2d_11\">\n      <g>\n       <use xlink:href=\"#m03f2b705e5\" x=\"44.845313\" y=\"137.578125\" style=\"stroke: #000000; stroke-width: 0.8\"/>\n      </g>\n     </g>\n     <g id=\"text_11\">\n      <!-- −0.00 -->\n      <g transform=\"translate(7.2 141.376719) scale(0.1 -0.1)\">\n       <use xlink:href=\"#DejaVuSans-2212\"/>\n       <use xlink:href=\"#DejaVuSans-30\" x=\"83.789062\"/>\n       <use xlink:href=\"#DejaVuSans-2e\" x=\"147.412109\"/>\n       <use xlink:href=\"#DejaVuSans-30\" x=\"179.199219\"/>\n       <use xlink:href=\"#DejaVuSans-30\" x=\"242.822266\"/>\n      </g>\n     </g>\n    </g>\n    <g id=\"ytick_6\">\n     <g id=\"line2d_12\">\n      <g>\n       <use xlink:href=\"#m03f2b705e5\" x=\"44.845313\" y=\"110.03125\" style=\"stroke: #000000; stroke-width: 0.8\"/>\n      </g>\n     </g>\n     <g id=\"text_12\">\n      <!-- 0.25 -->\n      <g transform=\"translate(15.579688 113.829844) scale(0.1 -0.1)\">\n       <use xlink:href=\"#DejaVuSans-30\"/>\n       <use xlink:href=\"#DejaVuSans-2e\" x=\"63.623047\"/>\n       <use xlink:href=\"#DejaVuSans-32\" x=\"95.410156\"/>\n       <use xlink:href=\"#DejaVuSans-35\" x=\"159.033203\"/>\n      </g>\n     </g>\n    </g>\n    <g id=\"ytick_7\">\n     <g id=\"line2d_13\">\n      <g>\n       <use xlink:href=\"#m03f2b705e5\" x=\"44.845313\" y=\"82.484375\" style=\"stroke: #000000; stroke-width: 0.8\"/>\n      </g>\n     </g>\n     <g id=\"text_13\">\n      <!-- 0.50 -->\n      <g transform=\"translate(15.579688 86.282969) scale(0.1 -0.1)\">\n       <use xlink:href=\"#DejaVuSans-30\"/>\n       <use xlink:href=\"#DejaVuSans-2e\" x=\"63.623047\"/>\n       <use xlink:href=\"#DejaVuSans-35\" x=\"95.410156\"/>\n       <use xlink:href=\"#DejaVuSans-30\" x=\"159.033203\"/>\n      </g>\n     </g>\n    </g>\n    <g id=\"ytick_8\">\n     <g id=\"line2d_14\">\n      <g>\n       <use xlink:href=\"#m03f2b705e5\" x=\"44.845313\" y=\"54.953125\" style=\"stroke: #000000; stroke-width: 0.8\"/>\n      </g>\n     </g>\n     <g id=\"text_14\">\n      <!-- 0.75 -->\n      <g transform=\"translate(15.579688 58.751719) scale(0.1 -0.1)\">\n       <use xlink:href=\"#DejaVuSans-30\"/>\n       <use xlink:href=\"#DejaVuSans-2e\" x=\"63.623047\"/>\n       <use xlink:href=\"#DejaVuSans-37\" x=\"95.410156\"/>\n       <use xlink:href=\"#DejaVuSans-35\" x=\"159.033203\"/>\n      </g>\n     </g>\n    </g>\n    <g id=\"ytick_9\">\n     <g id=\"line2d_15\">\n      <g>\n       <use xlink:href=\"#m03f2b705e5\" x=\"44.845313\" y=\"27.40625\" style=\"stroke: #000000; stroke-width: 0.8\"/>\n      </g>\n     </g>\n     <g id=\"text_15\">\n      <!-- 1.00 -->\n      <g transform=\"translate(15.579688 31.204844) scale(0.1 -0.1)\">\n       <use xlink:href=\"#DejaVuSans-31\"/>\n       <use xlink:href=\"#DejaVuSans-2e\" x=\"63.623047\"/>\n       <use xlink:href=\"#DejaVuSans-30\" x=\"95.410156\"/>\n       <use xlink:href=\"#DejaVuSans-30\" x=\"159.033203\"/>\n      </g>\n     </g>\n    </g>\n    <g id=\"text_16\">\n     <!-- 1e−12−10e−1 -->\n     <g transform=\"translate(44.845313 23.064375) scale(0.1 -0.1)\">\n      <defs>\n       <path id=\"DejaVuSans-65\" d=\"M 3597 1894 \nL 3597 1613 \nL 953 1613 \nQ 991 1019 1311 708 \nQ 1631 397 2203 397 \nQ 2534 397 2845 478 \nQ 3156 559 3463 722 \nL 3463 178 \nQ 3153 47 2828 -22 \nQ 2503 -91 2169 -91 \nQ 1331 -91 842 396 \nQ 353 884 353 1716 \nQ 353 2575 817 3079 \nQ 1281 3584 2069 3584 \nQ 2775 3584 3186 3129 \nQ 3597 2675 3597 1894 \nz\nM 3022 2063 \nQ 3016 2534 2758 2815 \nQ 2500 3097 2075 3097 \nQ 1594 3097 1305 2825 \nQ 1016 2553 972 2059 \nL 3022 2063 \nz\n\" transform=\"scale(0.015625)\"/>\n      </defs>\n      <use xlink:href=\"#DejaVuSans-31\"/>\n      <use xlink:href=\"#DejaVuSans-65\" x=\"63.623047\"/>\n      <use xlink:href=\"#DejaVuSans-2212\" x=\"125.146484\"/>\n      <use xlink:href=\"#DejaVuSans-31\" x=\"208.935547\"/>\n      <use xlink:href=\"#DejaVuSans-32\" x=\"272.558594\"/>\n      <use xlink:href=\"#DejaVuSans-2212\" x=\"336.181641\"/>\n      <use xlink:href=\"#DejaVuSans-31\" x=\"419.970703\"/>\n      <use xlink:href=\"#DejaVuSans-30\" x=\"483.59375\"/>\n      <use xlink:href=\"#DejaVuSans-65\" x=\"547.216797\"/>\n      <use xlink:href=\"#DejaVuSans-2212\" x=\"608.740234\"/>\n      <use xlink:href=\"#DejaVuSans-31\" x=\"692.529297\"/>\n     </g>\n    </g>\n   </g>\n   <g id=\"line2d_16\">\n    <path d=\"M 55.221346 136.3125 \nL 57.090901 136.640625 \nL 60.414555 137 \nL 62.076382 137.140625 \nL 66.023222 137.328125 \nL 70.385518 137.4375 \nL 72.462802 137.484375 \nL 262.742007 137.578125 \nL 262.742007 137.578125 \n\" clip-path=\"url(#pf7dd4afa30)\" style=\"fill: none; stroke: #1f77b4; stroke-width: 1.5; stroke-linecap: square\"/>\n   </g>\n   <g id=\"patch_3\">\n    <path d=\"M 44.845313 247.84375 \nL 44.845313 26.078125 \n\" style=\"fill: none; stroke: #000000; stroke-width: 0.8; stroke-linejoin: miter; stroke-linecap: square\"/>\n   </g>\n   <g id=\"patch_4\">\n    <path d=\"M 273.11804 247.84375 \nL 273.11804 26.078125 \n\" style=\"fill: none; stroke: #000000; stroke-width: 0.8; stroke-linejoin: miter; stroke-linecap: square\"/>\n   </g>\n   <g id=\"patch_5\">\n    <path d=\"M 44.845313 247.824375 \nL 273.11804 247.824375 \n\" style=\"fill: none; stroke: #000000; stroke-width: 0.8; stroke-linejoin: miter; stroke-linecap: square\"/>\n   </g>\n   <g id=\"patch_6\">\n    <path d=\"M 44.845313 26.064375 \nL 273.11804 26.064375 \n\" style=\"fill: none; stroke: #000000; stroke-width: 0.8; stroke-linejoin: miter; stroke-linecap: square\"/>\n   </g>\n   <g id=\"text_17\">\n    <!-- $-\\sqrt{1-t^2}$ -->\n    <g transform=\"translate(131.501676 20.064375) scale(0.12 -0.12)\">\n     <defs>\n      <path id=\"STIXSizeOneSym-Regular-221a\" d=\"M 6970 9933 \nL 3373 -1888 \nL 3104 -1888 \nL 1626 2918 \nQ 1555 3149 1465 3251 \nQ 1376 3354 1229 3354 \nQ 1011 3354 794 3181 \nL 717 3309 \nL 1766 4115 \nL 1926 4115 \nL 3379 -602 \nL 3405 -602 \nL 6605 9933 \nL 6970 9933 \nz\n\" transform=\"scale(0.015625)\"/>\n      <path id=\"DejaVuSans-Oblique-74\" d=\"M 2706 3500 \nL 2619 3053 \nL 1472 3053 \nL 1100 1153 \nQ 1081 1047 1072 975 \nQ 1063 903 1063 863 \nQ 1063 663 1183 572 \nQ 1303 481 1569 481 \nL 2150 481 \nL 2053 0 \nL 1503 0 \nQ 991 0 739 200 \nQ 488 400 488 806 \nQ 488 878 497 964 \nQ 506 1050 525 1153 \nL 897 3053 \nL 409 3053 \nL 500 3500 \nL 978 3500 \nL 1172 4494 \nL 1747 4494 \nL 1556 3500 \nL 2706 3500 \nz\n\" transform=\"scale(0.015625)\"/>\n     </defs>\n     <use xlink:href=\"#DejaVuSans-2212\" transform=\"translate(0 0.09375)\"/>\n     <use xlink:href=\"#STIXSizeOneSym-Regular-221a\" transform=\"translate(83.789062 19.5625) scale(0.657728)\"/>\n     <use xlink:href=\"#DejaVuSans-31\" transform=\"translate(165.786804 0.515625)\"/>\n     <use xlink:href=\"#DejaVuSans-2212\" transform=\"translate(248.892273 0.515625)\"/>\n     <use xlink:href=\"#DejaVuSans-Oblique-74\" transform=\"translate(352.163757 0.515625)\"/>\n     <use xlink:href=\"#DejaVuSans-32\" transform=\"translate(398.013263 38.796875) scale(0.7)\"/>\n     <path d=\"M 153.286804 115.5 \nL 153.286804 121.75 \nL 457.78377 121.75 \nL 457.78377 115.5 \nL 153.286804 115.5 \nz\n\"/>\n    </g>\n   </g>\n  </g>\n  <g id=\"axes_2\">\n   <g id=\"patch_7\">\n    <path d=\"M 318.772585 247.824375 \nL 547.045312 247.824375 \nL 547.045312 26.064375 \nL 318.772585 26.064375 \nz\n\" style=\"fill: #ffffff\"/>\n   </g>\n   <g id=\"matplotlib.axis_3\">\n    <g id=\"xtick_7\">\n     <g id=\"line2d_17\">\n      <g>\n       <use xlink:href=\"#m536303866e\" x=\"329.148618\" y=\"247.824375\" style=\"stroke: #000000; stroke-width: 0.8\"/>\n      </g>\n     </g>\n     <g id=\"text_18\">\n      <!-- 5 -->\n      <g transform=\"translate(325.967368 262.422812) scale(0.1 -0.1)\">\n       <use xlink:href=\"#DejaVuSans-35\"/>\n      </g>\n     </g>\n    </g>\n    <g id=\"xtick_8\">\n     <g id=\"line2d_18\">\n      <g>\n       <use xlink:href=\"#m536303866e\" x=\"370.652751\" y=\"247.824375\" style=\"stroke: #000000; stroke-width: 0.8\"/>\n      </g>\n     </g>\n     <g id=\"text_19\">\n      <!-- 6 -->\n      <g transform=\"translate(367.471501 262.422812) scale(0.1 -0.1)\">\n       <use xlink:href=\"#DejaVuSans-36\"/>\n      </g>\n     </g>\n    </g>\n    <g id=\"xtick_9\">\n     <g id=\"line2d_19\">\n      <g>\n       <use xlink:href=\"#m536303866e\" x=\"412.156883\" y=\"247.824375\" style=\"stroke: #000000; stroke-width: 0.8\"/>\n      </g>\n     </g>\n     <g id=\"text_20\">\n      <!-- 7 -->\n      <g transform=\"translate(408.975633 262.422812) scale(0.1 -0.1)\">\n       <use xlink:href=\"#DejaVuSans-37\"/>\n      </g>\n     </g>\n    </g>\n    <g id=\"xtick_10\">\n     <g id=\"line2d_20\">\n      <g>\n       <use xlink:href=\"#m536303866e\" x=\"453.661015\" y=\"247.824375\" style=\"stroke: #000000; stroke-width: 0.8\"/>\n      </g>\n     </g>\n     <g id=\"text_21\">\n      <!-- 8 -->\n      <g transform=\"translate(450.479765 262.422812) scale(0.1 -0.1)\">\n       <use xlink:href=\"#DejaVuSans-38\"/>\n      </g>\n     </g>\n    </g>\n    <g id=\"xtick_11\">\n     <g id=\"line2d_21\">\n      <g>\n       <use xlink:href=\"#m536303866e\" x=\"495.165147\" y=\"247.824375\" style=\"stroke: #000000; stroke-width: 0.8\"/>\n      </g>\n     </g>\n     <g id=\"text_22\">\n      <!-- 9 -->\n      <g transform=\"translate(491.983897 262.422812) scale(0.1 -0.1)\">\n       <use xlink:href=\"#DejaVuSans-39\"/>\n      </g>\n     </g>\n    </g>\n    <g id=\"xtick_12\">\n     <g id=\"line2d_22\">\n      <g>\n       <use xlink:href=\"#m536303866e\" x=\"536.669279\" y=\"247.824375\" style=\"stroke: #000000; stroke-width: 0.8\"/>\n      </g>\n     </g>\n     <g id=\"text_23\">\n      <!-- 10 -->\n      <g transform=\"translate(530.306779 262.422812) scale(0.1 -0.1)\">\n       <use xlink:href=\"#DejaVuSans-31\"/>\n       <use xlink:href=\"#DejaVuSans-30\" x=\"63.623047\"/>\n      </g>\n     </g>\n    </g>\n   </g>\n   <g id=\"matplotlib.axis_4\">\n    <g id=\"ytick_10\">\n     <g id=\"line2d_23\">\n      <g>\n       <use xlink:href=\"#m03f2b705e5\" x=\"318.772585\" y=\"237.744375\" style=\"stroke: #000000; stroke-width: 0.8\"/>\n      </g>\n     </g>\n     <g id=\"text_24\">\n      <!-- 0.0 -->\n      <g transform=\"translate(295.86946 241.543594) scale(0.1 -0.1)\">\n       <use xlink:href=\"#DejaVuSans-30\"/>\n       <use xlink:href=\"#DejaVuSans-2e\" x=\"63.623047\"/>\n       <use xlink:href=\"#DejaVuSans-30\" x=\"95.410156\"/>\n      </g>\n     </g>\n    </g>\n    <g id=\"ytick_11\">\n     <g id=\"line2d_24\">\n      <g>\n       <use xlink:href=\"#m03f2b705e5\" x=\"318.772585\" y=\"202.485125\" style=\"stroke: #000000; stroke-width: 0.8\"/>\n      </g>\n     </g>\n     <g id=\"text_25\">\n      <!-- 0.2 -->\n      <g transform=\"translate(295.86946 206.284344) scale(0.1 -0.1)\">\n       <use xlink:href=\"#DejaVuSans-30\"/>\n       <use xlink:href=\"#DejaVuSans-2e\" x=\"63.623047\"/>\n       <use xlink:href=\"#DejaVuSans-32\" x=\"95.410156\"/>\n      </g>\n     </g>\n    </g>\n    <g id=\"ytick_12\">\n     <g id=\"line2d_25\">\n      <g>\n       <use xlink:href=\"#m03f2b705e5\" x=\"318.772585\" y=\"167.225875\" style=\"stroke: #000000; stroke-width: 0.8\"/>\n      </g>\n     </g>\n     <g id=\"text_26\">\n      <!-- 0.4 -->\n      <g transform=\"translate(295.86946 171.025094) scale(0.1 -0.1)\">\n       <defs>\n        <path id=\"DejaVuSans-34\" d=\"M 2419 4116 \nL 825 1625 \nL 2419 1625 \nL 2419 4116 \nz\nM 2253 4666 \nL 3047 4666 \nL 3047 1625 \nL 3713 1625 \nL 3713 1100 \nL 3047 1100 \nL 3047 0 \nL 2419 0 \nL 2419 1100 \nL 313 1100 \nL 313 1709 \nL 2253 4666 \nz\n\" transform=\"scale(0.015625)\"/>\n       </defs>\n       <use xlink:href=\"#DejaVuSans-30\"/>\n       <use xlink:href=\"#DejaVuSans-2e\" x=\"63.623047\"/>\n       <use xlink:href=\"#DejaVuSans-34\" x=\"95.410156\"/>\n      </g>\n     </g>\n    </g>\n    <g id=\"ytick_13\">\n     <g id=\"line2d_26\">\n      <g>\n       <use xlink:href=\"#m03f2b705e5\" x=\"318.772585\" y=\"131.966625\" style=\"stroke: #000000; stroke-width: 0.8\"/>\n      </g>\n     </g>\n     <g id=\"text_27\">\n      <!-- 0.6 -->\n      <g transform=\"translate(295.86946 135.765844) scale(0.1 -0.1)\">\n       <use xlink:href=\"#DejaVuSans-30\"/>\n       <use xlink:href=\"#DejaVuSans-2e\" x=\"63.623047\"/>\n       <use xlink:href=\"#DejaVuSans-36\" x=\"95.410156\"/>\n      </g>\n     </g>\n    </g>\n    <g id=\"ytick_14\">\n     <g id=\"line2d_27\">\n      <g>\n       <use xlink:href=\"#m03f2b705e5\" x=\"318.772585\" y=\"96.707375\" style=\"stroke: #000000; stroke-width: 0.8\"/>\n      </g>\n     </g>\n     <g id=\"text_28\">\n      <!-- 0.8 -->\n      <g transform=\"translate(295.86946 100.506594) scale(0.1 -0.1)\">\n       <use xlink:href=\"#DejaVuSans-30\"/>\n       <use xlink:href=\"#DejaVuSans-2e\" x=\"63.623047\"/>\n       <use xlink:href=\"#DejaVuSans-38\" x=\"95.410156\"/>\n      </g>\n     </g>\n    </g>\n    <g id=\"ytick_15\">\n     <g id=\"line2d_28\">\n      <g>\n       <use xlink:href=\"#m03f2b705e5\" x=\"318.772585\" y=\"61.448126\" style=\"stroke: #000000; stroke-width: 0.8\"/>\n      </g>\n     </g>\n     <g id=\"text_29\">\n      <!-- 1.0 -->\n      <g transform=\"translate(295.86946 65.247344) scale(0.1 -0.1)\">\n       <use xlink:href=\"#DejaVuSans-31\"/>\n       <use xlink:href=\"#DejaVuSans-2e\" x=\"63.623047\"/>\n       <use xlink:href=\"#DejaVuSans-30\" x=\"95.410156\"/>\n      </g>\n     </g>\n    </g>\n    <g id=\"ytick_16\">\n     <g id=\"line2d_29\">\n      <g>\n       <use xlink:href=\"#m03f2b705e5\" x=\"318.772585\" y=\"26.188876\" style=\"stroke: #000000; stroke-width: 0.8\"/>\n      </g>\n     </g>\n     <g id=\"text_30\">\n      <!-- 1.2 -->\n      <g transform=\"translate(295.86946 29.988094) scale(0.1 -0.1)\">\n       <use xlink:href=\"#DejaVuSans-31\"/>\n       <use xlink:href=\"#DejaVuSans-2e\" x=\"63.623047\"/>\n       <use xlink:href=\"#DejaVuSans-32\" x=\"95.410156\"/>\n      </g>\n     </g>\n    </g>\n    <g id=\"text_31\">\n     <!-- 1e−14 -->\n     <g transform=\"translate(318.772585 23.064375) scale(0.1 -0.1)\">\n      <use xlink:href=\"#DejaVuSans-31\"/>\n      <use xlink:href=\"#DejaVuSans-65\" x=\"63.623047\"/>\n      <use xlink:href=\"#DejaVuSans-2212\" x=\"125.146484\"/>\n      <use xlink:href=\"#DejaVuSans-31\" x=\"208.935547\"/>\n      <use xlink:href=\"#DejaVuSans-34\" x=\"272.558594\"/>\n     </g>\n    </g>\n   </g>\n   <g id=\"line2d_30\">\n    <path d=\"M 329.148618 36.144375 \nL 329.771803 55.717191 \nL 330.602717 77.247288 \nL 331.433631 94.862822 \nL 331.849087 104.649229 \nL 333.718643 137.923016 \nL 333.926371 139.880297 \nL 334.549556 149.666705 \nL 334.965013 153.581268 \nL 335.38047 159.453113 \nL 335.795927 163.367676 \nL 336.211384 169.239521 \nL 337.665482 182.940492 \nL 337.873211 182.940492 \nL 338.704124 190.769618 \nL 338.911853 190.769618 \nL 339.535038 196.641462 \nL 339.742766 196.641462 \nL 339.950495 198.598744 \nL 340.158223 198.598744 \nL 340.57368 202.513307 \nL 340.781408 202.513307 \nL 340.989136 204.470589 \nL 341.196865 204.470589 \nL 341.404593 206.42787 \nL 341.612322 206.42787 \nL 341.82005 208.385152 \nL 342.027778 208.385152 \nL 342.235507 210.342433 \nL 342.443235 210.342433 \nL 342.650964 212.299715 \nL 343.06642 212.299715 \nL 343.274149 214.256996 \nL 343.689606 214.256996 \nL 343.897334 216.214278 \nL 344.312791 216.214278 \nL 344.520519 218.171559 \nL 344.935976 218.171559 \nL 345.143704 220.128841 \nL 345.766889 220.128841 \nL 345.974618 222.086123 \nL 346.597803 222.086123 \nL 346.805531 224.043404 \nL 347.428717 224.043404 \nL 347.636445 226.000686 \nL 348.675087 226.000686 \nL 348.882815 227.957967 \nL 350.129186 227.957967 \nL 350.336914 229.915249 \nL 351.791013 229.915249 \nL 351.998741 231.87253 \nL 354.283753 231.87253 \nL 354.491482 233.829812 \nL 358.230593 233.829812 \nL 358.438321 235.787093 \nL 368.824741 235.787093 \nL 369.032469 237.744375 \nL 536.669279 237.744375 \nL 536.669279 237.744375 \n\" clip-path=\"url(#p9f232f53aa)\" style=\"fill: none; stroke: #1f77b4; stroke-width: 1.5; stroke-linecap: square\"/>\n   </g>\n   <g id=\"patch_8\">\n    <path d=\"M 318.772585 247.824375 \nL 318.772585 26.064375 \n\" style=\"fill: none; stroke: #000000; stroke-width: 0.8; stroke-linejoin: miter; stroke-linecap: square\"/>\n   </g>\n   <g id=\"patch_9\">\n    <path d=\"M 547.045312 247.824375 \nL 547.045312 26.064375 \n\" style=\"fill: none; stroke: #000000; stroke-width: 0.8; stroke-linejoin: miter; stroke-linecap: square\"/>\n   </g>\n   <g id=\"patch_10\">\n    <path d=\"M 318.772585 247.824375 \nL 547.045312 247.824375 \n\" style=\"fill: none; stroke: #000000; stroke-width: 0.8; stroke-linejoin: miter; stroke-linecap: square\"/>\n   </g>\n   <g id=\"patch_11\">\n    <path d=\"M 318.772585 26.064375 \nL 547.045312 26.064375 \n\" style=\"fill: none; stroke: #000000; stroke-width: 0.8; stroke-linejoin: miter; stroke-linecap: square\"/>\n   </g>\n   <g id=\"text_32\">\n    <!-- $1-\\sqrt{1-t^2}$ -->\n    <g transform=\"translate(399.248949 20.064375) scale(0.12 -0.12)\">\n     <use xlink:href=\"#DejaVuSans-31\" transform=\"translate(0 0.09375)\"/>\n     <use xlink:href=\"#DejaVuSans-2212\" transform=\"translate(83.105469 0.09375)\"/>\n     <use xlink:href=\"#STIXSizeOneSym-Regular-221a\" transform=\"translate(186.376953 19.5625) scale(0.657728)\"/>\n     <use xlink:href=\"#DejaVuSans-31\" transform=\"translate(268.374695 0.515625)\"/>\n     <use xlink:href=\"#DejaVuSans-2212\" transform=\"translate(351.480164 0.515625)\"/>\n     <use xlink:href=\"#DejaVuSans-Oblique-74\" transform=\"translate(454.751648 0.515625)\"/>\n     <use xlink:href=\"#DejaVuSans-32\" transform=\"translate(500.601153 38.796875) scale(0.7)\"/>\n     <path d=\"M 255.874695 115.5 \nL 255.874695 121.75 \nL 560.371661 121.75 \nL 560.371661 115.5 \nL 255.874695 115.5 \nz\n\"/>\n    </g>\n   </g>\n  </g>\n </g>\n <defs>\n  <clipPath id=\"pf7dd4afa30\">\n   <rect x=\"44.845313\" y=\"26.064375\" width=\"228.272727\" height=\"221.76\"/>\n  </clipPath>\n  <clipPath id=\"p9f232f53aa\">\n   <rect x=\"318.772585\" y=\"26.064375\" width=\"228.272727\" height=\"221.76\"/>\n  </clipPath>\n </defs>\n</svg>\n",
      "text/plain": [
       "<Figure size 900x400 with 2 Axes>"
      ]
     },
     "metadata": {},
     "output_type": "display_data"
    }
   ],
   "source": [
    "fig, axes = plt.subplots(1, 2, figsize=(9, 4))\n",
    "xx = np.linspace(5, 10, 1000)\n",
    "t = np.exp(-np.pi*xx)\n",
    "axes[0].plot(xx, -np.sqrt(1-t**2));\n",
    "axes[0].set_title(r'$-\\sqrt{1-t^2}$');\n",
    "axes[1].plot(xx, 1-np.sqrt(1-t**2))\n",
    "axes[1].set_title(r'$1-\\sqrt{1-t^2}$');"
   ]
  },
  {
   "cell_type": "code",
   "execution_count": 9,
   "metadata": {
    "vscode": {
     "languageId": "python"
    }
   },
   "outputs": [],
   "source": [
    "# https://scicomp.stackexchange.com/questions/14795/how-to-avoid-catastrophic-cancellation-in-python-function\n",
    "def func(x):\n",
    "    t = np.exp(-np.pi*x)\n",
    "    y = 1/t*(1-np.sqrt(1-t**2))\n",
    "    return y"
   ]
  },
  {
   "cell_type": "code",
   "execution_count": 10,
   "metadata": {
    "vscode": {
     "languageId": "python"
    }
   },
   "outputs": [],
   "source": [
    "def func2(x):\n",
    "    t = np.exp(-np.pi*x)\n",
    "    y = 1/t*(1-np.sqrt(1-t**2))\n",
    "    y = y * (1-np.sqrt(1-t**2)) / (1-np.sqrt(1-t**2))\n",
    "    return y"
   ]
  },
  {
   "cell_type": "code",
   "execution_count": 11,
   "metadata": {
    "vscode": {
     "languageId": "python"
    }
   },
   "outputs": [
    {
     "name": "stderr",
     "output_type": "stream",
     "text": [
      "/tmp/ipykernel_127308/1188341579.py:4: RuntimeWarning: invalid value encountered in divide\n",
      "  y = y * (1-np.sqrt(1-t**2)) / (1-np.sqrt(1-t**2))\n"
     ]
    },
    {
     "data": {
      "image/png": "[encoded data removed]",
      "image/svg+xml": "<?xml version=\"1.0\" encoding=\"utf-8\" standalone=\"no\"?>\n<!DOCTYPE svg PUBLIC \"-//W3C//DTD SVG 1.1//EN\"\n  \"http://www.w3.org/Graphics/SVG/1.1/DTD/svg11.dtd\">\n<svg xmlns:xlink=\"http://www.w3.org/1999/xlink\" width=\"537.099191pt\" height=\"267.95625pt\" viewBox=\"0 0 537.099191 267.95625\" xmlns=\"http://www.w3.org/2000/svg\" version=\"1.1\">\n <metadata>\n  <rdf:RDF xmlns:dc=\"http://purl.org/dc/elements/1.1/\" xmlns:cc=\"http://creativecommons.org/ns#\" xmlns:rdf=\"http://www.w3.org/1999/02/22-rdf-syntax-ns#\">\n   <cc:Work>\n    <dc:type rdf:resource=\"http://purl.org/dc/dcmitype/StillImage\"/>\n    <dc:date>2022-12-05T22:52:56.178352</dc:date>\n    <dc:format>image/svg+xml</dc:format>\n    <dc:creator>\n     <cc:Agent>\n      <dc:title>Matplotlib v3.6.2, https://matplotlib.org/</dc:title>\n     </cc:Agent>\n    </dc:creator>\n   </cc:Work>\n  </rdf:RDF>\n </metadata>\n <defs>\n  <style type=\"text/css\">*{stroke-linejoin: round; stroke-linecap: butt}</style>\n </defs>\n <g id=\"figure_1\">\n  <g id=\"patch_1\">\n   <path d=\"M 0 267.95625 \nL 537.099191 267.95625 \nL 537.099191 0 \nL 0 0 \nz\n\" style=\"fill: #ffffff\"/>\n  </g>\n  <g id=\"axes_1\">\n   <g id=\"patch_2\">\n    <path d=\"M 20.5625 244.078125 \nL 248.835227 244.078125 \nL 248.835227 22.318125 \nL 20.5625 22.318125 \nz\n\" style=\"fill: #ffffff\"/>\n   </g>\n   <g id=\"matplotlib.axis_1\">\n    <g id=\"xtick_1\">\n     <g id=\"line2d_1\">\n      <defs>\n       <path id=\"m09f6154b1a\" d=\"M 0 0 \nL 0 3.5 \n\" style=\"stroke: #000000; stroke-width: 0.8\"/>\n      </defs>\n      <g>\n       <use xlink:href=\"#m09f6154b1a\" x=\"30.938533\" y=\"244.078125\" style=\"stroke: #000000; stroke-width: 0.8\"/>\n      </g>\n     </g>\n     <g id=\"text_1\">\n      <!-- 5 -->\n      <g transform=\"translate(27.757283 258.676562) scale(0.1 -0.1)\">\n       <defs>\n        <path id=\"DejaVuSans-35\" d=\"M 691 4666 \nL 3169 4666 \nL 3169 4134 \nL 1269 4134 \nL 1269 2991 \nQ 1406 3038 1543 3061 \nQ 1681 3084 1819 3084 \nQ 2600 3084 3056 2656 \nQ 3513 2228 3513 1497 \nQ 3513 744 3044 326 \nQ 2575 -91 1722 -91 \nQ 1428 -91 1123 -41 \nQ 819 9 494 109 \nL 494 744 \nQ 775 591 1075 516 \nQ 1375 441 1709 441 \nQ 2250 441 2565 725 \nQ 2881 1009 2881 1497 \nQ 2881 1984 2565 2268 \nQ 2250 2553 1709 2553 \nQ 1456 2553 1204 2497 \nQ 953 2441 691 2322 \nL 691 4666 \nz\n\" transform=\"scale(0.015625)\"/>\n       </defs>\n       <use xlink:href=\"#DejaVuSans-35\"/>\n      </g>\n     </g>\n    </g>\n    <g id=\"xtick_2\">\n     <g id=\"line2d_2\">\n      <g>\n       <use xlink:href=\"#m09f6154b1a\" x=\"72.442665\" y=\"244.078125\" style=\"stroke: #000000; stroke-width: 0.8\"/>\n      </g>\n     </g>\n     <g id=\"text_2\">\n      <!-- 6 -->\n      <g transform=\"translate(69.261415 258.676562) scale(0.1 -0.1)\">\n       <defs>\n        <path id=\"DejaVuSans-36\" d=\"M 2113 2584 \nQ 1688 2584 1439 2293 \nQ 1191 2003 1191 1497 \nQ 1191 994 1439 701 \nQ 1688 409 2113 409 \nQ 2538 409 2786 701 \nQ 3034 994 3034 1497 \nQ 3034 2003 2786 2293 \nQ 2538 2584 2113 2584 \nz\nM 3366 4563 \nL 3366 3988 \nQ 3128 4100 2886 4159 \nQ 2644 4219 2406 4219 \nQ 1781 4219 1451 3797 \nQ 1122 3375 1075 2522 \nQ 1259 2794 1537 2939 \nQ 1816 3084 2150 3084 \nQ 2853 3084 3261 2657 \nQ 3669 2231 3669 1497 \nQ 3669 778 3244 343 \nQ 2819 -91 2113 -91 \nQ 1303 -91 875 529 \nQ 447 1150 447 2328 \nQ 447 3434 972 4092 \nQ 1497 4750 2381 4750 \nQ 2619 4750 2861 4703 \nQ 3103 4656 3366 4563 \nz\n\" transform=\"scale(0.015625)\"/>\n       </defs>\n       <use xlink:href=\"#DejaVuSans-36\"/>\n      </g>\n     </g>\n    </g>\n    <g id=\"xtick_3\">\n     <g id=\"line2d_3\">\n      <g>\n       <use xlink:href=\"#m09f6154b1a\" x=\"113.946798\" y=\"244.078125\" style=\"stroke: #000000; stroke-width: 0.8\"/>\n      </g>\n     </g>\n     <g id=\"text_3\">\n      <!-- 7 -->\n      <g transform=\"translate(110.765548 258.676562) scale(0.1 -0.1)\">\n       <defs>\n        <path id=\"DejaVuSans-37\" d=\"M 525 4666 \nL 3525 4666 \nL 3525 4397 \nL 1831 0 \nL 1172 0 \nL 2766 4134 \nL 525 4134 \nL 525 4666 \nz\n\" transform=\"scale(0.015625)\"/>\n       </defs>\n       <use xlink:href=\"#DejaVuSans-37\"/>\n      </g>\n     </g>\n    </g>\n    <g id=\"xtick_4\">\n     <g id=\"line2d_4\">\n      <g>\n       <use xlink:href=\"#m09f6154b1a\" x=\"155.45093\" y=\"244.078125\" style=\"stroke: #000000; stroke-width: 0.8\"/>\n      </g>\n     </g>\n     <g id=\"text_4\">\n      <!-- 8 -->\n      <g transform=\"translate(152.26968 258.676562) scale(0.1 -0.1)\">\n       <defs>\n        <path id=\"DejaVuSans-38\" d=\"M 2034 2216 \nQ 1584 2216 1326 1975 \nQ 1069 1734 1069 1313 \nQ 1069 891 1326 650 \nQ 1584 409 2034 409 \nQ 2484 409 2743 651 \nQ 3003 894 3003 1313 \nQ 3003 1734 2745 1975 \nQ 2488 2216 2034 2216 \nz\nM 1403 2484 \nQ 997 2584 770 2862 \nQ 544 3141 544 3541 \nQ 544 4100 942 4425 \nQ 1341 4750 2034 4750 \nQ 2731 4750 3128 4425 \nQ 3525 4100 3525 3541 \nQ 3525 3141 3298 2862 \nQ 3072 2584 2669 2484 \nQ 3125 2378 3379 2068 \nQ 3634 1759 3634 1313 \nQ 3634 634 3220 271 \nQ 2806 -91 2034 -91 \nQ 1263 -91 848 271 \nQ 434 634 434 1313 \nQ 434 1759 690 2068 \nQ 947 2378 1403 2484 \nz\nM 1172 3481 \nQ 1172 3119 1398 2916 \nQ 1625 2713 2034 2713 \nQ 2441 2713 2670 2916 \nQ 2900 3119 2900 3481 \nQ 2900 3844 2670 4047 \nQ 2441 4250 2034 4250 \nQ 1625 4250 1398 4047 \nQ 1172 3844 1172 3481 \nz\n\" transform=\"scale(0.015625)\"/>\n       </defs>\n       <use xlink:href=\"#DejaVuSans-38\"/>\n      </g>\n     </g>\n    </g>\n    <g id=\"xtick_5\">\n     <g id=\"line2d_5\">\n      <g>\n       <use xlink:href=\"#m09f6154b1a\" x=\"196.955062\" y=\"244.078125\" style=\"stroke: #000000; stroke-width: 0.8\"/>\n      </g>\n     </g>\n     <g id=\"text_5\">\n      <!-- 9 -->\n      <g transform=\"translate(193.773812 258.676562) scale(0.1 -0.1)\">\n       <defs>\n        <path id=\"DejaVuSans-39\" d=\"M 703 97 \nL 703 672 \nQ 941 559 1184 500 \nQ 1428 441 1663 441 \nQ 2288 441 2617 861 \nQ 2947 1281 2994 2138 \nQ 2813 1869 2534 1725 \nQ 2256 1581 1919 1581 \nQ 1219 1581 811 2004 \nQ 403 2428 403 3163 \nQ 403 3881 828 4315 \nQ 1253 4750 1959 4750 \nQ 2769 4750 3195 4129 \nQ 3622 3509 3622 2328 \nQ 3622 1225 3098 567 \nQ 2575 -91 1691 -91 \nQ 1453 -91 1209 -44 \nQ 966 3 703 97 \nz\nM 1959 2075 \nQ 2384 2075 2632 2365 \nQ 2881 2656 2881 3163 \nQ 2881 3666 2632 3958 \nQ 2384 4250 1959 4250 \nQ 1534 4250 1286 3958 \nQ 1038 3666 1038 3163 \nQ 1038 2656 1286 2365 \nQ 1534 2075 1959 2075 \nz\n\" transform=\"scale(0.015625)\"/>\n       </defs>\n       <use xlink:href=\"#DejaVuSans-39\"/>\n      </g>\n     </g>\n    </g>\n    <g id=\"xtick_6\">\n     <g id=\"line2d_6\">\n      <g>\n       <use xlink:href=\"#m09f6154b1a\" x=\"238.459194\" y=\"244.078125\" style=\"stroke: #000000; stroke-width: 0.8\"/>\n      </g>\n     </g>\n     <g id=\"text_6\">\n      <!-- 10 -->\n      <g transform=\"translate(232.096694 258.676562) scale(0.1 -0.1)\">\n       <defs>\n        <path id=\"DejaVuSans-31\" d=\"M 794 531 \nL 1825 531 \nL 1825 4091 \nL 703 3866 \nL 703 4441 \nL 1819 4666 \nL 2450 4666 \nL 2450 531 \nL 3481 531 \nL 3481 0 \nL 794 0 \nL 794 531 \nz\n\" transform=\"scale(0.015625)\"/>\n        <path id=\"DejaVuSans-30\" d=\"M 2034 4250 \nQ 1547 4250 1301 3770 \nQ 1056 3291 1056 2328 \nQ 1056 1369 1301 889 \nQ 1547 409 2034 409 \nQ 2525 409 2770 889 \nQ 3016 1369 3016 2328 \nQ 3016 3291 2770 3770 \nQ 2525 4250 2034 4250 \nz\nM 2034 4750 \nQ 2819 4750 3233 4129 \nQ 3647 3509 3647 2328 \nQ 3647 1150 3233 529 \nQ 2819 -91 2034 -91 \nQ 1250 -91 836 529 \nQ 422 1150 422 2328 \nQ 422 3509 836 4129 \nQ 1250 4750 2034 4750 \nz\n\" transform=\"scale(0.015625)\"/>\n       </defs>\n       <use xlink:href=\"#DejaVuSans-31\"/>\n       <use xlink:href=\"#DejaVuSans-30\" x=\"63.623047\"/>\n      </g>\n     </g>\n    </g>\n   </g>\n   <g id=\"matplotlib.axis_2\">\n    <g id=\"ytick_1\">\n     <g id=\"line2d_7\">\n      <defs>\n       <path id=\"md64e9837a6\" d=\"M 0 0 \nL -3.5 0 \n\" style=\"stroke: #000000; stroke-width: 0.8\"/>\n      </defs>\n      <g>\n       <use xlink:href=\"#md64e9837a6\" x=\"20.5625\" y=\"233.998125\" style=\"stroke: #000000; stroke-width: 0.8\"/>\n      </g>\n     </g>\n     <g id=\"text_7\">\n      <!-- 0 -->\n      <g transform=\"translate(7.2 237.797344) scale(0.1 -0.1)\">\n       <use xlink:href=\"#DejaVuSans-30\"/>\n      </g>\n     </g>\n    </g>\n    <g id=\"ytick_2\">\n     <g id=\"line2d_8\">\n      <g>\n       <use xlink:href=\"#md64e9837a6\" x=\"20.5625\" y=\"207.429976\" style=\"stroke: #000000; stroke-width: 0.8\"/>\n      </g>\n     </g>\n     <g id=\"text_8\">\n      <!-- 1 -->\n      <g transform=\"translate(7.2 211.229194) scale(0.1 -0.1)\">\n       <use xlink:href=\"#DejaVuSans-31\"/>\n      </g>\n     </g>\n    </g>\n    <g id=\"ytick_3\">\n     <g id=\"line2d_9\">\n      <g>\n       <use xlink:href=\"#md64e9837a6\" x=\"20.5625\" y=\"180.861826\" style=\"stroke: #000000; stroke-width: 0.8\"/>\n      </g>\n     </g>\n     <g id=\"text_9\">\n      <!-- 2 -->\n      <g transform=\"translate(7.2 184.661045) scale(0.1 -0.1)\">\n       <defs>\n        <path id=\"DejaVuSans-32\" d=\"M 1228 531 \nL 3431 531 \nL 3431 0 \nL 469 0 \nL 469 531 \nQ 828 903 1448 1529 \nQ 2069 2156 2228 2338 \nQ 2531 2678 2651 2914 \nQ 2772 3150 2772 3378 \nQ 2772 3750 2511 3984 \nQ 2250 4219 1831 4219 \nQ 1534 4219 1204 4116 \nQ 875 4013 500 3803 \nL 500 4441 \nQ 881 4594 1212 4672 \nQ 1544 4750 1819 4750 \nQ 2544 4750 2975 4387 \nQ 3406 4025 3406 3419 \nQ 3406 3131 3298 2873 \nQ 3191 2616 2906 2266 \nQ 2828 2175 2409 1742 \nQ 1991 1309 1228 531 \nz\n\" transform=\"scale(0.015625)\"/>\n       </defs>\n       <use xlink:href=\"#DejaVuSans-32\"/>\n      </g>\n     </g>\n    </g>\n    <g id=\"ytick_4\">\n     <g id=\"line2d_10\">\n      <g>\n       <use xlink:href=\"#md64e9837a6\" x=\"20.5625\" y=\"154.293677\" style=\"stroke: #000000; stroke-width: 0.8\"/>\n      </g>\n     </g>\n     <g id=\"text_10\">\n      <!-- 3 -->\n      <g transform=\"translate(7.2 158.092896) scale(0.1 -0.1)\">\n       <defs>\n        <path id=\"DejaVuSans-33\" d=\"M 2597 2516 \nQ 3050 2419 3304 2112 \nQ 3559 1806 3559 1356 \nQ 3559 666 3084 287 \nQ 2609 -91 1734 -91 \nQ 1441 -91 1130 -33 \nQ 819 25 488 141 \nL 488 750 \nQ 750 597 1062 519 \nQ 1375 441 1716 441 \nQ 2309 441 2620 675 \nQ 2931 909 2931 1356 \nQ 2931 1769 2642 2001 \nQ 2353 2234 1838 2234 \nL 1294 2234 \nL 1294 2753 \nL 1863 2753 \nQ 2328 2753 2575 2939 \nQ 2822 3125 2822 3475 \nQ 2822 3834 2567 4026 \nQ 2313 4219 1838 4219 \nQ 1578 4219 1281 4162 \nQ 984 4106 628 3988 \nL 628 4550 \nQ 988 4650 1302 4700 \nQ 1616 4750 1894 4750 \nQ 2613 4750 3031 4423 \nQ 3450 4097 3450 3541 \nQ 3450 3153 3228 2886 \nQ 3006 2619 2597 2516 \nz\n\" transform=\"scale(0.015625)\"/>\n       </defs>\n       <use xlink:href=\"#DejaVuSans-33\"/>\n      </g>\n     </g>\n    </g>\n    <g id=\"ytick_5\">\n     <g id=\"line2d_11\">\n      <g>\n       <use xlink:href=\"#md64e9837a6\" x=\"20.5625\" y=\"127.725528\" style=\"stroke: #000000; stroke-width: 0.8\"/>\n      </g>\n     </g>\n     <g id=\"text_11\">\n      <!-- 4 -->\n      <g transform=\"translate(7.2 131.524746) scale(0.1 -0.1)\">\n       <defs>\n        <path id=\"DejaVuSans-34\" d=\"M 2419 4116 \nL 825 1625 \nL 2419 1625 \nL 2419 4116 \nz\nM 2253 4666 \nL 3047 4666 \nL 3047 1625 \nL 3713 1625 \nL 3713 1100 \nL 3047 1100 \nL 3047 0 \nL 2419 0 \nL 2419 1100 \nL 313 1100 \nL 313 1709 \nL 2253 4666 \nz\n\" transform=\"scale(0.015625)\"/>\n       </defs>\n       <use xlink:href=\"#DejaVuSans-34\"/>\n      </g>\n     </g>\n    </g>\n    <g id=\"ytick_6\">\n     <g id=\"line2d_12\">\n      <g>\n       <use xlink:href=\"#md64e9837a6\" x=\"20.5625\" y=\"101.157378\" style=\"stroke: #000000; stroke-width: 0.8\"/>\n      </g>\n     </g>\n     <g id=\"text_12\">\n      <!-- 5 -->\n      <g transform=\"translate(7.2 104.956597) scale(0.1 -0.1)\">\n       <use xlink:href=\"#DejaVuSans-35\"/>\n      </g>\n     </g>\n    </g>\n    <g id=\"ytick_7\">\n     <g id=\"line2d_13\">\n      <g>\n       <use xlink:href=\"#md64e9837a6\" x=\"20.5625\" y=\"74.589229\" style=\"stroke: #000000; stroke-width: 0.8\"/>\n      </g>\n     </g>\n     <g id=\"text_13\">\n      <!-- 6 -->\n      <g transform=\"translate(7.2 78.388448) scale(0.1 -0.1)\">\n       <use xlink:href=\"#DejaVuSans-36\"/>\n      </g>\n     </g>\n    </g>\n    <g id=\"ytick_8\">\n     <g id=\"line2d_14\">\n      <g>\n       <use xlink:href=\"#md64e9837a6\" x=\"20.5625\" y=\"48.02108\" style=\"stroke: #000000; stroke-width: 0.8\"/>\n      </g>\n     </g>\n     <g id=\"text_14\">\n      <!-- 7 -->\n      <g transform=\"translate(7.2 51.820298) scale(0.1 -0.1)\">\n       <use xlink:href=\"#DejaVuSans-37\"/>\n      </g>\n     </g>\n    </g>\n    <g id=\"text_15\">\n     <!-- 1e−8 -->\n     <g transform=\"translate(20.5625 19.318125) scale(0.1 -0.1)\">\n      <defs>\n       <path id=\"DejaVuSans-65\" d=\"M 3597 1894 \nL 3597 1613 \nL 953 1613 \nQ 991 1019 1311 708 \nQ 1631 397 2203 397 \nQ 2534 397 2845 478 \nQ 3156 559 3463 722 \nL 3463 178 \nQ 3153 47 2828 -22 \nQ 2503 -91 2169 -91 \nQ 1331 -91 842 396 \nQ 353 884 353 1716 \nQ 353 2575 817 3079 \nQ 1281 3584 2069 3584 \nQ 2775 3584 3186 3129 \nQ 3597 2675 3597 1894 \nz\nM 3022 2063 \nQ 3016 2534 2758 2815 \nQ 2500 3097 2075 3097 \nQ 1594 3097 1305 2825 \nQ 1016 2553 972 2059 \nL 3022 2063 \nz\n\" transform=\"scale(0.015625)\"/>\n       <path id=\"DejaVuSans-2212\" d=\"M 678 2272 \nL 4684 2272 \nL 4684 1741 \nL 678 1741 \nL 678 2272 \nz\n\" transform=\"scale(0.015625)\"/>\n      </defs>\n      <use xlink:href=\"#DejaVuSans-31\"/>\n      <use xlink:href=\"#DejaVuSans-65\" x=\"63.623047\"/>\n      <use xlink:href=\"#DejaVuSans-2212\" x=\"125.146484\"/>\n      <use xlink:href=\"#DejaVuSans-38\" x=\"208.935547\"/>\n     </g>\n    </g>\n   </g>\n   <g id=\"line2d_15\">\n    <path d=\"M 30.938533 32.398125 \nL 31.35399 40.096273 \nL 31.769447 46.407706 \nL 31.977175 47.669522 \nL 32.808089 60.377057 \nL 33.223545 64.137789 \nL 33.639002 70.7172 \nL 35.300829 89.676273 \nL 35.508558 92.921484 \nL 35.716286 93.495756 \nL 35.924014 96.978242 \nL 36.131743 97.706577 \nL 36.339471 101.438188 \nL 36.754928 103.283057 \nL 36.962656 107.387613 \nL 37.585842 110.983815 \nL 37.79357 115.611334 \nL 38.832212 123.715779 \nL 39.455397 129.576977 \nL 39.663125 127.922115 \nL 40.494039 137.173633 \nL 40.701767 135.639163 \nL 41.324953 143.777024 \nL 41.532681 142.347204 \nL 41.740409 145.32822 \nL 41.948138 143.922983 \nL 42.363594 150.340625 \nL 42.571323 149.014824 \nL 42.779051 152.46413 \nL 42.98678 151.171983 \nL 43.194508 154.808697 \nL 43.402236 153.553707 \nL 43.609965 157.386284 \nL 43.817693 156.172143 \nL 44.025422 160.209384 \nL 44.23315 159.039984 \nL 44.440878 163.291056 \nL 44.856335 161.032172 \nL 45.064064 165.577528 \nL 45.47952 163.39169 \nL 45.687249 168.24984 \nL 46.102705 166.149375 \nL 46.310434 171.33993 \nL 46.725891 169.338185 \nL 46.933619 174.881924 \nL 47.556804 172.026533 \nL 47.764533 178.039268 \nL 48.387718 175.336381 \nL 48.595446 181.855639 \nL 49.218631 179.337088 \nL 49.42636 186.403294 \nL 50.465002 182.510443 \nL 50.67273 190.411745 \nL 51.9191 186.099498 \nL 52.126829 195.071947 \nL 53.580928 190.542827 \nL 53.788656 200.890143 \nL 55.450483 196.452236 \nL 56.073668 194.63872 \nL 56.281397 207.342678 \nL 58.150952 203.290631 \nL 59.812779 199.174494 \nL 60.020508 198.62261 \nL 60.228236 216.030053 \nL 62.097791 213.298624 \nL 63.967347 210.151975 \nL 65.836903 206.526986 \nL 67.706458 202.350942 \nL 69.368285 198.108845 \nL 70.614655 194.558116 \nL 70.822384 233.998125 \nL 238.459194 233.998125 \nL 238.459194 233.998125 \n\" clip-path=\"url(#p2cd3a12c10)\" style=\"fill: none; stroke: #1f77b4; stroke-width: 1.5; stroke-linecap: square\"/>\n   </g>\n   <g id=\"patch_3\">\n    <path d=\"M 20.5625 244.078125 \nL 20.5625 22.318125 \n\" style=\"fill: none; stroke: #000000; stroke-width: 0.8; stroke-linejoin: miter; stroke-linecap: square\"/>\n   </g>\n   <g id=\"patch_4\">\n    <path d=\"M 248.835227 244.078125 \nL 248.835227 22.318125 \n\" style=\"fill: none; stroke: #000000; stroke-width: 0.8; stroke-linejoin: miter; stroke-linecap: square\"/>\n   </g>\n   <g id=\"patch_5\">\n    <path d=\"M 20.5625 244.078125 \nL 248.835227 244.078125 \n\" style=\"fill: none; stroke: #000000; stroke-width: 0.8; stroke-linejoin: miter; stroke-linecap: square\"/>\n   </g>\n   <g id=\"patch_6\">\n    <path d=\"M 20.5625 22.318125 \nL 248.835227 22.318125 \n\" style=\"fill: none; stroke: #000000; stroke-width: 0.8; stroke-linejoin: miter; stroke-linecap: square\"/>\n   </g>\n   <g id=\"text_16\">\n    <!-- numerically unstable -->\n    <g transform=\"translate(71.728864 16.318125) scale(0.12 -0.12)\">\n     <defs>\n      <path id=\"DejaVuSans-6e\" d=\"M 3513 2113 \nL 3513 0 \nL 2938 0 \nL 2938 2094 \nQ 2938 2591 2744 2837 \nQ 2550 3084 2163 3084 \nQ 1697 3084 1428 2787 \nQ 1159 2491 1159 1978 \nL 1159 0 \nL 581 0 \nL 581 3500 \nL 1159 3500 \nL 1159 2956 \nQ 1366 3272 1645 3428 \nQ 1925 3584 2291 3584 \nQ 2894 3584 3203 3211 \nQ 3513 2838 3513 2113 \nz\n\" transform=\"scale(0.015625)\"/>\n      <path id=\"DejaVuSans-75\" d=\"M 544 1381 \nL 544 3500 \nL 1119 3500 \nL 1119 1403 \nQ 1119 906 1312 657 \nQ 1506 409 1894 409 \nQ 2359 409 2629 706 \nQ 2900 1003 2900 1516 \nL 2900 3500 \nL 3475 3500 \nL 3475 0 \nL 2900 0 \nL 2900 538 \nQ 2691 219 2414 64 \nQ 2138 -91 1772 -91 \nQ 1169 -91 856 284 \nQ 544 659 544 1381 \nz\nM 1991 3584 \nL 1991 3584 \nz\n\" transform=\"scale(0.015625)\"/>\n      <path id=\"DejaVuSans-6d\" d=\"M 3328 2828 \nQ 3544 3216 3844 3400 \nQ 4144 3584 4550 3584 \nQ 5097 3584 5394 3201 \nQ 5691 2819 5691 2113 \nL 5691 0 \nL 5113 0 \nL 5113 2094 \nQ 5113 2597 4934 2840 \nQ 4756 3084 4391 3084 \nQ 3944 3084 3684 2787 \nQ 3425 2491 3425 1978 \nL 3425 0 \nL 2847 0 \nL 2847 2094 \nQ 2847 2600 2669 2842 \nQ 2491 3084 2119 3084 \nQ 1678 3084 1418 2786 \nQ 1159 2488 1159 1978 \nL 1159 0 \nL 581 0 \nL 581 3500 \nL 1159 3500 \nL 1159 2956 \nQ 1356 3278 1631 3431 \nQ 1906 3584 2284 3584 \nQ 2666 3584 2933 3390 \nQ 3200 3197 3328 2828 \nz\n\" transform=\"scale(0.015625)\"/>\n      <path id=\"DejaVuSans-72\" d=\"M 2631 2963 \nQ 2534 3019 2420 3045 \nQ 2306 3072 2169 3072 \nQ 1681 3072 1420 2755 \nQ 1159 2438 1159 1844 \nL 1159 0 \nL 581 0 \nL 581 3500 \nL 1159 3500 \nL 1159 2956 \nQ 1341 3275 1631 3429 \nQ 1922 3584 2338 3584 \nQ 2397 3584 2469 3576 \nQ 2541 3569 2628 3553 \nL 2631 2963 \nz\n\" transform=\"scale(0.015625)\"/>\n      <path id=\"DejaVuSans-69\" d=\"M 603 3500 \nL 1178 3500 \nL 1178 0 \nL 603 0 \nL 603 3500 \nz\nM 603 4863 \nL 1178 4863 \nL 1178 4134 \nL 603 4134 \nL 603 4863 \nz\n\" transform=\"scale(0.015625)\"/>\n      <path id=\"DejaVuSans-63\" d=\"M 3122 3366 \nL 3122 2828 \nQ 2878 2963 2633 3030 \nQ 2388 3097 2138 3097 \nQ 1578 3097 1268 2742 \nQ 959 2388 959 1747 \nQ 959 1106 1268 751 \nQ 1578 397 2138 397 \nQ 2388 397 2633 464 \nQ 2878 531 3122 666 \nL 3122 134 \nQ 2881 22 2623 -34 \nQ 2366 -91 2075 -91 \nQ 1284 -91 818 406 \nQ 353 903 353 1747 \nQ 353 2603 823 3093 \nQ 1294 3584 2113 3584 \nQ 2378 3584 2631 3529 \nQ 2884 3475 3122 3366 \nz\n\" transform=\"scale(0.015625)\"/>\n      <path id=\"DejaVuSans-61\" d=\"M 2194 1759 \nQ 1497 1759 1228 1600 \nQ 959 1441 959 1056 \nQ 959 750 1161 570 \nQ 1363 391 1709 391 \nQ 2188 391 2477 730 \nQ 2766 1069 2766 1631 \nL 2766 1759 \nL 2194 1759 \nz\nM 3341 1997 \nL 3341 0 \nL 2766 0 \nL 2766 531 \nQ 2569 213 2275 61 \nQ 1981 -91 1556 -91 \nQ 1019 -91 701 211 \nQ 384 513 384 1019 \nQ 384 1609 779 1909 \nQ 1175 2209 1959 2209 \nL 2766 2209 \nL 2766 2266 \nQ 2766 2663 2505 2880 \nQ 2244 3097 1772 3097 \nQ 1472 3097 1187 3025 \nQ 903 2953 641 2809 \nL 641 3341 \nQ 956 3463 1253 3523 \nQ 1550 3584 1831 3584 \nQ 2591 3584 2966 3190 \nQ 3341 2797 3341 1997 \nz\n\" transform=\"scale(0.015625)\"/>\n      <path id=\"DejaVuSans-6c\" d=\"M 603 4863 \nL 1178 4863 \nL 1178 0 \nL 603 0 \nL 603 4863 \nz\n\" transform=\"scale(0.015625)\"/>\n      <path id=\"DejaVuSans-79\" d=\"M 2059 -325 \nQ 1816 -950 1584 -1140 \nQ 1353 -1331 966 -1331 \nL 506 -1331 \nL 506 -850 \nL 844 -850 \nQ 1081 -850 1212 -737 \nQ 1344 -625 1503 -206 \nL 1606 56 \nL 191 3500 \nL 800 3500 \nL 1894 763 \nL 2988 3500 \nL 3597 3500 \nL 2059 -325 \nz\n\" transform=\"scale(0.015625)\"/>\n      <path id=\"DejaVuSans-20\" transform=\"scale(0.015625)\"/>\n      <path id=\"DejaVuSans-73\" d=\"M 2834 3397 \nL 2834 2853 \nQ 2591 2978 2328 3040 \nQ 2066 3103 1784 3103 \nQ 1356 3103 1142 2972 \nQ 928 2841 928 2578 \nQ 928 2378 1081 2264 \nQ 1234 2150 1697 2047 \nL 1894 2003 \nQ 2506 1872 2764 1633 \nQ 3022 1394 3022 966 \nQ 3022 478 2636 193 \nQ 2250 -91 1575 -91 \nQ 1294 -91 989 -36 \nQ 684 19 347 128 \nL 347 722 \nQ 666 556 975 473 \nQ 1284 391 1588 391 \nQ 1994 391 2212 530 \nQ 2431 669 2431 922 \nQ 2431 1156 2273 1281 \nQ 2116 1406 1581 1522 \nL 1381 1569 \nQ 847 1681 609 1914 \nQ 372 2147 372 2553 \nQ 372 3047 722 3315 \nQ 1072 3584 1716 3584 \nQ 2034 3584 2315 3537 \nQ 2597 3491 2834 3397 \nz\n\" transform=\"scale(0.015625)\"/>\n      <path id=\"DejaVuSans-74\" d=\"M 1172 4494 \nL 1172 3500 \nL 2356 3500 \nL 2356 3053 \nL 1172 3053 \nL 1172 1153 \nQ 1172 725 1289 603 \nQ 1406 481 1766 481 \nL 2356 481 \nL 2356 0 \nL 1766 0 \nQ 1100 0 847 248 \nQ 594 497 594 1153 \nL 594 3053 \nL 172 3053 \nL 172 3500 \nL 594 3500 \nL 594 4494 \nL 1172 4494 \nz\n\" transform=\"scale(0.015625)\"/>\n      <path id=\"DejaVuSans-62\" d=\"M 3116 1747 \nQ 3116 2381 2855 2742 \nQ 2594 3103 2138 3103 \nQ 1681 3103 1420 2742 \nQ 1159 2381 1159 1747 \nQ 1159 1113 1420 752 \nQ 1681 391 2138 391 \nQ 2594 391 2855 752 \nQ 3116 1113 3116 1747 \nz\nM 1159 2969 \nQ 1341 3281 1617 3432 \nQ 1894 3584 2278 3584 \nQ 2916 3584 3314 3078 \nQ 3713 2572 3713 1747 \nQ 3713 922 3314 415 \nQ 2916 -91 2278 -91 \nQ 1894 -91 1617 61 \nQ 1341 213 1159 525 \nL 1159 0 \nL 581 0 \nL 581 4863 \nL 1159 4863 \nL 1159 2969 \nz\n\" transform=\"scale(0.015625)\"/>\n     </defs>\n     <use xlink:href=\"#DejaVuSans-6e\"/>\n     <use xlink:href=\"#DejaVuSans-75\" x=\"63.378906\"/>\n     <use xlink:href=\"#DejaVuSans-6d\" x=\"126.757812\"/>\n     <use xlink:href=\"#DejaVuSans-65\" x=\"224.169922\"/>\n     <use xlink:href=\"#DejaVuSans-72\" x=\"285.693359\"/>\n     <use xlink:href=\"#DejaVuSans-69\" x=\"326.806641\"/>\n     <use xlink:href=\"#DejaVuSans-63\" x=\"354.589844\"/>\n     <use xlink:href=\"#DejaVuSans-61\" x=\"409.570312\"/>\n     <use xlink:href=\"#DejaVuSans-6c\" x=\"470.849609\"/>\n     <use xlink:href=\"#DejaVuSans-6c\" x=\"498.632812\"/>\n     <use xlink:href=\"#DejaVuSans-79\" x=\"526.416016\"/>\n     <use xlink:href=\"#DejaVuSans-20\" x=\"585.595703\"/>\n     <use xlink:href=\"#DejaVuSans-75\" x=\"617.382812\"/>\n     <use xlink:href=\"#DejaVuSans-6e\" x=\"680.761719\"/>\n     <use xlink:href=\"#DejaVuSans-73\" x=\"744.140625\"/>\n     <use xlink:href=\"#DejaVuSans-74\" x=\"796.240234\"/>\n     <use xlink:href=\"#DejaVuSans-61\" x=\"835.449219\"/>\n     <use xlink:href=\"#DejaVuSans-62\" x=\"896.728516\"/>\n     <use xlink:href=\"#DejaVuSans-6c\" x=\"960.205078\"/>\n     <use xlink:href=\"#DejaVuSans-65\" x=\"987.988281\"/>\n    </g>\n   </g>\n  </g>\n  <g id=\"axes_2\">\n   <g id=\"patch_7\">\n    <path d=\"M 294.489773 244.078125 \nL 522.7625 244.078125 \nL 522.7625 22.318125 \nL 294.489773 22.318125 \nz\n\" style=\"fill: #ffffff\"/>\n   </g>\n   <g id=\"matplotlib.axis_3\">\n    <g id=\"xtick_7\">\n     <g id=\"line2d_16\">\n      <g>\n       <use xlink:href=\"#m09f6154b1a\" x=\"304.865806\" y=\"244.078125\" style=\"stroke: #000000; stroke-width: 0.8\"/>\n      </g>\n     </g>\n     <g id=\"text_17\">\n      <!-- 5.0 -->\n      <g transform=\"translate(296.914243 258.676562) scale(0.1 -0.1)\">\n       <defs>\n        <path id=\"DejaVuSans-2e\" d=\"M 684 794 \nL 1344 794 \nL 1344 0 \nL 684 0 \nL 684 794 \nz\n\" transform=\"scale(0.015625)\"/>\n       </defs>\n       <use xlink:href=\"#DejaVuSans-35\"/>\n       <use xlink:href=\"#DejaVuSans-2e\" x=\"63.623047\"/>\n       <use xlink:href=\"#DejaVuSans-30\" x=\"95.410156\"/>\n      </g>\n     </g>\n    </g>\n    <g id=\"xtick_8\">\n     <g id=\"line2d_17\">\n      <g>\n       <use xlink:href=\"#m09f6154b1a\" x=\"348.28217\" y=\"244.078125\" style=\"stroke: #000000; stroke-width: 0.8\"/>\n      </g>\n     </g>\n     <g id=\"text_18\">\n      <!-- 5.2 -->\n      <g transform=\"translate(340.330608 258.676562) scale(0.1 -0.1)\">\n       <use xlink:href=\"#DejaVuSans-35\"/>\n       <use xlink:href=\"#DejaVuSans-2e\" x=\"63.623047\"/>\n       <use xlink:href=\"#DejaVuSans-32\" x=\"95.410156\"/>\n      </g>\n     </g>\n    </g>\n    <g id=\"xtick_9\">\n     <g id=\"line2d_18\">\n      <g>\n       <use xlink:href=\"#m09f6154b1a\" x=\"391.698535\" y=\"244.078125\" style=\"stroke: #000000; stroke-width: 0.8\"/>\n      </g>\n     </g>\n     <g id=\"text_19\">\n      <!-- 5.4 -->\n      <g transform=\"translate(383.746972 258.676562) scale(0.1 -0.1)\">\n       <use xlink:href=\"#DejaVuSans-35\"/>\n       <use xlink:href=\"#DejaVuSans-2e\" x=\"63.623047\"/>\n       <use xlink:href=\"#DejaVuSans-34\" x=\"95.410156\"/>\n      </g>\n     </g>\n    </g>\n    <g id=\"xtick_10\">\n     <g id=\"line2d_19\">\n      <g>\n       <use xlink:href=\"#m09f6154b1a\" x=\"435.114899\" y=\"244.078125\" style=\"stroke: #000000; stroke-width: 0.8\"/>\n      </g>\n     </g>\n     <g id=\"text_20\">\n      <!-- 5.6 -->\n      <g transform=\"translate(427.163337 258.676562) scale(0.1 -0.1)\">\n       <use xlink:href=\"#DejaVuSans-35\"/>\n       <use xlink:href=\"#DejaVuSans-2e\" x=\"63.623047\"/>\n       <use xlink:href=\"#DejaVuSans-36\" x=\"95.410156\"/>\n      </g>\n     </g>\n    </g>\n    <g id=\"xtick_11\">\n     <g id=\"line2d_20\">\n      <g>\n       <use xlink:href=\"#m09f6154b1a\" x=\"478.531264\" y=\"244.078125\" style=\"stroke: #000000; stroke-width: 0.8\"/>\n      </g>\n     </g>\n     <g id=\"text_21\">\n      <!-- 5.8 -->\n      <g transform=\"translate(470.579701 258.676562) scale(0.1 -0.1)\">\n       <use xlink:href=\"#DejaVuSans-35\"/>\n       <use xlink:href=\"#DejaVuSans-2e\" x=\"63.623047\"/>\n       <use xlink:href=\"#DejaVuSans-38\" x=\"95.410156\"/>\n      </g>\n     </g>\n    </g>\n    <g id=\"xtick_12\">\n     <g id=\"line2d_21\">\n      <g>\n       <use xlink:href=\"#m09f6154b1a\" x=\"521.947628\" y=\"244.078125\" style=\"stroke: #000000; stroke-width: 0.8\"/>\n      </g>\n     </g>\n     <g id=\"text_22\">\n      <!-- 6.0 -->\n      <g transform=\"translate(513.996066 258.676562) scale(0.1 -0.1)\">\n       <use xlink:href=\"#DejaVuSans-36\"/>\n       <use xlink:href=\"#DejaVuSans-2e\" x=\"63.623047\"/>\n       <use xlink:href=\"#DejaVuSans-30\" x=\"95.410156\"/>\n      </g>\n     </g>\n    </g>\n   </g>\n   <g id=\"matplotlib.axis_4\">\n    <g id=\"ytick_9\">\n     <g id=\"line2d_22\">\n      <g>\n       <use xlink:href=\"#md64e9837a6\" x=\"294.489773\" y=\"224.556545\" style=\"stroke: #000000; stroke-width: 0.8\"/>\n      </g>\n     </g>\n     <g id=\"text_23\">\n      <!-- 1 -->\n      <g transform=\"translate(281.127273 228.355764) scale(0.1 -0.1)\">\n       <use xlink:href=\"#DejaVuSans-31\"/>\n      </g>\n     </g>\n    </g>\n    <g id=\"ytick_10\">\n     <g id=\"line2d_23\">\n      <g>\n       <use xlink:href=\"#md64e9837a6\" x=\"294.489773\" y=\"195.388747\" style=\"stroke: #000000; stroke-width: 0.8\"/>\n      </g>\n     </g>\n     <g id=\"text_24\">\n      <!-- 2 -->\n      <g transform=\"translate(281.127273 199.187966) scale(0.1 -0.1)\">\n       <use xlink:href=\"#DejaVuSans-32\"/>\n      </g>\n     </g>\n    </g>\n    <g id=\"ytick_11\">\n     <g id=\"line2d_24\">\n      <g>\n       <use xlink:href=\"#md64e9837a6\" x=\"294.489773\" y=\"166.22095\" style=\"stroke: #000000; stroke-width: 0.8\"/>\n      </g>\n     </g>\n     <g id=\"text_25\">\n      <!-- 3 -->\n      <g transform=\"translate(281.127273 170.020168) scale(0.1 -0.1)\">\n       <use xlink:href=\"#DejaVuSans-33\"/>\n      </g>\n     </g>\n    </g>\n    <g id=\"ytick_12\">\n     <g id=\"line2d_25\">\n      <g>\n       <use xlink:href=\"#md64e9837a6\" x=\"294.489773\" y=\"137.053152\" style=\"stroke: #000000; stroke-width: 0.8\"/>\n      </g>\n     </g>\n     <g id=\"text_26\">\n      <!-- 4 -->\n      <g transform=\"translate(281.127273 140.852371) scale(0.1 -0.1)\">\n       <use xlink:href=\"#DejaVuSans-34\"/>\n      </g>\n     </g>\n    </g>\n    <g id=\"ytick_13\">\n     <g id=\"line2d_26\">\n      <g>\n       <use xlink:href=\"#md64e9837a6\" x=\"294.489773\" y=\"107.885354\" style=\"stroke: #000000; stroke-width: 0.8\"/>\n      </g>\n     </g>\n     <g id=\"text_27\">\n      <!-- 5 -->\n      <g transform=\"translate(281.127273 111.684573) scale(0.1 -0.1)\">\n       <use xlink:href=\"#DejaVuSans-35\"/>\n      </g>\n     </g>\n    </g>\n    <g id=\"ytick_14\">\n     <g id=\"line2d_27\">\n      <g>\n       <use xlink:href=\"#md64e9837a6\" x=\"294.489773\" y=\"78.717557\" style=\"stroke: #000000; stroke-width: 0.8\"/>\n      </g>\n     </g>\n     <g id=\"text_28\">\n      <!-- 6 -->\n      <g transform=\"translate(281.127273 82.516775) scale(0.1 -0.1)\">\n       <use xlink:href=\"#DejaVuSans-36\"/>\n      </g>\n     </g>\n    </g>\n    <g id=\"ytick_15\">\n     <g id=\"line2d_28\">\n      <g>\n       <use xlink:href=\"#md64e9837a6\" x=\"294.489773\" y=\"49.549759\" style=\"stroke: #000000; stroke-width: 0.8\"/>\n      </g>\n     </g>\n     <g id=\"text_29\">\n      <!-- 7 -->\n      <g transform=\"translate(281.127273 53.348978) scale(0.1 -0.1)\">\n       <use xlink:href=\"#DejaVuSans-37\"/>\n      </g>\n     </g>\n    </g>\n    <g id=\"text_30\">\n     <!-- 1e−8 -->\n     <g transform=\"translate(294.489773 19.318125) scale(0.1 -0.1)\">\n      <use xlink:href=\"#DejaVuSans-31\"/>\n      <use xlink:href=\"#DejaVuSans-65\" x=\"63.623047\"/>\n      <use xlink:href=\"#DejaVuSans-2212\" x=\"125.146484\"/>\n      <use xlink:href=\"#DejaVuSans-38\" x=\"208.935547\"/>\n     </g>\n    </g>\n   </g>\n   <g id=\"line2d_29\">\n    <path d=\"M 304.865806 32.398125 \nL 305.952301 37.621966 \nL 308.125293 44.233657 \nL 309.211788 47.778519 \nL 310.298284 49.163802 \nL 312.471275 57.021578 \nL 313.557771 58.777903 \nL 314.644266 63.114748 \nL 316.817257 67.243461 \nL 317.903753 72.073171 \nL 320.076744 76.981629 \nL 322.249736 82.389104 \nL 324.422727 88.322471 \nL 325.509222 88.59814 \nL 327.682214 95.280843 \nL 328.768709 98.843592 \nL 329.855205 99.474055 \nL 330.9417 103.297297 \nL 332.028196 104.096898 \nL 333.114692 108.193641 \nL 335.287683 110.219027 \nL 336.374178 114.725207 \nL 338.54717 117.281654 \nL 339.633665 118.673291 \nL 340.720161 123.753605 \nL 342.893152 127.052694 \nL 345.066143 130.695227 \nL 347.239135 134.699778 \nL 349.412126 139.085762 \nL 350.498621 137.268975 \nL 352.671613 142.132552 \nL 354.844604 147.425738 \nL 355.931099 145.741123 \nL 358.104091 151.577456 \nL 359.190586 154.67526 \nL 360.277082 153.105535 \nL 361.363577 156.378238 \nL 362.450073 154.835501 \nL 364.623064 161.881098 \nL 365.70956 160.42557 \nL 366.796055 164.212385 \nL 367.882551 162.793803 \nL 368.969047 166.786364 \nL 370.055542 165.408575 \nL 371.142038 169.616162 \nL 372.228533 168.28322 \nL 373.315029 172.715499 \nL 374.401525 171.431674 \nL 375.48802 176.098707 \nL 377.661012 173.618795 \nL 378.747507 178.608906 \nL 380.920498 176.209188 \nL 382.006994 181.542699 \nL 384.179985 179.236707 \nL 385.266481 184.93515 \nL 387.439472 182.737537 \nL 388.525968 188.823721 \nL 391.785454 185.688936 \nL 392.87195 192.290006 \nL 396.131437 189.322646 \nL 397.217932 196.479803 \nL 400.477419 193.714816 \nL 401.563915 201.472438 \nL 406.996393 197.198678 \nL 408.082889 205.873109 \nL 413.515367 201.959286 \nL 414.601862 201.138916 \nL 415.688358 210.989304 \nL 421.120836 207.493943 \nL 423.293827 206.017017 \nL 424.380323 217.376801 \nL 429.812801 214.403882 \nL 435.245279 211.187803 \nL 436.331774 210.513686 \nL 437.41827 224.460705 \nL 443.937244 221.565488 \nL 449.369722 218.935168 \nL 454.8022 216.08971 \nL 456.975191 214.887394 \nL 458.061687 233.998125 \nL 465.667156 231.702949 \nL 472.186129 229.524248 \nL 478.705103 227.129996 \nL 485.224077 224.498868 \nL 491.74305 221.607426 \nL 497.175528 218.980536 \nL 502.608006 216.138789 \nL 508.040485 213.064612 \nL 512.386467 210.425196 \nL 512.386467 210.425196 \n\" clip-path=\"url(#p821899478b)\" style=\"fill: none; stroke: #1f77b4; stroke-width: 1.5; stroke-linecap: square\"/>\n   </g>\n   <g id=\"patch_8\">\n    <path d=\"M 294.489773 244.078125 \nL 294.489773 22.318125 \n\" style=\"fill: none; stroke: #000000; stroke-width: 0.8; stroke-linejoin: miter; stroke-linecap: square\"/>\n   </g>\n   <g id=\"patch_9\">\n    <path d=\"M 522.7625 244.078125 \nL 522.7625 22.318125 \n\" style=\"fill: none; stroke: #000000; stroke-width: 0.8; stroke-linejoin: miter; stroke-linecap: square\"/>\n   </g>\n   <g id=\"patch_10\">\n    <path d=\"M 294.489773 244.078125 \nL 522.7625 244.078125 \n\" style=\"fill: none; stroke: #000000; stroke-width: 0.8; stroke-linejoin: miter; stroke-linecap: square\"/>\n   </g>\n   <g id=\"patch_11\">\n    <path d=\"M 294.489773 22.318125 \nL 522.7625 22.318125 \n\" style=\"fill: none; stroke: #000000; stroke-width: 0.8; stroke-linejoin: miter; stroke-linecap: square\"/>\n   </g>\n  </g>\n </g>\n <defs>\n  <clipPath id=\"p2cd3a12c10\">\n   <rect x=\"20.5625\" y=\"22.318125\" width=\"228.272727\" height=\"221.76\"/>\n  </clipPath>\n  <clipPath id=\"p821899478b\">\n   <rect x=\"294.489773\" y=\"22.318125\" width=\"228.272727\" height=\"221.76\"/>\n  </clipPath>\n </defs>\n</svg>\n",
      "text/plain": [
       "<Figure size 900x400 with 2 Axes>"
      ]
     },
     "metadata": {},
     "output_type": "display_data"
    }
   ],
   "source": [
    "fig, axes = plt.subplots(1, 2, figsize=(9, 4))\n",
    "xx = np.linspace(5, 10, 1000)\n",
    "axes[0].plot(xx, func(xx))\n",
    "axes[0].set_title(\"numerically unstable\")\n",
    "axes[1].plot(xx, func2(xx));"
   ]
  },
  {
   "cell_type": "markdown",
   "metadata": {},
   "source": [
    "Now, we will transfer the function to numerically stable one:\n",
    "\n",
    "$$f(x) = \\frac{1-\\sqrt{1-t^2}}{t} \\times  \\frac{1+\\sqrt{1-t^2}}{1+\\sqrt{1-t^2}} = \\frac{t}{1+ \\sqrt{1-t^2}} $$"
   ]
  },
  {
   "cell_type": "code",
   "execution_count": 21,
   "metadata": {
    "vscode": {
     "languageId": "python"
    }
   },
   "outputs": [],
   "source": [
    "def func3(x):\n",
    "     t = np.exp(-np.pi*x)\n",
    "     y = t/(1+np.sqrt(1-t**2))\n",
    "     return y"
   ]
  },
  {
   "cell_type": "code",
   "execution_count": 24,
   "metadata": {
    "vscode": {
     "languageId": "python"
    }
   },
   "outputs": [
    {
     "data": {
      "image/png": "[encoded data removed]",
      "image/svg+xml": "<?xml version=\"1.0\" encoding=\"utf-8\" standalone=\"no\"?>\n<!DOCTYPE svg PUBLIC \"-//W3C//DTD SVG 1.1//EN\"\n  \"http://www.w3.org/Graphics/SVG/1.1/DTD/svg11.dtd\">\n<svg xmlns:xlink=\"http://www.w3.org/1999/xlink\" width=\"529.9625pt\" height=\"267.95625pt\" viewBox=\"0 0 529.9625 267.95625\" xmlns=\"http://www.w3.org/2000/svg\" version=\"1.1\">\n <metadata>\n  <rdf:RDF xmlns:dc=\"http://purl.org/dc/elements/1.1/\" xmlns:cc=\"http://creativecommons.org/ns#\" xmlns:rdf=\"http://www.w3.org/1999/02/22-rdf-syntax-ns#\">\n   <cc:Work>\n    <dc:type rdf:resource=\"http://purl.org/dc/dcmitype/StillImage\"/>\n    <dc:date>2022-12-05T23:09:49.430015</dc:date>\n    <dc:format>image/svg+xml</dc:format>\n    <dc:creator>\n     <cc:Agent>\n      <dc:title>Matplotlib v3.6.2, https://matplotlib.org/</dc:title>\n     </cc:Agent>\n    </dc:creator>\n   </cc:Work>\n  </rdf:RDF>\n </metadata>\n <defs>\n  <style type=\"text/css\">*{stroke-linejoin: round; stroke-linecap: butt}</style>\n </defs>\n <g id=\"figure_1\">\n  <g id=\"patch_1\">\n   <path d=\"M 0 267.95625 \nL 529.9625 267.95625 \nL 529.9625 0 \nL 0 0 \nz\n\" style=\"fill: #ffffff\"/>\n  </g>\n  <g id=\"axes_1\">\n   <g id=\"patch_2\">\n    <path d=\"M 20.5625 244.078125 \nL 248.835227 244.078125 \nL 248.835227 22.318125 \nL 20.5625 22.318125 \nz\n\" style=\"fill: #ffffff\"/>\n   </g>\n   <g id=\"matplotlib.axis_1\">\n    <g id=\"xtick_1\">\n     <g id=\"line2d_1\">\n      <defs>\n       <path id=\"mf798dbaf3c\" d=\"M 0 0 \nL 0 3.5 \n\" style=\"stroke: #000000; stroke-width: 0.8\"/>\n      </defs>\n      <g>\n       <use xlink:href=\"#mf798dbaf3c\" x=\"30.938533\" y=\"244.078125\" style=\"stroke: #000000; stroke-width: 0.8\"/>\n      </g>\n     </g>\n     <g id=\"text_1\">\n      <!-- 5 -->\n      <g transform=\"translate(27.757283 258.676562) scale(0.1 -0.1)\">\n       <defs>\n        <path id=\"DejaVuSans-35\" d=\"M 691 4666 \nL 3169 4666 \nL 3169 4134 \nL 1269 4134 \nL 1269 2991 \nQ 1406 3038 1543 3061 \nQ 1681 3084 1819 3084 \nQ 2600 3084 3056 2656 \nQ 3513 2228 3513 1497 \nQ 3513 744 3044 326 \nQ 2575 -91 1722 -91 \nQ 1428 -91 1123 -41 \nQ 819 9 494 109 \nL 494 744 \nQ 775 591 1075 516 \nQ 1375 441 1709 441 \nQ 2250 441 2565 725 \nQ 2881 1009 2881 1497 \nQ 2881 1984 2565 2268 \nQ 2250 2553 1709 2553 \nQ 1456 2553 1204 2497 \nQ 953 2441 691 2322 \nL 691 4666 \nz\n\" transform=\"scale(0.015625)\"/>\n       </defs>\n       <use xlink:href=\"#DejaVuSans-35\"/>\n      </g>\n     </g>\n    </g>\n    <g id=\"xtick_2\">\n     <g id=\"line2d_2\">\n      <g>\n       <use xlink:href=\"#mf798dbaf3c\" x=\"72.442665\" y=\"244.078125\" style=\"stroke: #000000; stroke-width: 0.8\"/>\n      </g>\n     </g>\n     <g id=\"text_2\">\n      <!-- 6 -->\n      <g transform=\"translate(69.261415 258.676562) scale(0.1 -0.1)\">\n       <defs>\n        <path id=\"DejaVuSans-36\" d=\"M 2113 2584 \nQ 1688 2584 1439 2293 \nQ 1191 2003 1191 1497 \nQ 1191 994 1439 701 \nQ 1688 409 2113 409 \nQ 2538 409 2786 701 \nQ 3034 994 3034 1497 \nQ 3034 2003 2786 2293 \nQ 2538 2584 2113 2584 \nz\nM 3366 4563 \nL 3366 3988 \nQ 3128 4100 2886 4159 \nQ 2644 4219 2406 4219 \nQ 1781 4219 1451 3797 \nQ 1122 3375 1075 2522 \nQ 1259 2794 1537 2939 \nQ 1816 3084 2150 3084 \nQ 2853 3084 3261 2657 \nQ 3669 2231 3669 1497 \nQ 3669 778 3244 343 \nQ 2819 -91 2113 -91 \nQ 1303 -91 875 529 \nQ 447 1150 447 2328 \nQ 447 3434 972 4092 \nQ 1497 4750 2381 4750 \nQ 2619 4750 2861 4703 \nQ 3103 4656 3366 4563 \nz\n\" transform=\"scale(0.015625)\"/>\n       </defs>\n       <use xlink:href=\"#DejaVuSans-36\"/>\n      </g>\n     </g>\n    </g>\n    <g id=\"xtick_3\">\n     <g id=\"line2d_3\">\n      <g>\n       <use xlink:href=\"#mf798dbaf3c\" x=\"113.946798\" y=\"244.078125\" style=\"stroke: #000000; stroke-width: 0.8\"/>\n      </g>\n     </g>\n     <g id=\"text_3\">\n      <!-- 7 -->\n      <g transform=\"translate(110.765548 258.676562) scale(0.1 -0.1)\">\n       <defs>\n        <path id=\"DejaVuSans-37\" d=\"M 525 4666 \nL 3525 4666 \nL 3525 4397 \nL 1831 0 \nL 1172 0 \nL 2766 4134 \nL 525 4134 \nL 525 4666 \nz\n\" transform=\"scale(0.015625)\"/>\n       </defs>\n       <use xlink:href=\"#DejaVuSans-37\"/>\n      </g>\n     </g>\n    </g>\n    <g id=\"xtick_4\">\n     <g id=\"line2d_4\">\n      <g>\n       <use xlink:href=\"#mf798dbaf3c\" x=\"155.45093\" y=\"244.078125\" style=\"stroke: #000000; stroke-width: 0.8\"/>\n      </g>\n     </g>\n     <g id=\"text_4\">\n      <!-- 8 -->\n      <g transform=\"translate(152.26968 258.676562) scale(0.1 -0.1)\">\n       <defs>\n        <path id=\"DejaVuSans-38\" d=\"M 2034 2216 \nQ 1584 2216 1326 1975 \nQ 1069 1734 1069 1313 \nQ 1069 891 1326 650 \nQ 1584 409 2034 409 \nQ 2484 409 2743 651 \nQ 3003 894 3003 1313 \nQ 3003 1734 2745 1975 \nQ 2488 2216 2034 2216 \nz\nM 1403 2484 \nQ 997 2584 770 2862 \nQ 544 3141 544 3541 \nQ 544 4100 942 4425 \nQ 1341 4750 2034 4750 \nQ 2731 4750 3128 4425 \nQ 3525 4100 3525 3541 \nQ 3525 3141 3298 2862 \nQ 3072 2584 2669 2484 \nQ 3125 2378 3379 2068 \nQ 3634 1759 3634 1313 \nQ 3634 634 3220 271 \nQ 2806 -91 2034 -91 \nQ 1263 -91 848 271 \nQ 434 634 434 1313 \nQ 434 1759 690 2068 \nQ 947 2378 1403 2484 \nz\nM 1172 3481 \nQ 1172 3119 1398 2916 \nQ 1625 2713 2034 2713 \nQ 2441 2713 2670 2916 \nQ 2900 3119 2900 3481 \nQ 2900 3844 2670 4047 \nQ 2441 4250 2034 4250 \nQ 1625 4250 1398 4047 \nQ 1172 3844 1172 3481 \nz\n\" transform=\"scale(0.015625)\"/>\n       </defs>\n       <use xlink:href=\"#DejaVuSans-38\"/>\n      </g>\n     </g>\n    </g>\n    <g id=\"xtick_5\">\n     <g id=\"line2d_5\">\n      <g>\n       <use xlink:href=\"#mf798dbaf3c\" x=\"196.955062\" y=\"244.078125\" style=\"stroke: #000000; stroke-width: 0.8\"/>\n      </g>\n     </g>\n     <g id=\"text_5\">\n      <!-- 9 -->\n      <g transform=\"translate(193.773812 258.676562) scale(0.1 -0.1)\">\n       <defs>\n        <path id=\"DejaVuSans-39\" d=\"M 703 97 \nL 703 672 \nQ 941 559 1184 500 \nQ 1428 441 1663 441 \nQ 2288 441 2617 861 \nQ 2947 1281 2994 2138 \nQ 2813 1869 2534 1725 \nQ 2256 1581 1919 1581 \nQ 1219 1581 811 2004 \nQ 403 2428 403 3163 \nQ 403 3881 828 4315 \nQ 1253 4750 1959 4750 \nQ 2769 4750 3195 4129 \nQ 3622 3509 3622 2328 \nQ 3622 1225 3098 567 \nQ 2575 -91 1691 -91 \nQ 1453 -91 1209 -44 \nQ 966 3 703 97 \nz\nM 1959 2075 \nQ 2384 2075 2632 2365 \nQ 2881 2656 2881 3163 \nQ 2881 3666 2632 3958 \nQ 2384 4250 1959 4250 \nQ 1534 4250 1286 3958 \nQ 1038 3666 1038 3163 \nQ 1038 2656 1286 2365 \nQ 1534 2075 1959 2075 \nz\n\" transform=\"scale(0.015625)\"/>\n       </defs>\n       <use xlink:href=\"#DejaVuSans-39\"/>\n      </g>\n     </g>\n    </g>\n    <g id=\"xtick_6\">\n     <g id=\"line2d_6\">\n      <g>\n       <use xlink:href=\"#mf798dbaf3c\" x=\"238.459194\" y=\"244.078125\" style=\"stroke: #000000; stroke-width: 0.8\"/>\n      </g>\n     </g>\n     <g id=\"text_6\">\n      <!-- 10 -->\n      <g transform=\"translate(232.096694 258.676562) scale(0.1 -0.1)\">\n       <defs>\n        <path id=\"DejaVuSans-31\" d=\"M 794 531 \nL 1825 531 \nL 1825 4091 \nL 703 3866 \nL 703 4441 \nL 1819 4666 \nL 2450 4666 \nL 2450 531 \nL 3481 531 \nL 3481 0 \nL 794 0 \nL 794 531 \nz\n\" transform=\"scale(0.015625)\"/>\n        <path id=\"DejaVuSans-30\" d=\"M 2034 4250 \nQ 1547 4250 1301 3770 \nQ 1056 3291 1056 2328 \nQ 1056 1369 1301 889 \nQ 1547 409 2034 409 \nQ 2525 409 2770 889 \nQ 3016 1369 3016 2328 \nQ 3016 3291 2770 3770 \nQ 2525 4250 2034 4250 \nz\nM 2034 4750 \nQ 2819 4750 3233 4129 \nQ 3647 3509 3647 2328 \nQ 3647 1150 3233 529 \nQ 2819 -91 2034 -91 \nQ 1250 -91 836 529 \nQ 422 1150 422 2328 \nQ 422 3509 836 4129 \nQ 1250 4750 2034 4750 \nz\n\" transform=\"scale(0.015625)\"/>\n       </defs>\n       <use xlink:href=\"#DejaVuSans-31\"/>\n       <use xlink:href=\"#DejaVuSans-30\" x=\"63.623047\"/>\n      </g>\n     </g>\n    </g>\n   </g>\n   <g id=\"matplotlib.axis_2\">\n    <g id=\"ytick_1\">\n     <g id=\"line2d_7\">\n      <defs>\n       <path id=\"m869cb51ed3\" d=\"M 0 0 \nL -3.5 0 \n\" style=\"stroke: #000000; stroke-width: 0.8\"/>\n      </defs>\n      <g>\n       <use xlink:href=\"#m869cb51ed3\" x=\"20.5625\" y=\"233.998125\" style=\"stroke: #000000; stroke-width: 0.8\"/>\n      </g>\n     </g>\n     <g id=\"text_7\">\n      <!-- 0 -->\n      <g transform=\"translate(7.2 237.797344) scale(0.1 -0.1)\">\n       <use xlink:href=\"#DejaVuSans-30\"/>\n      </g>\n     </g>\n    </g>\n    <g id=\"ytick_2\">\n     <g id=\"line2d_8\">\n      <g>\n       <use xlink:href=\"#m869cb51ed3\" x=\"20.5625\" y=\"207.429976\" style=\"stroke: #000000; stroke-width: 0.8\"/>\n      </g>\n     </g>\n     <g id=\"text_8\">\n      <!-- 1 -->\n      <g transform=\"translate(7.2 211.229194) scale(0.1 -0.1)\">\n       <use xlink:href=\"#DejaVuSans-31\"/>\n      </g>\n     </g>\n    </g>\n    <g id=\"ytick_3\">\n     <g id=\"line2d_9\">\n      <g>\n       <use xlink:href=\"#m869cb51ed3\" x=\"20.5625\" y=\"180.861826\" style=\"stroke: #000000; stroke-width: 0.8\"/>\n      </g>\n     </g>\n     <g id=\"text_9\">\n      <!-- 2 -->\n      <g transform=\"translate(7.2 184.661045) scale(0.1 -0.1)\">\n       <defs>\n        <path id=\"DejaVuSans-32\" d=\"M 1228 531 \nL 3431 531 \nL 3431 0 \nL 469 0 \nL 469 531 \nQ 828 903 1448 1529 \nQ 2069 2156 2228 2338 \nQ 2531 2678 2651 2914 \nQ 2772 3150 2772 3378 \nQ 2772 3750 2511 3984 \nQ 2250 4219 1831 4219 \nQ 1534 4219 1204 4116 \nQ 875 4013 500 3803 \nL 500 4441 \nQ 881 4594 1212 4672 \nQ 1544 4750 1819 4750 \nQ 2544 4750 2975 4387 \nQ 3406 4025 3406 3419 \nQ 3406 3131 3298 2873 \nQ 3191 2616 2906 2266 \nQ 2828 2175 2409 1742 \nQ 1991 1309 1228 531 \nz\n\" transform=\"scale(0.015625)\"/>\n       </defs>\n       <use xlink:href=\"#DejaVuSans-32\"/>\n      </g>\n     </g>\n    </g>\n    <g id=\"ytick_4\">\n     <g id=\"line2d_10\">\n      <g>\n       <use xlink:href=\"#m869cb51ed3\" x=\"20.5625\" y=\"154.293677\" style=\"stroke: #000000; stroke-width: 0.8\"/>\n      </g>\n     </g>\n     <g id=\"text_10\">\n      <!-- 3 -->\n      <g transform=\"translate(7.2 158.092896) scale(0.1 -0.1)\">\n       <defs>\n        <path id=\"DejaVuSans-33\" d=\"M 2597 2516 \nQ 3050 2419 3304 2112 \nQ 3559 1806 3559 1356 \nQ 3559 666 3084 287 \nQ 2609 -91 1734 -91 \nQ 1441 -91 1130 -33 \nQ 819 25 488 141 \nL 488 750 \nQ 750 597 1062 519 \nQ 1375 441 1716 441 \nQ 2309 441 2620 675 \nQ 2931 909 2931 1356 \nQ 2931 1769 2642 2001 \nQ 2353 2234 1838 2234 \nL 1294 2234 \nL 1294 2753 \nL 1863 2753 \nQ 2328 2753 2575 2939 \nQ 2822 3125 2822 3475 \nQ 2822 3834 2567 4026 \nQ 2313 4219 1838 4219 \nQ 1578 4219 1281 4162 \nQ 984 4106 628 3988 \nL 628 4550 \nQ 988 4650 1302 4700 \nQ 1616 4750 1894 4750 \nQ 2613 4750 3031 4423 \nQ 3450 4097 3450 3541 \nQ 3450 3153 3228 2886 \nQ 3006 2619 2597 2516 \nz\n\" transform=\"scale(0.015625)\"/>\n       </defs>\n       <use xlink:href=\"#DejaVuSans-33\"/>\n      </g>\n     </g>\n    </g>\n    <g id=\"ytick_5\">\n     <g id=\"line2d_11\">\n      <g>\n       <use xlink:href=\"#m869cb51ed3\" x=\"20.5625\" y=\"127.725528\" style=\"stroke: #000000; stroke-width: 0.8\"/>\n      </g>\n     </g>\n     <g id=\"text_11\">\n      <!-- 4 -->\n      <g transform=\"translate(7.2 131.524746) scale(0.1 -0.1)\">\n       <defs>\n        <path id=\"DejaVuSans-34\" d=\"M 2419 4116 \nL 825 1625 \nL 2419 1625 \nL 2419 4116 \nz\nM 2253 4666 \nL 3047 4666 \nL 3047 1625 \nL 3713 1625 \nL 3713 1100 \nL 3047 1100 \nL 3047 0 \nL 2419 0 \nL 2419 1100 \nL 313 1100 \nL 313 1709 \nL 2253 4666 \nz\n\" transform=\"scale(0.015625)\"/>\n       </defs>\n       <use xlink:href=\"#DejaVuSans-34\"/>\n      </g>\n     </g>\n    </g>\n    <g id=\"ytick_6\">\n     <g id=\"line2d_12\">\n      <g>\n       <use xlink:href=\"#m869cb51ed3\" x=\"20.5625\" y=\"101.157378\" style=\"stroke: #000000; stroke-width: 0.8\"/>\n      </g>\n     </g>\n     <g id=\"text_12\">\n      <!-- 5 -->\n      <g transform=\"translate(7.2 104.956597) scale(0.1 -0.1)\">\n       <use xlink:href=\"#DejaVuSans-35\"/>\n      </g>\n     </g>\n    </g>\n    <g id=\"ytick_7\">\n     <g id=\"line2d_13\">\n      <g>\n       <use xlink:href=\"#m869cb51ed3\" x=\"20.5625\" y=\"74.589229\" style=\"stroke: #000000; stroke-width: 0.8\"/>\n      </g>\n     </g>\n     <g id=\"text_13\">\n      <!-- 6 -->\n      <g transform=\"translate(7.2 78.388448) scale(0.1 -0.1)\">\n       <use xlink:href=\"#DejaVuSans-36\"/>\n      </g>\n     </g>\n    </g>\n    <g id=\"ytick_8\">\n     <g id=\"line2d_14\">\n      <g>\n       <use xlink:href=\"#m869cb51ed3\" x=\"20.5625\" y=\"48.02108\" style=\"stroke: #000000; stroke-width: 0.8\"/>\n      </g>\n     </g>\n     <g id=\"text_14\">\n      <!-- 7 -->\n      <g transform=\"translate(7.2 51.820298) scale(0.1 -0.1)\">\n       <use xlink:href=\"#DejaVuSans-37\"/>\n      </g>\n     </g>\n    </g>\n    <g id=\"text_15\">\n     <!-- 1e−8 -->\n     <g transform=\"translate(20.5625 19.318125) scale(0.1 -0.1)\">\n      <defs>\n       <path id=\"DejaVuSans-65\" d=\"M 3597 1894 \nL 3597 1613 \nL 953 1613 \nQ 991 1019 1311 708 \nQ 1631 397 2203 397 \nQ 2534 397 2845 478 \nQ 3156 559 3463 722 \nL 3463 178 \nQ 3153 47 2828 -22 \nQ 2503 -91 2169 -91 \nQ 1331 -91 842 396 \nQ 353 884 353 1716 \nQ 353 2575 817 3079 \nQ 1281 3584 2069 3584 \nQ 2775 3584 3186 3129 \nQ 3597 2675 3597 1894 \nz\nM 3022 2063 \nQ 3016 2534 2758 2815 \nQ 2500 3097 2075 3097 \nQ 1594 3097 1305 2825 \nQ 1016 2553 972 2059 \nL 3022 2063 \nz\n\" transform=\"scale(0.015625)\"/>\n       <path id=\"DejaVuSans-2212\" d=\"M 678 2272 \nL 4684 2272 \nL 4684 1741 \nL 678 1741 \nL 678 2272 \nz\n\" transform=\"scale(0.015625)\"/>\n      </defs>\n      <use xlink:href=\"#DejaVuSans-31\"/>\n      <use xlink:href=\"#DejaVuSans-65\" x=\"63.623047\"/>\n      <use xlink:href=\"#DejaVuSans-2212\" x=\"125.146484\"/>\n      <use xlink:href=\"#DejaVuSans-38\" x=\"208.935547\"/>\n     </g>\n    </g>\n   </g>\n   <g id=\"line2d_15\">\n    <path d=\"M 30.938533 32.398125 \nL 31.35399 40.096273 \nL 31.769447 46.407706 \nL 31.977175 47.669522 \nL 32.808089 60.377057 \nL 33.223545 64.137789 \nL 33.639002 70.7172 \nL 35.300829 89.676273 \nL 35.508558 92.921484 \nL 35.716286 93.495756 \nL 35.924014 96.978242 \nL 36.131743 97.706577 \nL 36.339471 101.438188 \nL 36.754928 103.283057 \nL 36.962656 107.387613 \nL 37.585842 110.983815 \nL 37.79357 115.611334 \nL 38.832212 123.715779 \nL 39.455397 129.576977 \nL 39.663125 127.922115 \nL 40.494039 137.173633 \nL 40.701767 135.639163 \nL 41.324953 143.777024 \nL 41.532681 142.347204 \nL 41.740409 145.32822 \nL 41.948138 143.922983 \nL 42.363594 150.340625 \nL 42.571323 149.014824 \nL 42.779051 152.46413 \nL 42.98678 151.171983 \nL 43.194508 154.808697 \nL 43.402236 153.553707 \nL 43.609965 157.386284 \nL 43.817693 156.172143 \nL 44.025422 160.209384 \nL 44.23315 159.039984 \nL 44.440878 163.291056 \nL 44.856335 161.032172 \nL 45.064064 165.577528 \nL 45.47952 163.39169 \nL 45.687249 168.24984 \nL 46.102705 166.149375 \nL 46.310434 171.33993 \nL 46.725891 169.338185 \nL 46.933619 174.881924 \nL 47.556804 172.026533 \nL 47.764533 178.039268 \nL 48.387718 175.336381 \nL 48.595446 181.855639 \nL 49.218631 179.337088 \nL 49.42636 186.403294 \nL 50.465002 182.510443 \nL 50.67273 190.411745 \nL 51.9191 186.099498 \nL 52.126829 195.071947 \nL 53.580928 190.542827 \nL 53.788656 200.890143 \nL 55.450483 196.452236 \nL 56.073668 194.63872 \nL 56.281397 207.342678 \nL 58.150952 203.290631 \nL 59.812779 199.174494 \nL 60.020508 198.62261 \nL 60.228236 216.030053 \nL 62.097791 213.298624 \nL 63.967347 210.151975 \nL 65.836903 206.526986 \nL 67.706458 202.350942 \nL 69.368285 198.108845 \nL 70.614655 194.558116 \nL 70.822384 233.998125 \nL 238.459194 233.998125 \nL 238.459194 233.998125 \n\" clip-path=\"url(#p6a54166a35)\" style=\"fill: none; stroke: #1f77b4; stroke-width: 1.5; stroke-linecap: square\"/>\n   </g>\n   <g id=\"patch_3\">\n    <path d=\"M 20.5625 244.078125 \nL 20.5625 22.318125 \n\" style=\"fill: none; stroke: #000000; stroke-width: 0.8; stroke-linejoin: miter; stroke-linecap: square\"/>\n   </g>\n   <g id=\"patch_4\">\n    <path d=\"M 248.835227 244.078125 \nL 248.835227 22.318125 \n\" style=\"fill: none; stroke: #000000; stroke-width: 0.8; stroke-linejoin: miter; stroke-linecap: square\"/>\n   </g>\n   <g id=\"patch_5\">\n    <path d=\"M 20.5625 244.078125 \nL 248.835227 244.078125 \n\" style=\"fill: none; stroke: #000000; stroke-width: 0.8; stroke-linejoin: miter; stroke-linecap: square\"/>\n   </g>\n   <g id=\"patch_6\">\n    <path d=\"M 20.5625 22.318125 \nL 248.835227 22.318125 \n\" style=\"fill: none; stroke: #000000; stroke-width: 0.8; stroke-linejoin: miter; stroke-linecap: square\"/>\n   </g>\n   <g id=\"text_16\">\n    <!-- Numerically unstable -->\n    <g transform=\"translate(71.042614 16.318125) scale(0.12 -0.12)\">\n     <defs>\n      <path id=\"DejaVuSans-4e\" d=\"M 628 4666 \nL 1478 4666 \nL 3547 763 \nL 3547 4666 \nL 4159 4666 \nL 4159 0 \nL 3309 0 \nL 1241 3903 \nL 1241 0 \nL 628 0 \nL 628 4666 \nz\n\" transform=\"scale(0.015625)\"/>\n      <path id=\"DejaVuSans-75\" d=\"M 544 1381 \nL 544 3500 \nL 1119 3500 \nL 1119 1403 \nQ 1119 906 1312 657 \nQ 1506 409 1894 409 \nQ 2359 409 2629 706 \nQ 2900 1003 2900 1516 \nL 2900 3500 \nL 3475 3500 \nL 3475 0 \nL 2900 0 \nL 2900 538 \nQ 2691 219 2414 64 \nQ 2138 -91 1772 -91 \nQ 1169 -91 856 284 \nQ 544 659 544 1381 \nz\nM 1991 3584 \nL 1991 3584 \nz\n\" transform=\"scale(0.015625)\"/>\n      <path id=\"DejaVuSans-6d\" d=\"M 3328 2828 \nQ 3544 3216 3844 3400 \nQ 4144 3584 4550 3584 \nQ 5097 3584 5394 3201 \nQ 5691 2819 5691 2113 \nL 5691 0 \nL 5113 0 \nL 5113 2094 \nQ 5113 2597 4934 2840 \nQ 4756 3084 4391 3084 \nQ 3944 3084 3684 2787 \nQ 3425 2491 3425 1978 \nL 3425 0 \nL 2847 0 \nL 2847 2094 \nQ 2847 2600 2669 2842 \nQ 2491 3084 2119 3084 \nQ 1678 3084 1418 2786 \nQ 1159 2488 1159 1978 \nL 1159 0 \nL 581 0 \nL 581 3500 \nL 1159 3500 \nL 1159 2956 \nQ 1356 3278 1631 3431 \nQ 1906 3584 2284 3584 \nQ 2666 3584 2933 3390 \nQ 3200 3197 3328 2828 \nz\n\" transform=\"scale(0.015625)\"/>\n      <path id=\"DejaVuSans-72\" d=\"M 2631 2963 \nQ 2534 3019 2420 3045 \nQ 2306 3072 2169 3072 \nQ 1681 3072 1420 2755 \nQ 1159 2438 1159 1844 \nL 1159 0 \nL 581 0 \nL 581 3500 \nL 1159 3500 \nL 1159 2956 \nQ 1341 3275 1631 3429 \nQ 1922 3584 2338 3584 \nQ 2397 3584 2469 3576 \nQ 2541 3569 2628 3553 \nL 2631 2963 \nz\n\" transform=\"scale(0.015625)\"/>\n      <path id=\"DejaVuSans-69\" d=\"M 603 3500 \nL 1178 3500 \nL 1178 0 \nL 603 0 \nL 603 3500 \nz\nM 603 4863 \nL 1178 4863 \nL 1178 4134 \nL 603 4134 \nL 603 4863 \nz\n\" transform=\"scale(0.015625)\"/>\n      <path id=\"DejaVuSans-63\" d=\"M 3122 3366 \nL 3122 2828 \nQ 2878 2963 2633 3030 \nQ 2388 3097 2138 3097 \nQ 1578 3097 1268 2742 \nQ 959 2388 959 1747 \nQ 959 1106 1268 751 \nQ 1578 397 2138 397 \nQ 2388 397 2633 464 \nQ 2878 531 3122 666 \nL 3122 134 \nQ 2881 22 2623 -34 \nQ 2366 -91 2075 -91 \nQ 1284 -91 818 406 \nQ 353 903 353 1747 \nQ 353 2603 823 3093 \nQ 1294 3584 2113 3584 \nQ 2378 3584 2631 3529 \nQ 2884 3475 3122 3366 \nz\n\" transform=\"scale(0.015625)\"/>\n      <path id=\"DejaVuSans-61\" d=\"M 2194 1759 \nQ 1497 1759 1228 1600 \nQ 959 1441 959 1056 \nQ 959 750 1161 570 \nQ 1363 391 1709 391 \nQ 2188 391 2477 730 \nQ 2766 1069 2766 1631 \nL 2766 1759 \nL 2194 1759 \nz\nM 3341 1997 \nL 3341 0 \nL 2766 0 \nL 2766 531 \nQ 2569 213 2275 61 \nQ 1981 -91 1556 -91 \nQ 1019 -91 701 211 \nQ 384 513 384 1019 \nQ 384 1609 779 1909 \nQ 1175 2209 1959 2209 \nL 2766 2209 \nL 2766 2266 \nQ 2766 2663 2505 2880 \nQ 2244 3097 1772 3097 \nQ 1472 3097 1187 3025 \nQ 903 2953 641 2809 \nL 641 3341 \nQ 956 3463 1253 3523 \nQ 1550 3584 1831 3584 \nQ 2591 3584 2966 3190 \nQ 3341 2797 3341 1997 \nz\n\" transform=\"scale(0.015625)\"/>\n      <path id=\"DejaVuSans-6c\" d=\"M 603 4863 \nL 1178 4863 \nL 1178 0 \nL 603 0 \nL 603 4863 \nz\n\" transform=\"scale(0.015625)\"/>\n      <path id=\"DejaVuSans-79\" d=\"M 2059 -325 \nQ 1816 -950 1584 -1140 \nQ 1353 -1331 966 -1331 \nL 506 -1331 \nL 506 -850 \nL 844 -850 \nQ 1081 -850 1212 -737 \nQ 1344 -625 1503 -206 \nL 1606 56 \nL 191 3500 \nL 800 3500 \nL 1894 763 \nL 2988 3500 \nL 3597 3500 \nL 2059 -325 \nz\n\" transform=\"scale(0.015625)\"/>\n      <path id=\"DejaVuSans-20\" transform=\"scale(0.015625)\"/>\n      <path id=\"DejaVuSans-6e\" d=\"M 3513 2113 \nL 3513 0 \nL 2938 0 \nL 2938 2094 \nQ 2938 2591 2744 2837 \nQ 2550 3084 2163 3084 \nQ 1697 3084 1428 2787 \nQ 1159 2491 1159 1978 \nL 1159 0 \nL 581 0 \nL 581 3500 \nL 1159 3500 \nL 1159 2956 \nQ 1366 3272 1645 3428 \nQ 1925 3584 2291 3584 \nQ 2894 3584 3203 3211 \nQ 3513 2838 3513 2113 \nz\n\" transform=\"scale(0.015625)\"/>\n      <path id=\"DejaVuSans-73\" d=\"M 2834 3397 \nL 2834 2853 \nQ 2591 2978 2328 3040 \nQ 2066 3103 1784 3103 \nQ 1356 3103 1142 2972 \nQ 928 2841 928 2578 \nQ 928 2378 1081 2264 \nQ 1234 2150 1697 2047 \nL 1894 2003 \nQ 2506 1872 2764 1633 \nQ 3022 1394 3022 966 \nQ 3022 478 2636 193 \nQ 2250 -91 1575 -91 \nQ 1294 -91 989 -36 \nQ 684 19 347 128 \nL 347 722 \nQ 666 556 975 473 \nQ 1284 391 1588 391 \nQ 1994 391 2212 530 \nQ 2431 669 2431 922 \nQ 2431 1156 2273 1281 \nQ 2116 1406 1581 1522 \nL 1381 1569 \nQ 847 1681 609 1914 \nQ 372 2147 372 2553 \nQ 372 3047 722 3315 \nQ 1072 3584 1716 3584 \nQ 2034 3584 2315 3537 \nQ 2597 3491 2834 3397 \nz\n\" transform=\"scale(0.015625)\"/>\n      <path id=\"DejaVuSans-74\" d=\"M 1172 4494 \nL 1172 3500 \nL 2356 3500 \nL 2356 3053 \nL 1172 3053 \nL 1172 1153 \nQ 1172 725 1289 603 \nQ 1406 481 1766 481 \nL 2356 481 \nL 2356 0 \nL 1766 0 \nQ 1100 0 847 248 \nQ 594 497 594 1153 \nL 594 3053 \nL 172 3053 \nL 172 3500 \nL 594 3500 \nL 594 4494 \nL 1172 4494 \nz\n\" transform=\"scale(0.015625)\"/>\n      <path id=\"DejaVuSans-62\" d=\"M 3116 1747 \nQ 3116 2381 2855 2742 \nQ 2594 3103 2138 3103 \nQ 1681 3103 1420 2742 \nQ 1159 2381 1159 1747 \nQ 1159 1113 1420 752 \nQ 1681 391 2138 391 \nQ 2594 391 2855 752 \nQ 3116 1113 3116 1747 \nz\nM 1159 2969 \nQ 1341 3281 1617 3432 \nQ 1894 3584 2278 3584 \nQ 2916 3584 3314 3078 \nQ 3713 2572 3713 1747 \nQ 3713 922 3314 415 \nQ 2916 -91 2278 -91 \nQ 1894 -91 1617 61 \nQ 1341 213 1159 525 \nL 1159 0 \nL 581 0 \nL 581 4863 \nL 1159 4863 \nL 1159 2969 \nz\n\" transform=\"scale(0.015625)\"/>\n     </defs>\n     <use xlink:href=\"#DejaVuSans-4e\"/>\n     <use xlink:href=\"#DejaVuSans-75\" x=\"74.804688\"/>\n     <use xlink:href=\"#DejaVuSans-6d\" x=\"138.183594\"/>\n     <use xlink:href=\"#DejaVuSans-65\" x=\"235.595703\"/>\n     <use xlink:href=\"#DejaVuSans-72\" x=\"297.119141\"/>\n     <use xlink:href=\"#DejaVuSans-69\" x=\"338.232422\"/>\n     <use xlink:href=\"#DejaVuSans-63\" x=\"366.015625\"/>\n     <use xlink:href=\"#DejaVuSans-61\" x=\"420.996094\"/>\n     <use xlink:href=\"#DejaVuSans-6c\" x=\"482.275391\"/>\n     <use xlink:href=\"#DejaVuSans-6c\" x=\"510.058594\"/>\n     <use xlink:href=\"#DejaVuSans-79\" x=\"537.841797\"/>\n     <use xlink:href=\"#DejaVuSans-20\" x=\"597.021484\"/>\n     <use xlink:href=\"#DejaVuSans-75\" x=\"628.808594\"/>\n     <use xlink:href=\"#DejaVuSans-6e\" x=\"692.1875\"/>\n     <use xlink:href=\"#DejaVuSans-73\" x=\"755.566406\"/>\n     <use xlink:href=\"#DejaVuSans-74\" x=\"807.666016\"/>\n     <use xlink:href=\"#DejaVuSans-61\" x=\"846.875\"/>\n     <use xlink:href=\"#DejaVuSans-62\" x=\"908.154297\"/>\n     <use xlink:href=\"#DejaVuSans-6c\" x=\"971.630859\"/>\n     <use xlink:href=\"#DejaVuSans-65\" x=\"999.414062\"/>\n    </g>\n   </g>\n  </g>\n  <g id=\"axes_2\">\n   <g id=\"patch_7\">\n    <path d=\"M 294.489773 244.078125 \nL 522.7625 244.078125 \nL 522.7625 22.318125 \nL 294.489773 22.318125 \nz\n\" style=\"fill: #ffffff\"/>\n   </g>\n   <g id=\"matplotlib.axis_3\">\n    <g id=\"xtick_7\">\n     <g id=\"line2d_16\">\n      <g>\n       <use xlink:href=\"#mf798dbaf3c\" x=\"304.865806\" y=\"244.078125\" style=\"stroke: #000000; stroke-width: 0.8\"/>\n      </g>\n     </g>\n     <g id=\"text_17\">\n      <!-- 5 -->\n      <g transform=\"translate(301.684556 258.676562) scale(0.1 -0.1)\">\n       <use xlink:href=\"#DejaVuSans-35\"/>\n      </g>\n     </g>\n    </g>\n    <g id=\"xtick_8\">\n     <g id=\"line2d_17\">\n      <g>\n       <use xlink:href=\"#mf798dbaf3c\" x=\"346.369938\" y=\"244.078125\" style=\"stroke: #000000; stroke-width: 0.8\"/>\n      </g>\n     </g>\n     <g id=\"text_18\">\n      <!-- 6 -->\n      <g transform=\"translate(343.188688 258.676562) scale(0.1 -0.1)\">\n       <use xlink:href=\"#DejaVuSans-36\"/>\n      </g>\n     </g>\n    </g>\n    <g id=\"xtick_9\">\n     <g id=\"line2d_18\">\n      <g>\n       <use xlink:href=\"#mf798dbaf3c\" x=\"387.87407\" y=\"244.078125\" style=\"stroke: #000000; stroke-width: 0.8\"/>\n      </g>\n     </g>\n     <g id=\"text_19\">\n      <!-- 7 -->\n      <g transform=\"translate(384.69282 258.676562) scale(0.1 -0.1)\">\n       <use xlink:href=\"#DejaVuSans-37\"/>\n      </g>\n     </g>\n    </g>\n    <g id=\"xtick_10\">\n     <g id=\"line2d_19\">\n      <g>\n       <use xlink:href=\"#mf798dbaf3c\" x=\"429.378202\" y=\"244.078125\" style=\"stroke: #000000; stroke-width: 0.8\"/>\n      </g>\n     </g>\n     <g id=\"text_20\">\n      <!-- 8 -->\n      <g transform=\"translate(426.196952 258.676562) scale(0.1 -0.1)\">\n       <use xlink:href=\"#DejaVuSans-38\"/>\n      </g>\n     </g>\n    </g>\n    <g id=\"xtick_11\">\n     <g id=\"line2d_20\">\n      <g>\n       <use xlink:href=\"#mf798dbaf3c\" x=\"470.882335\" y=\"244.078125\" style=\"stroke: #000000; stroke-width: 0.8\"/>\n      </g>\n     </g>\n     <g id=\"text_21\">\n      <!-- 9 -->\n      <g transform=\"translate(467.701085 258.676562) scale(0.1 -0.1)\">\n       <use xlink:href=\"#DejaVuSans-39\"/>\n      </g>\n     </g>\n    </g>\n    <g id=\"xtick_12\">\n     <g id=\"line2d_21\">\n      <g>\n       <use xlink:href=\"#mf798dbaf3c\" x=\"512.386467\" y=\"244.078125\" style=\"stroke: #000000; stroke-width: 0.8\"/>\n      </g>\n     </g>\n     <g id=\"text_22\">\n      <!-- 10 -->\n      <g transform=\"translate(506.023967 258.676562) scale(0.1 -0.1)\">\n       <use xlink:href=\"#DejaVuSans-31\"/>\n       <use xlink:href=\"#DejaVuSans-30\" x=\"63.623047\"/>\n      </g>\n     </g>\n    </g>\n   </g>\n   <g id=\"matplotlib.axis_4\">\n    <g id=\"ytick_9\">\n     <g id=\"line2d_22\">\n      <g>\n       <use xlink:href=\"#m869cb51ed3\" x=\"294.489773\" y=\"233.998155\" style=\"stroke: #000000; stroke-width: 0.8\"/>\n      </g>\n     </g>\n     <g id=\"text_23\">\n      <!-- 0 -->\n      <g transform=\"translate(281.127273 237.797374) scale(0.1 -0.1)\">\n       <use xlink:href=\"#DejaVuSans-30\"/>\n      </g>\n     </g>\n    </g>\n    <g id=\"ytick_10\">\n     <g id=\"line2d_23\">\n      <g>\n       <use xlink:href=\"#m869cb51ed3\" x=\"294.489773\" y=\"207.243315\" style=\"stroke: #000000; stroke-width: 0.8\"/>\n      </g>\n     </g>\n     <g id=\"text_24\">\n      <!-- 1 -->\n      <g transform=\"translate(281.127273 211.042534) scale(0.1 -0.1)\">\n       <use xlink:href=\"#DejaVuSans-31\"/>\n      </g>\n     </g>\n    </g>\n    <g id=\"ytick_11\">\n     <g id=\"line2d_24\">\n      <g>\n       <use xlink:href=\"#m869cb51ed3\" x=\"294.489773\" y=\"180.488475\" style=\"stroke: #000000; stroke-width: 0.8\"/>\n      </g>\n     </g>\n     <g id=\"text_25\">\n      <!-- 2 -->\n      <g transform=\"translate(281.127273 184.287694) scale(0.1 -0.1)\">\n       <use xlink:href=\"#DejaVuSans-32\"/>\n      </g>\n     </g>\n    </g>\n    <g id=\"ytick_12\">\n     <g id=\"line2d_25\">\n      <g>\n       <use xlink:href=\"#m869cb51ed3\" x=\"294.489773\" y=\"153.733635\" style=\"stroke: #000000; stroke-width: 0.8\"/>\n      </g>\n     </g>\n     <g id=\"text_26\">\n      <!-- 3 -->\n      <g transform=\"translate(281.127273 157.532854) scale(0.1 -0.1)\">\n       <use xlink:href=\"#DejaVuSans-33\"/>\n      </g>\n     </g>\n    </g>\n    <g id=\"ytick_13\">\n     <g id=\"line2d_26\">\n      <g>\n       <use xlink:href=\"#m869cb51ed3\" x=\"294.489773\" y=\"126.978795\" style=\"stroke: #000000; stroke-width: 0.8\"/>\n      </g>\n     </g>\n     <g id=\"text_27\">\n      <!-- 4 -->\n      <g transform=\"translate(281.127273 130.778014) scale(0.1 -0.1)\">\n       <use xlink:href=\"#DejaVuSans-34\"/>\n      </g>\n     </g>\n    </g>\n    <g id=\"ytick_14\">\n     <g id=\"line2d_27\">\n      <g>\n       <use xlink:href=\"#m869cb51ed3\" x=\"294.489773\" y=\"100.223955\" style=\"stroke: #000000; stroke-width: 0.8\"/>\n      </g>\n     </g>\n     <g id=\"text_28\">\n      <!-- 5 -->\n      <g transform=\"translate(281.127273 104.023174) scale(0.1 -0.1)\">\n       <use xlink:href=\"#DejaVuSans-35\"/>\n      </g>\n     </g>\n    </g>\n    <g id=\"ytick_15\">\n     <g id=\"line2d_28\">\n      <g>\n       <use xlink:href=\"#m869cb51ed3\" x=\"294.489773\" y=\"73.469115\" style=\"stroke: #000000; stroke-width: 0.8\"/>\n      </g>\n     </g>\n     <g id=\"text_29\">\n      <!-- 6 -->\n      <g transform=\"translate(281.127273 77.268334) scale(0.1 -0.1)\">\n       <use xlink:href=\"#DejaVuSans-36\"/>\n      </g>\n     </g>\n    </g>\n    <g id=\"ytick_16\">\n     <g id=\"line2d_29\">\n      <g>\n       <use xlink:href=\"#m869cb51ed3\" x=\"294.489773\" y=\"46.714275\" style=\"stroke: #000000; stroke-width: 0.8\"/>\n      </g>\n     </g>\n     <g id=\"text_30\">\n      <!-- 7 -->\n      <g transform=\"translate(281.127273 50.513494) scale(0.1 -0.1)\">\n       <use xlink:href=\"#DejaVuSans-37\"/>\n      </g>\n     </g>\n    </g>\n    <g id=\"text_31\">\n     <!-- 1e−8 -->\n     <g transform=\"translate(294.489773 19.318125) scale(0.1 -0.1)\">\n      <use xlink:href=\"#DejaVuSans-31\"/>\n      <use xlink:href=\"#DejaVuSans-65\" x=\"63.623047\"/>\n      <use xlink:href=\"#DejaVuSans-2212\" x=\"125.146484\"/>\n      <use xlink:href=\"#DejaVuSans-38\" x=\"208.935547\"/>\n     </g>\n    </g>\n   </g>\n   <g id=\"line2d_30\">\n    <path d=\"M 304.865806 32.398125 \nL 306.527633 56.227158 \nL 308.18946 77.23961 \nL 309.851287 95.768399 \nL 311.513114 112.107094 \nL 313.174941 126.514563 \nL 314.836768 139.219075 \nL 316.498596 150.42192 \nL 318.160423 160.300593 \nL 320.029978 170.025448 \nL 321.899534 178.467048 \nL 323.769089 185.794726 \nL 325.638645 192.15547 \nL 327.5082 197.676875 \nL 329.377756 202.469696 \nL 331.247311 206.630073 \nL 333.116867 210.241463 \nL 334.986422 213.376308 \nL 336.855978 216.09749 \nL 338.725533 218.459595 \nL 340.802817 220.72043 \nL 342.880101 222.652317 \nL 345.165113 224.454368 \nL 347.450126 225.9702 \nL 349.942866 227.350624 \nL 352.643335 228.579554 \nL 355.551533 229.650198 \nL 358.667459 230.563726 \nL 362.198841 231.369301 \nL 366.353409 232.078637 \nL 371.131162 232.661154 \nL 376.947557 233.137304 \nL 384.218051 233.501651 \nL 394.189013 233.764732 \nL 409.560914 233.92524 \nL 441.966543 233.991881 \nL 512.386467 233.998125 \nL 512.386467 233.998125 \n\" clip-path=\"url(#p6b4efa3df3)\" style=\"fill: none; stroke: #1f77b4; stroke-width: 1.5; stroke-linecap: square\"/>\n   </g>\n   <g id=\"patch_8\">\n    <path d=\"M 294.489773 244.078125 \nL 294.489773 22.318125 \n\" style=\"fill: none; stroke: #000000; stroke-width: 0.8; stroke-linejoin: miter; stroke-linecap: square\"/>\n   </g>\n   <g id=\"patch_9\">\n    <path d=\"M 522.7625 244.078125 \nL 522.7625 22.318125 \n\" style=\"fill: none; stroke: #000000; stroke-width: 0.8; stroke-linejoin: miter; stroke-linecap: square\"/>\n   </g>\n   <g id=\"patch_10\">\n    <path d=\"M 294.489773 244.078125 \nL 522.7625 244.078125 \n\" style=\"fill: none; stroke: #000000; stroke-width: 0.8; stroke-linejoin: miter; stroke-linecap: square\"/>\n   </g>\n   <g id=\"patch_11\">\n    <path d=\"M 294.489773 22.318125 \nL 522.7625 22.318125 \n\" style=\"fill: none; stroke: #000000; stroke-width: 0.8; stroke-linejoin: miter; stroke-linecap: square\"/>\n   </g>\n   <g id=\"text_32\">\n    <!-- Numerically stable -->\n    <g transform=\"translate(352.574886 16.318125) scale(0.12 -0.12)\">\n     <use xlink:href=\"#DejaVuSans-4e\"/>\n     <use xlink:href=\"#DejaVuSans-75\" x=\"74.804688\"/>\n     <use xlink:href=\"#DejaVuSans-6d\" x=\"138.183594\"/>\n     <use xlink:href=\"#DejaVuSans-65\" x=\"235.595703\"/>\n     <use xlink:href=\"#DejaVuSans-72\" x=\"297.119141\"/>\n     <use xlink:href=\"#DejaVuSans-69\" x=\"338.232422\"/>\n     <use xlink:href=\"#DejaVuSans-63\" x=\"366.015625\"/>\n     <use xlink:href=\"#DejaVuSans-61\" x=\"420.996094\"/>\n     <use xlink:href=\"#DejaVuSans-6c\" x=\"482.275391\"/>\n     <use xlink:href=\"#DejaVuSans-6c\" x=\"510.058594\"/>\n     <use xlink:href=\"#DejaVuSans-79\" x=\"537.841797\"/>\n     <use xlink:href=\"#DejaVuSans-20\" x=\"597.021484\"/>\n     <use xlink:href=\"#DejaVuSans-73\" x=\"628.808594\"/>\n     <use xlink:href=\"#DejaVuSans-74\" x=\"680.908203\"/>\n     <use xlink:href=\"#DejaVuSans-61\" x=\"720.117188\"/>\n     <use xlink:href=\"#DejaVuSans-62\" x=\"781.396484\"/>\n     <use xlink:href=\"#DejaVuSans-6c\" x=\"844.873047\"/>\n     <use xlink:href=\"#DejaVuSans-65\" x=\"872.65625\"/>\n    </g>\n   </g>\n  </g>\n </g>\n <defs>\n  <clipPath id=\"p6a54166a35\">\n   <rect x=\"20.5625\" y=\"22.318125\" width=\"228.272727\" height=\"221.76\"/>\n  </clipPath>\n  <clipPath id=\"p6b4efa3df3\">\n   <rect x=\"294.489773\" y=\"22.318125\" width=\"228.272727\" height=\"221.76\"/>\n  </clipPath>\n </defs>\n</svg>\n",
      "text/plain": [
       "<Figure size 900x400 with 2 Axes>"
      ]
     },
     "metadata": {},
     "output_type": "display_data"
    }
   ],
   "source": [
    "fig, axes = plt.subplots(1, 2, figsize=(9, 4))\n",
    "xx = np.linspace(5, 10, 1000)\n",
    "axes[0].plot(xx, func(xx))\n",
    "axes[0].set_title(\"Numerically unstable\")\n",
    "axes[1].plot(xx, func3(xx))\n",
    "axes[1].set_title(\"Numerically stable\");"
   ]
  },
  {
   "cell_type": "markdown",
   "metadata": {},
   "source": [
    "When two values of nearly equal magnitude are subtracted, significant digits are lost. \n",
    "The take-away is: avoid subtraction at very small magnitude. "
   ]
  },
  {
   "cell_type": "markdown",
   "metadata": {},
   "source": [
    "## Householder Transformations\n",
    "\n",
    "For a nonzero vector $v$, we can have the projection of $x$ onto $v$  \n",
    "\n",
    "$$\\text{proj}_v (x)= \\frac{v}{||v||^2} <v, x>$$\n",
    "\n",
    "We define $x$'s residual as the projection of $x$ onto $v^{\\perp}$\n",
    "\n",
    "$$\\text{proj}_{v^{\\perp}}(x) = x - \\text{proj}_v (x) = x - \\frac{v}{||v||^2} <v, x>$$\n",
    "\n",
    "The orthogonal complement of a nonzero vector $v \\in R^n$ is the set of all \n",
    "vectors $x \\in R^n$ that are orthogonal to $v$, denoted \n",
    "\n",
    "$$v^{\\perp} = \\{ x\\in R^n | <x, v>  =0 \\} $$\n",
    "\n",
    "A Householder transformation reflects the vector $x$ across the orthogonal \n",
    "complement $v^{\\perp} $, in essence moving twice as far as the projection. \n",
    "\n",
    "A _Householder transformation_ is a linear transformation that reflects a vector\n",
    "$x$ across the orthogonal complement $v^{\\perp}$ for some special $v$. \n",
    "\n",
    "![householder-matrix](https://i.stack.imgur.com/wPH2K.jpg)\n",
    "\n",
    "The matrix representation of the Householder transformation corresponding to\n",
    "$v$ is given by \n",
    "\n",
    "$$H_v(x) = x - 2\\text{proj}_v(x) =\\left( I - 2 \\frac{v v^T}{v^T v} \\right)x $$\n",
    "\n",
    "$$H_v = I - 2 \\frac{v v^T}{v^T v}$$"
   ]
  },
  {
   "cell_type": "markdown",
   "metadata": {},
   "source": [
    "## Householder Triangularization\n",
    "The first step in finding a QR decomposition of a matrix is to find for each nonzero\n",
    "$x \\in F^n$ and nonzero $v \\in F^n$ for which $H_v(x) \\ in $ span($e_1$), where \n",
    "$e_1$ is the first standard basis vector of $F^n$. \n",
    "\n",
    "Lemma: For $x \\in \\mathbb{R}^n$, if $v=x+\\|x\\| e_1$ is nonzero, then $H_v(x)=-\\|x\\| e_1$, and if $v=x-\\|x\\| e_1$ is nonzero, then $H_v(x)=\\|x\\| e_1$.\n",
    "\n",
    "Proof. The argument for the two cases is similar; we show the argument for $v=x+$ $\\|x\\| e_1 \\neq 0$. For $x_1$ the first entry of $x$ we have\n",
    "$$\n",
    "\\begin{aligned}\n",
    "v^T v & =\\left(x+\\|x\\| e_1\\right)^T\\left(x+\\|x\\| e_1\\right) \\\\\n",
    "& =x^T x+\\|x\\| x^T e_1+\\|x\\| e_1^T x+\\|x\\|^2 e_1^T e_1 \\\\\n",
    "& =2\\|x\\|^2+2\\|x\\| x_1=2\\|x\\|\\left(\\|x\\|+x_1\\right),\n",
    "\\end{aligned}\n",
    "$$\n",
    "and\n",
    "$$\n",
    "\\begin{aligned}\n",
    "v v^T x & =\\left(x+\\|x\\| e_1\\right)\\left(x+\\|x\\| e_1\\right)^T x \\\\\n",
    "& =x x^T x+\\|x\\| x e_1^T x+\\|x\\| e_1 x^T x+\\|x\\|^2 e_1 e_1^T x \\\\\n",
    "& =\\|x\\|^2 x+\\|x\\| x_1 x+\\|x\\|^3 e_1+\\|x\\|^2 x_1 e_1 \\\\\n",
    "& =\\|x\\|\\left(\\|x\\| x+x_1 x+\\|x\\|^2 e_1+\\|x\\| x_1 e_1\\right) \\\\\n",
    "& \\left.=\\|x\\|\\left(\\|x\\|+x_1\\right) x+\\|x\\|\\left(\\|x\\|+x_1\\right) e_1\\right) \\\\\n",
    "& =\\|x\\|\\left(\\|x\\|+x_1\\right)\\left(x+\\|x\\| e_1\\right) .\n",
    "\\end{aligned}\n",
    "$$\n",
    "Then\n",
    "$$\n",
    "\\begin{aligned}\n",
    "H_v(x) & =x-2 \\frac{v v^T x}{v^T v} \\\\\n",
    "& =x-2 \\frac{\\|x\\|\\left(\\|x\\|+x_1\\right)\\left(x+\\|x\\| e_1\\right)}{2\\|x\\|\\left(\\|x\\|+x_1\\right)} \\\\\n",
    "& =x-\\left(x+\\|x\\| e_1\\right) \\\\\n",
    "& =-\\|x\\| e_1 .\n",
    "\\end{aligned}\n",
    "$$"
   ]
  },
  {
   "cell_type": "markdown",
   "metadata": {},
   "source": [
    "Now, we will use an example to calcuate\n",
    "\n",
    "- $v = x - ||x|| e_1$\n",
    "- $H_v(x)$\n",
    "\n",
    "The purpose of doing this is to give you some feelings how those two functions\n",
    "could give us an upper triangular matrix. "
   ]
  },
  {
   "cell_type": "code",
   "execution_count": 19,
   "metadata": {
    "vscode": {
     "languageId": "python"
    }
   },
   "outputs": [
    {
     "data": {
      "text/plain": [
       "array([[ 1, -1,  4],\n",
       "       [ 1,  4, -2],\n",
       "       [ 1,  4,  2],\n",
       "       [ 1, -1,  0]])"
      ]
     },
     "execution_count": 19,
     "metadata": {},
     "output_type": "execute_result"
    }
   ],
   "source": [
    "A = np.array(\n",
    "    [\n",
    "        [1, -1, 4],\n",
    "        [1, 4, -2],\n",
    "        [1, 4, 2],\n",
    "        [1, -1, 0]\n",
    "    ]\n",
    ")\n",
    "A"
   ]
  },
  {
   "cell_type": "code",
   "execution_count": 20,
   "metadata": {
    "vscode": {
     "languageId": "python"
    }
   },
   "outputs": [
    {
     "data": {
      "text/plain": [
       "array([[ 0.5, -0.5,  0.5],\n",
       "       [ 0.5,  0.5, -0.5],\n",
       "       [ 0.5,  0.5,  0.5],\n",
       "       [ 0.5, -0.5, -0.5]])"
      ]
     },
     "execution_count": 20,
     "metadata": {},
     "output_type": "execute_result"
    }
   ],
   "source": [
    "Q, R = modified_gram_schmidt(A)\n",
    "Q"
   ]
  },
  {
   "cell_type": "code",
   "execution_count": 21,
   "metadata": {
    "vscode": {
     "languageId": "python"
    }
   },
   "outputs": [
    {
     "data": {
      "text/plain": [
       "array([[ 2.,  3.,  2.],\n",
       "       [ 0.,  5., -2.],\n",
       "       [ 0.,  0.,  4.],\n",
       "       [ 0.,  0.,  0.]])"
      ]
     },
     "execution_count": 21,
     "metadata": {},
     "output_type": "execute_result"
    }
   ],
   "source": [
    "R"
   ]
  },
  {
   "cell_type": "code",
   "execution_count": 28,
   "metadata": {
    "vscode": {
     "languageId": "python"
    }
   },
   "outputs": [
    {
     "data": {
      "text/plain": [
       "array([[-1.],\n",
       "       [ 1.],\n",
       "       [ 1.],\n",
       "       [ 1.]])"
      ]
     },
     "execution_count": 28,
     "metadata": {},
     "output_type": "execute_result"
    }
   ],
   "source": [
    "# calcualte householder transformation manualy: step 1- projection on basis \n",
    "e1 = np.array(\n",
    "    [\n",
    "        [1],\n",
    "        [0], \n",
    "        [0],\n",
    "        [0]\n",
    "    ]\n",
    ")\n",
    "v1 = A[:, 0].reshape(4, 1) - np.sign(A[0, 0]) * np.linalg.norm(A[:, 0]) * e1\n",
    "v1"
   ]
  },
  {
   "cell_type": "code",
   "execution_count": 30,
   "metadata": {
    "vscode": {
     "languageId": "python"
    }
   },
   "outputs": [
    {
     "data": {
      "text/plain": [
       "array([[1., 0., 0., 0.],\n",
       "       [0., 1., 0., 0.],\n",
       "       [0., 0., 1., 0.],\n",
       "       [0., 0., 0., 1.]])"
      ]
     },
     "execution_count": 30,
     "metadata": {},
     "output_type": "execute_result"
    }
   ],
   "source": [
    "# calculate householder transformation manualy: step 1- projection on v'\n",
    "ai = np.eye(A[:, 0].shape[0])\n",
    "ai"
   ]
  },
  {
   "cell_type": "code",
   "execution_count": 34,
   "metadata": {
    "vscode": {
     "languageId": "python"
    }
   },
   "outputs": [],
   "source": [
    "vvt = (v1 @ v1.T)/(v1.T @ v1)"
   ]
  },
  {
   "cell_type": "code",
   "execution_count": 40,
   "metadata": {
    "vscode": {
     "languageId": "python"
    }
   },
   "outputs": [
    {
     "data": {
      "text/plain": [
       "array([[ 0.5,  0.5,  0.5,  0.5],\n",
       "       [ 0.5,  0.5, -0.5, -0.5],\n",
       "       [ 0.5, -0.5,  0.5, -0.5],\n",
       "       [ 0.5, -0.5, -0.5,  0.5]])"
      ]
     },
     "execution_count": 40,
     "metadata": {},
     "output_type": "execute_result"
    }
   ],
   "source": [
    "Hv1 = (ai - 2 * vvt) \n",
    "Hv1"
   ]
  },
  {
   "cell_type": "code",
   "execution_count": 41,
   "metadata": {
    "vscode": {
     "languageId": "python"
    }
   },
   "outputs": [
    {
     "data": {
      "text/plain": [
       "array([[ 2.,  3.,  2.],\n",
       "       [ 0.,  0.,  0.],\n",
       "       [ 0.,  0.,  4.],\n",
       "       [ 0., -5.,  2.]])"
      ]
     },
     "execution_count": 41,
     "metadata": {},
     "output_type": "execute_result"
    }
   ],
   "source": [
    "Hv1 @ A"
   ]
  },
  {
   "cell_type": "markdown",
   "metadata": {},
   "source": [
    "Notice that the first column of $H_{v1}A$ is a positive scalar \n",
    "multiple of $e_1$. "
   ]
  },
  {
   "cell_type": "code",
   "execution_count": 25,
   "metadata": {
    "vscode": {
     "languageId": "python"
    }
   },
   "outputs": [
    {
     "data": {
      "text/plain": [
       "array([[2.],\n",
       "       [0.],\n",
       "       [0.],\n",
       "       [0.]])"
      ]
     },
     "execution_count": 25,
     "metadata": {},
     "output_type": "execute_result"
    }
   ],
   "source": [
    "np.sign(A[0, 0]) * np.linalg.norm(A[:, 0]) * e1"
   ]
  },
  {
   "cell_type": "markdown",
   "metadata": {},
   "source": [
    "The geometric intuition is that we are doing projection first and then reflection. \n",
    "We have already shown that $H_{v_1}A$ has the form\n",
    "\n",
    "$$\n",
    "\\begin{bmatrix}\n",
    "* & * & * & \\cdots & * \\\\\n",
    "0 & * & * & \\cdots & * \\\\\n",
    "0 & * & * & \\cdots & * \\\\ \n",
    "\\vdots & \\vdots & \\vdots &  \\ddots & \\vdots \\\\\n",
    "0 & * & * & \\cdots & * \n",
    "\\end{bmatrix}\n",
    "$$\n",
    "\n",
    "Now we will show how we will use \n",
    "\n",
    "- $v = x - ||x|| e_i$\n",
    "- $H_v(x)$\n",
    "\n",
    "To construct the matrix $R$ successively. "
   ]
  },
  {
   "cell_type": "markdown",
   "metadata": {},
   "source": [
    "With the above matrix, we decompose $x_2$ into $x_2 = x_2' + x_2''$, where $x_2'$ \n",
    "and $x_2''$ are of the form \n",
    "\n",
    "$$\n",
    "x_1' = \\begin{bmatrix}\n",
    "z_1 \\\\\n",
    "0 \\\\ \n",
    "\\vdots \\\\ \n",
    "0 \n",
    "\\end{bmatrix}, \\quad x_2'' = \\begin{bmatrix}\n",
    "0 \\\\\n",
    "z_2 \\\\ \n",
    "\\vdots \\\\ \n",
    "z_m\n",
    "\\end{bmatrix}\n",
    "$$\n",
    "\n",
    "_Remark_: $x_2'$ and $x_2''$ are orthogonal. \n",
    "\n",
    "For instance, if we have $H_{v_1}A$ as follows \n",
    "\n",
    "$$\n",
    "H_{v_1}A = \\begin{bmatrix}\n",
    "2 &   3 & 2 \\\\\n",
    "0 &  0 &  0 \\\\\n",
    "0 &  0 &   4 \\\\\n",
    "0 & -5 & 2 \n",
    "\\end{bmatrix}\n",
    "$$"
   ]
  },
  {
   "cell_type": "markdown",
   "metadata": {},
   "source": [
    "We can consider the second column $x_2$ of $H_{v_1}A$ wihich can be written as \n",
    "\n",
    "$$\n",
    "x_2 = x_2'+ x_2' = \\begin{bmatrix}\n",
    "  3\\\\\n",
    "  0\\\\\n",
    "  0\\\\\n",
    "  0\\\\ \\end{bmatrix} + \\begin{bmatrix}\n",
    "  0\\\\\n",
    "  0\\\\\n",
    "  0\\\\\n",
    "  -5 \\end{bmatrix}\n",
    "$$\n",
    "\n",
    "Notice that $x_2' \\in $ span($\\{e_1\\}$) and $x_2'' \\in$ span($\\{e_1^{\\perp}\\}$).\n",
    "And be aware $\\{e_1^{\\perp}\\}$ is a set (in fact a whole subspace)-not a vector. \n",
    "\n",
    "Then we will construct $H_{v_2}$ with $x_2''$. \n",
    "\n",
    "Repeat the above calculation for other columns will lead us to $R$. "
   ]
  },
  {
   "cell_type": "markdown",
   "metadata": {},
   "source": [
    "Let's summarize we have done:\n",
    "\n",
    "- we want to do QR decomposition\n",
    "    - we found tools that could help us: Householder reflection\n",
    "    - In householder reflection, we need an arbitray vector $v$ \n",
    "    - How could we find this vector $v$ (we use basis)\n",
    "    - however, we will use the vector that is orthogal to $x_1$ (or it could be $x_i$)\n",
    "    intead of $e_1$. \n",
    "    - After constructing $v_1$, then we will do projection, this will make sure\n",
    "    all columns will be projected onto $v_1$ and we could calcualte the coefficient,\n",
    "    meanwhile the projectin of $x_1$ onto $v_1$ will have zeros in all but the\n",
    "    first entry. \n",
    "- we also want to avoid subtraction\n",
    "    - how could we do it then?\n",
    "\n",
    "We have already shown: For $x \\in \\mathbb{R}^n$, if $v=x+\\|x\\| e_1$ is nonzero, then $H_v(x)=-\\|x\\| e_1$, and if $v=x-\\|x\\| e_1$ is nonzero, then $H_v(x)=\\|x\\| e_1$."
   ]
  },
  {
   "cell_type": "markdown",
   "metadata": {},
   "source": [
    "This means that cossing $v = x + \\text{sign}(x_i) ||x|| e_1$ implies that\n",
    "\n",
    "$$H_v(x) = -\\text{sign}(x_1)||x|| e_1$$\n",
    "\n",
    "Now, we will write our algorithm with the following formula (avoding minus):\n",
    "\n",
    "- $v = x + \\text{sign}(x_1) ||x|| e_1$\n",
    "- $H_v(x) = ||x|| e_1$"
   ]
  },
  {
   "cell_type": "markdown",
   "metadata": {},
   "source": [
    "Every time we have $H_v$ we can update $Q, R$ as follows\n",
    "\n",
    "$$R = H_v A, \\quad Q = QH_v$$\n",
    "\n",
    "Where $H = I - 2v v^T$"
   ]
  },
  {
   "cell_type": "code",
   "execution_count": 131,
   "metadata": {
    "vscode": {
     "languageId": "python"
    }
   },
   "outputs": [],
   "source": [
    "def householder_qr(A:np.ndarray) -> np.ndarray:\n",
    "    \"\"\"\n",
    "    Doing QR decomposition via householder transformation \n",
    "        assuming n <= m or Rank(A) = n <= m \n",
    "    \"\"\"\n",
    "    m, n = A.shape\n",
    "    # convert to float64 incase inputs are integer\n",
    "    R = A.copy().astype(np.float64)  \n",
    "    Q = np.eye(m)\n",
    "    # construct sign function\n",
    "    sign = lambda x: 1 if x >= 0 else -1\n",
    "    # iterate over columns \n",
    "    for i in range(n):\n",
    "        # get the column and reshape it into column vector \n",
    "        # it is important to copy \n",
    "        # as matrix is mutable in numpy \n",
    "        x = R[i:, i].reshape(-1, 1).copy()\n",
    "        # calculate the column\n",
    "        x_norm = np.linalg.norm(x)\n",
    "        # update the first entry \n",
    "        x[0, 0] = x[0, 0] + sign(x[0,0]) * x_norm\n",
    "        # normalize the vector\n",
    "        x /= np.linalg.norm(x)\n",
    "\n",
    "        # update R and Q\n",
    "        R[i:, i:] = R[i:, i:] - 2 * x @ x.T @ R[i:, i:] \n",
    "        Q[i:, :] = Q[i:, :] - 2 * x @ x.T @ Q[i:, :]\n",
    "\n",
    "    # transpose Q \n",
    "    return Q.T, R "
   ]
  },
  {
   "cell_type": "markdown",
   "metadata": {},
   "source": [
    "For the above function, we need to add a little bit explanation:\n",
    "\n",
    "- at line 17, we need to copy as array is mutable in numpy\n",
    "- at line 21, we only update the first entry as \n",
    "\n",
    "$$\n",
    "v_i = x_i + \\text{sign} ||x_i|| e1 = \\begin{bmatrix}\n",
    "  1\\\\\n",
    "  2\\\\\n",
    "  3\\\\\n",
    "  4\\\\\n",
    "\\end{bmatrix} + \\text{sign} ||x_i|| \\begin{bmatrix}\n",
    "  1\\\\\n",
    "  0\\\\\n",
    "  0\\\\\n",
    "  0\n",
    "\\end{bmatrix}\n",
    "$$\n",
    "\n",
    "- at line 21, if you change it to $x_{11} - \\text{sign}(x_{11}) ||x_i||$, the sign\n",
    "of $Q$ and $R$ will change too. But $QR = A$ is still the case.\n",
    "\n",
    "- for lines 25, 26, we updated based on $R = H_v A, \\quad Q = QH_v$, $H = I - 2v v^T$\n",
    "(note $v$ is normalized in our code, meaning $v^Tv = 1$ ). "
   ]
  },
  {
   "cell_type": "code",
   "execution_count": 139,
   "metadata": {
    "vscode": {
     "languageId": "python"
    }
   },
   "outputs": [
    {
     "data": {
      "text/plain": [
       "array([[ 1, -1,  4],\n",
       "       [ 1,  4, -2],\n",
       "       [ 1,  4,  2],\n",
       "       [ 1, -1,  0]])"
      ]
     },
     "execution_count": 139,
     "metadata": {},
     "output_type": "execute_result"
    }
   ],
   "source": [
    "A = np.array(\n",
    "    [\n",
    "        [1, -1, 4],\n",
    "        [1, 4, -2],\n",
    "        [1, 4, 2],\n",
    "        [1, -1, 0]\n",
    "    ]\n",
    ")\n",
    "A"
   ]
  },
  {
   "cell_type": "code",
   "execution_count": 140,
   "metadata": {
    "vscode": {
     "languageId": "python"
    }
   },
   "outputs": [],
   "source": [
    "Q, R = sp.linalg.qr(A)"
   ]
  },
  {
   "cell_type": "code",
   "execution_count": 141,
   "metadata": {
    "vscode": {
     "languageId": "python"
    }
   },
   "outputs": [
    {
     "data": {
      "text/plain": [
       "array([[-0.5,  0.5, -0.5, -0.5],\n",
       "       [-0.5, -0.5,  0.5, -0.5],\n",
       "       [-0.5, -0.5, -0.5,  0.5],\n",
       "       [-0.5,  0.5,  0.5,  0.5]])"
      ]
     },
     "execution_count": 141,
     "metadata": {},
     "output_type": "execute_result"
    }
   ],
   "source": [
    "Q"
   ]
  },
  {
   "cell_type": "code",
   "execution_count": 142,
   "metadata": {
    "vscode": {
     "languageId": "python"
    }
   },
   "outputs": [
    {
     "data": {
      "text/plain": [
       "array([[-2., -3., -2.],\n",
       "       [ 0., -5.,  2.],\n",
       "       [ 0.,  0., -4.],\n",
       "       [ 0.,  0.,  0.]])"
      ]
     },
     "execution_count": 142,
     "metadata": {},
     "output_type": "execute_result"
    }
   ],
   "source": [
    "R"
   ]
  },
  {
   "cell_type": "code",
   "execution_count": 132,
   "metadata": {
    "vscode": {
     "languageId": "python"
    }
   },
   "outputs": [],
   "source": [
    "Q, R = householder_qr(A)"
   ]
  },
  {
   "cell_type": "code",
   "execution_count": 133,
   "metadata": {
    "vscode": {
     "languageId": "python"
    }
   },
   "outputs": [
    {
     "data": {
      "text/plain": [
       "array([[-0.5,  0.5, -0.5, -0.5],\n",
       "       [-0.5, -0.5,  0.5, -0.5],\n",
       "       [-0.5, -0.5, -0.5,  0.5],\n",
       "       [-0.5,  0.5,  0.5,  0.5]])"
      ]
     },
     "execution_count": 133,
     "metadata": {},
     "output_type": "execute_result"
    }
   ],
   "source": [
    "Q"
   ]
  },
  {
   "cell_type": "code",
   "execution_count": 135,
   "metadata": {
    "vscode": {
     "languageId": "python"
    }
   },
   "outputs": [
    {
     "data": {
      "text/plain": [
       "array([[-2.00000000e+00, -3.00000000e+00, -2.00000000e+00],\n",
       "       [-2.22044605e-16, -5.00000000e+00,  2.00000000e+00],\n",
       "       [-2.22044605e-16,  8.88178420e-16, -4.00000000e+00],\n",
       "       [-2.22044605e-16, -2.22044605e-16,  0.00000000e+00]])"
      ]
     },
     "execution_count": 135,
     "metadata": {},
     "output_type": "execute_result"
    }
   ],
   "source": [
    "R"
   ]
  },
  {
   "cell_type": "markdown",
   "metadata": {},
   "source": [
    "Notice that householder transformation could compute $R$ in 15 decimals, \n",
    "which means it is perseves the magnitude well.  "
   ]
  },
  {
   "cell_type": "code",
   "execution_count": 134,
   "metadata": {
    "vscode": {
     "languageId": "python"
    }
   },
   "outputs": [
    {
     "data": {
      "text/plain": [
       "array([[-2., -3., -2.],\n",
       "       [-0., -5.,  2.],\n",
       "       [-0.,  0., -4.],\n",
       "       [-0., -0.,  0.]])"
      ]
     },
     "execution_count": 134,
     "metadata": {},
     "output_type": "execute_result"
    }
   ],
   "source": [
    "R.round(3)"
   ]
  },
  {
   "cell_type": "code",
   "execution_count": 125,
   "metadata": {
    "vscode": {
     "languageId": "python"
    }
   },
   "outputs": [
    {
     "data": {
      "text/plain": [
       "array([[ 1., -1.,  4.],\n",
       "       [ 1.,  4., -2.],\n",
       "       [ 1.,  4.,  2.],\n",
       "       [ 1., -1.,  0.]])"
      ]
     },
     "execution_count": 125,
     "metadata": {},
     "output_type": "execute_result"
    }
   ],
   "source": [
    "(Q @ R).round(3)"
   ]
  },
  {
   "cell_type": "code",
   "execution_count": 113,
   "metadata": {
    "vscode": {
     "languageId": "python"
    }
   },
   "outputs": [
    {
     "data": {
      "text/plain": [
       "array([[ 0.5, -0.5,  0.5],\n",
       "       [ 0.5,  0.5, -0.5],\n",
       "       [ 0.5,  0.5,  0.5],\n",
       "       [ 0.5, -0.5, -0.5]])"
      ]
     },
     "execution_count": 113,
     "metadata": {},
     "output_type": "execute_result"
    }
   ],
   "source": [
    "Q, R = modified_gram_schmidt(A)\n",
    "Q"
   ]
  },
  {
   "cell_type": "code",
   "execution_count": 114,
   "metadata": {
    "vscode": {
     "languageId": "python"
    }
   },
   "outputs": [
    {
     "data": {
      "text/plain": [
       "array([[ 2.,  3.,  2.],\n",
       "       [ 0.,  5., -2.],\n",
       "       [ 0.,  0.,  4.],\n",
       "       [ 0.,  0.,  0.]])"
      ]
     },
     "execution_count": 114,
     "metadata": {},
     "output_type": "execute_result"
    }
   ],
   "source": [
    "R"
   ]
  },
  {
   "cell_type": "code",
   "execution_count": 151,
   "metadata": {
    "vscode": {
     "languageId": "python"
    }
   },
   "outputs": [
    {
     "data": {
      "text/plain": [
       "array([[-1.49625203, -0.78137163, -0.98183012, -0.96781874],\n",
       "       [ 0.        ,  0.8860711 , -0.13838733,  0.14871231],\n",
       "       [ 0.        ,  0.        , -0.41104328, -0.20541953],\n",
       "       [ 0.        ,  0.        ,  0.        , -0.0970353 ]])"
      ]
     },
     "execution_count": 151,
     "metadata": {},
     "output_type": "execute_result"
    }
   ],
   "source": [
    "A = np.random.random((4, 4))\n",
    "Q, R = sp.linalg.qr(A)\n",
    "R"
   ]
  },
  {
   "cell_type": "code",
   "execution_count": 147,
   "metadata": {
    "vscode": {
     "languageId": "python"
    }
   },
   "outputs": [
    {
     "data": {
      "text/plain": [
       "array([[-0.4498757 ,  0.4229769 ,  0.66323422, -0.4228744 ],\n",
       "       [-0.33704763, -0.61761877,  0.49210655,  0.51261787],\n",
       "       [-0.3805877 , -0.57841446, -0.30591272, -0.65345782],\n",
       "       [-0.7342777 ,  0.32415167, -0.47367596,  0.36248178]])"
      ]
     },
     "execution_count": 147,
     "metadata": {},
     "output_type": "execute_result"
    }
   ],
   "source": [
    "Q"
   ]
  },
  {
   "cell_type": "code",
   "execution_count": 152,
   "metadata": {
    "vscode": {
     "languageId": "python"
    }
   },
   "outputs": [
    {
     "data": {
      "text/plain": [
       "True"
      ]
     },
     "execution_count": 152,
     "metadata": {},
     "output_type": "execute_result"
    }
   ],
   "source": [
    "np.allclose(Q @ R, A)"
   ]
  },
  {
   "cell_type": "code",
   "execution_count": 153,
   "metadata": {
    "vscode": {
     "languageId": "python"
    }
   },
   "outputs": [
    {
     "data": {
      "text/plain": [
       "array([[-1.49625203, -0.78137163, -0.98183012, -0.96781874],\n",
       "       [ 0.        ,  0.8860711 , -0.13838733,  0.14871231],\n",
       "       [ 0.        ,  0.        , -0.41104328, -0.20541953],\n",
       "       [ 0.        ,  0.        , -0.        ,  0.0970353 ]])"
      ]
     },
     "execution_count": 153,
     "metadata": {},
     "output_type": "execute_result"
    }
   ],
   "source": [
    "Q, R = householder_qr(A)\n",
    "R.round(8)"
   ]
  },
  {
   "cell_type": "code",
   "execution_count": 154,
   "metadata": {
    "vscode": {
     "languageId": "python"
    }
   },
   "outputs": [
    {
     "data": {
      "text/plain": [
       "array([[-0.11325251,  0.94943543, -0.21852495, -0.19491815],\n",
       "       [-0.58262612,  0.05922812, -0.15106478,  0.79637821],\n",
       "       [-0.63373669, -0.29480599, -0.47761089, -0.53231106],\n",
       "       [-0.49608313,  0.09029854,  0.83744499, -0.21079275]])"
      ]
     },
     "execution_count": 154,
     "metadata": {},
     "output_type": "execute_result"
    }
   ],
   "source": [
    "Q"
   ]
  },
  {
   "cell_type": "code",
   "execution_count": 155,
   "metadata": {
    "vscode": {
     "languageId": "python"
    }
   },
   "outputs": [
    {
     "data": {
      "text/plain": [
       "True"
      ]
     },
     "execution_count": 155,
     "metadata": {},
     "output_type": "execute_result"
    }
   ],
   "source": [
    "np.allclose(Q @ R, A)"
   ]
  },
  {
   "cell_type": "markdown",
   "metadata": {},
   "source": [
    "## Upper Hessenberg Form "
   ]
  },
  {
   "cell_type": "code",
   "execution_count": 137,
   "metadata": {
    "vscode": {
     "languageId": "python"
    }
   },
   "outputs": [
    {
     "data": {
      "text/plain": [
       "array([[ 0.21546573, -1.10314036,  0.05557907,  0.21239038],\n",
       "       [-1.03211547,  0.70840189, -0.22862707, -0.24182012],\n",
       "       [ 0.        , -0.33012182,  0.11259881,  0.22216525],\n",
       "       [ 0.        ,  0.        , -0.10820133, -0.09491412]])"
      ]
     },
     "execution_count": 137,
     "metadata": {},
     "output_type": "execute_result"
    }
   ],
   "source": [
    "A = np.random.random((4, 4))\n",
    "H, Q = sp.linalg.hessenberg(A, calc_q=True)\n",
    "H"
   ]
  },
  {
   "cell_type": "code",
   "execution_count": 138,
   "metadata": {
    "vscode": {
     "languageId": "python"
    }
   },
   "outputs": [
    {
     "data": {
      "text/plain": [
       "array([[ 1.        ,  0.        ,  0.        ,  0.        ],\n",
       "       [ 0.        , -0.63006599,  0.60985889, -0.48071715],\n",
       "       [ 0.        , -0.75609701, -0.62291002,  0.20074965],\n",
       "       [ 0.        , -0.17701457,  0.48995432,  0.8535869 ]])"
      ]
     },
     "execution_count": 138,
     "metadata": {},
     "output_type": "execute_result"
    }
   ],
   "source": [
    "Q"
   ]
  },
  {
   "cell_type": "code",
   "execution_count": 2,
   "metadata": {
    "vscode": {
     "languageId": "python"
    }
   },
   "outputs": [],
   "source": [
    "def hessenberg(A):\n",
    "    \"\"\"\n",
    "    Hessenberg decomposition \n",
    "    \"\"\"\n",
    "    m, n = A.shape\n",
    "    # convert to float64 incase inputs are integer\n",
    "    H = A.copy().astype(np.float64)  \n",
    "    Q = np.eye(m)\n",
    "    # construct sign function\n",
    "    sign = lambda x: 1 if x >= 0 else -1\n",
    "    # iterate over columns \n",
    "    for i in range(n-2):\n",
    "        # get the column and reshape it into column vector \n",
    "        # it is important to copy \n",
    "        # as matrix is mutable in numpy \n",
    "        x = H[i+1:, i].reshape(-1, 1).copy()\n",
    "        # calculate the column\n",
    "        x_norm = np.linalg.norm(x)\n",
    "        # update the first entry \n",
    "        x[0, 0] = x[0, 0] + sign(x[0,0]) * x_norm\n",
    "        # normalize the vector\n",
    "        x /= np.linalg.norm(x)\n",
    "\n",
    "        # update H and Q\n",
    "        H[i+1:, i:] = H[i+1:, i:] - 2 * x @ x.T @ H[i+1:, i:] \n",
    "        H[:, i+1:] = H[:, i+1:] - 2 * (H[:, i+1:] @ x) @ x.T \n",
    "        Q[i+1:, :] = Q[i+1:, :] - 2 * x @ x.T @ Q[i+1:, :]\n",
    "\n",
    "    # transpose Q \n",
    "    return H, Q.T"
   ]
  },
  {
   "cell_type": "code",
   "execution_count": 13,
   "metadata": {
    "vscode": {
     "languageId": "python"
    }
   },
   "outputs": [],
   "source": [
    "A = np.random.random((4,4))\n",
    "H, Q = sp.linalg.hessenberg(A, calc_q=True)"
   ]
  },
  {
   "cell_type": "code",
   "execution_count": 8,
   "metadata": {
    "vscode": {
     "languageId": "python"
    }
   },
   "outputs": [
    {
     "data": {
      "text/plain": [
       "array([[ 0.21741081, -1.08784147,  0.89280602, -0.11020534],\n",
       "       [-0.83934132,  1.32932107, -0.37462398,  0.41012648],\n",
       "       [ 0.        , -0.70370259,  0.22943654,  0.81205142],\n",
       "       [ 0.        ,  0.        , -0.18468521,  0.19362845]])"
      ]
     },
     "execution_count": 8,
     "metadata": {},
     "output_type": "execute_result"
    }
   ],
   "source": [
    "H"
   ]
  },
  {
   "cell_type": "code",
   "execution_count": 14,
   "metadata": {
    "vscode": {
     "languageId": "python"
    }
   },
   "outputs": [
    {
     "data": {
      "text/plain": [
       "array([[ 1.        ,  0.        ,  0.        ,  0.        ],\n",
       "       [ 0.        , -0.30075319,  0.95367558,  0.00710008],\n",
       "       [ 0.        , -0.80382515, -0.24947556, -0.54002506],\n",
       "       [ 0.        , -0.51323742, -0.16812148,  0.84161899]])"
      ]
     },
     "execution_count": 14,
     "metadata": {},
     "output_type": "execute_result"
    }
   ],
   "source": [
    "Q "
   ]
  },
  {
   "cell_type": "code",
   "execution_count": 15,
   "metadata": {
    "vscode": {
     "languageId": "python"
    }
   },
   "outputs": [],
   "source": [
    "H, Q = hessenberg(A)"
   ]
  },
  {
   "cell_type": "code",
   "execution_count": 12,
   "metadata": {
    "vscode": {
     "languageId": "python"
    }
   },
   "outputs": [
    {
     "data": {
      "text/plain": [
       "array([[ 0.2174108, -1.0878415,  0.892806 , -0.1102053],\n",
       "       [-0.8393413,  1.3293211, -0.374624 ,  0.4101265],\n",
       "       [-0.       , -0.7037026,  0.2294365,  0.8120514],\n",
       "       [-0.       ,  0.       , -0.1846852,  0.1936285]])"
      ]
     },
     "execution_count": 12,
     "metadata": {},
     "output_type": "execute_result"
    }
   ],
   "source": [
    "np.round(H, 7)"
   ]
  },
  {
   "cell_type": "code",
   "execution_count": 16,
   "metadata": {
    "vscode": {
     "languageId": "python"
    }
   },
   "outputs": [
    {
     "data": {
      "text/plain": [
       "array([[ 1.        ,  0.        ,  0.        ,  0.        ],\n",
       "       [ 0.        , -0.30075319,  0.95367558,  0.00710008],\n",
       "       [ 0.        , -0.80382515, -0.24947556, -0.54002506],\n",
       "       [ 0.        , -0.51323742, -0.16812148,  0.84161899]])"
      ]
     },
     "execution_count": 16,
     "metadata": {},
     "output_type": "execute_result"
    }
   ],
   "source": [
    "Q "
   ]
  },
  {
   "cell_type": "code",
   "execution_count": null,
   "metadata": {
    "vscode": {
     "languageId": "python"
    }
   },
   "outputs": [],
   "source": []
  }
 ],
 "metadata": {
  "kernelspec": {
   "display_name": "Python 3 (ipykernel)",
   "language": "python",
   "name": "python3"
  },
  "orig_nbformat": 4,
  "vscode": {
   "interpreter": {
    "hash": "2fe189d182e892b13e31889708ff6fa1238858c117c3508e6a10c00d2dc805a3"
   }
  }
 },
 "nbformat": 4,
 "nbformat_minor": 2
}
