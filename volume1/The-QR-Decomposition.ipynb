{
 "cells": [
  {
   "cell_type": "markdown",
   "metadata": {},
   "source": [
    "# The QR Decomposition \n",
    "\n",
    "The $QR$ decomposition is a fundamentally important matrix factorization. It\n",
    "is straightforward to implement, is numerically stable, and provides the \n",
    "basis of several important algorithms. In this lab we explore several \n",
    "ways to produce the QR decomposition and implement a few immediate \n",
    "applications.\n",
    "\n",
    "The QR decomposition of a matrix $A$ is a factoration \n",
    "\n",
    "$$A =QR$$ \n",
    "\n",
    "where $Q$ has orthonormal columns and $R$ is upper triangular. Every $m \\times n$\n",
    "matrix $A$ of rank $n \\leq m$ has a QR decomposition, with two main forms. \n",
    "\n",
    "- Reduced QR: Q is $m \\times n$, R is $n \\times n$, and the columns $\\{q_j\\}_{j=1}^n$ \n",
    "of Q form an orthonormal basis of $A$ \n",
    "\n",
    "-Full QR: Q is $m \\times m$, R is $m \\times n$. In this case, the columns\n",
    "$\\{q_j\\}_{j=1}^m$ of Q form an orthonormal basis for all of $F^m$, and the last $m-n$ rows of R only contain zeros. \n",
    "\n",
    "We distinguish between these two forms by writing $\\hat{Q}$ and $\\hat{R}$\n",
    "for reduced decomposition and Q and R for the full decomposition. \n",
    "\n",
    "![QR](../images/QR-decomposition.png)"
   ]
  },
  {
   "cell_type": "code",
   "execution_count": 2,
   "metadata": {},
   "outputs": [],
   "source": [
    "import numpy as np\n",
    "import scipy as sp\n",
    "import matplotlib.pyplot as plt"
   ]
  },
  {
   "cell_type": "markdown",
   "metadata": {},
   "source": [
    "## QR via Gram-Schmidt \n",
    "\n",
    "Consider the Gram-Schmidt procedure, with  the vectors to be considered \n",
    "in the process as columns of the matrix $A$. That is \n",
    "\n",
    "$$\n",
    "A = \\begin{bmatrix}\n",
    "\\begin{array}{c|c|c|c}\n",
    "a_1 & a_2 & \\cdots & a_n\n",
    "\\end{array}\n",
    "\\end{bmatrix}\n",
    "$$\n",
    "\n",
    "Then, \n",
    "\n",
    "\\begin{aligned}\n",
    "u_1 = a_1, & \\quad e_1 = \\frac{u_1}{||u_1||} \\\\ \n",
    "u_2 = a_2 - <a_2, e_1> e_1, & \\quad e_2 =  \\frac{u_2}{||u_2||} \\\\\n",
    "\\vdots \n",
    "\\end{aligned}\n",
    "\n",
    "The  resulting QR factorization is \n",
    "\n",
    "$$\n",
    "A = \\begin{bmatrix}\n",
    "\\begin{array}{c|c|c|c}\n",
    "a_1 & a_2 & \\cdots & a_n\n",
    "\\end{array} \n",
    "\\end{bmatrix} = \\begin{bmatrix}\n",
    "\\begin{array}{c|c|c|c}\n",
    "e_1 & e_2 & \\cdots & e_n\n",
    "\\end{array} \n",
    "\\end{bmatrix}  \\begin{bmatrix}\n",
    "a_1 \\cdot e_1 & a_2 \\cdot e_1, & \\cdots & a_n \\cdot e_1 \\\\\n",
    "0 & a_2 \\cdot e_2 & \\cdots & a_n \\cdot e_2 \\\\\n",
    "\\vdots & \n",
    "\\end{bmatrix}\n",
    "$$\n",
    "\n",
    "With the above formula, one could do QR calculation easily by:\n",
    "\n",
    "- normalize each columns for Q \n",
    "- calcualte each element for R with dot production "
   ]
  },
  {
   "cell_type": "markdown",
   "metadata": {},
   "source": [
    "## Modified Gram-Schmidt \n",
    "\n",
    "If the columns of $A$ are close to being linearly dependent, the classical Gram-Schmidt algorithm often produces a set of vectors $\\{q_j\\}_{j=1}^n$ that \n",
    "are not  even close to orthonormal due to __rounding errors__. The _modified Gram-Schmidt algorithm_ is a slight variant of the classical algorithm which\n",
    "more consistently produces a set of vectors that are “very close” to orthonormal."
   ]
  },
  {
   "cell_type": "code",
   "execution_count": 26,
   "metadata": {},
   "outputs": [],
   "source": [
    "def modified_gram_schmidt(A: np.ndarray, reduced=False) -> np.ndarray:\n",
    "    \"\"\"\n",
    "    Modified gram schmidt \n",
    "    \"\"\"\n",
    "    m, n = A.shape\n",
    "    Q = A.copy()\n",
    "    R = np.zeros_like(A)\n",
    "    # iterate over columns \n",
    "    for i in range(n):\n",
    "        # calculate the norm of each column \n",
    "        # assign it to the diagonal element of R\n",
    "        R[i, i] = sp.linalg.norm(Q[:, i])\n",
    "        # normalize the ith column of Q \n",
    "        Q[:, i] = Q[:, i]/R[i, i]\n",
    "        for j in range(i+1, n):\n",
    "            # dot production for each element of R\n",
    "            # fix row i and iterate over columns (upper triangle)\n",
    "            R[i, j] = np.dot(Q[:, i], Q[:, j])\n",
    "            Q[:, j] = Q[:, j] - R[i, j] * Q[:, i]\n",
    "    \n",
    "    if reduced:\n",
    "        R=R[:n, :n]\n",
    "\n",
    "    return Q, R"
   ]
  },
  {
   "cell_type": "code",
   "execution_count": 6,
   "metadata": {},
   "outputs": [
    {
     "data": {
      "text/plain": [
       "array([[0.32333482, 0.23024711, 0.79377887, 0.62441968],\n",
       "       [0.97541047, 0.75888589, 0.01062005, 0.02472696],\n",
       "       [0.11104001, 0.53814938, 0.04545734, 0.55157035],\n",
       "       [0.72836505, 0.29837837, 0.73311522, 0.64052568],\n",
       "       [0.22060971, 0.12711688, 0.32747317, 0.41494326],\n",
       "       [0.13789786, 0.59117679, 0.37050016, 0.59592555]])"
      ]
     },
     "execution_count": 6,
     "metadata": {},
     "output_type": "execute_result"
    }
   ],
   "source": [
    "np.random.seed(789)\n",
    "A = np.random.random((6, 4))\n",
    "A"
   ]
  },
  {
   "cell_type": "code",
   "execution_count": 21,
   "metadata": {},
   "outputs": [
    {
     "name": "stdout",
     "output_type": "stream",
     "text": [
      "(6, 4) (6, 4) (4, 4)\n"
     ]
    }
   ],
   "source": [
    " # use model='economic' for reduced QR\n",
    "Q, R = sp.linalg.qr(A, mode='economic') \n",
    "print(A.shape, Q.shape, R.shape)"
   ]
  },
  {
   "cell_type": "code",
   "execution_count": 17,
   "metadata": {},
   "outputs": [
    {
     "data": {
      "text/plain": [
       "True"
      ]
     },
     "execution_count": 17,
     "metadata": {},
     "output_type": "execute_result"
    }
   ],
   "source": [
    "# verify R is upper triangular \n",
    "np.allclose(np.triu(R), R)"
   ]
  },
  {
   "cell_type": "code",
   "execution_count": 18,
   "metadata": {},
   "outputs": [
    {
     "data": {
      "text/plain": [
       "True"
      ]
     },
     "execution_count": 18,
     "metadata": {},
     "output_type": "execute_result"
    }
   ],
   "source": [
    "# verify Q is orthonormal \n",
    "np.allclose(Q.T @ Q, np.identity(4))"
   ]
  },
  {
   "cell_type": "code",
   "execution_count": 19,
   "metadata": {},
   "outputs": [
    {
     "data": {
      "text/plain": [
       "True"
      ]
     },
     "execution_count": 19,
     "metadata": {},
     "output_type": "execute_result"
    }
   ],
   "source": [
    "np.allclose(Q @ R, A)"
   ]
  },
  {
   "cell_type": "code",
   "execution_count": 27,
   "metadata": {},
   "outputs": [
    {
     "name": "stdout",
     "output_type": "stream",
     "text": [
      "(6, 4) (6, 4) (4, 4)\n"
     ]
    }
   ],
   "source": [
    "# test the function\n",
    "Q, R = modified_gram_schmidt(A, reduced=True)\n",
    "print(A.shape, Q.shape, R.shape)"
   ]
  },
  {
   "cell_type": "code",
   "execution_count": 28,
   "metadata": {},
   "outputs": [
    {
     "data": {
      "text/plain": [
       "array([[1.29093027, 0.93058617, 0.71992524, 0.71848638],\n",
       "       [0.        , 0.71218958, 0.03473689, 0.54327131],\n",
       "       [0.        , 0.        , 0.94590276, 0.85749941],\n",
       "       [0.        , 0.        , 0.        , 0.2926566 ]])"
      ]
     },
     "execution_count": 28,
     "metadata": {},
     "output_type": "execute_result"
    }
   ],
   "source": [
    "R"
   ]
  },
  {
   "cell_type": "code",
   "execution_count": 29,
   "metadata": {},
   "outputs": [
    {
     "data": {
      "text/plain": [
       "True"
      ]
     },
     "execution_count": 29,
     "metadata": {},
     "output_type": "execute_result"
    }
   ],
   "source": [
    "np.allclose(Q @ R, A)"
   ]
  },
  {
   "cell_type": "markdown",
   "metadata": {},
   "source": [
    "The special structures of Q and R immediately provide some simple applications.\n",
    "For instance, we could calcualte the determinant \n",
    "\n",
    "$$det(A) = det(Q)det(R)$$"
   ]
  },
  {
   "cell_type": "code",
   "execution_count": 33,
   "metadata": {},
   "outputs": [],
   "source": [
    "def absolute_det(A):\n",
    "    Q, R = modified_gram_schmidt(A, reduced=True)\n",
    "    return np.abs(np.diag(R).prod())"
   ]
  },
  {
   "cell_type": "code",
   "execution_count": 34,
   "metadata": {},
   "outputs": [
    {
     "data": {
      "text/plain": [
       "0.254509041280185"
      ]
     },
     "execution_count": 34,
     "metadata": {},
     "output_type": "execute_result"
    }
   ],
   "source": [
    "absolute_det(A)"
   ]
  },
  {
   "cell_type": "markdown",
   "metadata": {},
   "source": [
    "The LU decomposition is usually the matrix factorization of choice to solve the linear system $Ax = b$ because the triangular structures of L and U facilitate forward and backward substitution. However, the QR decomposition avoids the potential numerical issues that come with Gaussian elimination.\n",
    "\n",
    "For $Ax = b$ we have\n",
    "\n",
    "$$QRx = b \\quad \\to Rx = Q^Tb$$"
   ]
  },
  {
   "cell_type": "code",
   "execution_count": 37,
   "metadata": {},
   "outputs": [],
   "source": [
    "def backward_substitution(U, y):\n",
    "    \"\"\"\n",
    "    Doing backward substitution \n",
    "    \"\"\"\n",
    "    m, n = U.shape\n",
    "    x = np.zeros_like(y)\n",
    "    \n",
    "    x[-1] = y[-1]/U[-1, -1]\n",
    "    \n",
    "    for i in range(m-2, -1, -1):\n",
    "        x[i] = (y[i]-np.dot(U[i, i:], x[i:])) / U[i, i]\n",
    "        \n",
    "    return x "
   ]
  },
  {
   "cell_type": "code",
   "execution_count": 38,
   "metadata": {},
   "outputs": [],
   "source": [
    "def solve_with_qr(A, b):\n",
    "    Q, R = modified_gram_schmidt(A, reduced=True)\n",
    "    y = Q.T @ b \n",
    "    x = backward_substitution(R, y)\n",
    "\n",
    "    return x "
   ]
  },
  {
   "cell_type": "code",
   "execution_count": 39,
   "metadata": {},
   "outputs": [
    {
     "data": {
      "text/plain": [
       "array([ 0.05614973,  0.25935829, -0.01871658])"
      ]
     },
     "execution_count": 39,
     "metadata": {},
     "output_type": "execute_result"
    }
   ],
   "source": [
    "A = np.array([[1, 4, 5], [6, 8, 22], [32, 5., 5]])\n",
    "b = np.array([1, 2, 3.])\n",
    "solve_with_qr(A, b)"
   ]
  },
  {
   "cell_type": "code",
   "execution_count": null,
   "metadata": {},
   "outputs": [],
   "source": []
  }
 ],
 "metadata": {
  "kernelspec": {
   "display_name": "Python 3.9.5 ('myvenv': venv)",
   "language": "python",
   "name": "python3"
  },
  "language_info": {
   "codemirror_mode": {
    "name": "ipython",
    "version": 3
   },
   "file_extension": ".py",
   "mimetype": "text/x-python",
   "name": "python",
   "nbconvert_exporter": "python",
   "pygments_lexer": "ipython3",
   "version": "3.9.5"
  },
  "orig_nbformat": 4,
  "vscode": {
   "interpreter": {
    "hash": "2fe189d182e892b13e31889708ff6fa1238858c117c3508e6a10c00d2dc805a3"
   }
  }
 },
 "nbformat": 4,
 "nbformat_minor": 2
}
