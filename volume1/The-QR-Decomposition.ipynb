{
 "cells": [
  {
   "cell_type": "markdown",
   "metadata": {},
   "source": [
    "# The QR Decomposition \n",
    "\n",
    "The $QR$ decomposition is a fundamentally important matrix factorization. It\n",
    "is straightforward to implement, is numerically stable, and provides the \n",
    "basis of several important algorithms. In this lab we explore several \n",
    "ways to produce the QR decomposition and implement a few immediate \n",
    "applications.\n",
    "\n",
    "The QR decomposition of a matrix $A$ is a factoration \n",
    "\n",
    "$$A =QR$$ \n",
    "\n",
    "where $Q$ has orthonormal columns and $R$ is upper triangular. Every $m \\times n$\n",
    "matrix $A$ of rank $n \\leq m$ has a QR decomposition, with two main forms. \n",
    "\n",
    "- Reduced QR: Q is $m \\times n$, R is $n \\times n$, and the columns $\\{q_j\\}_{j=1}^m$ \n",
    "of Q form an orthonormal basis of $A$ \n",
    "\n",
    "-Full QR: Q is $m \\times m$, R is $m \\times n$. In this case, the columns\n",
    "$\\{q_j\\}_{j=1}^m$ of Q form an orthonormal basis for all of $F^m$, and the last $m-n$ rows of R only contain zeros. \n",
    "\n",
    "We distinguish between these two forms by writing $\\hat{Q}$ and $\\hat{R}$\n",
    "for reduced decomposition and Q and R for the full decomposition. \n",
    "\n",
    "![QR](../images/QR-decomposition.png)"
   ]
  },
  {
   "cell_type": "markdown",
   "metadata": {},
   "source": [
    "## QR via Gram-Schmidt "
   ]
  },
  {
   "cell_type": "code",
   "execution_count": null,
   "metadata": {},
   "outputs": [],
   "source": []
  }
 ],
 "metadata": {
  "kernelspec": {
   "display_name": "Python 3.9.5 ('myvenv': venv)",
   "language": "python",
   "name": "python3"
  },
  "language_info": {
   "name": "python",
   "version": "3.9.5"
  },
  "orig_nbformat": 4,
  "vscode": {
   "interpreter": {
    "hash": "2fe189d182e892b13e31889708ff6fa1238858c117c3508e6a10c00d2dc805a3"
   }
  }
 },
 "nbformat": 4,
 "nbformat_minor": 2
}
