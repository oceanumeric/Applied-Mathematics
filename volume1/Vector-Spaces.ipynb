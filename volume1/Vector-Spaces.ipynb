{
 "cells": [
  {
   "attachments": {},
   "cell_type": "markdown",
   "metadata": {},
   "source": [
    "# Abstract Vector Spaces \n",
    "\n",
    "Mathematics is the art of reducing any problem to linear algebra. \n",
    "\n",
    "-- William Stein"
   ]
  },
  {
   "attachments": {},
   "cell_type": "markdown",
   "metadata": {},
   "source": [
    "For $[a, b] \\subset \\mathbb{R}$, the space $C([a, b]; \\mathbb{F})$ of continuous \n",
    "$F-valued$ functions. Vector addition is given by defining the function\n",
    "$f+g$ as $(f+g)(x) = f(x) + g(x)$, and scalar multiplication is given by\n",
    "definiting the function $cf$ by $(cf)(x) = c \\cdot f(x)$. Note that $C([a, b]; \\mathbb{F})$\n",
    "is closed under vector addition and scalar multiplication because sums and\n",
    "scalar products of continuous functions are continuous. "
   ]
  },
  {
   "attachments": {},
   "cell_type": "markdown",
   "metadata": {},
   "source": [
    "Let $V$ be a vector space. A nonempty subset $W \\subset V$ is a subspace of $V$ \n",
    "if $W$ itself is a vector space under the same operations of vector \n",
    "addition and scalar multiplication as $V$. \n",
    "\n",
    "Let $A$ be an $m \\times n$ matrix. \n",
    "\n",
    "- The __column space__ of $A$ is the subspace of $\\mathbb{R}^m$ spanned by the\n",
    "columns of $A$. It is written Col(A).\n",
    "- The __null space__ of $A$ is the subspace of $\\mathbb{R}^n$ consisting of all\n",
    "solutions of the homogeneous equation $Ax = 0$:\n",
    "\n",
    "$$\\text{Null}(A) = \\{x \\in \\mathbb{R}^n | Ax = 0 \\}$$"
   ]
  },
  {
   "attachments": {},
   "cell_type": "markdown",
   "metadata": {},
   "source": [
    "Find a spanning set for the null space of the matrix\n",
    "\n",
    "$$\n",
    "A = \n",
    "\\begin{bmatrix}\n",
    "  2 & 3 & -8 & -5\\\\\n",
    "  -1 & 2 & -3 & 8\\\\\n",
    "\\end{bmatrix}\n",
    "$$\n",
    "\n",
    "We compute the parametric vector form of the solution of $Ax 0 0$. The\n",
    "reduced row echelon form of $A$ is \n",
    "\n",
    "\n",
    "$$\n",
    "\\begin{bmatrix}\n",
    "  1 & 0 & -1 & 2\\\\\n",
    "  0 & 1 & -2 & -3\\\\\n",
    "\\end{bmatrix}\n",
    "$$\n",
    "\n",
    "The free variables are $x_3$ and $x_4$; the parametric form of the\n",
    "solution set is \n",
    "\n",
    "$$\n",
    "\\begin{cases}\n",
    "x_1 = x_3 -2 x_4 \\\\\n",
    "x_2 = 2x_3 +3 x_4 \\\\\n",
    "x_3 = x_3 \\\\ \n",
    "x_4 = x_4\n",
    "\\end{cases}\n",
    "$$\n",
    "\n",
    "Therefore,\n",
    "\n",
    "$$\n",
    "\\text{Null}(A) = \\text{Span} \\left \\{ \n",
    "  \\begin{pmatrix}\n",
    "  1 \\\\\n",
    "2 \\\\\n",
    "1  \\\\ \n",
    "0\n",
    "  \\end{pmatrix}, \\begin{pmatrix}\n",
    "  -2 \\\\\n",
    "3 \\\\\n",
    "0  \\\\ \n",
    "1\n",
    "  \\end{pmatrix}\n",
    "  \\right \\}\n",
    "$$"
   ]
  },
  {
   "attachments": {},
   "cell_type": "markdown",
   "metadata": {},
   "source": [
    "## Quotient Vector Spaces \n",
    "\n",
    "Suppose $W$ is a subspace of a finitely generated vector space $V$ over a \n",
    "field $\\mathbb{F}$ and $v$ is a vecotr in $V$. Let\n",
    "\n",
    "$$[v]_W = \\{v + w | w \\in W, v \\in V\\}$$\n",
    "\n",
    "This is a __subset__ of $V$, but in general it is not a __subspace__ of $V$. \n",
    "\n",
    "Let $V$ be a vector space $V$ over a field $\\mathbb{F}$ and let $W$ be \n",
    "a subspace of $V$. Then define \n",
    "\n",
    "$$V/W = \\{[v]_W | v \\in V \\}$$\n",
    "\n",
    "Define operators of scalar multiplication and vector addition on $V/S$ \n",
    "as follows:\n",
    "\n",
    "\\begin{aligned}\n",
    "[x]_W + [y]_W & = [x+y]_W \\\\\n",
    "a \\cdot [x]_W & = [a x]_W\n",
    "\\end{aligned}\n",
    "\n",
    "Then with these operations $V/S$ has the structure of a vector space over \n",
    "$\\mathbb{F}$. "
   ]
  },
  {
   "attachments": {},
   "cell_type": "markdown",
   "metadata": {},
   "source": [
    "Quotient space and quotient vector spaces have many applications in \n",
    "functional analysis and measure theory. "
   ]
  },
  {
   "cell_type": "code",
   "execution_count": 7,
   "metadata": {},
   "outputs": [],
   "source": [
    "import numpy as np"
   ]
  },
  {
   "cell_type": "code",
   "execution_count": 8,
   "metadata": {},
   "outputs": [
    {
     "data": {
      "text/plain": [
       "array([[ 1,  0, -1,  2],\n",
       "       [ 0,  1, -2, -3]])"
      ]
     },
     "execution_count": 8,
     "metadata": {},
     "output_type": "execute_result"
    }
   ],
   "source": [
    "a = np.array(\n",
    "    [\n",
    "        [1, 0, -1, 2],\n",
    "        [0, 1, -2, -3]\n",
    "    ]\n",
    ")\n",
    "a"
   ]
  },
  {
   "cell_type": "code",
   "execution_count": null,
   "metadata": {},
   "outputs": [],
   "source": []
  },
  {
   "cell_type": "code",
   "execution_count": 9,
   "metadata": {},
   "outputs": [
    {
     "name": "stdout",
     "output_type": "stream",
     "text": [
      "\\begin{bmatrix}\n",
      "  1 & 0 & -1 & 2\\\\\n",
      "  0 & 1 & -2 & -3\\\\\n",
      "\\end{bmatrix}\n"
     ]
    }
   ],
   "source": [
    "print(bmatrix(a))"
   ]
  },
  {
   "cell_type": "code",
   "execution_count": 1,
   "metadata": {},
   "outputs": [],
   "source": [
    "def bmatrix(a):\n",
    "    \"\"\"Returns a LaTeX bmatrix\n",
    "\n",
    "    :a: numpy array\n",
    "    :returns: LaTeX bmatrix as a string\n",
    "    \"\"\"\n",
    "    if len(a.shape) > 2:\n",
    "        raise ValueError('bmatrix can at most display two dimensions')\n",
    "    lines = str(a).replace('[', '').replace(']', '').splitlines()\n",
    "    rv = [r'\\begin{bmatrix}']\n",
    "    rv += ['  ' + ' & '.join(l.split()) + r'\\\\' for l in lines]\n",
    "    rv +=  [r'\\end{bmatrix}']\n",
    "    return '\\n'.join(rv)"
   ]
  },
  {
   "cell_type": "code",
   "execution_count": null,
   "metadata": {},
   "outputs": [],
   "source": []
  },
  {
   "attachments": {},
   "cell_type": "markdown",
   "metadata": {},
   "source": [
    "## References\n",
    "\n",
    "1. Margalit and Rabinoff (2022): https://textbooks.math.gatech.edu/ila/subspaces.html"
   ]
  }
 ],
 "metadata": {
  "kernelspec": {
   "display_name": "myvenv",
   "language": "python",
   "name": "myvenv"
  },
  "language_info": {
   "codemirror_mode": {
    "name": "ipython",
    "version": 3
   },
   "file_extension": ".py",
   "mimetype": "text/x-python",
   "name": "python",
   "nbconvert_exporter": "python",
   "pygments_lexer": "ipython3",
   "version": "3.9.5"
  },
  "orig_nbformat": 4,
  "vscode": {
   "interpreter": {
    "hash": "2fe189d182e892b13e31889708ff6fa1238858c117c3508e6a10c00d2dc805a3"
   }
  }
 },
 "nbformat": 4,
 "nbformat_minor": 2
}
