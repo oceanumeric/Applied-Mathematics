{
 "cells": [
  {
   "attachments": {},
   "cell_type": "markdown",
   "metadata": {},
   "source": [
    "# Abstract Vector Spaces \n",
    "\n",
    "Mathematics is the art of reducing any problem to linear algebra. \n",
    "\n",
    "-- William Stein"
   ]
  },
  {
   "attachments": {},
   "cell_type": "markdown",
   "metadata": {},
   "source": [
    "For $[a, b] \\subset \\mathbb{R}$, the space $C([a, b]; \\mathbb{F})$ of continuous \n",
    "$F-valued$ functions Vector addition is given by defining the function\n",
    "$f+g$ as $(f+g)(x) = f(x) + g(x)$, and scalar multiplication is given by\n",
    "definiting the function $cf$ by $(cf)(x) = c \\cdot f(x)$ Note that $C([a, b]; \\mathbb{F})$\n",
    "is closed under vector addition and scalar multiplication because sums and\n",
    "scalar products of continuous functions are continuous "
   ]
  },
  {
   "attachments": {},
   "cell_type": "markdown",
   "metadata": {},
   "source": [
    "Let $V$ be a vector space A nonempty subset $W \\subset V$ is a subspace of $V$ \n",
    "if $W$ itself is a vector space under the same operations of vector \n",
    "addition and scalar multiplication as $V$. \n",
    "\n",
    "Let $A$ be an $m \\times n$ matrix. \n",
    "\n",
    "- The __column space__ of $A$ is the subspace of $\\mathbb{R}^m$ spanned by the\n",
    "columns of $A$. It is written Col(A).\n",
    "- The __null space__ of $A$ is the subspace of $\\mathbb{R}^n$ consisting of all\n",
    "solutions of the homogeneous equation $Ax = 0$:\n",
    "\n",
    "$$\\text{Null}(A) = \\{x \\in \\mathbb{R}^n | Ax = 0 \\}$$"
   ]
  },
  {
   "attachments": {},
   "cell_type": "markdown",
   "metadata": {},
   "source": [
    "Find a spanning set for the null space of the matrix\n",
    "\n",
    "$$\n",
    "A = \n",
    "\\begin{bmatrix}\n",
    "  2 & 3 & -8 & -5\\\\\n",
    "  -1 & 2 & -3 & 8\\\\\n",
    "\\end{bmatrix}\n",
    "$$\n",
    "\n",
    "We compute the parametric vector form of the solution of $Ax 0 0$. The\n",
    "reduced row echelon form of $A$ is \n",
    "\n",
    "\n",
    "$$\n",
    "\\begin{bmatrix}\n",
    "  1 & 0 & -1 & 2\\\\\n",
    "  0 & 1 & -2 & -3\\\\\n",
    "\\end{bmatrix}\n",
    "$$\n",
    "\n",
    "The free variables are $x_3$ and $x_4$; the parametric form of the\n",
    "solution set is \n",
    "\n",
    "$$\n",
    "\\begin{cases}\n",
    "x_1 = x_3 -2 x_4 \\\\\n",
    "x_2 = 2x_3 +3 x_4 \\\\\n",
    "x_3 = x_3 \\\\ \n",
    "x_4 = x_4\n",
    "\\end{cases}\n",
    "$$\n",
    "\n",
    "Therefore,\n",
    "\n",
    "$$\n",
    "\\text{Null}(A) = \\text{Span} \\left \\{ \n",
    "  \\begin{pmatrix}\n",
    "  1 \\\\\n",
    "2 \\\\\n",
    "1  \\\\ \n",
    "0\n",
    "  \\end{pmatrix}, \\begin{pmatrix}\n",
    "  -2 \\\\\n",
    "3 \\\\\n",
    "0  \\\\ \n",
    "1\n",
    "  \\end{pmatrix}\n",
    "  \\right \\}\n",
    "$$"
   ]
  },
  {
   "attachments": {},
   "cell_type": "markdown",
   "metadata": {},
   "source": [
    "## Quotient Vector Spaces \n",
    "\n",
    "Suppose $W$ is a subspace of a finitely generated vector space $V$ over a \n",
    "field $\\mathbb{F}$ and $v$ is a vecotr in $V$. Let\n",
    "\n",
    "$$[v]_W = \\{v + w | w \\in W, v \\in V\\}$$\n",
    "\n",
    "This is a __subset__ of $V$, but in general it is not a __subspace__ of $V$. \n",
    "\n",
    "Let $V$ be a vector space $V$ over a field $\\mathbb{F}$ and let $W$ be \n",
    "a subspace of $V$. Then define \n",
    "\n",
    "$$V/W = \\{[v]_W | v \\in V \\}$$\n",
    "\n",
    "Define operators of scalar multiplication and vector addition on $V/S$ \n",
    "as follows:\n",
    "\n",
    "\\begin{aligned}\n",
    "[x]_W + [y]_W & = [x+y]_W \\\\\n",
    "a \\cdot [x]_W & = [a x]_W\n",
    "\\end{aligned}\n",
    "\n",
    "Then with these operations $V/S$ has the structure of a vector space over \n",
    "$\\mathbb{F}$. "
   ]
  },
  {
   "attachments": {},
   "cell_type": "markdown",
   "metadata": {},
   "source": [
    "Quotient space and quotient vector spaces have many applications in \n",
    "functional analysis and measure theory. \n",
    "\n",
    "![quotient-space](https://calculus123.com/images/e/ea/Vector_subspace_and_quotient_space.png)"
   ]
  },
  {
   "attachments": {},
   "cell_type": "markdown",
   "metadata": {},
   "source": [
    "## Bernstein Polynomials\n",
    "\n",
    "Given $n \\in \\mathbb{N}$, the _Bernstein polynomials_ $\\{B_j^n (x) \\}_{j=0}^n$\n",
    "of degree n are defined as \n",
    "\n",
    "$$\n",
    "\\{B_j^n (x) \\}_{j=0}^n = {n \\choose j} x^j (1-x)^{n-j}, \\quad {n \\choose j} = \\frac{n!}{j!(n-j)!}\n",
    "$$\n",
    "\n",
    "One could also show \n",
    "\n",
    "$$\n",
    "\\{B_j^n (x) \\}_{j=0}^n = \\sum_{i=j}^n (-1)^{i-j} {n \\choose i} {i \\choose j} x^i\n",
    "$$"
   ]
  },
  {
   "cell_type": "code",
   "execution_count": 63,
   "metadata": {},
   "outputs": [],
   "source": [
    "import math\n",
    "import numpy as np\n",
    "import matplotlib.pyplot as plt\n",
    "%config InlineBackend.figure_formats = ['svg']"
   ]
  },
  {
   "cell_type": "code",
   "execution_count": 51,
   "metadata": {},
   "outputs": [],
   "source": [
    "def bernstein(n, j):\n",
    "    \"\"\"\n",
    "    Bernstein polynomails Ceofficients Function \n",
    "    --------------------\n",
    "    n: the highest degree \n",
    "    j: degree j < n \n",
    "\n",
    "    Output: a row vector with length n \n",
    "    \"\"\"\n",
    "    coefficients = np.zeros(n+1)\n",
    "    for i in range(j, n+1):\n",
    "        coef = (-1)**(i-j) * math.comb(n, i) * math.comb(i, j)\n",
    "        coefficients[i] = coef\n",
    "    \n",
    "    return coefficients"
   ]
  },
  {
   "attachments": {},
   "cell_type": "markdown",
   "metadata": {},
   "source": [
    "with the standard polynomial basis $S = [1, x, x^2, x^3, x^4]$, and we can\n",
    "compute the transition matrix $P_{ST}$ from the Bernstein basis:\n",
    "\n",
    "$$\n",
    "T = [B_0^4 (x), B_1^4 (x), B_2^4 (x), B_3^4 (x), B_4^4 (x)] = \\begin{bmatrix}\n",
    "  1 &  x & x^2 & x^3 & x^4\n",
    "\\end{bmatrix} \\begin{bmatrix}\n",
    "  1 & 0. & 0. & 0. & 0.\\\\\n",
    "  -4. & 4. & 0. & 0. & 0.\\\\\n",
    "  6. & -12. & 6. & 0. & 0.\\\\\n",
    "  -4. & 12. & -12. & 4. & 0.\\\\\n",
    "  1. & -4. & 6. & -4. & 1.\\\\\n",
    "\\end{bmatrix} \n",
    "$$"
   ]
  },
  {
   "cell_type": "code",
   "execution_count": 78,
   "metadata": {},
   "outputs": [
    {
     "data": {
      "text/plain": [
       "array([[  1.,   0.,   0.,   0.,   0.],\n",
       "       [ -4.,   4.,   0.,   0.,   0.],\n",
       "       [  6., -12.,   6.,   0.,   0.],\n",
       "       [ -4.,  12., -12.,   4.,   0.],\n",
       "       [  1.,  -4.,   6.,  -4.,   1.]])"
      ]
     },
     "execution_count": 78,
     "metadata": {},
     "output_type": "execute_result"
    }
   ],
   "source": [
    "size = 5\n",
    "pst = np.zeros((size, size))\n",
    "for i in range(size):\n",
    "    bvect = bernstein(size-1, i)\n",
    "    pst[:, i] = bvect\n",
    "\n",
    "pst"
   ]
  },
  {
   "cell_type": "code",
   "execution_count": 56,
   "metadata": {},
   "outputs": [],
   "source": [
    "def bernstein_polynomial(n, i, x):\n",
    "    \"\"\"\n",
    "    Bernstein Polynomail function\n",
    "    Calculate the polynomial based on value of x \n",
    "    -----------------------------\n",
    "    n: the highest degree\n",
    "    i: degree \n",
    "    x: value of a real number \n",
    "    \"\"\"\n",
    "    bern_vect = bernstein(n, i)\n",
    "    x_vect = np.zeros(n+1)\n",
    "    for j in range(0, n+1):\n",
    "        x_vect[j] = x**j \n",
    "        \n",
    "    return np.dot(x_vect, bern_vect)"
   ]
  },
  {
   "cell_type": "code",
   "execution_count": 68,
   "metadata": {},
   "outputs": [],
   "source": [
    "foo = np.vectorize(bernstein_polynomial)"
   ]
  },
  {
   "cell_type": "code",
   "execution_count": 77,
   "metadata": {},
   "outputs": [
    {
     "data": {
      "image/svg+xml": "<?xml version=\"1.0\" encoding=\"utf-8\" standalone=\"no\"?>\n<!DOCTYPE svg PUBLIC \"-//W3C//DTD SVG 1.1//EN\"\n  \"http://www.w3.org/Graphics/SVG/1.1/DTD/svg11.dtd\">\n<svg xmlns:xlink=\"http://www.w3.org/1999/xlink\" width=\"430.632762pt\" height=\"325.078125pt\" viewBox=\"0 0 430.632762 325.078125\" xmlns=\"http://www.w3.org/2000/svg\" version=\"1.1\">\n <metadata>\n  <rdf:RDF xmlns:dc=\"http://purl.org/dc/elements/1.1/\" xmlns:cc=\"http://creativecommons.org/ns#\" xmlns:rdf=\"http://www.w3.org/1999/02/22-rdf-syntax-ns#\">\n   <cc:Work>\n    <dc:type rdf:resource=\"http://purl.org/dc/dcmitype/StillImage\"/>\n    <dc:date>2022-12-13T18:56:31.947592</dc:date>\n    <dc:format>image/svg+xml</dc:format>\n    <dc:creator>\n     <cc:Agent>\n      <dc:title>Matplotlib v3.6.2, https://matplotlib.org/</dc:title>\n     </cc:Agent>\n    </dc:creator>\n   </cc:Work>\n  </rdf:RDF>\n </metadata>\n <defs>\n  <style type=\"text/css\">*{stroke-linejoin: round; stroke-linecap: butt}</style>\n </defs>\n <g id=\"figure_1\">\n  <g id=\"patch_1\">\n   <path d=\"M 0 325.078125 \nL 430.632762 325.078125 \nL 430.632762 0 \nL 0 0 \nz\n\" style=\"fill: #ffffff\"/>\n  </g>\n  <g id=\"axes_1\">\n   <g id=\"patch_2\">\n    <path d=\"M 30.103125 144.521739 \nL 144.985478 144.521739 \nL 144.985478 24 \nL 30.103125 24 \nz\n\" style=\"fill: #ffffff\"/>\n   </g>\n   <g id=\"matplotlib.axis_1\">\n    <g id=\"xtick_1\">\n     <g id=\"line2d_1\">\n      <defs>\n       <path id=\"m97f8c18c0a\" d=\"M 0 0 \nL 0 3.5 \n\" style=\"stroke: #000000; stroke-width: 0.8\"/>\n      </defs>\n      <g>\n       <use xlink:href=\"#m97f8c18c0a\" x=\"35.32505\" y=\"144.521739\" style=\"stroke: #000000; stroke-width: 0.8\"/>\n      </g>\n     </g>\n    </g>\n    <g id=\"xtick_2\">\n     <g id=\"line2d_2\">\n      <g>\n       <use xlink:href=\"#m97f8c18c0a\" x=\"87.544301\" y=\"144.521739\" style=\"stroke: #000000; stroke-width: 0.8\"/>\n      </g>\n     </g>\n    </g>\n    <g id=\"xtick_3\">\n     <g id=\"line2d_3\">\n      <g>\n       <use xlink:href=\"#m97f8c18c0a\" x=\"139.763553\" y=\"144.521739\" style=\"stroke: #000000; stroke-width: 0.8\"/>\n      </g>\n     </g>\n    </g>\n   </g>\n   <g id=\"matplotlib.axis_2\">\n    <g id=\"ytick_1\">\n     <g id=\"line2d_4\">\n      <defs>\n       <path id=\"mc82e3bc16a\" d=\"M 0 0 \nL -3.5 0 \n\" style=\"stroke: #000000; stroke-width: 0.8\"/>\n      </defs>\n      <g>\n       <use xlink:href=\"#mc82e3bc16a\" x=\"30.103125\" y=\"144.521739\" style=\"stroke: #000000; stroke-width: 0.8\"/>\n      </g>\n     </g>\n     <g id=\"text_1\">\n      <!-- 0.0 -->\n      <g transform=\"translate(7.2 148.320958) scale(0.1 -0.1)\">\n       <defs>\n        <path id=\"DejaVuSans-30\" d=\"M 2034 4250 \nQ 1547 4250 1301 3770 \nQ 1056 3291 1056 2328 \nQ 1056 1369 1301 889 \nQ 1547 409 2034 409 \nQ 2525 409 2770 889 \nQ 3016 1369 3016 2328 \nQ 3016 3291 2770 3770 \nQ 2525 4250 2034 4250 \nz\nM 2034 4750 \nQ 2819 4750 3233 4129 \nQ 3647 3509 3647 2328 \nQ 3647 1150 3233 529 \nQ 2819 -91 2034 -91 \nQ 1250 -91 836 529 \nQ 422 1150 422 2328 \nQ 422 3509 836 4129 \nQ 1250 4750 2034 4750 \nz\n\" transform=\"scale(0.015625)\"/>\n        <path id=\"DejaVuSans-2e\" d=\"M 684 794 \nL 1344 794 \nL 1344 0 \nL 684 0 \nL 684 794 \nz\n\" transform=\"scale(0.015625)\"/>\n       </defs>\n       <use xlink:href=\"#DejaVuSans-30\"/>\n       <use xlink:href=\"#DejaVuSans-2e\" x=\"63.623047\"/>\n       <use xlink:href=\"#DejaVuSans-30\" x=\"95.410156\"/>\n      </g>\n     </g>\n    </g>\n    <g id=\"ytick_2\">\n     <g id=\"line2d_5\">\n      <g>\n       <use xlink:href=\"#mc82e3bc16a\" x=\"30.103125\" y=\"120.417391\" style=\"stroke: #000000; stroke-width: 0.8\"/>\n      </g>\n     </g>\n     <g id=\"text_2\">\n      <!-- 0.2 -->\n      <g transform=\"translate(7.2 124.21661) scale(0.1 -0.1)\">\n       <defs>\n        <path id=\"DejaVuSans-32\" d=\"M 1228 531 \nL 3431 531 \nL 3431 0 \nL 469 0 \nL 469 531 \nQ 828 903 1448 1529 \nQ 2069 2156 2228 2338 \nQ 2531 2678 2651 2914 \nQ 2772 3150 2772 3378 \nQ 2772 3750 2511 3984 \nQ 2250 4219 1831 4219 \nQ 1534 4219 1204 4116 \nQ 875 4013 500 3803 \nL 500 4441 \nQ 881 4594 1212 4672 \nQ 1544 4750 1819 4750 \nQ 2544 4750 2975 4387 \nQ 3406 4025 3406 3419 \nQ 3406 3131 3298 2873 \nQ 3191 2616 2906 2266 \nQ 2828 2175 2409 1742 \nQ 1991 1309 1228 531 \nz\n\" transform=\"scale(0.015625)\"/>\n       </defs>\n       <use xlink:href=\"#DejaVuSans-30\"/>\n       <use xlink:href=\"#DejaVuSans-2e\" x=\"63.623047\"/>\n       <use xlink:href=\"#DejaVuSans-32\" x=\"95.410156\"/>\n      </g>\n     </g>\n    </g>\n    <g id=\"ytick_3\">\n     <g id=\"line2d_6\">\n      <g>\n       <use xlink:href=\"#mc82e3bc16a\" x=\"30.103125\" y=\"96.313043\" style=\"stroke: #000000; stroke-width: 0.8\"/>\n      </g>\n     </g>\n     <g id=\"text_3\">\n      <!-- 0.4 -->\n      <g transform=\"translate(7.2 100.112262) scale(0.1 -0.1)\">\n       <defs>\n        <path id=\"DejaVuSans-34\" d=\"M 2419 4116 \nL 825 1625 \nL 2419 1625 \nL 2419 4116 \nz\nM 2253 4666 \nL 3047 4666 \nL 3047 1625 \nL 3713 1625 \nL 3713 1100 \nL 3047 1100 \nL 3047 0 \nL 2419 0 \nL 2419 1100 \nL 313 1100 \nL 313 1709 \nL 2253 4666 \nz\n\" transform=\"scale(0.015625)\"/>\n       </defs>\n       <use xlink:href=\"#DejaVuSans-30\"/>\n       <use xlink:href=\"#DejaVuSans-2e\" x=\"63.623047\"/>\n       <use xlink:href=\"#DejaVuSans-34\" x=\"95.410156\"/>\n      </g>\n     </g>\n    </g>\n    <g id=\"ytick_4\">\n     <g id=\"line2d_7\">\n      <g>\n       <use xlink:href=\"#mc82e3bc16a\" x=\"30.103125\" y=\"72.208696\" style=\"stroke: #000000; stroke-width: 0.8\"/>\n      </g>\n     </g>\n     <g id=\"text_4\">\n      <!-- 0.6 -->\n      <g transform=\"translate(7.2 76.007914) scale(0.1 -0.1)\">\n       <defs>\n        <path id=\"DejaVuSans-36\" d=\"M 2113 2584 \nQ 1688 2584 1439 2293 \nQ 1191 2003 1191 1497 \nQ 1191 994 1439 701 \nQ 1688 409 2113 409 \nQ 2538 409 2786 701 \nQ 3034 994 3034 1497 \nQ 3034 2003 2786 2293 \nQ 2538 2584 2113 2584 \nz\nM 3366 4563 \nL 3366 3988 \nQ 3128 4100 2886 4159 \nQ 2644 4219 2406 4219 \nQ 1781 4219 1451 3797 \nQ 1122 3375 1075 2522 \nQ 1259 2794 1537 2939 \nQ 1816 3084 2150 3084 \nQ 2853 3084 3261 2657 \nQ 3669 2231 3669 1497 \nQ 3669 778 3244 343 \nQ 2819 -91 2113 -91 \nQ 1303 -91 875 529 \nQ 447 1150 447 2328 \nQ 447 3434 972 4092 \nQ 1497 4750 2381 4750 \nQ 2619 4750 2861 4703 \nQ 3103 4656 3366 4563 \nz\n\" transform=\"scale(0.015625)\"/>\n       </defs>\n       <use xlink:href=\"#DejaVuSans-30\"/>\n       <use xlink:href=\"#DejaVuSans-2e\" x=\"63.623047\"/>\n       <use xlink:href=\"#DejaVuSans-36\" x=\"95.410156\"/>\n      </g>\n     </g>\n    </g>\n    <g id=\"ytick_5\">\n     <g id=\"line2d_8\">\n      <g>\n       <use xlink:href=\"#mc82e3bc16a\" x=\"30.103125\" y=\"48.104348\" style=\"stroke: #000000; stroke-width: 0.8\"/>\n      </g>\n     </g>\n     <g id=\"text_5\">\n      <!-- 0.8 -->\n      <g transform=\"translate(7.2 51.903567) scale(0.1 -0.1)\">\n       <defs>\n        <path id=\"DejaVuSans-38\" d=\"M 2034 2216 \nQ 1584 2216 1326 1975 \nQ 1069 1734 1069 1313 \nQ 1069 891 1326 650 \nQ 1584 409 2034 409 \nQ 2484 409 2743 651 \nQ 3003 894 3003 1313 \nQ 3003 1734 2745 1975 \nQ 2488 2216 2034 2216 \nz\nM 1403 2484 \nQ 997 2584 770 2862 \nQ 544 3141 544 3541 \nQ 544 4100 942 4425 \nQ 1341 4750 2034 4750 \nQ 2731 4750 3128 4425 \nQ 3525 4100 3525 3541 \nQ 3525 3141 3298 2862 \nQ 3072 2584 2669 2484 \nQ 3125 2378 3379 2068 \nQ 3634 1759 3634 1313 \nQ 3634 634 3220 271 \nQ 2806 -91 2034 -91 \nQ 1263 -91 848 271 \nQ 434 634 434 1313 \nQ 434 1759 690 2068 \nQ 947 2378 1403 2484 \nz\nM 1172 3481 \nQ 1172 3119 1398 2916 \nQ 1625 2713 2034 2713 \nQ 2441 2713 2670 2916 \nQ 2900 3119 2900 3481 \nQ 2900 3844 2670 4047 \nQ 2441 4250 2034 4250 \nQ 1625 4250 1398 4047 \nQ 1172 3844 1172 3481 \nz\n\" transform=\"scale(0.015625)\"/>\n       </defs>\n       <use xlink:href=\"#DejaVuSans-30\"/>\n       <use xlink:href=\"#DejaVuSans-2e\" x=\"63.623047\"/>\n       <use xlink:href=\"#DejaVuSans-38\" x=\"95.410156\"/>\n      </g>\n     </g>\n    </g>\n    <g id=\"ytick_6\">\n     <g id=\"line2d_9\">\n      <g>\n       <use xlink:href=\"#mc82e3bc16a\" x=\"30.103125\" y=\"24\" style=\"stroke: #000000; stroke-width: 0.8\"/>\n      </g>\n     </g>\n     <g id=\"text_6\">\n      <!-- 1.0 -->\n      <g transform=\"translate(7.2 27.799219) scale(0.1 -0.1)\">\n       <defs>\n        <path id=\"DejaVuSans-31\" d=\"M 794 531 \nL 1825 531 \nL 1825 4091 \nL 703 3866 \nL 703 4441 \nL 1819 4666 \nL 2450 4666 \nL 2450 531 \nL 3481 531 \nL 3481 0 \nL 794 0 \nL 794 531 \nz\n\" transform=\"scale(0.015625)\"/>\n       </defs>\n       <use xlink:href=\"#DejaVuSans-31\"/>\n       <use xlink:href=\"#DejaVuSans-2e\" x=\"63.623047\"/>\n       <use xlink:href=\"#DejaVuSans-30\" x=\"95.410156\"/>\n      </g>\n     </g>\n    </g>\n   </g>\n   <g id=\"line2d_10\">\n    <path d=\"M 35.32505 24 \nL 38.147712 36.510612 \nL 40.970375 48.020993 \nL 43.793037 58.585932 \nL 46.511156 67.915727 \nL 49.229275 76.464394 \nL 51.947394 84.276798 \nL 54.560971 91.134941 \nL 57.174547 97.39018 \nL 59.788123 103.078931 \nL 62.401699 108.236473 \nL 65.015275 112.896952 \nL 67.628851 117.093382 \nL 70.137884 120.714976 \nL 72.646917 123.965505 \nL 75.260494 126.985192 \nL 77.87407 129.659294 \nL 80.487646 132.015242 \nL 83.101222 134.079333 \nL 85.819341 135.943419 \nL 88.642003 137.60281 \nL 91.569209 139.056526 \nL 94.600957 140.307313 \nL 97.737248 141.361589 \nL 101.082626 142.25391 \nL 104.741632 142.997747 \nL 108.818811 143.592836 \nL 113.418705 144.033755 \nL 118.959487 144.331974 \nL 126.2775 144.48823 \nL 139.763553 144.521739 \nL 139.763553 144.521739 \n\" clip-path=\"url(#p916f175cfc)\" style=\"fill: none; stroke: #1f77b4; stroke-width: 1.5; stroke-linecap: square\"/>\n   </g>\n   <g id=\"patch_3\">\n    <path d=\"M 30.103125 144.521739 \nL 30.103125 24 \n\" style=\"fill: none; stroke: #000000; stroke-width: 0.8; stroke-linejoin: miter; stroke-linecap: square\"/>\n   </g>\n   <g id=\"patch_4\">\n    <path d=\"M 144.985478 144.521739 \nL 144.985478 24 \n\" style=\"fill: none; stroke: #000000; stroke-width: 0.8; stroke-linejoin: miter; stroke-linecap: square\"/>\n   </g>\n   <g id=\"patch_5\">\n    <path d=\"M 30.103125 144.521739 \nL 144.985478 144.521739 \n\" style=\"fill: none; stroke: #000000; stroke-width: 0.8; stroke-linejoin: miter; stroke-linecap: square\"/>\n   </g>\n   <g id=\"patch_6\">\n    <path d=\"M 30.103125 24 \nL 144.985478 24 \n\" style=\"fill: none; stroke: #000000; stroke-width: 0.8; stroke-linejoin: miter; stroke-linecap: square\"/>\n   </g>\n   <g id=\"text_7\">\n    <!-- $B^4_0$ -->\n    <g transform=\"translate(80.164301 18) scale(0.12 -0.12)\">\n     <defs>\n      <path id=\"DejaVuSans-Oblique-42\" d=\"M 1081 4666 \nL 2694 4666 \nQ 3350 4666 3675 4422 \nQ 4000 4178 4000 3688 \nQ 4000 3238 3720 2911 \nQ 3441 2584 2988 2516 \nQ 3375 2428 3569 2181 \nQ 3763 1934 3763 1522 \nQ 3763 819 3242 409 \nQ 2722 0 1819 0 \nL 172 0 \nL 1081 4666 \nz\nM 1234 2228 \nL 903 519 \nL 1919 519 \nQ 2491 519 2800 781 \nQ 3109 1044 3109 1522 \nQ 3109 1891 2904 2059 \nQ 2700 2228 2247 2228 \nL 1234 2228 \nz\nM 1606 4147 \nL 1331 2741 \nL 2272 2741 \nQ 2775 2741 3058 2959 \nQ 3341 3178 3341 3566 \nQ 3341 3869 3150 4008 \nQ 2959 4147 2541 4147 \nL 1606 4147 \nz\n\" transform=\"scale(0.015625)\"/>\n     </defs>\n     <use xlink:href=\"#DejaVuSans-Oblique-42\" transform=\"translate(0 0.684375)\"/>\n     <use xlink:href=\"#DejaVuSans-34\" transform=\"translate(75.620286 38.965625) scale(0.7)\"/>\n     <use xlink:href=\"#DejaVuSans-30\" transform=\"translate(68.603516 -26.659375) scale(0.7)\"/>\n    </g>\n   </g>\n  </g>\n  <g id=\"axes_2\">\n   <g id=\"patch_7\">\n    <path d=\"M 167.961949 144.521739 \nL 282.844301 144.521739 \nL 282.844301 24 \nL 167.961949 24 \nz\n\" style=\"fill: #ffffff\"/>\n   </g>\n   <g id=\"matplotlib.axis_3\">\n    <g id=\"xtick_4\">\n     <g id=\"line2d_11\">\n      <g>\n       <use xlink:href=\"#m97f8c18c0a\" x=\"173.183874\" y=\"144.521739\" style=\"stroke: #000000; stroke-width: 0.8\"/>\n      </g>\n     </g>\n    </g>\n    <g id=\"xtick_5\">\n     <g id=\"line2d_12\">\n      <g>\n       <use xlink:href=\"#m97f8c18c0a\" x=\"225.403125\" y=\"144.521739\" style=\"stroke: #000000; stroke-width: 0.8\"/>\n      </g>\n     </g>\n    </g>\n    <g id=\"xtick_6\">\n     <g id=\"line2d_13\">\n      <g>\n       <use xlink:href=\"#m97f8c18c0a\" x=\"277.622376\" y=\"144.521739\" style=\"stroke: #000000; stroke-width: 0.8\"/>\n      </g>\n     </g>\n    </g>\n   </g>\n   <g id=\"matplotlib.axis_4\">\n    <g id=\"ytick_7\">\n     <g id=\"line2d_14\">\n      <g>\n       <use xlink:href=\"#mc82e3bc16a\" x=\"167.961949\" y=\"144.521739\" style=\"stroke: #000000; stroke-width: 0.8\"/>\n      </g>\n     </g>\n    </g>\n    <g id=\"ytick_8\">\n     <g id=\"line2d_15\">\n      <g>\n       <use xlink:href=\"#mc82e3bc16a\" x=\"167.961949\" y=\"120.417391\" style=\"stroke: #000000; stroke-width: 0.8\"/>\n      </g>\n     </g>\n    </g>\n    <g id=\"ytick_9\">\n     <g id=\"line2d_16\">\n      <g>\n       <use xlink:href=\"#mc82e3bc16a\" x=\"167.961949\" y=\"96.313043\" style=\"stroke: #000000; stroke-width: 0.8\"/>\n      </g>\n     </g>\n    </g>\n    <g id=\"ytick_10\">\n     <g id=\"line2d_17\">\n      <g>\n       <use xlink:href=\"#mc82e3bc16a\" x=\"167.961949\" y=\"72.208696\" style=\"stroke: #000000; stroke-width: 0.8\"/>\n      </g>\n     </g>\n    </g>\n    <g id=\"ytick_11\">\n     <g id=\"line2d_18\">\n      <g>\n       <use xlink:href=\"#mc82e3bc16a\" x=\"167.961949\" y=\"48.104348\" style=\"stroke: #000000; stroke-width: 0.8\"/>\n      </g>\n     </g>\n    </g>\n    <g id=\"ytick_12\">\n     <g id=\"line2d_19\">\n      <g>\n       <use xlink:href=\"#mc82e3bc16a\" x=\"167.961949\" y=\"24\" style=\"stroke: #000000; stroke-width: 0.8\"/>\n      </g>\n     </g>\n    </g>\n   </g>\n   <g id=\"line2d_20\">\n    <path d=\"M 173.183874 144.521739 \nL 175.170192 135.866177 \nL 177.156509 128.198092 \nL 179.038284 121.792414 \nL 180.920059 116.173875 \nL 182.697291 111.548443 \nL 184.474523 107.545708 \nL 186.147211 104.314035 \nL 187.8199 101.570969 \nL 189.388046 99.41697 \nL 190.956191 97.642998 \nL 192.419794 96.309858 \nL 193.883397 95.269479 \nL 195.346999 94.504066 \nL 196.810602 93.996271 \nL 198.274205 93.729191 \nL 199.737807 93.686372 \nL 201.305953 93.871175 \nL 202.874099 94.275924 \nL 204.546787 94.929215 \nL 206.428562 95.911038 \nL 208.41488 97.199281 \nL 210.714827 98.970751 \nL 213.22386 101.190178 \nL 216.255608 104.1874 \nL 220.019158 108.247673 \nL 226.082655 115.175348 \nL 232.982496 122.966985 \nL 237.164218 127.352631 \nL 240.718681 130.768023 \nL 243.959516 133.581679 \nL 246.991264 135.926242 \nL 249.918469 137.910283 \nL 252.741131 139.556057 \nL 255.459251 140.892248 \nL 258.17737 141.989569 \nL 261.000032 142.88743 \nL 263.927237 143.57725 \nL 266.958986 144.060999 \nL 270.304363 144.367508 \nL 274.381542 144.507781 \nL 277.622376 144.521739 \nL 277.622376 144.521739 \n\" clip-path=\"url(#p5878dfce9d)\" style=\"fill: none; stroke: #1f77b4; stroke-width: 1.5; stroke-linecap: square\"/>\n   </g>\n   <g id=\"patch_8\">\n    <path d=\"M 167.961949 144.521739 \nL 167.961949 24 \n\" style=\"fill: none; stroke: #000000; stroke-width: 0.8; stroke-linejoin: miter; stroke-linecap: square\"/>\n   </g>\n   <g id=\"patch_9\">\n    <path d=\"M 282.844301 144.521739 \nL 282.844301 24 \n\" style=\"fill: none; stroke: #000000; stroke-width: 0.8; stroke-linejoin: miter; stroke-linecap: square\"/>\n   </g>\n   <g id=\"patch_10\">\n    <path d=\"M 167.961949 144.521739 \nL 282.844301 144.521739 \n\" style=\"fill: none; stroke: #000000; stroke-width: 0.8; stroke-linejoin: miter; stroke-linecap: square\"/>\n   </g>\n   <g id=\"patch_11\">\n    <path d=\"M 167.961949 24 \nL 282.844301 24 \n\" style=\"fill: none; stroke: #000000; stroke-width: 0.8; stroke-linejoin: miter; stroke-linecap: square\"/>\n   </g>\n   <g id=\"text_8\">\n    <!-- $B^4_1$ -->\n    <g transform=\"translate(218.023125 18) scale(0.12 -0.12)\">\n     <use xlink:href=\"#DejaVuSans-Oblique-42\" transform=\"translate(0 0.684375)\"/>\n     <use xlink:href=\"#DejaVuSans-34\" transform=\"translate(75.620286 38.965625) scale(0.7)\"/>\n     <use xlink:href=\"#DejaVuSans-31\" transform=\"translate(68.603516 -26.659375) scale(0.7)\"/>\n    </g>\n   </g>\n  </g>\n  <g id=\"axes_3\">\n   <g id=\"patch_12\">\n    <path d=\"M 305.820772 144.521739 \nL 420.703125 144.521739 \nL 420.703125 24 \nL 305.820772 24 \nz\n\" style=\"fill: #ffffff\"/>\n   </g>\n   <g id=\"matplotlib.axis_5\">\n    <g id=\"xtick_7\">\n     <g id=\"line2d_21\">\n      <g>\n       <use xlink:href=\"#m97f8c18c0a\" x=\"311.042697\" y=\"144.521739\" style=\"stroke: #000000; stroke-width: 0.8\"/>\n      </g>\n     </g>\n    </g>\n    <g id=\"xtick_8\">\n     <g id=\"line2d_22\">\n      <g>\n       <use xlink:href=\"#m97f8c18c0a\" x=\"363.261949\" y=\"144.521739\" style=\"stroke: #000000; stroke-width: 0.8\"/>\n      </g>\n     </g>\n    </g>\n    <g id=\"xtick_9\">\n     <g id=\"line2d_23\">\n      <g>\n       <use xlink:href=\"#m97f8c18c0a\" x=\"415.4812\" y=\"144.521739\" style=\"stroke: #000000; stroke-width: 0.8\"/>\n      </g>\n     </g>\n    </g>\n   </g>\n   <g id=\"matplotlib.axis_6\">\n    <g id=\"ytick_13\">\n     <g id=\"line2d_24\">\n      <g>\n       <use xlink:href=\"#mc82e3bc16a\" x=\"305.820772\" y=\"144.521739\" style=\"stroke: #000000; stroke-width: 0.8\"/>\n      </g>\n     </g>\n    </g>\n    <g id=\"ytick_14\">\n     <g id=\"line2d_25\">\n      <g>\n       <use xlink:href=\"#mc82e3bc16a\" x=\"305.820772\" y=\"120.417391\" style=\"stroke: #000000; stroke-width: 0.8\"/>\n      </g>\n     </g>\n    </g>\n    <g id=\"ytick_15\">\n     <g id=\"line2d_26\">\n      <g>\n       <use xlink:href=\"#mc82e3bc16a\" x=\"305.820772\" y=\"96.313043\" style=\"stroke: #000000; stroke-width: 0.8\"/>\n      </g>\n     </g>\n    </g>\n    <g id=\"ytick_16\">\n     <g id=\"line2d_27\">\n      <g>\n       <use xlink:href=\"#mc82e3bc16a\" x=\"305.820772\" y=\"72.208696\" style=\"stroke: #000000; stroke-width: 0.8\"/>\n      </g>\n     </g>\n    </g>\n    <g id=\"ytick_17\">\n     <g id=\"line2d_28\">\n      <g>\n       <use xlink:href=\"#mc82e3bc16a\" x=\"305.820772\" y=\"48.104348\" style=\"stroke: #000000; stroke-width: 0.8\"/>\n      </g>\n     </g>\n    </g>\n    <g id=\"ytick_18\">\n     <g id=\"line2d_29\">\n      <g>\n       <use xlink:href=\"#mc82e3bc16a\" x=\"305.820772\" y=\"24\" style=\"stroke: #000000; stroke-width: 0.8\"/>\n      </g>\n     </g>\n    </g>\n   </g>\n   <g id=\"line2d_30\">\n    <path d=\"M 311.042697 144.521739 \nL 312.401757 144.402452 \nL 313.760816 144.057088 \nL 315.224419 143.453393 \nL 316.792565 142.564589 \nL 318.569796 141.287448 \nL 320.556114 139.56485 \nL 322.751518 137.35638 \nL 325.365094 134.396382 \nL 328.605929 130.371125 \nL 334.042167 123.19743 \nL 339.687492 115.871264 \nL 343.137412 111.754215 \nL 346.064618 108.598089 \nL 348.678194 106.101381 \nL 351.082684 104.109431 \nL 353.278088 102.569867 \nL 355.368949 101.367637 \nL 357.355266 100.475207 \nL 359.237041 99.861495 \nL 361.118816 99.478211 \nL 363.000591 99.328351 \nL 364.882366 99.413085 \nL 366.764141 99.731752 \nL 368.645915 100.281862 \nL 370.52769 101.059096 \nL 372.514008 102.119091 \nL 374.604869 103.490431 \nL 376.800273 105.197582 \nL 379.204763 107.358905 \nL 381.818339 110.019779 \nL 384.745544 113.330862 \nL 388.195465 117.584789 \nL 393.213531 124.171993 \nL 399.590657 132.487776 \nL 402.726948 136.210352 \nL 405.235981 138.861218 \nL 407.431385 140.862439 \nL 409.31316 142.288607 \nL 410.985849 143.294844 \nL 412.553995 143.985067 \nL 414.017597 144.383674 \nL 415.376657 144.521016 \nL 415.4812 144.521739 \nL 415.4812 144.521739 \n\" clip-path=\"url(#pc29186aa1b)\" style=\"fill: none; stroke: #1f77b4; stroke-width: 1.5; stroke-linecap: square\"/>\n   </g>\n   <g id=\"patch_13\">\n    <path d=\"M 305.820772 144.521739 \nL 305.820772 24 \n\" style=\"fill: none; stroke: #000000; stroke-width: 0.8; stroke-linejoin: miter; stroke-linecap: square\"/>\n   </g>\n   <g id=\"patch_14\">\n    <path d=\"M 420.703125 144.521739 \nL 420.703125 24 \n\" style=\"fill: none; stroke: #000000; stroke-width: 0.8; stroke-linejoin: miter; stroke-linecap: square\"/>\n   </g>\n   <g id=\"patch_15\">\n    <path d=\"M 305.820772 144.521739 \nL 420.703125 144.521739 \n\" style=\"fill: none; stroke: #000000; stroke-width: 0.8; stroke-linejoin: miter; stroke-linecap: square\"/>\n   </g>\n   <g id=\"patch_16\">\n    <path d=\"M 305.820772 24 \nL 420.703125 24 \n\" style=\"fill: none; stroke: #000000; stroke-width: 0.8; stroke-linejoin: miter; stroke-linecap: square\"/>\n   </g>\n   <g id=\"text_9\">\n    <!-- $B^4_2$ -->\n    <g transform=\"translate(355.881949 18) scale(0.12 -0.12)\">\n     <use xlink:href=\"#DejaVuSans-Oblique-42\" transform=\"translate(0 0.684375)\"/>\n     <use xlink:href=\"#DejaVuSans-34\" transform=\"translate(75.620286 38.965625) scale(0.7)\"/>\n     <use xlink:href=\"#DejaVuSans-32\" transform=\"translate(68.603516 -26.659375) scale(0.7)\"/>\n    </g>\n   </g>\n  </g>\n  <g id=\"axes_4\">\n   <g id=\"patch_17\">\n    <path d=\"M 30.103125 301.2 \nL 144.985478 301.2 \nL 144.985478 180.678261 \nL 30.103125 180.678261 \nz\n\" style=\"fill: #ffffff\"/>\n   </g>\n   <g id=\"matplotlib.axis_7\">\n    <g id=\"xtick_10\">\n     <g id=\"line2d_31\">\n      <g>\n       <use xlink:href=\"#m97f8c18c0a\" x=\"35.32505\" y=\"301.2\" style=\"stroke: #000000; stroke-width: 0.8\"/>\n      </g>\n     </g>\n     <g id=\"text_10\">\n      <!-- 0.0 -->\n      <g transform=\"translate(27.373488 315.798438) scale(0.1 -0.1)\">\n       <use xlink:href=\"#DejaVuSans-30\"/>\n       <use xlink:href=\"#DejaVuSans-2e\" x=\"63.623047\"/>\n       <use xlink:href=\"#DejaVuSans-30\" x=\"95.410156\"/>\n      </g>\n     </g>\n    </g>\n    <g id=\"xtick_11\">\n     <g id=\"line2d_32\">\n      <g>\n       <use xlink:href=\"#m97f8c18c0a\" x=\"87.544301\" y=\"301.2\" style=\"stroke: #000000; stroke-width: 0.8\"/>\n      </g>\n     </g>\n     <g id=\"text_11\">\n      <!-- 0.5 -->\n      <g transform=\"translate(79.592739 315.798438) scale(0.1 -0.1)\">\n       <defs>\n        <path id=\"DejaVuSans-35\" d=\"M 691 4666 \nL 3169 4666 \nL 3169 4134 \nL 1269 4134 \nL 1269 2991 \nQ 1406 3038 1543 3061 \nQ 1681 3084 1819 3084 \nQ 2600 3084 3056 2656 \nQ 3513 2228 3513 1497 \nQ 3513 744 3044 326 \nQ 2575 -91 1722 -91 \nQ 1428 -91 1123 -41 \nQ 819 9 494 109 \nL 494 744 \nQ 775 591 1075 516 \nQ 1375 441 1709 441 \nQ 2250 441 2565 725 \nQ 2881 1009 2881 1497 \nQ 2881 1984 2565 2268 \nQ 2250 2553 1709 2553 \nQ 1456 2553 1204 2497 \nQ 953 2441 691 2322 \nL 691 4666 \nz\n\" transform=\"scale(0.015625)\"/>\n       </defs>\n       <use xlink:href=\"#DejaVuSans-30\"/>\n       <use xlink:href=\"#DejaVuSans-2e\" x=\"63.623047\"/>\n       <use xlink:href=\"#DejaVuSans-35\" x=\"95.410156\"/>\n      </g>\n     </g>\n    </g>\n    <g id=\"xtick_12\">\n     <g id=\"line2d_33\">\n      <g>\n       <use xlink:href=\"#m97f8c18c0a\" x=\"139.763553\" y=\"301.2\" style=\"stroke: #000000; stroke-width: 0.8\"/>\n      </g>\n     </g>\n     <g id=\"text_12\">\n      <!-- 1.0 -->\n      <g transform=\"translate(131.81199 315.798438) scale(0.1 -0.1)\">\n       <use xlink:href=\"#DejaVuSans-31\"/>\n       <use xlink:href=\"#DejaVuSans-2e\" x=\"63.623047\"/>\n       <use xlink:href=\"#DejaVuSans-30\" x=\"95.410156\"/>\n      </g>\n     </g>\n    </g>\n   </g>\n   <g id=\"matplotlib.axis_8\">\n    <g id=\"ytick_19\">\n     <g id=\"line2d_34\">\n      <g>\n       <use xlink:href=\"#mc82e3bc16a\" x=\"30.103125\" y=\"301.2\" style=\"stroke: #000000; stroke-width: 0.8\"/>\n      </g>\n     </g>\n     <g id=\"text_13\">\n      <!-- 0.0 -->\n      <g transform=\"translate(7.2 304.999219) scale(0.1 -0.1)\">\n       <use xlink:href=\"#DejaVuSans-30\"/>\n       <use xlink:href=\"#DejaVuSans-2e\" x=\"63.623047\"/>\n       <use xlink:href=\"#DejaVuSans-30\" x=\"95.410156\"/>\n      </g>\n     </g>\n    </g>\n    <g id=\"ytick_20\">\n     <g id=\"line2d_35\">\n      <g>\n       <use xlink:href=\"#mc82e3bc16a\" x=\"30.103125\" y=\"277.095652\" style=\"stroke: #000000; stroke-width: 0.8\"/>\n      </g>\n     </g>\n     <g id=\"text_14\">\n      <!-- 0.2 -->\n      <g transform=\"translate(7.2 280.894871) scale(0.1 -0.1)\">\n       <use xlink:href=\"#DejaVuSans-30\"/>\n       <use xlink:href=\"#DejaVuSans-2e\" x=\"63.623047\"/>\n       <use xlink:href=\"#DejaVuSans-32\" x=\"95.410156\"/>\n      </g>\n     </g>\n    </g>\n    <g id=\"ytick_21\">\n     <g id=\"line2d_36\">\n      <g>\n       <use xlink:href=\"#mc82e3bc16a\" x=\"30.103125\" y=\"252.991304\" style=\"stroke: #000000; stroke-width: 0.8\"/>\n      </g>\n     </g>\n     <g id=\"text_15\">\n      <!-- 0.4 -->\n      <g transform=\"translate(7.2 256.790523) scale(0.1 -0.1)\">\n       <use xlink:href=\"#DejaVuSans-30\"/>\n       <use xlink:href=\"#DejaVuSans-2e\" x=\"63.623047\"/>\n       <use xlink:href=\"#DejaVuSans-34\" x=\"95.410156\"/>\n      </g>\n     </g>\n    </g>\n    <g id=\"ytick_22\">\n     <g id=\"line2d_37\">\n      <g>\n       <use xlink:href=\"#mc82e3bc16a\" x=\"30.103125\" y=\"228.886957\" style=\"stroke: #000000; stroke-width: 0.8\"/>\n      </g>\n     </g>\n     <g id=\"text_16\">\n      <!-- 0.6 -->\n      <g transform=\"translate(7.2 232.686175) scale(0.1 -0.1)\">\n       <use xlink:href=\"#DejaVuSans-30\"/>\n       <use xlink:href=\"#DejaVuSans-2e\" x=\"63.623047\"/>\n       <use xlink:href=\"#DejaVuSans-36\" x=\"95.410156\"/>\n      </g>\n     </g>\n    </g>\n    <g id=\"ytick_23\">\n     <g id=\"line2d_38\">\n      <g>\n       <use xlink:href=\"#mc82e3bc16a\" x=\"30.103125\" y=\"204.782609\" style=\"stroke: #000000; stroke-width: 0.8\"/>\n      </g>\n     </g>\n     <g id=\"text_17\">\n      <!-- 0.8 -->\n      <g transform=\"translate(7.2 208.581827) scale(0.1 -0.1)\">\n       <use xlink:href=\"#DejaVuSans-30\"/>\n       <use xlink:href=\"#DejaVuSans-2e\" x=\"63.623047\"/>\n       <use xlink:href=\"#DejaVuSans-38\" x=\"95.410156\"/>\n      </g>\n     </g>\n    </g>\n    <g id=\"ytick_24\">\n     <g id=\"line2d_39\">\n      <g>\n       <use xlink:href=\"#mc82e3bc16a\" x=\"30.103125\" y=\"180.678261\" style=\"stroke: #000000; stroke-width: 0.8\"/>\n      </g>\n     </g>\n     <g id=\"text_18\">\n      <!-- 1.0 -->\n      <g transform=\"translate(7.2 184.47748) scale(0.1 -0.1)\">\n       <use xlink:href=\"#DejaVuSans-31\"/>\n       <use xlink:href=\"#DejaVuSans-2e\" x=\"63.623047\"/>\n       <use xlink:href=\"#DejaVuSans-30\" x=\"95.410156\"/>\n      </g>\n     </g>\n    </g>\n   </g>\n   <g id=\"line2d_40\">\n    <path d=\"M 35.32505 301.2 \nL 41.806719 301.091912 \nL 45.465726 300.80154 \nL 48.602017 300.335448 \nL 51.529222 299.678749 \nL 54.351884 298.816036 \nL 57.070004 297.754677 \nL 59.788123 296.455697 \nL 62.506242 294.913225 \nL 65.328904 293.053161 \nL 68.25611 290.852125 \nL 71.287858 288.294345 \nL 74.633235 285.170683 \nL 78.292242 281.440943 \nL 82.68305 276.633082 \nL 91.151037 266.927945 \nL 95.960017 261.630421 \nL 99.305394 258.2633 \nL 102.023513 255.823325 \nL 104.428003 253.951883 \nL 106.518864 252.589299 \nL 108.505182 251.560347 \nL 110.282414 250.888183 \nL 111.955103 250.494276 \nL 113.523248 250.355739 \nL 114.986851 250.445251 \nL 116.450454 250.762511 \nL 117.809513 251.275499 \nL 119.168573 252.012725 \nL 120.632175 253.073421 \nL 122.095778 254.428165 \nL 123.559381 256.095231 \nL 125.022983 258.093337 \nL 126.591129 260.623302 \nL 128.159275 263.579436 \nL 129.831963 267.230252 \nL 131.504652 271.424847 \nL 133.281884 276.512683 \nL 135.059116 282.288714 \nL 136.940891 289.198764 \nL 138.822665 296.973202 \nL 139.763553 301.2 \nL 139.763553 301.2 \n\" clip-path=\"url(#p6da43f71b2)\" style=\"fill: none; stroke: #1f77b4; stroke-width: 1.5; stroke-linecap: square\"/>\n   </g>\n   <g id=\"patch_18\">\n    <path d=\"M 30.103125 301.2 \nL 30.103125 180.678261 \n\" style=\"fill: none; stroke: #000000; stroke-width: 0.8; stroke-linejoin: miter; stroke-linecap: square\"/>\n   </g>\n   <g id=\"patch_19\">\n    <path d=\"M 144.985478 301.2 \nL 144.985478 180.678261 \n\" style=\"fill: none; stroke: #000000; stroke-width: 0.8; stroke-linejoin: miter; stroke-linecap: square\"/>\n   </g>\n   <g id=\"patch_20\">\n    <path d=\"M 30.103125 301.2 \nL 144.985478 301.2 \n\" style=\"fill: none; stroke: #000000; stroke-width: 0.8; stroke-linejoin: miter; stroke-linecap: square\"/>\n   </g>\n   <g id=\"patch_21\">\n    <path d=\"M 30.103125 180.678261 \nL 144.985478 180.678261 \n\" style=\"fill: none; stroke: #000000; stroke-width: 0.8; stroke-linejoin: miter; stroke-linecap: square\"/>\n   </g>\n   <g id=\"text_19\">\n    <!-- $B^4_3$ -->\n    <g transform=\"translate(80.164301 174.678261) scale(0.12 -0.12)\">\n     <defs>\n      <path id=\"DejaVuSans-33\" d=\"M 2597 2516 \nQ 3050 2419 3304 2112 \nQ 3559 1806 3559 1356 \nQ 3559 666 3084 287 \nQ 2609 -91 1734 -91 \nQ 1441 -91 1130 -33 \nQ 819 25 488 141 \nL 488 750 \nQ 750 597 1062 519 \nQ 1375 441 1716 441 \nQ 2309 441 2620 675 \nQ 2931 909 2931 1356 \nQ 2931 1769 2642 2001 \nQ 2353 2234 1838 2234 \nL 1294 2234 \nL 1294 2753 \nL 1863 2753 \nQ 2328 2753 2575 2939 \nQ 2822 3125 2822 3475 \nQ 2822 3834 2567 4026 \nQ 2313 4219 1838 4219 \nQ 1578 4219 1281 4162 \nQ 984 4106 628 3988 \nL 628 4550 \nQ 988 4650 1302 4700 \nQ 1616 4750 1894 4750 \nQ 2613 4750 3031 4423 \nQ 3450 4097 3450 3541 \nQ 3450 3153 3228 2886 \nQ 3006 2619 2597 2516 \nz\n\" transform=\"scale(0.015625)\"/>\n     </defs>\n     <use xlink:href=\"#DejaVuSans-Oblique-42\" transform=\"translate(0 0.684375)\"/>\n     <use xlink:href=\"#DejaVuSans-34\" transform=\"translate(75.620286 38.965625) scale(0.7)\"/>\n     <use xlink:href=\"#DejaVuSans-33\" transform=\"translate(68.603516 -26.659375) scale(0.7)\"/>\n    </g>\n   </g>\n  </g>\n  <g id=\"axes_5\">\n   <g id=\"patch_22\">\n    <path d=\"M 167.961949 301.2 \nL 282.844301 301.2 \nL 282.844301 180.678261 \nL 167.961949 180.678261 \nz\n\" style=\"fill: #ffffff\"/>\n   </g>\n   <g id=\"matplotlib.axis_9\">\n    <g id=\"xtick_13\">\n     <g id=\"line2d_41\">\n      <g>\n       <use xlink:href=\"#m97f8c18c0a\" x=\"173.183874\" y=\"301.2\" style=\"stroke: #000000; stroke-width: 0.8\"/>\n      </g>\n     </g>\n     <g id=\"text_20\">\n      <!-- 0.0 -->\n      <g transform=\"translate(165.232311 315.798438) scale(0.1 -0.1)\">\n       <use xlink:href=\"#DejaVuSans-30\"/>\n       <use xlink:href=\"#DejaVuSans-2e\" x=\"63.623047\"/>\n       <use xlink:href=\"#DejaVuSans-30\" x=\"95.410156\"/>\n      </g>\n     </g>\n    </g>\n    <g id=\"xtick_14\">\n     <g id=\"line2d_42\">\n      <g>\n       <use xlink:href=\"#m97f8c18c0a\" x=\"225.403125\" y=\"301.2\" style=\"stroke: #000000; stroke-width: 0.8\"/>\n      </g>\n     </g>\n     <g id=\"text_21\">\n      <!-- 0.5 -->\n      <g transform=\"translate(217.451562 315.798438) scale(0.1 -0.1)\">\n       <use xlink:href=\"#DejaVuSans-30\"/>\n       <use xlink:href=\"#DejaVuSans-2e\" x=\"63.623047\"/>\n       <use xlink:href=\"#DejaVuSans-35\" x=\"95.410156\"/>\n      </g>\n     </g>\n    </g>\n    <g id=\"xtick_15\">\n     <g id=\"line2d_43\">\n      <g>\n       <use xlink:href=\"#m97f8c18c0a\" x=\"277.622376\" y=\"301.2\" style=\"stroke: #000000; stroke-width: 0.8\"/>\n      </g>\n     </g>\n     <g id=\"text_22\">\n      <!-- 1.0 -->\n      <g transform=\"translate(269.670814 315.798438) scale(0.1 -0.1)\">\n       <use xlink:href=\"#DejaVuSans-31\"/>\n       <use xlink:href=\"#DejaVuSans-2e\" x=\"63.623047\"/>\n       <use xlink:href=\"#DejaVuSans-30\" x=\"95.410156\"/>\n      </g>\n     </g>\n    </g>\n   </g>\n   <g id=\"matplotlib.axis_10\">\n    <g id=\"ytick_25\">\n     <g id=\"line2d_44\">\n      <g>\n       <use xlink:href=\"#mc82e3bc16a\" x=\"167.961949\" y=\"301.2\" style=\"stroke: #000000; stroke-width: 0.8\"/>\n      </g>\n     </g>\n    </g>\n    <g id=\"ytick_26\">\n     <g id=\"line2d_45\">\n      <g>\n       <use xlink:href=\"#mc82e3bc16a\" x=\"167.961949\" y=\"277.095652\" style=\"stroke: #000000; stroke-width: 0.8\"/>\n      </g>\n     </g>\n    </g>\n    <g id=\"ytick_27\">\n     <g id=\"line2d_46\">\n      <g>\n       <use xlink:href=\"#mc82e3bc16a\" x=\"167.961949\" y=\"252.991304\" style=\"stroke: #000000; stroke-width: 0.8\"/>\n      </g>\n     </g>\n    </g>\n    <g id=\"ytick_28\">\n     <g id=\"line2d_47\">\n      <g>\n       <use xlink:href=\"#mc82e3bc16a\" x=\"167.961949\" y=\"228.886957\" style=\"stroke: #000000; stroke-width: 0.8\"/>\n      </g>\n     </g>\n    </g>\n    <g id=\"ytick_29\">\n     <g id=\"line2d_48\">\n      <g>\n       <use xlink:href=\"#mc82e3bc16a\" x=\"167.961949\" y=\"204.782609\" style=\"stroke: #000000; stroke-width: 0.8\"/>\n      </g>\n     </g>\n    </g>\n    <g id=\"ytick_30\">\n     <g id=\"line2d_49\">\n      <g>\n       <use xlink:href=\"#mc82e3bc16a\" x=\"167.961949\" y=\"180.678261\" style=\"stroke: #000000; stroke-width: 0.8\"/>\n      </g>\n     </g>\n    </g>\n   </g>\n   <g id=\"line2d_50\">\n    <path d=\"M 173.183874 301.2 \nL 191.374364 301.089082 \nL 197.960575 300.818234 \nL 203.083185 300.390405 \nL 207.36945 299.816451 \nL 211.237542 299.075734 \nL 214.687463 298.194163 \nL 217.928297 297.139509 \nL 220.960046 295.922014 \nL 223.887251 294.504695 \nL 226.709913 292.884597 \nL 229.428032 291.062461 \nL 232.041608 289.042703 \nL 234.655185 286.73519 \nL 237.164218 284.225026 \nL 239.673251 281.401518 \nL 242.182284 278.239614 \nL 244.691317 274.713301 \nL 247.20035 270.795598 \nL 249.709383 266.458564 \nL 252.218416 261.673294 \nL 254.727449 256.409919 \nL 257.236482 250.637606 \nL 259.850059 244.049299 \nL 262.463635 236.837201 \nL 265.077211 228.963127 \nL 267.690787 220.387757 \nL 270.408906 210.681941 \nL 273.127025 200.127035 \nL 275.845145 188.674905 \nL 277.622376 180.678261 \nL 277.622376 180.678261 \n\" clip-path=\"url(#pdd95359cf8)\" style=\"fill: none; stroke: #1f77b4; stroke-width: 1.5; stroke-linecap: square\"/>\n   </g>\n   <g id=\"patch_23\">\n    <path d=\"M 167.961949 301.2 \nL 167.961949 180.678261 \n\" style=\"fill: none; stroke: #000000; stroke-width: 0.8; stroke-linejoin: miter; stroke-linecap: square\"/>\n   </g>\n   <g id=\"patch_24\">\n    <path d=\"M 282.844301 301.2 \nL 282.844301 180.678261 \n\" style=\"fill: none; stroke: #000000; stroke-width: 0.8; stroke-linejoin: miter; stroke-linecap: square\"/>\n   </g>\n   <g id=\"patch_25\">\n    <path d=\"M 167.961949 301.2 \nL 282.844301 301.2 \n\" style=\"fill: none; stroke: #000000; stroke-width: 0.8; stroke-linejoin: miter; stroke-linecap: square\"/>\n   </g>\n   <g id=\"patch_26\">\n    <path d=\"M 167.961949 180.678261 \nL 282.844301 180.678261 \n\" style=\"fill: none; stroke: #000000; stroke-width: 0.8; stroke-linejoin: miter; stroke-linecap: square\"/>\n   </g>\n   <g id=\"text_23\">\n    <!-- $B^4_4$ -->\n    <g transform=\"translate(218.023125 174.678261) scale(0.12 -0.12)\">\n     <use xlink:href=\"#DejaVuSans-Oblique-42\" transform=\"translate(0 0.684375)\"/>\n     <use xlink:href=\"#DejaVuSans-34\" transform=\"translate(75.620286 38.965625) scale(0.7)\"/>\n     <use xlink:href=\"#DejaVuSans-34\" transform=\"translate(68.603516 -26.659375) scale(0.7)\"/>\n    </g>\n   </g>\n  </g>\n  <g id=\"axes_6\">\n   <g id=\"patch_27\">\n    <path d=\"M 305.820772 301.2 \nL 420.703125 301.2 \nL 420.703125 180.678261 \nL 305.820772 180.678261 \nz\n\" style=\"fill: #ffffff\"/>\n   </g>\n   <g id=\"matplotlib.axis_11\">\n    <g id=\"xtick_16\">\n     <g id=\"line2d_51\">\n      <g>\n       <use xlink:href=\"#m97f8c18c0a\" x=\"311.042697\" y=\"301.2\" style=\"stroke: #000000; stroke-width: 0.8\"/>\n      </g>\n     </g>\n     <g id=\"text_24\">\n      <!-- 0.0 -->\n      <g transform=\"translate(303.091135 315.798438) scale(0.1 -0.1)\">\n       <use xlink:href=\"#DejaVuSans-30\"/>\n       <use xlink:href=\"#DejaVuSans-2e\" x=\"63.623047\"/>\n       <use xlink:href=\"#DejaVuSans-30\" x=\"95.410156\"/>\n      </g>\n     </g>\n    </g>\n    <g id=\"xtick_17\">\n     <g id=\"line2d_52\">\n      <g>\n       <use xlink:href=\"#m97f8c18c0a\" x=\"363.261949\" y=\"301.2\" style=\"stroke: #000000; stroke-width: 0.8\"/>\n      </g>\n     </g>\n     <g id=\"text_25\">\n      <!-- 0.5 -->\n      <g transform=\"translate(355.310386 315.798438) scale(0.1 -0.1)\">\n       <use xlink:href=\"#DejaVuSans-30\"/>\n       <use xlink:href=\"#DejaVuSans-2e\" x=\"63.623047\"/>\n       <use xlink:href=\"#DejaVuSans-35\" x=\"95.410156\"/>\n      </g>\n     </g>\n    </g>\n    <g id=\"xtick_18\">\n     <g id=\"line2d_53\">\n      <g>\n       <use xlink:href=\"#m97f8c18c0a\" x=\"415.4812\" y=\"301.2\" style=\"stroke: #000000; stroke-width: 0.8\"/>\n      </g>\n     </g>\n     <g id=\"text_26\">\n      <!-- 1.0 -->\n      <g transform=\"translate(407.529637 315.798438) scale(0.1 -0.1)\">\n       <use xlink:href=\"#DejaVuSans-31\"/>\n       <use xlink:href=\"#DejaVuSans-2e\" x=\"63.623047\"/>\n       <use xlink:href=\"#DejaVuSans-30\" x=\"95.410156\"/>\n      </g>\n     </g>\n    </g>\n   </g>\n   <g id=\"matplotlib.axis_12\">\n    <g id=\"ytick_31\">\n     <g id=\"line2d_54\">\n      <g>\n       <use xlink:href=\"#mc82e3bc16a\" x=\"305.820772\" y=\"301.2\" style=\"stroke: #000000; stroke-width: 0.8\"/>\n      </g>\n     </g>\n    </g>\n    <g id=\"ytick_32\">\n     <g id=\"line2d_55\">\n      <g>\n       <use xlink:href=\"#mc82e3bc16a\" x=\"305.820772\" y=\"277.095652\" style=\"stroke: #000000; stroke-width: 0.8\"/>\n      </g>\n     </g>\n    </g>\n    <g id=\"ytick_33\">\n     <g id=\"line2d_56\">\n      <g>\n       <use xlink:href=\"#mc82e3bc16a\" x=\"305.820772\" y=\"252.991304\" style=\"stroke: #000000; stroke-width: 0.8\"/>\n      </g>\n     </g>\n    </g>\n    <g id=\"ytick_34\">\n     <g id=\"line2d_57\">\n      <g>\n       <use xlink:href=\"#mc82e3bc16a\" x=\"305.820772\" y=\"228.886957\" style=\"stroke: #000000; stroke-width: 0.8\"/>\n      </g>\n     </g>\n    </g>\n    <g id=\"ytick_35\">\n     <g id=\"line2d_58\">\n      <g>\n       <use xlink:href=\"#mc82e3bc16a\" x=\"305.820772\" y=\"204.782609\" style=\"stroke: #000000; stroke-width: 0.8\"/>\n      </g>\n     </g>\n    </g>\n    <g id=\"ytick_36\">\n     <g id=\"line2d_59\">\n      <g>\n       <use xlink:href=\"#mc82e3bc16a\" x=\"305.820772\" y=\"180.678261\" style=\"stroke: #000000; stroke-width: 0.8\"/>\n      </g>\n     </g>\n    </g>\n   </g>\n   <g id=\"line2d_60\">\n    <path d=\"M 311.042697 301.2 \nL 415.4812 301.2 \nL 415.4812 301.2 \n\" clip-path=\"url(#pc69d36b64c)\" style=\"fill: none; stroke: #1f77b4; stroke-width: 1.5; stroke-linecap: square\"/>\n   </g>\n   <g id=\"patch_28\">\n    <path d=\"M 305.820772 301.2 \nL 305.820772 180.678261 \n\" style=\"fill: none; stroke: #000000; stroke-width: 0.8; stroke-linejoin: miter; stroke-linecap: square\"/>\n   </g>\n   <g id=\"patch_29\">\n    <path d=\"M 420.703125 301.2 \nL 420.703125 180.678261 \n\" style=\"fill: none; stroke: #000000; stroke-width: 0.8; stroke-linejoin: miter; stroke-linecap: square\"/>\n   </g>\n   <g id=\"patch_30\">\n    <path d=\"M 305.820772 301.2 \nL 420.703125 301.2 \n\" style=\"fill: none; stroke: #000000; stroke-width: 0.8; stroke-linejoin: miter; stroke-linecap: square\"/>\n   </g>\n   <g id=\"patch_31\">\n    <path d=\"M 305.820772 180.678261 \nL 420.703125 180.678261 \n\" style=\"fill: none; stroke: #000000; stroke-width: 0.8; stroke-linejoin: miter; stroke-linecap: square\"/>\n   </g>\n   <g id=\"text_27\">\n    <!-- $B^4_5$ -->\n    <g transform=\"translate(355.881949 174.678261) scale(0.12 -0.12)\">\n     <use xlink:href=\"#DejaVuSans-Oblique-42\" transform=\"translate(0 0.684375)\"/>\n     <use xlink:href=\"#DejaVuSans-34\" transform=\"translate(75.620286 38.965625) scale(0.7)\"/>\n     <use xlink:href=\"#DejaVuSans-35\" transform=\"translate(68.603516 -26.659375) scale(0.7)\"/>\n    </g>\n   </g>\n  </g>\n </g>\n <defs>\n  <clipPath id=\"p916f175cfc\">\n   <rect x=\"30.103125\" y=\"24\" width=\"114.882353\" height=\"120.521739\"/>\n  </clipPath>\n  <clipPath id=\"p5878dfce9d\">\n   <rect x=\"167.961949\" y=\"24\" width=\"114.882353\" height=\"120.521739\"/>\n  </clipPath>\n  <clipPath id=\"pc29186aa1b\">\n   <rect x=\"305.820772\" y=\"24\" width=\"114.882353\" height=\"120.521739\"/>\n  </clipPath>\n  <clipPath id=\"p6da43f71b2\">\n   <rect x=\"30.103125\" y=\"180.678261\" width=\"114.882353\" height=\"120.521739\"/>\n  </clipPath>\n  <clipPath id=\"pdd95359cf8\">\n   <rect x=\"167.961949\" y=\"180.678261\" width=\"114.882353\" height=\"120.521739\"/>\n  </clipPath>\n  <clipPath id=\"pc69d36b64c\">\n   <rect x=\"305.820772\" y=\"180.678261\" width=\"114.882353\" height=\"120.521739\"/>\n  </clipPath>\n </defs>\n</svg>\n",
      "text/plain": [
       "<Figure size 700x500 with 6 Axes>"
      ]
     },
     "metadata": {},
     "output_type": "display_data"
    }
   ],
   "source": [
    "# plot the function\n",
    "fig, axes = plt.subplots(2, 3, figsize=(7, 5), sharex=True, sharey=True)\n",
    "axes = axes.flatten()\n",
    "x = np.linspace(0, 1, 1000)\n",
    "bp_vect = np.vectorize(bernstein_polynomial)\n",
    "for idx, ax in enumerate(axes):\n",
    "    ax.plot(x, bp_vect(4, idx, x))\n",
    "    ax.set_ylim(0, 1)\n",
    "    ax.set_title( f\"$B^4_{idx}$\")\n",
    "plt.subplots_adjust(hspace=0.3)"
   ]
  },
  {
   "cell_type": "code",
   "execution_count": 80,
   "metadata": {},
   "outputs": [
    {
     "data": {
      "text/plain": [
       "array([[ 1.   ,  0.   ,  0.   ,  0.   ,  0.   ],\n",
       "       [ 1.   ,  0.25 ,  0.   , -0.   , -0.   ],\n",
       "       [ 1.   ,  0.5  ,  0.167, -0.   , -0.   ],\n",
       "       [ 1.   ,  0.75 ,  0.5  ,  0.25 ,  0.   ],\n",
       "       [ 1.   ,  1.   ,  1.   ,  1.   ,  1.   ]])"
      ]
     },
     "execution_count": 80,
     "metadata": {},
     "output_type": "execute_result"
    }
   ],
   "source": [
    "qts = np.linalg.inv(pst)\n",
    "np.round(qts, 3)"
   ]
  },
  {
   "attachments": {},
   "cell_type": "markdown",
   "metadata": {},
   "source": [
    "Let $p(x) = 3x^4 -8x^3 + 6x^2 -12 x + 4$, by computing $[p(x)]_T = Q_{TS}[p(x)]_S$,\n",
    "we see that $p(x)$ can be written in the Bernstein basis as \n",
    "\n",
    "$$[B_0^4 (x), B_1^4 (x), B_2^4 (x), B_3^4 (x), B_4^4 (x)]  P_{TS} Q_{TS} =  \n",
    "[B_0^4 (x), B_1^4 (x), B_2^4 (x), B_3^4 (x), B_4^4 (x)] \n",
    " \\begin{bmatrix}\n",
    "  1 & 0 & 0 & 0 & 0\\\\\n",
    "  0 & 1 & 0 & 0 & 0\\\\\n",
    "  0 & 0 & 1 & 0 & 0\\\\\n",
    "  0 & 0 & 0 & 1 & 0\\\\\n",
    "  0 & 0 & 0 & 0 & 1 \\\\\n",
    "  \\end{bmatrix}\n",
    "$$\n",
    "\n",
    "This implies \n",
    "\n",
    "$$ Q_{TS} \\begin{bmatrix}\n",
    "  4\\\\\n",
    "  -12\\\\\n",
    "  6\\\\\n",
    "  -8\\\\\n",
    "  3\\\\\n",
    "\\end{bmatrix} = P_{TS}^{-1} \n",
    "  \\begin{bmatrix}\n",
    "  1 & 0 & 0 & 0 & 0\\\\\n",
    "  0 & 1 & 0 & 0 & 0\\\\\n",
    "  0 & 0 & 1 & 0 & 0\\\\\n",
    "  0 & 0 & 0 & 1 & 0\\\\\n",
    "  0 & 0 & 0 & 0 & 1 \\\\\n",
    "  \\end{bmatrix} \\begin{bmatrix}\n",
    "  4\\\\\n",
    "  -12\\\\\n",
    "  6\\\\\n",
    "  -8\\\\\n",
    "  3\\\\\n",
    "\\end{bmatrix}  = [B_0^4 (x), B_1^4 (x), B_2^4 (x), B_3^4 (x), B_4^4 (x)]  \\begin{bmatrix}\n",
    "  4\\\\\n",
    "  1\\\\\n",
    "  -1\\\\\n",
    "  -4\\\\\n",
    "  -7\\\\\n",
    "\\end{bmatrix} \n",
    "$$"
   ]
  },
  {
   "cell_type": "code",
   "execution_count": 83,
   "metadata": {},
   "outputs": [
    {
     "data": {
      "text/plain": [
       "array([ 4.,  1., -1., -4., -7.])"
      ]
     },
     "execution_count": 83,
     "metadata": {},
     "output_type": "execute_result"
    }
   ],
   "source": [
    "px = np.array(\n",
    "    [4, -12, 6, -8, 3]\n",
    ")\n",
    "px_basis = qts @ px\n",
    "np.round(px_basis, 3)"
   ]
  },
  {
   "cell_type": "code",
   "execution_count": 1,
   "metadata": {},
   "outputs": [],
   "source": [
    "def bmatrix(a):\n",
    "    \"\"\"Returns a LaTeX bmatrix\n",
    "\n",
    "    :a: numpy array\n",
    "    :returns: LaTeX bmatrix as a string\n",
    "    \"\"\"\n",
    "    if len(a.shape) > 2:\n",
    "        raise ValueError('bmatrix can at most display two dimensions')\n",
    "    lines = str(a).replace('[', '').replace(']', '').splitlines()\n",
    "    rv = [r'\\begin{bmatrix}']\n",
    "    rv += ['  ' + ' & '.join(l.split()) + r'\\\\' for l in lines]\n",
    "    rv +=  [r'\\end{bmatrix}']\n",
    "    return '\\n'.join(rv)"
   ]
  },
  {
   "attachments": {},
   "cell_type": "markdown",
   "metadata": {},
   "source": [
    "## References\n",
    "\n",
    "1. Margalit and Rabinoff (2022): https://textbooks.math.gatech.edu/ila/subspaces.html\n",
    "2. DESVL (2022): https://desvl.xyz/2020/08/16/An-Introduction-to-Quotient-Space/\n",
    "3. Peter Saveliev (2022): https://calculus123.com/index.php?title=Quotients_of_vector_spaces&redirect=no"
   ]
  }
 ],
 "metadata": {
  "kernelspec": {
   "display_name": "myvenv",
   "language": "python",
   "name": "myvenv"
  },
  "language_info": {
   "codemirror_mode": {
    "name": "ipython",
    "version": 3
   },
   "file_extension": ".py",
   "mimetype": "text/x-python",
   "name": "python",
   "nbconvert_exporter": "python",
   "pygments_lexer": "ipython3",
   "version": "3.9.5"
  },
  "orig_nbformat": 4,
  "vscode": {
   "interpreter": {
    "hash": "2fe189d182e892b13e31889708ff6fa1238858c117c3508e6a10c00d2dc805a3"
   }
  }
 },
 "nbformat": 4,
 "nbformat_minor": 2
}
